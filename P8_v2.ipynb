{
 "cells": [
  {
   "cell_type": "markdown",
   "metadata": {
    "id": "4A6mRA250mh2"
   },
   "source": [
    "**Paddy Doctor**"
   ]
  },
  {
   "cell_type": "markdown",
   "metadata": {
    "id": "2t7iQexe0qnD"
   },
   "source": [
    "#Import data and libraries"
   ]
  },
  {
   "cell_type": "code",
   "execution_count": null,
   "metadata": {
    "colab": {
     "base_uri": "https://localhost:8080/"
    },
    "executionInfo": {
     "elapsed": 25764,
     "status": "ok",
     "timestamp": 1656654893772,
     "user": {
      "displayName": "Catherine Seytre",
      "userId": "18110368277065052224"
     },
     "user_tz": -120
    },
    "id": "uQ0TMZTjGHzM",
    "outputId": "17c53c6e-825c-410f-e08c-158d5ea795fd"
   },
   "outputs": [
    {
     "name": "stdout",
     "output_type": "stream",
     "text": [
      "Drive already mounted at /content/drive; to attempt to forcibly remount, call drive.mount(\"/content/drive\", force_remount=True).\n"
     ]
    }
   ],
   "source": [
    "from google.colab import drive\n",
    "\n",
    "drive.mount(\"/content/drive\")"
   ]
  },
  {
   "cell_type": "code",
   "execution_count": null,
   "metadata": {
    "colab": {
     "base_uri": "https://localhost:8080/"
    },
    "executionInfo": {
     "elapsed": 11714,
     "status": "ok",
     "timestamp": 1656654911641,
     "user": {
      "displayName": "Catherine Seytre",
      "userId": "18110368277065052224"
     },
     "user_tz": -120
    },
    "id": "d63z9-G6aEWn",
    "outputId": "41b5bb18-b2a7-4644-a9ed-bb609c8bcde7"
   },
   "outputs": [
    {
     "name": "stdout",
     "output_type": "stream",
     "text": [
      "Looking in indexes: https://pypi.org/simple, https://us-python.pkg.dev/colab-wheels/public/simple/\n",
      "Collecting tensorflow-addons\n",
      "  Downloading tensorflow_addons-0.17.1-cp37-cp37m-manylinux_2_17_x86_64.manylinux2014_x86_64.whl (1.1 MB)\n",
      "\u001b[K     |████████████████████████████████| 1.1 MB 5.2 MB/s \n",
      "\u001b[?25hRequirement already satisfied: typeguard>=2.7 in /usr/local/lib/python3.7/dist-packages (from tensorflow-addons) (2.7.1)\n",
      "Requirement already satisfied: packaging in /usr/local/lib/python3.7/dist-packages (from tensorflow-addons) (21.3)\n",
      "Requirement already satisfied: pyparsing!=3.0.5,>=2.0.2 in /usr/local/lib/python3.7/dist-packages (from packaging->tensorflow-addons) (3.0.9)\n",
      "Installing collected packages: tensorflow-addons\n",
      "Successfully installed tensorflow-addons-0.17.1\n",
      "\u001b[K     |████████████████████████████████| 133 kB 5.0 MB/s \n",
      "\u001b[?25h"
     ]
    }
   ],
   "source": [
    "# import librairies\n",
    "import os\n",
    "import warnings\n",
    "import numpy as np\n",
    "import pandas as pd\n",
    "import matplotlib.pyplot as plt\n",
    "\n",
    "import tensorflow as tf\n",
    "from tensorflow.keras import Model, optimizers\n",
    "from tensorflow.keras.applications import xception\n",
    "from tensorflow.keras.preprocessing import image\n",
    "from tensorflow.keras.preprocessing.image import ImageDataGenerator\n",
    "from tensorflow.keras.utils import plot_model\n",
    "from tensorflow.keras import backend as K\n",
    "from tensorflow.keras.models import load_model\n",
    "\n",
    "from tensorflow.keras.models import Model\n",
    "from tensorflow.keras.layers import Layer\n",
    "from tensorflow.keras.models import Sequential\n",
    "from tensorflow.keras.layers import BatchNormalization\n",
    "from tensorflow.keras.layers import AveragePooling2D\n",
    "from tensorflow.keras.layers import GlobalAveragePooling2D\n",
    "from tensorflow.keras.layers import MaxPooling2D\n",
    "from tensorflow.keras.layers import Conv2D\n",
    "from tensorflow.keras.layers import Activation\n",
    "from tensorflow.keras.layers import Dropout\n",
    "from tensorflow.keras.layers import Flatten\n",
    "from tensorflow.keras.layers import Input\n",
    "from tensorflow.keras.layers import Dense\n",
    "from tensorflow.keras.callbacks import Callback\n",
    "from tensorflow.keras.utils import to_categorical\n",
    "\n",
    "!pip install tensorflow-addons\n",
    "!pip install -q -U keras-tuner\n",
    "import tensorflow_addons as tfa\n",
    "import keras_tuner as kt\n",
    "\n",
    "from sklearn.preprocessing import LabelEncoder\n",
    "from sklearn.model_selection import train_test_split\n",
    "from sklearn.metrics import classification_report, confusion_matrix"
   ]
  },
  {
   "cell_type": "markdown",
   "metadata": {
    "id": "3BnaMrJb8Epr"
   },
   "source": [
    "##data exploration"
   ]
  },
  {
   "cell_type": "code",
   "execution_count": null,
   "metadata": {
    "colab": {
     "base_uri": "https://localhost:8080/",
     "height": 206
    },
    "executionInfo": {
     "elapsed": 1074,
     "status": "ok",
     "timestamp": 1656575915483,
     "user": {
      "displayName": "Catherine Seytre",
      "userId": "18110368277065052224"
     },
     "user_tz": -120
    },
    "id": "Woy7rySEphOi",
    "outputId": "9bb7a9c6-c608-400e-acaf-e0f6565b858d"
   },
   "outputs": [
    {
     "data": {
      "text/html": [
       "\n",
       "  <div id=\"df-931639c1-dbfa-4f15-8105-b52f943c9564\">\n",
       "    <div class=\"colab-df-container\">\n",
       "      <div>\n",
       "<style scoped>\n",
       "    .dataframe tbody tr th:only-of-type {\n",
       "        vertical-align: middle;\n",
       "    }\n",
       "\n",
       "    .dataframe tbody tr th {\n",
       "        vertical-align: top;\n",
       "    }\n",
       "\n",
       "    .dataframe thead th {\n",
       "        text-align: right;\n",
       "    }\n",
       "</style>\n",
       "<table border=\"1\" class=\"dataframe\">\n",
       "  <thead>\n",
       "    <tr style=\"text-align: right;\">\n",
       "      <th></th>\n",
       "      <th>image_id</th>\n",
       "      <th>label</th>\n",
       "      <th>variety</th>\n",
       "      <th>age</th>\n",
       "    </tr>\n",
       "  </thead>\n",
       "  <tbody>\n",
       "    <tr>\n",
       "      <th>0</th>\n",
       "      <td>100330.jpg</td>\n",
       "      <td>bacterial_leaf_blight</td>\n",
       "      <td>ADT45</td>\n",
       "      <td>45</td>\n",
       "    </tr>\n",
       "    <tr>\n",
       "      <th>1</th>\n",
       "      <td>100365.jpg</td>\n",
       "      <td>bacterial_leaf_blight</td>\n",
       "      <td>ADT45</td>\n",
       "      <td>45</td>\n",
       "    </tr>\n",
       "    <tr>\n",
       "      <th>2</th>\n",
       "      <td>100382.jpg</td>\n",
       "      <td>bacterial_leaf_blight</td>\n",
       "      <td>ADT45</td>\n",
       "      <td>45</td>\n",
       "    </tr>\n",
       "    <tr>\n",
       "      <th>3</th>\n",
       "      <td>100632.jpg</td>\n",
       "      <td>bacterial_leaf_blight</td>\n",
       "      <td>ADT45</td>\n",
       "      <td>45</td>\n",
       "    </tr>\n",
       "    <tr>\n",
       "      <th>4</th>\n",
       "      <td>101918.jpg</td>\n",
       "      <td>bacterial_leaf_blight</td>\n",
       "      <td>ADT45</td>\n",
       "      <td>45</td>\n",
       "    </tr>\n",
       "  </tbody>\n",
       "</table>\n",
       "</div>\n",
       "      <button class=\"colab-df-convert\" onclick=\"convertToInteractive('df-931639c1-dbfa-4f15-8105-b52f943c9564')\"\n",
       "              title=\"Convert this dataframe to an interactive table.\"\n",
       "              style=\"display:none;\">\n",
       "        \n",
       "  <svg xmlns=\"http://www.w3.org/2000/svg\" height=\"24px\"viewBox=\"0 0 24 24\"\n",
       "       width=\"24px\">\n",
       "    <path d=\"M0 0h24v24H0V0z\" fill=\"none\"/>\n",
       "    <path d=\"M18.56 5.44l.94 2.06.94-2.06 2.06-.94-2.06-.94-.94-2.06-.94 2.06-2.06.94zm-11 1L8.5 8.5l.94-2.06 2.06-.94-2.06-.94L8.5 2.5l-.94 2.06-2.06.94zm10 10l.94 2.06.94-2.06 2.06-.94-2.06-.94-.94-2.06-.94 2.06-2.06.94z\"/><path d=\"M17.41 7.96l-1.37-1.37c-.4-.4-.92-.59-1.43-.59-.52 0-1.04.2-1.43.59L10.3 9.45l-7.72 7.72c-.78.78-.78 2.05 0 2.83L4 21.41c.39.39.9.59 1.41.59.51 0 1.02-.2 1.41-.59l7.78-7.78 2.81-2.81c.8-.78.8-2.07 0-2.86zM5.41 20L4 18.59l7.72-7.72 1.47 1.35L5.41 20z\"/>\n",
       "  </svg>\n",
       "      </button>\n",
       "      \n",
       "  <style>\n",
       "    .colab-df-container {\n",
       "      display:flex;\n",
       "      flex-wrap:wrap;\n",
       "      gap: 12px;\n",
       "    }\n",
       "\n",
       "    .colab-df-convert {\n",
       "      background-color: #E8F0FE;\n",
       "      border: none;\n",
       "      border-radius: 50%;\n",
       "      cursor: pointer;\n",
       "      display: none;\n",
       "      fill: #1967D2;\n",
       "      height: 32px;\n",
       "      padding: 0 0 0 0;\n",
       "      width: 32px;\n",
       "    }\n",
       "\n",
       "    .colab-df-convert:hover {\n",
       "      background-color: #E2EBFA;\n",
       "      box-shadow: 0px 1px 2px rgba(60, 64, 67, 0.3), 0px 1px 3px 1px rgba(60, 64, 67, 0.15);\n",
       "      fill: #174EA6;\n",
       "    }\n",
       "\n",
       "    [theme=dark] .colab-df-convert {\n",
       "      background-color: #3B4455;\n",
       "      fill: #D2E3FC;\n",
       "    }\n",
       "\n",
       "    [theme=dark] .colab-df-convert:hover {\n",
       "      background-color: #434B5C;\n",
       "      box-shadow: 0px 1px 3px 1px rgba(0, 0, 0, 0.15);\n",
       "      filter: drop-shadow(0px 1px 2px rgba(0, 0, 0, 0.3));\n",
       "      fill: #FFFFFF;\n",
       "    }\n",
       "  </style>\n",
       "\n",
       "      <script>\n",
       "        const buttonEl =\n",
       "          document.querySelector('#df-931639c1-dbfa-4f15-8105-b52f943c9564 button.colab-df-convert');\n",
       "        buttonEl.style.display =\n",
       "          google.colab.kernel.accessAllowed ? 'block' : 'none';\n",
       "\n",
       "        async function convertToInteractive(key) {\n",
       "          const element = document.querySelector('#df-931639c1-dbfa-4f15-8105-b52f943c9564');\n",
       "          const dataTable =\n",
       "            await google.colab.kernel.invokeFunction('convertToInteractive',\n",
       "                                                     [key], {});\n",
       "          if (!dataTable) return;\n",
       "\n",
       "          const docLinkHtml = 'Like what you see? Visit the ' +\n",
       "            '<a target=\"_blank\" href=https://colab.research.google.com/notebooks/data_table.ipynb>data table notebook</a>'\n",
       "            + ' to learn more about interactive tables.';\n",
       "          element.innerHTML = '';\n",
       "          dataTable['output_type'] = 'display_data';\n",
       "          await google.colab.output.renderOutput(dataTable, element);\n",
       "          const docLink = document.createElement('div');\n",
       "          docLink.innerHTML = docLinkHtml;\n",
       "          element.appendChild(docLink);\n",
       "        }\n",
       "      </script>\n",
       "    </div>\n",
       "  </div>\n",
       "  "
      ],
      "text/plain": [
       "     image_id                  label variety  age\n",
       "0  100330.jpg  bacterial_leaf_blight   ADT45   45\n",
       "1  100365.jpg  bacterial_leaf_blight   ADT45   45\n",
       "2  100382.jpg  bacterial_leaf_blight   ADT45   45\n",
       "3  100632.jpg  bacterial_leaf_blight   ADT45   45\n",
       "4  101918.jpg  bacterial_leaf_blight   ADT45   45"
      ]
     },
     "execution_count": 3,
     "metadata": {},
     "output_type": "execute_result"
    }
   ],
   "source": [
    "df_meta = pd.read_csv(\"/content/drive/MyDrive/Colab Notebooks/paddy/train.csv\")\n",
    "df_meta.head()"
   ]
  },
  {
   "cell_type": "code",
   "execution_count": null,
   "metadata": {
    "id": "Yb0umgHfGWOa"
   },
   "outputs": [],
   "source": [
    "train_path = \"/content/drive/MyDrive/Colab Notebooks/paddy/train_images\"\n",
    "test_path = \"/content/drive/MyDrive/Colab Notebooks/paddy/test_images\""
   ]
  },
  {
   "cell_type": "code",
   "execution_count": null,
   "metadata": {
    "colab": {
     "base_uri": "https://localhost:8080/"
    },
    "executionInfo": {
     "elapsed": 9,
     "status": "ok",
     "timestamp": 1656655659861,
     "user": {
      "displayName": "Catherine Seytre",
      "userId": "18110368277065052224"
     },
     "user_tz": -120
    },
    "id": "7tWve3fTHAJw",
    "outputId": "b47507b3-8cec-4ca4-b147-328900af77b8"
   },
   "outputs": [
    {
     "name": "stdout",
     "output_type": "stream",
     "text": [
      "['brown_spot', 'downy_mildew', 'tungro', 'hispa', 'normal', 'bacterial_leaf_streak', 'blast', 'dead_heart', 'bacterial_panicle_blight', 'bacterial_leaf_blight']\n",
      "Total diseases number: 10\n"
     ]
    }
   ],
   "source": [
    "disease_list = os.listdir(train_path)\n",
    "n_classes = len(disease_list)\n",
    "print(disease_list)\n",
    "print(\"Total diseases number:\", n_classes)"
   ]
  },
  {
   "cell_type": "code",
   "execution_count": null,
   "metadata": {
    "id": "d56_ypTDtRUr"
   },
   "outputs": [],
   "source": [
    "# Counts the number of training and testing samples in the directories\n",
    "training_samples = sum([len(files) for r, d, files in os.walk(train_path)])\n",
    "testing_samples = sum([len(files) for r, d, files in os.walk(test_path)])"
   ]
  },
  {
   "cell_type": "code",
   "execution_count": null,
   "metadata": {
    "colab": {
     "base_uri": "https://localhost:8080/"
    },
    "executionInfo": {
     "elapsed": 1524,
     "status": "ok",
     "timestamp": 1656512561836,
     "user": {
      "displayName": "Catherine Seytre",
      "userId": "18110368277065052224"
     },
     "user_tz": -120
    },
    "id": "T9PM2a6c1vfT",
    "outputId": "aefb07c2-d1d0-4a94-d870-e6e159e19329"
   },
   "outputs": [
    {
     "name": "stdout",
     "output_type": "stream",
     "text": [
      "6411\n",
      "3469\n"
     ]
    }
   ],
   "source": [
    "print(training_samples)\n",
    "print(testing_samples)"
   ]
  },
  {
   "cell_type": "markdown",
   "metadata": {
    "id": "cQFqnYjn6JIT"
   },
   "source": [
    "## ResNet152v2"
   ]
  },
  {
   "cell_type": "markdown",
   "metadata": {
    "id": "f8RDstJ5rB4e"
   },
   "source": [
    "### preprocessing"
   ]
  },
  {
   "cell_type": "code",
   "execution_count": null,
   "metadata": {
    "id": "NGRDt7sYC_ix"
   },
   "outputs": [],
   "source": [
    "img_width = 200\n",
    "img_height = 200\n",
    "batch_size = 32\n",
    "\n",
    "epochs = 100\n",
    "epochs_ft = 200\n",
    "\n",
    "nb_classes = 10"
   ]
  },
  {
   "cell_type": "code",
   "execution_count": null,
   "metadata": {
    "id": "AUok5I6NC_f_"
   },
   "outputs": [],
   "source": [
    "train_datagen = ImageDataGenerator(\n",
    "    rotation_range=20,\n",
    "    width_shift_range=0.3,\n",
    "    height_shift_range=0.2,\n",
    "    shear_range=0.3,\n",
    "    zoom_range=0.3,\n",
    "    horizontal_flip=True,\n",
    "    vertical_flip=False,\n",
    "    validation_split=0.2,\n",
    "    preprocessing_function=tf.keras.applications.resnet_v2.preprocess_input,\n",
    ")\n",
    "\n",
    "test_datagen = ImageDataGenerator(\n",
    "    preprocessing_function=tf.keras.applications.resnet_v2.preprocess_input\n",
    ")"
   ]
  },
  {
   "cell_type": "code",
   "execution_count": null,
   "metadata": {
    "colab": {
     "base_uri": "https://localhost:8080/"
    },
    "executionInfo": {
     "elapsed": 466,
     "status": "ok",
     "timestamp": 1656655678871,
     "user": {
      "displayName": "Catherine Seytre",
      "userId": "18110368277065052224"
     },
     "user_tz": -120
    },
    "id": "CtEbDkjdC_dc",
    "outputId": "dd0b1e56-fad7-4bf3-d7a9-8003d9fc8a3f"
   },
   "outputs": [
    {
     "name": "stdout",
     "output_type": "stream",
     "text": [
      "Found 5131 images belonging to 10 classes.\n",
      "Found 1280 images belonging to 10 classes.\n"
     ]
    }
   ],
   "source": [
    "train_generator = train_datagen.flow_from_directory(\n",
    "    train_path,\n",
    "    subset=\"training\",\n",
    "    target_size=(img_width, img_height),\n",
    "    batch_size=batch_size,\n",
    "    class_mode=\"categorical\",\n",
    ")\n",
    "\n",
    "valid_generator = train_datagen.flow_from_directory(\n",
    "    train_path,\n",
    "    subset=\"validation\",\n",
    "    target_size=(img_width, img_height),\n",
    "    batch_size=batch_size,\n",
    "    class_mode=\"categorical\",\n",
    ")"
   ]
  },
  {
   "cell_type": "code",
   "execution_count": null,
   "metadata": {
    "colab": {
     "base_uri": "https://localhost:8080/"
    },
    "executionInfo": {
     "elapsed": 343,
     "status": "ok",
     "timestamp": 1656655680590,
     "user": {
      "displayName": "Catherine Seytre",
      "userId": "18110368277065052224"
     },
     "user_tz": -120
    },
    "id": "ZW7cSagyaC4m",
    "outputId": "e4390fd1-f510-4149-8847-348a0623ff5b"
   },
   "outputs": [
    {
     "name": "stdout",
     "output_type": "stream",
     "text": [
      "Found 3469 images belonging to 1 classes.\n"
     ]
    }
   ],
   "source": [
    "# images for prediction\n",
    "test_generator = test_datagen.flow_from_directory(\n",
    "    directory=test_path,\n",
    "    target_size=(img_width, img_height),\n",
    "    batch_size=batch_size,\n",
    "    classes=[\".\"],\n",
    "    shuffle=False,\n",
    ")"
   ]
  },
  {
   "cell_type": "code",
   "execution_count": null,
   "metadata": {
    "id": "Sla0CfNASYVl"
   },
   "outputs": [],
   "source": [
    "# f1_score from tensorflow_addons\n",
    "f1_tfa = tfa.metrics.F1Score(num_classes=n_classes, average=\"macro\")"
   ]
  },
  {
   "cell_type": "code",
   "execution_count": null,
   "metadata": {
    "id": "ZeOEXuDlSYSx"
   },
   "outputs": [],
   "source": [
    "def plot_history(dict_history, first_score, second_score):\n",
    "\n",
    "    \"\"\"\n",
    "creates two subplots for plotting 2 different metrics\n",
    "called first_score and second_score against epoch number,\n",
    "values obtained from the train and the validation datasets\n",
    "are visualized\n",
    "  \"\"\"\n",
    "\n",
    "    with plt.style.context(\"seaborn-whitegrid\"):\n",
    "        fig = plt.figure(figsize=(25, 10))\n",
    "\n",
    "        # first suplot\n",
    "        plt.subplot(1, 2, 1)\n",
    "        plt.plot(dict_history.history[first_score], color=\"g\")\n",
    "        plt.plot(\n",
    "            dict_history.history[\"val_\" + first_score], linestyle=\"--\", color=\"orange\"\n",
    "        )\n",
    "        plt.title(\n",
    "            \"Pre-trained ResNet152v2 on Paddy dataset \" + first_score, fontsize=18\n",
    "        )\n",
    "        plt.ylabel(first_score)\n",
    "        plt.xlabel(\"epoch\")\n",
    "        plt.legend([\"train\", \"validation\"], loc=\"upper left\")\n",
    "\n",
    "        # second subplot\n",
    "        plt.subplot(1, 2, 2)\n",
    "        plt.plot(dict_history.history[second_score], color=\"g\")\n",
    "        plt.plot(\n",
    "            dict_history.history[\"val_\" + second_score], linestyle=\"--\", color=\"orange\"\n",
    "        )\n",
    "        plt.title(\n",
    "            \"Pre-trained ResNet152v2 on Paddy dataset \" + second_score, fontsize=18\n",
    "        )\n",
    "        plt.ylabel(second_score)\n",
    "        plt.xlabel(\"epoch\")\n",
    "        plt.legend([\"train\", \"validation\"], loc=\"upper left\")\n",
    "        plt.show()"
   ]
  },
  {
   "cell_type": "markdown",
   "metadata": {
    "id": "inUEdhscOLeJ"
   },
   "source": [
    "##Model building"
   ]
  },
  {
   "cell_type": "code",
   "execution_count": null,
   "metadata": {
    "id": "MeISXdheiXAP"
   },
   "outputs": [],
   "source": [
    "# Adds new top to base model\n",
    "def add_top(base):\n",
    "    x = base.output\n",
    "    x = GlobalAveragePooling2D()(x)\n",
    "    x = Dense(512, activation=\"relu\")(x)\n",
    "\n",
    "    predictions = Dense(nb_classes, activation=\"softmax\")(x)  # Output layer\n",
    "\n",
    "    return Model(inputs=base.input, outputs=predictions)"
   ]
  },
  {
   "cell_type": "code",
   "execution_count": null,
   "metadata": {
    "id": "7SjEQCT5iXAR"
   },
   "outputs": [],
   "source": [
    "# Sets up model for transfer learning\n",
    "def setup_model(model, base):\n",
    "\n",
    "    for layer in base.layers:\n",
    "        layer.trainable = False  # freeze base layers\n",
    "\n",
    "    model.compile(loss=\"categorical_crossentropy\", optimizer=opt, metrics=[\"accuracy\"])"
   ]
  },
  {
   "cell_type": "code",
   "execution_count": null,
   "metadata": {
    "colab": {
     "base_uri": "https://localhost:8080/"
    },
    "executionInfo": {
     "elapsed": 6490,
     "status": "ok",
     "timestamp": 1656410660173,
     "user": {
      "displayName": "Catherine Seytre",
      "userId": "18110368277065052224"
     },
     "user_tz": -120
    },
    "id": "yjYab78qiXAS",
    "outputId": "bc0a7881-0dc9-407a-db16-b72da28574d7"
   },
   "outputs": [
    {
     "name": "stdout",
     "output_type": "stream",
     "text": [
      "Downloading data from https://storage.googleapis.com/tensorflow/keras-applications/resnet/resnet152v2_weights_tf_dim_ordering_tf_kernels_notop.h5\n",
      "234553344/234545216 [==============================] - 2s 0us/step\n",
      "234561536/234545216 [==============================] - 2s 0us/step\n"
     ]
    }
   ],
   "source": [
    "# Import the ResNet152v2 model to use as the base for our model\n",
    "resnet_base = tf.keras.applications.ResNet152V2(\n",
    "    input_shape=(img_width, img_height, 3), include_top=False, weights=\"imagenet\"\n",
    ")\n",
    "\n",
    "model = add_top(resnet_base)\n",
    "setup_model(model, resnet_base)"
   ]
  },
  {
   "cell_type": "markdown",
   "metadata": {
    "id": "W4BIwr4YuVmA"
   },
   "source": [
    "#### Train new top layers"
   ]
  },
  {
   "cell_type": "code",
   "execution_count": null,
   "metadata": {
    "id": "-vKyiyOABucp"
   },
   "outputs": [],
   "source": [
    "# callbacks : learning rate scheduler\n",
    "\n",
    "\n",
    "def scheduler(epoch, lr):\n",
    "    if epoch < 10:\n",
    "        return lr\n",
    "    else:\n",
    "        return lr * tf.math.exp(-0.1)\n",
    "\n",
    "\n",
    "schedul = tf.keras.callbacks.LearningRateScheduler(scheduler)"
   ]
  },
  {
   "cell_type": "code",
   "execution_count": null,
   "metadata": {
    "id": "FiDUPnc7vyg8"
   },
   "outputs": [],
   "source": [
    "# callbacks : early stopping\n",
    "early_stp = tf.keras.callbacks.EarlyStopping(monitor=\"val_loss\", patience=3)"
   ]
  },
  {
   "cell_type": "code",
   "execution_count": null,
   "metadata": {
    "colab": {
     "base_uri": "https://localhost:8080/"
    },
    "executionInfo": {
     "elapsed": 8455793,
     "status": "ok",
     "timestamp": 1656331506043,
     "user": {
      "displayName": "Catherine Seytre",
      "userId": "18110368277065052224"
     },
     "user_tz": -120
    },
    "id": "ssjVGN7aiXAS",
    "outputId": "2866a4a3-178b-430a-82e6-371f648fbe5f"
   },
   "outputs": [
    {
     "name": "stderr",
     "output_type": "stream",
     "text": [
      "/usr/local/lib/python3.7/dist-packages/ipykernel_launcher.py:8: UserWarning: `Model.fit_generator` is deprecated and will be removed in a future version. Please use `Model.fit`, which supports generators.\n",
      "  \n"
     ]
    },
    {
     "name": "stdout",
     "output_type": "stream",
     "text": [
      "Epoch 1/100\n",
      "161/161 [==============================] - 98s 558ms/step - loss: 2.3944 - accuracy: 0.1495 - val_loss: 2.1151 - val_accuracy: 0.2266\n",
      "Epoch 2/100\n",
      "161/161 [==============================] - 85s 531ms/step - loss: 1.9701 - accuracy: 0.2982 - val_loss: 1.8068 - val_accuracy: 0.3633\n",
      "Epoch 3/100\n",
      "161/161 [==============================] - 86s 531ms/step - loss: 1.7330 - accuracy: 0.3970 - val_loss: 1.7270 - val_accuracy: 0.4172\n",
      "Epoch 4/100\n",
      "161/161 [==============================] - 86s 532ms/step - loss: 1.6219 - accuracy: 0.4407 - val_loss: 1.5964 - val_accuracy: 0.4445\n",
      "Epoch 5/100\n",
      "161/161 [==============================] - 85s 530ms/step - loss: 1.5698 - accuracy: 0.4537 - val_loss: 1.5500 - val_accuracy: 0.4859\n",
      "Epoch 6/100\n",
      "161/161 [==============================] - 85s 529ms/step - loss: 1.5192 - accuracy: 0.4769 - val_loss: 1.4875 - val_accuracy: 0.4906\n",
      "Epoch 7/100\n",
      "161/161 [==============================] - 85s 530ms/step - loss: 1.4398 - accuracy: 0.5020 - val_loss: 1.4251 - val_accuracy: 0.5016\n",
      "Epoch 8/100\n",
      "161/161 [==============================] - 86s 532ms/step - loss: 1.3829 - accuracy: 0.5248 - val_loss: 1.4194 - val_accuracy: 0.5070\n",
      "Epoch 9/100\n",
      "161/161 [==============================] - 85s 531ms/step - loss: 1.3106 - accuracy: 0.5478 - val_loss: 1.3856 - val_accuracy: 0.5164\n",
      "Epoch 10/100\n",
      "161/161 [==============================] - 86s 532ms/step - loss: 1.2500 - accuracy: 0.5689 - val_loss: 1.4115 - val_accuracy: 0.5367\n",
      "Epoch 11/100\n",
      "161/161 [==============================] - 86s 532ms/step - loss: 1.2034 - accuracy: 0.5888 - val_loss: 1.3016 - val_accuracy: 0.5656\n",
      "Epoch 12/100\n",
      "161/161 [==============================] - 86s 534ms/step - loss: 1.1856 - accuracy: 0.5931 - val_loss: 1.2731 - val_accuracy: 0.5688\n",
      "Epoch 13/100\n",
      "161/161 [==============================] - 86s 536ms/step - loss: 1.1608 - accuracy: 0.6032 - val_loss: 1.2660 - val_accuracy: 0.5688\n",
      "Epoch 14/100\n",
      "161/161 [==============================] - 86s 532ms/step - loss: 1.1184 - accuracy: 0.6180 - val_loss: 1.2435 - val_accuracy: 0.5875\n",
      "Epoch 15/100\n",
      "161/161 [==============================] - 85s 528ms/step - loss: 1.0817 - accuracy: 0.6340 - val_loss: 1.2170 - val_accuracy: 0.5922\n",
      "Epoch 16/100\n",
      "161/161 [==============================] - 86s 532ms/step - loss: 1.0850 - accuracy: 0.6256 - val_loss: 1.2291 - val_accuracy: 0.5844\n",
      "Epoch 17/100\n",
      "161/161 [==============================] - 85s 529ms/step - loss: 1.0265 - accuracy: 0.6451 - val_loss: 1.1582 - val_accuracy: 0.6273\n",
      "Epoch 18/100\n",
      "161/161 [==============================] - 86s 535ms/step - loss: 1.0118 - accuracy: 0.6517 - val_loss: 1.1129 - val_accuracy: 0.6187\n",
      "Epoch 19/100\n",
      "161/161 [==============================] - 86s 531ms/step - loss: 0.9865 - accuracy: 0.6519 - val_loss: 1.1087 - val_accuracy: 0.6297\n",
      "Epoch 20/100\n",
      "161/161 [==============================] - 86s 534ms/step - loss: 0.9791 - accuracy: 0.6589 - val_loss: 1.0901 - val_accuracy: 0.6453\n",
      "Epoch 21/100\n",
      "161/161 [==============================] - 86s 533ms/step - loss: 0.9504 - accuracy: 0.6792 - val_loss: 1.0880 - val_accuracy: 0.6438\n",
      "Epoch 22/100\n",
      "161/161 [==============================] - 86s 532ms/step - loss: 0.9328 - accuracy: 0.6798 - val_loss: 1.0738 - val_accuracy: 0.6406\n",
      "Epoch 23/100\n",
      "161/161 [==============================] - 86s 532ms/step - loss: 0.8935 - accuracy: 0.6954 - val_loss: 1.0009 - val_accuracy: 0.6602\n",
      "Epoch 24/100\n",
      "161/161 [==============================] - 85s 530ms/step - loss: 0.9016 - accuracy: 0.6891 - val_loss: 1.0294 - val_accuracy: 0.6680\n",
      "Epoch 25/100\n",
      "161/161 [==============================] - 85s 531ms/step - loss: 0.8765 - accuracy: 0.7024 - val_loss: 1.0859 - val_accuracy: 0.6547\n",
      "Epoch 26/100\n",
      "161/161 [==============================] - 85s 529ms/step - loss: 0.8819 - accuracy: 0.7024 - val_loss: 0.9447 - val_accuracy: 0.6695\n",
      "Epoch 27/100\n",
      "161/161 [==============================] - 85s 531ms/step - loss: 0.8267 - accuracy: 0.7160 - val_loss: 1.0078 - val_accuracy: 0.6531\n",
      "Epoch 28/100\n",
      "161/161 [==============================] - 86s 533ms/step - loss: 0.8249 - accuracy: 0.7225 - val_loss: 0.9782 - val_accuracy: 0.6922\n",
      "Epoch 29/100\n",
      "161/161 [==============================] - 86s 533ms/step - loss: 0.8134 - accuracy: 0.7234 - val_loss: 1.0112 - val_accuracy: 0.6766\n",
      "Epoch 30/100\n",
      "161/161 [==============================] - 86s 534ms/step - loss: 0.8095 - accuracy: 0.7215 - val_loss: 0.9385 - val_accuracy: 0.6977\n",
      "Epoch 31/100\n",
      "161/161 [==============================] - 84s 521ms/step - loss: 0.7999 - accuracy: 0.7231 - val_loss: 0.9359 - val_accuracy: 0.6812\n",
      "Epoch 32/100\n",
      "161/161 [==============================] - 84s 522ms/step - loss: 0.7869 - accuracy: 0.7301 - val_loss: 0.9297 - val_accuracy: 0.6906\n",
      "Epoch 33/100\n",
      "161/161 [==============================] - 83s 518ms/step - loss: 0.7499 - accuracy: 0.7433 - val_loss: 0.9560 - val_accuracy: 0.6844\n",
      "Epoch 34/100\n",
      "161/161 [==============================] - 83s 516ms/step - loss: 0.7305 - accuracy: 0.7525 - val_loss: 0.9356 - val_accuracy: 0.6977\n",
      "Epoch 35/100\n",
      "161/161 [==============================] - 83s 517ms/step - loss: 0.7422 - accuracy: 0.7531 - val_loss: 0.9669 - val_accuracy: 0.6852\n",
      "Epoch 36/100\n",
      "161/161 [==============================] - 83s 517ms/step - loss: 0.7122 - accuracy: 0.7618 - val_loss: 0.9157 - val_accuracy: 0.6977\n",
      "Epoch 37/100\n",
      "161/161 [==============================] - 83s 516ms/step - loss: 0.7255 - accuracy: 0.7542 - val_loss: 0.9491 - val_accuracy: 0.6812\n",
      "Epoch 38/100\n",
      "161/161 [==============================] - 83s 518ms/step - loss: 0.7154 - accuracy: 0.7560 - val_loss: 0.8738 - val_accuracy: 0.6992\n",
      "Epoch 39/100\n",
      "161/161 [==============================] - 83s 518ms/step - loss: 0.7002 - accuracy: 0.7648 - val_loss: 0.8205 - val_accuracy: 0.7180\n",
      "Epoch 40/100\n",
      "161/161 [==============================] - 84s 524ms/step - loss: 0.6893 - accuracy: 0.7611 - val_loss: 0.9281 - val_accuracy: 0.6914\n",
      "Epoch 41/100\n",
      "161/161 [==============================] - 85s 527ms/step - loss: 0.6528 - accuracy: 0.7800 - val_loss: 0.8995 - val_accuracy: 0.7125\n",
      "Epoch 42/100\n",
      "161/161 [==============================] - 84s 520ms/step - loss: 0.6448 - accuracy: 0.7819 - val_loss: 0.8928 - val_accuracy: 0.7148\n",
      "Epoch 43/100\n",
      "161/161 [==============================] - 83s 518ms/step - loss: 0.6198 - accuracy: 0.7893 - val_loss: 0.8569 - val_accuracy: 0.7133\n",
      "Epoch 44/100\n",
      "161/161 [==============================] - 83s 516ms/step - loss: 0.6355 - accuracy: 0.7850 - val_loss: 0.8076 - val_accuracy: 0.7258\n",
      "Epoch 45/100\n",
      "161/161 [==============================] - 86s 532ms/step - loss: 0.6408 - accuracy: 0.7772 - val_loss: 0.8192 - val_accuracy: 0.7281\n",
      "Epoch 46/100\n",
      "161/161 [==============================] - 85s 528ms/step - loss: 0.6164 - accuracy: 0.7917 - val_loss: 0.8703 - val_accuracy: 0.7156\n",
      "Epoch 47/100\n",
      "161/161 [==============================] - 84s 521ms/step - loss: 0.6169 - accuracy: 0.7948 - val_loss: 0.8172 - val_accuracy: 0.7227\n",
      "Epoch 48/100\n",
      "161/161 [==============================] - 84s 519ms/step - loss: 0.5988 - accuracy: 0.7956 - val_loss: 0.8421 - val_accuracy: 0.7305\n",
      "Epoch 49/100\n",
      "161/161 [==============================] - 84s 519ms/step - loss: 0.5890 - accuracy: 0.7998 - val_loss: 0.7749 - val_accuracy: 0.7586\n",
      "Epoch 50/100\n",
      "161/161 [==============================] - 83s 517ms/step - loss: 0.5815 - accuracy: 0.8039 - val_loss: 0.8223 - val_accuracy: 0.7234\n",
      "Epoch 51/100\n",
      "161/161 [==============================] - 84s 519ms/step - loss: 0.5866 - accuracy: 0.8039 - val_loss: 0.8002 - val_accuracy: 0.7469\n",
      "Epoch 52/100\n",
      "161/161 [==============================] - 83s 517ms/step - loss: 0.5566 - accuracy: 0.8129 - val_loss: 0.8056 - val_accuracy: 0.7477\n",
      "Epoch 53/100\n",
      "161/161 [==============================] - 83s 517ms/step - loss: 0.5553 - accuracy: 0.8166 - val_loss: 0.7652 - val_accuracy: 0.7578\n",
      "Epoch 54/100\n",
      "161/161 [==============================] - 85s 525ms/step - loss: 0.5464 - accuracy: 0.8215 - val_loss: 0.7862 - val_accuracy: 0.7508\n",
      "Epoch 55/100\n",
      "161/161 [==============================] - 85s 526ms/step - loss: 0.5347 - accuracy: 0.8137 - val_loss: 0.7849 - val_accuracy: 0.7617\n",
      "Epoch 56/100\n",
      "161/161 [==============================] - 85s 528ms/step - loss: 0.5471 - accuracy: 0.8149 - val_loss: 0.7488 - val_accuracy: 0.7578\n",
      "Epoch 57/100\n",
      "161/161 [==============================] - 84s 523ms/step - loss: 0.5343 - accuracy: 0.8221 - val_loss: 0.7693 - val_accuracy: 0.7484\n",
      "Epoch 58/100\n",
      "161/161 [==============================] - 84s 520ms/step - loss: 0.5467 - accuracy: 0.8129 - val_loss: 0.7652 - val_accuracy: 0.7547\n",
      "Epoch 59/100\n",
      "161/161 [==============================] - 84s 520ms/step - loss: 0.5274 - accuracy: 0.8256 - val_loss: 0.7671 - val_accuracy: 0.7563\n",
      "Epoch 60/100\n",
      "161/161 [==============================] - 85s 531ms/step - loss: 0.5101 - accuracy: 0.8349 - val_loss: 0.7455 - val_accuracy: 0.7570\n",
      "Epoch 61/100\n",
      "161/161 [==============================] - 83s 518ms/step - loss: 0.4999 - accuracy: 0.8355 - val_loss: 0.7324 - val_accuracy: 0.7594\n",
      "Epoch 62/100\n",
      "161/161 [==============================] - 84s 520ms/step - loss: 0.5055 - accuracy: 0.8341 - val_loss: 0.7617 - val_accuracy: 0.7492\n",
      "Epoch 63/100\n",
      "161/161 [==============================] - 83s 517ms/step - loss: 0.4860 - accuracy: 0.8425 - val_loss: 0.7173 - val_accuracy: 0.7648\n",
      "Epoch 64/100\n",
      "161/161 [==============================] - 83s 518ms/step - loss: 0.4868 - accuracy: 0.8388 - val_loss: 0.7603 - val_accuracy: 0.7437\n",
      "Epoch 65/100\n",
      "161/161 [==============================] - 83s 516ms/step - loss: 0.5018 - accuracy: 0.8375 - val_loss: 0.6894 - val_accuracy: 0.7664\n",
      "Epoch 66/100\n",
      "161/161 [==============================] - 85s 526ms/step - loss: 0.4949 - accuracy: 0.8355 - val_loss: 0.7521 - val_accuracy: 0.7633\n",
      "Epoch 67/100\n",
      "161/161 [==============================] - 84s 520ms/step - loss: 0.4894 - accuracy: 0.8369 - val_loss: 0.7167 - val_accuracy: 0.7781\n",
      "Epoch 68/100\n",
      "161/161 [==============================] - 84s 520ms/step - loss: 0.4970 - accuracy: 0.8316 - val_loss: 0.7358 - val_accuracy: 0.7664\n",
      "Epoch 69/100\n",
      "161/161 [==============================] - 84s 520ms/step - loss: 0.4882 - accuracy: 0.8357 - val_loss: 0.7478 - val_accuracy: 0.7570\n",
      "Epoch 70/100\n",
      "161/161 [==============================] - 83s 518ms/step - loss: 0.5029 - accuracy: 0.8302 - val_loss: 0.7380 - val_accuracy: 0.7672\n",
      "Epoch 71/100\n",
      "161/161 [==============================] - 83s 518ms/step - loss: 0.4974 - accuracy: 0.8373 - val_loss: 0.7520 - val_accuracy: 0.7570\n",
      "Epoch 72/100\n",
      "161/161 [==============================] - 84s 519ms/step - loss: 0.4978 - accuracy: 0.8310 - val_loss: 0.7553 - val_accuracy: 0.7539\n",
      "Epoch 73/100\n",
      "161/161 [==============================] - 84s 522ms/step - loss: 0.4898 - accuracy: 0.8324 - val_loss: 0.7314 - val_accuracy: 0.7695\n",
      "Epoch 74/100\n",
      "161/161 [==============================] - 84s 523ms/step - loss: 0.4863 - accuracy: 0.8421 - val_loss: 0.7686 - val_accuracy: 0.7555\n",
      "Epoch 75/100\n",
      "161/161 [==============================] - 84s 524ms/step - loss: 0.5026 - accuracy: 0.8332 - val_loss: 0.7612 - val_accuracy: 0.7602\n",
      "Epoch 76/100\n",
      "161/161 [==============================] - 83s 518ms/step - loss: 0.4936 - accuracy: 0.8345 - val_loss: 0.7509 - val_accuracy: 0.7578\n",
      "Epoch 77/100\n",
      "161/161 [==============================] - 84s 520ms/step - loss: 0.5043 - accuracy: 0.8316 - val_loss: 0.7124 - val_accuracy: 0.7766\n",
      "Epoch 78/100\n",
      "161/161 [==============================] - 83s 517ms/step - loss: 0.4902 - accuracy: 0.8351 - val_loss: 0.7225 - val_accuracy: 0.7742\n",
      "Epoch 79/100\n",
      "161/161 [==============================] - 85s 526ms/step - loss: 0.4811 - accuracy: 0.8414 - val_loss: 0.7246 - val_accuracy: 0.7688\n",
      "Epoch 80/100\n",
      "161/161 [==============================] - 84s 524ms/step - loss: 0.4983 - accuracy: 0.8402 - val_loss: 0.6822 - val_accuracy: 0.7688\n",
      "Epoch 81/100\n",
      "161/161 [==============================] - 84s 520ms/step - loss: 0.4689 - accuracy: 0.8410 - val_loss: 0.7386 - val_accuracy: 0.7617\n",
      "Epoch 82/100\n",
      "161/161 [==============================] - 84s 523ms/step - loss: 0.4991 - accuracy: 0.8353 - val_loss: 0.7061 - val_accuracy: 0.7781\n",
      "Epoch 83/100\n",
      "161/161 [==============================] - 84s 522ms/step - loss: 0.4698 - accuracy: 0.8492 - val_loss: 0.7690 - val_accuracy: 0.7461\n",
      "Epoch 84/100\n",
      "161/161 [==============================] - 84s 519ms/step - loss: 0.4795 - accuracy: 0.8386 - val_loss: 0.7284 - val_accuracy: 0.7641\n",
      "Epoch 85/100\n",
      "161/161 [==============================] - 83s 518ms/step - loss: 0.4901 - accuracy: 0.8367 - val_loss: 0.7760 - val_accuracy: 0.7500\n",
      "Epoch 86/100\n",
      "161/161 [==============================] - 84s 519ms/step - loss: 0.4956 - accuracy: 0.8417 - val_loss: 0.7306 - val_accuracy: 0.7641\n",
      "Epoch 87/100\n",
      "161/161 [==============================] - 83s 518ms/step - loss: 0.4915 - accuracy: 0.8398 - val_loss: 0.7451 - val_accuracy: 0.7688\n",
      "Epoch 88/100\n",
      "161/161 [==============================] - 83s 518ms/step - loss: 0.4920 - accuracy: 0.8345 - val_loss: 0.7212 - val_accuracy: 0.7727\n",
      "Epoch 89/100\n",
      "161/161 [==============================] - 84s 522ms/step - loss: 0.4831 - accuracy: 0.8382 - val_loss: 0.7535 - val_accuracy: 0.7547\n",
      "Epoch 90/100\n",
      "161/161 [==============================] - 85s 525ms/step - loss: 0.4842 - accuracy: 0.8445 - val_loss: 0.7672 - val_accuracy: 0.7414\n",
      "Epoch 91/100\n",
      "161/161 [==============================] - 86s 535ms/step - loss: 0.4906 - accuracy: 0.8398 - val_loss: 0.7120 - val_accuracy: 0.7781\n",
      "Epoch 92/100\n",
      "161/161 [==============================] - 83s 518ms/step - loss: 0.5070 - accuracy: 0.8353 - val_loss: 0.7644 - val_accuracy: 0.7563\n",
      "Epoch 93/100\n",
      "161/161 [==============================] - 84s 519ms/step - loss: 0.4966 - accuracy: 0.8355 - val_loss: 0.7394 - val_accuracy: 0.7625\n",
      "Epoch 94/100\n",
      "161/161 [==============================] - 84s 521ms/step - loss: 0.4887 - accuracy: 0.8406 - val_loss: 0.7331 - val_accuracy: 0.7656\n",
      "Epoch 95/100\n",
      "161/161 [==============================] - 84s 520ms/step - loss: 0.4833 - accuracy: 0.8380 - val_loss: 0.7132 - val_accuracy: 0.7734\n",
      "Epoch 96/100\n",
      "161/161 [==============================] - 83s 518ms/step - loss: 0.4817 - accuracy: 0.8488 - val_loss: 0.7302 - val_accuracy: 0.7602\n",
      "Epoch 97/100\n",
      "161/161 [==============================] - 84s 519ms/step - loss: 0.4897 - accuracy: 0.8398 - val_loss: 0.7049 - val_accuracy: 0.7758\n",
      "Epoch 98/100\n",
      "161/161 [==============================] - 84s 521ms/step - loss: 0.4845 - accuracy: 0.8408 - val_loss: 0.7450 - val_accuracy: 0.7586\n",
      "Epoch 99/100\n",
      "161/161 [==============================] - 84s 521ms/step - loss: 0.4881 - accuracy: 0.8375 - val_loss: 0.7384 - val_accuracy: 0.7734\n",
      "Epoch 100/100\n",
      "161/161 [==============================] - 86s 532ms/step - loss: 0.5030 - accuracy: 0.8320 - val_loss: 0.6833 - val_accuracy: 0.7883\n"
     ]
    },
    {
     "data": {
      "text/plain": [
       "<keras.callbacks.History at 0x7fae214ac2d0>"
      ]
     },
     "execution_count": 42,
     "metadata": {},
     "output_type": "execute_result"
    }
   ],
   "source": [
    "# Train new top layers\n",
    "model.fit_generator(\n",
    "    train_generator, epochs=epochs, validation_data=valid_generator, verbose=1,\n",
    ")"
   ]
  },
  {
   "cell_type": "code",
   "execution_count": null,
   "metadata": {
    "colab": {
     "base_uri": "https://localhost:8080/"
    },
    "executionInfo": {
     "elapsed": 45304,
     "status": "ok",
     "timestamp": 1656331716830,
     "user": {
      "displayName": "Catherine Seytre",
      "userId": "18110368277065052224"
     },
     "user_tz": -120
    },
    "id": "viorr6w50Nl_",
    "outputId": "9ff3c904-c0d9-4809-fa90-8137c7797396"
   },
   "outputs": [
    {
     "name": "stdout",
     "output_type": "stream",
     "text": [
      "INFO:tensorflow:Assets written to: /content/drive/MyDrive/Colab Notebooks/paddy/paddy_resnet_top_layers/assets\n",
      "the model is saved\n"
     ]
    }
   ],
   "source": [
    "model.save(\"/content/drive/MyDrive/Colab Notebooks/paddy/paddy_resnet_top_layers\")\n",
    "print(\"the model is saved\")"
   ]
  },
  {
   "cell_type": "code",
   "execution_count": null,
   "metadata": {
    "id": "Bn5QtsAI09DD"
   },
   "outputs": [],
   "source": [
    "# load model\n",
    "model = load_model(\n",
    "    \"/content/drive/MyDrive/Colab Notebooks/paddy/paddy_resnet_top_layers\"\n",
    ")"
   ]
  },
  {
   "cell_type": "markdown",
   "metadata": {
    "id": "GfwguARmuPNz"
   },
   "source": [
    "#### Setup model for fine tuning"
   ]
  },
  {
   "cell_type": "code",
   "execution_count": null,
   "metadata": {
    "id": "fMMgFIOjGfgP"
   },
   "outputs": [],
   "source": [
    "# Adam + lookahead\n",
    "opt = tf.keras.optimizers.Adam(1e-3)\n",
    "opt = tfa.optimizers.Lookahead(opt)"
   ]
  },
  {
   "cell_type": "code",
   "execution_count": null,
   "metadata": {
    "id": "sOoX86btiXAT"
   },
   "outputs": [],
   "source": [
    "# Setup model for fine tuning\n",
    "def setup_model(model, trainable):\n",
    "    for layer in model.layers[: (len(model.layers) - trainable)]:\n",
    "        layer.trainable = False  # freeze model base\n",
    "\n",
    "    for layer in model.layers[(len(model.layers) - trainable) :]:\n",
    "        layer.trainable = True  # allow training layers\n",
    "\n",
    "    model.compile(\n",
    "        loss=\"categorical_crossentropy\",\n",
    "        optimizer=opt,  # schedule in callbacks\n",
    "        metrics=[\"accuracy\"],\n",
    "    )"
   ]
  },
  {
   "cell_type": "code",
   "execution_count": null,
   "metadata": {
    "id": "5PBWiO_PiXAT"
   },
   "outputs": [],
   "source": [
    "# Setup model to retrain our top layer plus 2 last blocks\n",
    "setup_model(model, 26)"
   ]
  },
  {
   "cell_type": "code",
   "execution_count": null,
   "metadata": {
    "id": "Q0qK3qH1iXAU"
   },
   "outputs": [],
   "source": [
    "# callbacks : early stopping\n",
    "early_stp = tf.keras.callbacks.EarlyStopping(monitor=\"val_loss\", patience=5)"
   ]
  },
  {
   "cell_type": "code",
   "execution_count": null,
   "metadata": {
    "id": "WbjVUGhxuQOm"
   },
   "outputs": [],
   "source": [
    "K.clear_session()"
   ]
  },
  {
   "cell_type": "code",
   "execution_count": null,
   "metadata": {
    "colab": {
     "base_uri": "https://localhost:8080/"
    },
    "executionInfo": {
     "elapsed": 4519017,
     "status": "ok",
     "timestamp": 1656599702747,
     "user": {
      "displayName": "Catherine Seytre",
      "userId": "18110368277065052224"
     },
     "user_tz": -120
    },
    "id": "OgS_k6-fjjmW",
    "outputId": "aba7b1fa-0a5a-416d-ed2a-462be052f7e8"
   },
   "outputs": [
    {
     "name": "stdout",
     "output_type": "stream",
     "text": [
      "Epoch 1/200\n",
      "161/161 [==============================] - 98s 550ms/step - loss: 0.6937 - accuracy: 0.7652 - val_loss: 1.2412 - val_accuracy: 0.6164 - lr: 0.0010\n",
      "Epoch 2/200\n",
      "161/161 [==============================] - 85s 528ms/step - loss: 0.5522 - accuracy: 0.8189 - val_loss: 0.9116 - val_accuracy: 0.7164 - lr: 0.0010\n",
      "Epoch 3/200\n",
      "161/161 [==============================] - 85s 527ms/step - loss: 0.4974 - accuracy: 0.8384 - val_loss: 0.7587 - val_accuracy: 0.7484 - lr: 0.0010\n",
      "Epoch 4/200\n",
      "161/161 [==============================] - 85s 530ms/step - loss: 0.4420 - accuracy: 0.8523 - val_loss: 0.6727 - val_accuracy: 0.8039 - lr: 0.0010\n",
      "Epoch 5/200\n",
      "161/161 [==============================] - 85s 528ms/step - loss: 0.3924 - accuracy: 0.8694 - val_loss: 0.6800 - val_accuracy: 0.7992 - lr: 0.0010\n",
      "Epoch 6/200\n",
      "161/161 [==============================] - ETA: 0s - loss: 0.3723 - accuracy: 0.8788\n",
      "Epoch 6: ReduceLROnPlateau reducing learning rate to 0.000800000037997961.\n",
      "161/161 [==============================] - 84s 522ms/step - loss: 0.3723 - accuracy: 0.8788 - val_loss: 0.6734 - val_accuracy: 0.7937 - lr: 0.0010\n",
      "Epoch 7/200\n",
      "161/161 [==============================] - 84s 521ms/step - loss: 0.3094 - accuracy: 0.8977 - val_loss: 0.6220 - val_accuracy: 0.8148 - lr: 8.0000e-04\n",
      "Epoch 8/200\n",
      "161/161 [==============================] - 84s 521ms/step - loss: 0.2817 - accuracy: 0.9049 - val_loss: 0.5930 - val_accuracy: 0.8195 - lr: 8.0000e-04\n",
      "Epoch 9/200\n",
      "161/161 [==============================] - 84s 519ms/step - loss: 0.2655 - accuracy: 0.9125 - val_loss: 0.4842 - val_accuracy: 0.8422 - lr: 8.0000e-04\n",
      "Epoch 10/200\n",
      "161/161 [==============================] - 84s 521ms/step - loss: 0.2686 - accuracy: 0.9111 - val_loss: 0.6987 - val_accuracy: 0.8117 - lr: 8.0000e-04\n",
      "Epoch 11/200\n",
      "161/161 [==============================] - ETA: 0s - loss: 0.2329 - accuracy: 0.9232\n",
      "Epoch 11: ReduceLROnPlateau reducing learning rate to 0.0006400000303983689.\n",
      "161/161 [==============================] - 84s 522ms/step - loss: 0.2329 - accuracy: 0.9232 - val_loss: 0.5011 - val_accuracy: 0.8617 - lr: 8.0000e-04\n",
      "Epoch 12/200\n",
      "161/161 [==============================] - 84s 522ms/step - loss: 0.1936 - accuracy: 0.9355 - val_loss: 0.4916 - val_accuracy: 0.8633 - lr: 6.4000e-04\n",
      "Epoch 13/200\n",
      "161/161 [==============================] - 85s 526ms/step - loss: 0.1840 - accuracy: 0.9396 - val_loss: 0.4734 - val_accuracy: 0.8719 - lr: 6.4000e-04\n",
      "Epoch 14/200\n",
      "161/161 [==============================] - 84s 521ms/step - loss: 0.1816 - accuracy: 0.9376 - val_loss: 0.4428 - val_accuracy: 0.8766 - lr: 6.4000e-04\n",
      "Epoch 15/200\n",
      "161/161 [==============================] - 84s 522ms/step - loss: 0.1931 - accuracy: 0.9376 - val_loss: 0.4693 - val_accuracy: 0.8672 - lr: 6.4000e-04\n",
      "Epoch 16/200\n",
      "161/161 [==============================] - ETA: 0s - loss: 0.1726 - accuracy: 0.9437\n",
      "Epoch 16: ReduceLROnPlateau reducing learning rate to 0.0005120000336319208.\n",
      "161/161 [==============================] - 84s 521ms/step - loss: 0.1726 - accuracy: 0.9437 - val_loss: 0.4627 - val_accuracy: 0.8727 - lr: 6.4000e-04\n",
      "Epoch 17/200\n",
      "161/161 [==============================] - 84s 522ms/step - loss: 0.1589 - accuracy: 0.9468 - val_loss: 0.3697 - val_accuracy: 0.8992 - lr: 5.1200e-04\n",
      "Epoch 18/200\n",
      "161/161 [==============================] - 84s 521ms/step - loss: 0.1402 - accuracy: 0.9538 - val_loss: 0.4131 - val_accuracy: 0.8875 - lr: 5.1200e-04\n",
      "Epoch 19/200\n",
      "161/161 [==============================] - ETA: 0s - loss: 0.1474 - accuracy: 0.9503\n",
      "Epoch 19: ReduceLROnPlateau reducing learning rate to 0.00040960004553198815.\n",
      "161/161 [==============================] - 84s 525ms/step - loss: 0.1474 - accuracy: 0.9503 - val_loss: 0.4154 - val_accuracy: 0.8875 - lr: 5.1200e-04\n",
      "Epoch 20/200\n",
      "161/161 [==============================] - 84s 523ms/step - loss: 0.1325 - accuracy: 0.9573 - val_loss: 0.3586 - val_accuracy: 0.9016 - lr: 4.0960e-04\n",
      "Epoch 21/200\n",
      "161/161 [==============================] - 84s 522ms/step - loss: 0.1192 - accuracy: 0.9612 - val_loss: 0.3583 - val_accuracy: 0.9047 - lr: 4.0960e-04\n",
      "Epoch 22/200\n",
      "161/161 [==============================] - 84s 524ms/step - loss: 0.1214 - accuracy: 0.9597 - val_loss: 0.3362 - val_accuracy: 0.9094 - lr: 4.0960e-04\n",
      "Epoch 23/200\n",
      "161/161 [==============================] - 84s 524ms/step - loss: 0.1085 - accuracy: 0.9628 - val_loss: 0.3648 - val_accuracy: 0.9102 - lr: 4.0960e-04\n",
      "Epoch 24/200\n",
      "161/161 [==============================] - ETA: 0s - loss: 0.1179 - accuracy: 0.9597\n",
      "Epoch 24: ReduceLROnPlateau reducing learning rate to 0.00032768002711236477.\n",
      "161/161 [==============================] - 84s 523ms/step - loss: 0.1179 - accuracy: 0.9597 - val_loss: 0.3676 - val_accuracy: 0.8945 - lr: 4.0960e-04\n",
      "Epoch 25/200\n",
      "161/161 [==============================] - 85s 527ms/step - loss: 0.1039 - accuracy: 0.9645 - val_loss: 0.3989 - val_accuracy: 0.9047 - lr: 3.2768e-04\n",
      "Epoch 26/200\n",
      "161/161 [==============================] - ETA: 0s - loss: 0.0891 - accuracy: 0.9698\n",
      "Epoch 26: ReduceLROnPlateau reducing learning rate to 0.0002621440216898918.\n",
      "161/161 [==============================] - 87s 537ms/step - loss: 0.0891 - accuracy: 0.9698 - val_loss: 0.3675 - val_accuracy: 0.9156 - lr: 3.2768e-04\n",
      "Epoch 27/200\n",
      "161/161 [==============================] - 84s 524ms/step - loss: 0.0850 - accuracy: 0.9710 - val_loss: 0.3387 - val_accuracy: 0.9117 - lr: 2.6214e-04\n",
      "Epoch 28/200\n",
      "161/161 [==============================] - ETA: 0s - loss: 0.0867 - accuracy: 0.9688\n",
      "Epoch 28: ReduceLROnPlateau reducing learning rate to 0.00020971521735191345.\n",
      "161/161 [==============================] - 84s 524ms/step - loss: 0.0867 - accuracy: 0.9688 - val_loss: 0.3632 - val_accuracy: 0.9141 - lr: 2.6214e-04\n",
      "Epoch 29/200\n",
      "161/161 [==============================] - 84s 522ms/step - loss: 0.0789 - accuracy: 0.9745 - val_loss: 0.3332 - val_accuracy: 0.9195 - lr: 2.0972e-04\n",
      "Epoch 30/200\n",
      "161/161 [==============================] - 85s 531ms/step - loss: 0.0829 - accuracy: 0.9739 - val_loss: 0.3582 - val_accuracy: 0.9133 - lr: 2.0972e-04\n",
      "Epoch 31/200\n",
      "161/161 [==============================] - ETA: 0s - loss: 0.0643 - accuracy: 0.9766\n",
      "Epoch 31: ReduceLROnPlateau reducing learning rate to 0.00016777217388153076.\n",
      "161/161 [==============================] - 86s 531ms/step - loss: 0.0643 - accuracy: 0.9766 - val_loss: 0.3614 - val_accuracy: 0.9164 - lr: 2.0972e-04\n",
      "Epoch 32/200\n",
      "161/161 [==============================] - 85s 531ms/step - loss: 0.0654 - accuracy: 0.9776 - val_loss: 0.3292 - val_accuracy: 0.9227 - lr: 1.6777e-04\n",
      "Epoch 33/200\n",
      "161/161 [==============================] - 85s 530ms/step - loss: 0.0685 - accuracy: 0.9784 - val_loss: 0.3185 - val_accuracy: 0.9211 - lr: 1.6777e-04\n",
      "Epoch 34/200\n",
      "161/161 [==============================] - 85s 529ms/step - loss: 0.0589 - accuracy: 0.9780 - val_loss: 0.3645 - val_accuracy: 0.9211 - lr: 1.6777e-04\n",
      "Epoch 35/200\n",
      "161/161 [==============================] - ETA: 0s - loss: 0.0612 - accuracy: 0.9807\n",
      "Epoch 35: ReduceLROnPlateau reducing learning rate to 0.00013421773910522462.\n",
      "161/161 [==============================] - 86s 533ms/step - loss: 0.0612 - accuracy: 0.9807 - val_loss: 0.3397 - val_accuracy: 0.9203 - lr: 1.6777e-04\n",
      "Epoch 36/200\n",
      "161/161 [==============================] - 86s 534ms/step - loss: 0.0590 - accuracy: 0.9799 - val_loss: 0.3140 - val_accuracy: 0.9258 - lr: 1.3422e-04\n",
      "Epoch 37/200\n",
      "161/161 [==============================] - 87s 538ms/step - loss: 0.0565 - accuracy: 0.9793 - val_loss: 0.3221 - val_accuracy: 0.9328 - lr: 1.3422e-04\n",
      "Epoch 38/200\n",
      "161/161 [==============================] - ETA: 0s - loss: 0.0584 - accuracy: 0.9809\n",
      "Epoch 38: ReduceLROnPlateau reducing learning rate to 0.00010737419361248613.\n",
      "161/161 [==============================] - 86s 531ms/step - loss: 0.0584 - accuracy: 0.9809 - val_loss: 0.3604 - val_accuracy: 0.9234 - lr: 1.3422e-04\n",
      "Epoch 39/200\n",
      "161/161 [==============================] - 86s 533ms/step - loss: 0.0564 - accuracy: 0.9791 - val_loss: 0.3411 - val_accuracy: 0.9195 - lr: 1.0737e-04\n",
      "Epoch 40/200\n",
      "161/161 [==============================] - ETA: 0s - loss: 0.0532 - accuracy: 0.9815\n",
      "Epoch 40: ReduceLROnPlateau reducing learning rate to 8.589935605414213e-05.\n",
      "161/161 [==============================] - 86s 534ms/step - loss: 0.0532 - accuracy: 0.9815 - val_loss: 0.3257 - val_accuracy: 0.9234 - lr: 1.0737e-04\n",
      "Epoch 41/200\n",
      "161/161 [==============================] - 86s 534ms/step - loss: 0.0517 - accuracy: 0.9823 - val_loss: 0.3658 - val_accuracy: 0.9219 - lr: 8.5899e-05\n",
      "Epoch 42/200\n",
      "161/161 [==============================] - ETA: 0s - loss: 0.0436 - accuracy: 0.9834\n",
      "Epoch 42: ReduceLROnPlateau reducing learning rate to 6.871948717162013e-05.\n",
      "161/161 [==============================] - 86s 533ms/step - loss: 0.0436 - accuracy: 0.9834 - val_loss: 0.3363 - val_accuracy: 0.9234 - lr: 8.5899e-05\n",
      "Epoch 43/200\n",
      "161/161 [==============================] - 86s 534ms/step - loss: 0.0460 - accuracy: 0.9817 - val_loss: 0.3473 - val_accuracy: 0.9297 - lr: 6.8719e-05\n",
      "Epoch 44/200\n",
      "161/161 [==============================] - ETA: 0s - loss: 0.0438 - accuracy: 0.9840\n",
      "Epoch 44: ReduceLROnPlateau reducing learning rate to 5.497558740898967e-05.\n",
      "161/161 [==============================] - 86s 532ms/step - loss: 0.0438 - accuracy: 0.9840 - val_loss: 0.3354 - val_accuracy: 0.9273 - lr: 6.8719e-05\n",
      "Epoch 45/200\n",
      "161/161 [==============================] - 86s 533ms/step - loss: 0.0374 - accuracy: 0.9883 - val_loss: 0.3291 - val_accuracy: 0.9336 - lr: 5.4976e-05\n",
      "Epoch 46/200\n",
      "161/161 [==============================] - ETA: 0s - loss: 0.0429 - accuracy: 0.9850\n",
      "Epoch 46: ReduceLROnPlateau reducing learning rate to 4.398046876303852e-05.\n",
      "161/161 [==============================] - 86s 532ms/step - loss: 0.0429 - accuracy: 0.9850 - val_loss: 0.3539 - val_accuracy: 0.9289 - lr: 5.4976e-05\n",
      "Epoch 47/200\n",
      "161/161 [==============================] - 86s 534ms/step - loss: 0.0466 - accuracy: 0.9823 - val_loss: 0.2985 - val_accuracy: 0.9328 - lr: 4.3980e-05\n",
      "Epoch 48/200\n",
      "161/161 [==============================] - 86s 531ms/step - loss: 0.0342 - accuracy: 0.9873 - val_loss: 0.3419 - val_accuracy: 0.9297 - lr: 4.3980e-05\n",
      "Epoch 49/200\n",
      "161/161 [==============================] - ETA: 0s - loss: 0.0406 - accuracy: 0.9858\n",
      "Epoch 49: ReduceLROnPlateau reducing learning rate to 3.518437442835421e-05.\n",
      "161/161 [==============================] - 86s 532ms/step - loss: 0.0406 - accuracy: 0.9858 - val_loss: 0.3528 - val_accuracy: 0.9297 - lr: 4.3980e-05\n",
      "Epoch 50/200\n",
      "161/161 [==============================] - 85s 527ms/step - loss: 0.0399 - accuracy: 0.9860 - val_loss: 0.3315 - val_accuracy: 0.9227 - lr: 3.5184e-05\n",
      "Epoch 51/200\n",
      "161/161 [==============================] - ETA: 0s - loss: 0.0400 - accuracy: 0.9879\n",
      "Epoch 51: ReduceLROnPlateau reducing learning rate to 2.8147498960606756e-05.\n",
      "161/161 [==============================] - 86s 533ms/step - loss: 0.0400 - accuracy: 0.9879 - val_loss: 0.3719 - val_accuracy: 0.9320 - lr: 3.5184e-05\n",
      "Epoch 52/200\n",
      "161/161 [==============================] - 86s 533ms/step - loss: 0.0364 - accuracy: 0.9871 - val_loss: 0.3324 - val_accuracy: 0.9383 - lr: 2.8147e-05\n",
      "Epoch 53/200\n",
      "161/161 [==============================] - ETA: 0s - loss: 0.0400 - accuracy: 0.9850\n",
      "Epoch 53: ReduceLROnPlateau reducing learning rate to 2.25179988774471e-05.\n",
      "161/161 [==============================] - 85s 525ms/step - loss: 0.0400 - accuracy: 0.9850 - val_loss: 0.3298 - val_accuracy: 0.9352 - lr: 2.8147e-05\n"
     ]
    }
   ],
   "source": [
    "# Fine-tune the model\n",
    "history4 = model.fit(\n",
    "    train_generator,\n",
    "    epochs=epochs_ft,\n",
    "    validation_data=valid_generator,\n",
    "    verbose=1,\n",
    "    callbacks=[early_stp, lrd],\n",
    ")"
   ]
  },
  {
   "cell_type": "code",
   "execution_count": null,
   "metadata": {
    "id": "gmY2mMrhs87k"
   },
   "outputs": [],
   "source": [
    "from tensorflow.keras.callbacks import ReduceLROnPlateau\n",
    "\n",
    "lrd = ReduceLROnPlateau(\n",
    "    monitor=\"val_loss\", patience=2, verbose=1, factor=0.8, min_lr=1e-6\n",
    ")"
   ]
  },
  {
   "cell_type": "code",
   "execution_count": null,
   "metadata": {
    "colab": {
     "base_uri": "https://localhost:8080/"
    },
    "executionInfo": {
     "elapsed": 45143,
     "status": "ok",
     "timestamp": 1656599909930,
     "user": {
      "displayName": "Catherine Seytre",
      "userId": "18110368277065052224"
     },
     "user_tz": -120
    },
    "id": "EWwhNfec8zBX",
    "outputId": "ff7a46b1-a42d-4730-d2ab-2de0d7d68599"
   },
   "outputs": [
    {
     "name": "stdout",
     "output_type": "stream",
     "text": [
      "INFO:tensorflow:Assets written to: /content/drive/MyDrive/Colab Notebooks/paddy/paddy_resnet_fine_tuned_adam/assets\n",
      "the model is saved\n"
     ]
    }
   ],
   "source": [
    "model.save(\"/content/drive/MyDrive/Colab Notebooks/paddy/paddy_resnet_fine_tuned_adam\")\n",
    "print(\"the model is saved\")"
   ]
  },
  {
   "cell_type": "code",
   "execution_count": null,
   "metadata": {
    "id": "COGiLPwh8y8m"
   },
   "outputs": [],
   "source": [
    "model = load_model(\n",
    "    \"/content/drive/MyDrive/Colab Notebooks/paddy/paddy_resnet_fine_tuned_adam\"\n",
    ")"
   ]
  },
  {
   "cell_type": "code",
   "execution_count": null,
   "metadata": {
    "id": "ayvlivRv9Ah7"
   },
   "outputs": [],
   "source": [
    "# predict sur test set avec resnet_26 layers\n",
    "disease_pred = model.predict(test_generator, batch_size=32,)"
   ]
  },
  {
   "cell_type": "code",
   "execution_count": null,
   "metadata": {
    "colab": {
     "base_uri": "https://localhost:8080/"
    },
    "executionInfo": {
     "elapsed": 283,
     "status": "ok",
     "timestamp": 1656656100059,
     "user": {
      "displayName": "Catherine Seytre",
      "userId": "18110368277065052224"
     },
     "user_tz": -120
    },
    "id": "Fs-l_jF99Ah7",
    "outputId": "bc7da546-1a1c-4c1e-f4a8-262090b6ff8f"
   },
   "outputs": [
    {
     "name": "stdout",
     "output_type": "stream",
     "text": [
      "{0, 1, 2, 3, 4, 5, 6, 7, 8, 9}\n"
     ]
    }
   ],
   "source": [
    "# formatting Kaggle submission\n",
    "predicted_class_indices = np.argmax(disease_pred, axis=1)\n",
    "print(set(predicted_class_indices))\n",
    "\n",
    "inv_map = {v: k for k, v in train_generator.class_indices.items()}\n",
    "\n",
    "predictions = [inv_map[k] for k in predicted_class_indices]"
   ]
  },
  {
   "cell_type": "code",
   "execution_count": null,
   "metadata": {
    "colab": {
     "base_uri": "https://localhost:8080/",
     "height": 261
    },
    "executionInfo": {
     "elapsed": 371,
     "status": "ok",
     "timestamp": 1656656100849,
     "user": {
      "displayName": "Catherine Seytre",
      "userId": "18110368277065052224"
     },
     "user_tz": -120
    },
    "id": "jGCRBIo79Ah9",
    "outputId": "5de15990-a9e7-4319-98da-92c33b7f0a88"
   },
   "outputs": [
    {
     "name": "stderr",
     "output_type": "stream",
     "text": [
      "/usr/local/lib/python3.7/dist-packages/ipykernel_launcher.py:5: FutureWarning: The default value of regex will change from True to False in a future version.\n",
      "  \"\"\"\n"
     ]
    },
    {
     "data": {
      "text/html": [
       "\n",
       "  <div id=\"df-c13ef840-325a-45f7-ab8b-577d39eaaaa2\">\n",
       "    <div class=\"colab-df-container\">\n",
       "      <div>\n",
       "<style scoped>\n",
       "    .dataframe tbody tr th:only-of-type {\n",
       "        vertical-align: middle;\n",
       "    }\n",
       "\n",
       "    .dataframe tbody tr th {\n",
       "        vertical-align: top;\n",
       "    }\n",
       "\n",
       "    .dataframe thead th {\n",
       "        text-align: right;\n",
       "    }\n",
       "</style>\n",
       "<table border=\"1\" class=\"dataframe\">\n",
       "  <thead>\n",
       "    <tr style=\"text-align: right;\">\n",
       "      <th></th>\n",
       "      <th>image_id</th>\n",
       "      <th>label</th>\n",
       "    </tr>\n",
       "  </thead>\n",
       "  <tbody>\n",
       "    <tr>\n",
       "      <th>0</th>\n",
       "      <td>200001.jpg</td>\n",
       "      <td>hispa</td>\n",
       "    </tr>\n",
       "    <tr>\n",
       "      <th>1</th>\n",
       "      <td>200002.jpg</td>\n",
       "      <td>normal</td>\n",
       "    </tr>\n",
       "    <tr>\n",
       "      <th>2</th>\n",
       "      <td>200003.jpg</td>\n",
       "      <td>blast</td>\n",
       "    </tr>\n",
       "    <tr>\n",
       "      <th>3</th>\n",
       "      <td>200004.jpg</td>\n",
       "      <td>blast</td>\n",
       "    </tr>\n",
       "    <tr>\n",
       "      <th>4</th>\n",
       "      <td>200005.jpg</td>\n",
       "      <td>blast</td>\n",
       "    </tr>\n",
       "  </tbody>\n",
       "</table>\n",
       "</div>\n",
       "      <button class=\"colab-df-convert\" onclick=\"convertToInteractive('df-c13ef840-325a-45f7-ab8b-577d39eaaaa2')\"\n",
       "              title=\"Convert this dataframe to an interactive table.\"\n",
       "              style=\"display:none;\">\n",
       "        \n",
       "  <svg xmlns=\"http://www.w3.org/2000/svg\" height=\"24px\"viewBox=\"0 0 24 24\"\n",
       "       width=\"24px\">\n",
       "    <path d=\"M0 0h24v24H0V0z\" fill=\"none\"/>\n",
       "    <path d=\"M18.56 5.44l.94 2.06.94-2.06 2.06-.94-2.06-.94-.94-2.06-.94 2.06-2.06.94zm-11 1L8.5 8.5l.94-2.06 2.06-.94-2.06-.94L8.5 2.5l-.94 2.06-2.06.94zm10 10l.94 2.06.94-2.06 2.06-.94-2.06-.94-.94-2.06-.94 2.06-2.06.94z\"/><path d=\"M17.41 7.96l-1.37-1.37c-.4-.4-.92-.59-1.43-.59-.52 0-1.04.2-1.43.59L10.3 9.45l-7.72 7.72c-.78.78-.78 2.05 0 2.83L4 21.41c.39.39.9.59 1.41.59.51 0 1.02-.2 1.41-.59l7.78-7.78 2.81-2.81c.8-.78.8-2.07 0-2.86zM5.41 20L4 18.59l7.72-7.72 1.47 1.35L5.41 20z\"/>\n",
       "  </svg>\n",
       "      </button>\n",
       "      \n",
       "  <style>\n",
       "    .colab-df-container {\n",
       "      display:flex;\n",
       "      flex-wrap:wrap;\n",
       "      gap: 12px;\n",
       "    }\n",
       "\n",
       "    .colab-df-convert {\n",
       "      background-color: #E8F0FE;\n",
       "      border: none;\n",
       "      border-radius: 50%;\n",
       "      cursor: pointer;\n",
       "      display: none;\n",
       "      fill: #1967D2;\n",
       "      height: 32px;\n",
       "      padding: 0 0 0 0;\n",
       "      width: 32px;\n",
       "    }\n",
       "\n",
       "    .colab-df-convert:hover {\n",
       "      background-color: #E2EBFA;\n",
       "      box-shadow: 0px 1px 2px rgba(60, 64, 67, 0.3), 0px 1px 3px 1px rgba(60, 64, 67, 0.15);\n",
       "      fill: #174EA6;\n",
       "    }\n",
       "\n",
       "    [theme=dark] .colab-df-convert {\n",
       "      background-color: #3B4455;\n",
       "      fill: #D2E3FC;\n",
       "    }\n",
       "\n",
       "    [theme=dark] .colab-df-convert:hover {\n",
       "      background-color: #434B5C;\n",
       "      box-shadow: 0px 1px 3px 1px rgba(0, 0, 0, 0.15);\n",
       "      filter: drop-shadow(0px 1px 2px rgba(0, 0, 0, 0.3));\n",
       "      fill: #FFFFFF;\n",
       "    }\n",
       "  </style>\n",
       "\n",
       "      <script>\n",
       "        const buttonEl =\n",
       "          document.querySelector('#df-c13ef840-325a-45f7-ab8b-577d39eaaaa2 button.colab-df-convert');\n",
       "        buttonEl.style.display =\n",
       "          google.colab.kernel.accessAllowed ? 'block' : 'none';\n",
       "\n",
       "        async function convertToInteractive(key) {\n",
       "          const element = document.querySelector('#df-c13ef840-325a-45f7-ab8b-577d39eaaaa2');\n",
       "          const dataTable =\n",
       "            await google.colab.kernel.invokeFunction('convertToInteractive',\n",
       "                                                     [key], {});\n",
       "          if (!dataTable) return;\n",
       "\n",
       "          const docLinkHtml = 'Like what you see? Visit the ' +\n",
       "            '<a target=\"_blank\" href=https://colab.research.google.com/notebooks/data_table.ipynb>data table notebook</a>'\n",
       "            + ' to learn more about interactive tables.';\n",
       "          element.innerHTML = '';\n",
       "          dataTable['output_type'] = 'display_data';\n",
       "          await google.colab.output.renderOutput(dataTable, element);\n",
       "          const docLink = document.createElement('div');\n",
       "          docLink.innerHTML = docLinkHtml;\n",
       "          element.appendChild(docLink);\n",
       "        }\n",
       "      </script>\n",
       "    </div>\n",
       "  </div>\n",
       "  "
      ],
      "text/plain": [
       "     image_id   label\n",
       "0  200001.jpg   hispa\n",
       "1  200002.jpg  normal\n",
       "2  200003.jpg   blast\n",
       "3  200004.jpg   blast\n",
       "4  200005.jpg   blast"
      ]
     },
     "execution_count": 13,
     "metadata": {},
     "output_type": "execute_result"
    }
   ],
   "source": [
    "filenames = test_generator.filenames\n",
    "\n",
    "results = pd.DataFrame({\"image_id\": filenames, \"label\": predictions})\n",
    "results.image_id = results.image_id.str.replace(\"./\", \"\")\n",
    "results.to_csv(\"/content/drive/MyDrive/Colab Notebooks/submission2.csv\", index=False)\n",
    "results.head()"
   ]
  },
  {
   "cell_type": "code",
   "execution_count": null,
   "metadata": {
    "id": "An1Ld12q8y3t"
   },
   "outputs": [],
   "source": []
  },
  {
   "cell_type": "code",
   "execution_count": null,
   "metadata": {
    "id": "cBRcKGcn8yw0"
   },
   "outputs": [],
   "source": []
  },
  {
   "cell_type": "markdown",
   "metadata": {
    "id": "vvEK4liSj7oJ"
   },
   "source": [
    "###with lr scheduler"
   ]
  },
  {
   "cell_type": "code",
   "execution_count": null,
   "metadata": {
    "colab": {
     "base_uri": "https://localhost:8080/"
    },
    "executionInfo": {
     "elapsed": 5847111,
     "status": "ok",
     "timestamp": 1656418780259,
     "user": {
      "displayName": "Catherine Seytre",
      "userId": "18110368277065052224"
     },
     "user_tz": -120
    },
    "id": "4STDQXRybIYe",
    "outputId": "1259f342-8917-4021-c2c3-b52eb31534d0"
   },
   "outputs": [
    {
     "name": "stdout",
     "output_type": "stream",
     "text": [
      "Epoch 1/200\n",
      "161/161 [==============================] - 99s 501ms/step - loss: 1.2660 - accuracy: 0.5794\n",
      "Epoch 2/200\n",
      "161/161 [==============================] - 81s 500ms/step - loss: 0.8178 - accuracy: 0.7252\n",
      "Epoch 3/200\n",
      "161/161 [==============================] - 80s 493ms/step - loss: 0.7119 - accuracy: 0.7652\n",
      "Epoch 4/200\n",
      "161/161 [==============================] - 80s 499ms/step - loss: 0.6287 - accuracy: 0.7872\n",
      "Epoch 5/200\n",
      "161/161 [==============================] - 80s 493ms/step - loss: 0.5926 - accuracy: 0.8014\n",
      "Epoch 6/200\n",
      "161/161 [==============================] - 81s 500ms/step - loss: 0.5698 - accuracy: 0.8162\n",
      "Epoch 7/200\n",
      "161/161 [==============================] - 80s 496ms/step - loss: 0.5418 - accuracy: 0.8258\n",
      "Epoch 8/200\n",
      "161/161 [==============================] - 79s 493ms/step - loss: 0.4896 - accuracy: 0.8406\n",
      "Epoch 9/200\n",
      "161/161 [==============================] - 81s 500ms/step - loss: 0.4540 - accuracy: 0.8480\n",
      "Epoch 10/200\n",
      "161/161 [==============================] - 80s 495ms/step - loss: 0.4326 - accuracy: 0.8591\n",
      "Epoch 11/200\n",
      "161/161 [==============================] - 80s 498ms/step - loss: 0.4153 - accuracy: 0.8638\n",
      "Epoch 12/200\n",
      "161/161 [==============================] - 80s 496ms/step - loss: 0.3845 - accuracy: 0.8782\n",
      "Epoch 13/200\n",
      "161/161 [==============================] - 79s 492ms/step - loss: 0.3587 - accuracy: 0.8778\n",
      "Epoch 14/200\n",
      "161/161 [==============================] - 80s 499ms/step - loss: 0.3340 - accuracy: 0.8944\n",
      "Epoch 15/200\n",
      "161/161 [==============================] - 79s 492ms/step - loss: 0.3145 - accuracy: 0.8983\n",
      "Epoch 16/200\n",
      "161/161 [==============================] - 81s 499ms/step - loss: 0.3006 - accuracy: 0.8992\n",
      "Epoch 17/200\n",
      "161/161 [==============================] - 80s 496ms/step - loss: 0.2949 - accuracy: 0.9037\n",
      "Epoch 18/200\n",
      "161/161 [==============================] - 79s 493ms/step - loss: 0.2907 - accuracy: 0.9045\n",
      "Epoch 19/200\n",
      "161/161 [==============================] - 81s 499ms/step - loss: 0.2505 - accuracy: 0.9189\n",
      "Epoch 20/200\n",
      "161/161 [==============================] - 79s 490ms/step - loss: 0.2506 - accuracy: 0.9117\n",
      "Epoch 21/200\n",
      "161/161 [==============================] - 81s 501ms/step - loss: 0.2406 - accuracy: 0.9222\n",
      "Epoch 22/200\n",
      "161/161 [==============================] - 80s 497ms/step - loss: 0.2283 - accuracy: 0.9238\n",
      "Epoch 23/200\n",
      "161/161 [==============================] - 80s 498ms/step - loss: 0.2091 - accuracy: 0.9265\n",
      "Epoch 24/200\n",
      "161/161 [==============================] - 80s 497ms/step - loss: 0.2096 - accuracy: 0.9291\n",
      "Epoch 25/200\n",
      "161/161 [==============================] - 80s 496ms/step - loss: 0.1984 - accuracy: 0.9355\n",
      "Epoch 26/200\n",
      "161/161 [==============================] - 80s 499ms/step - loss: 0.1814 - accuracy: 0.9400\n",
      "Epoch 27/200\n",
      "161/161 [==============================] - 79s 490ms/step - loss: 0.1887 - accuracy: 0.9394\n",
      "Epoch 28/200\n",
      "161/161 [==============================] - 80s 495ms/step - loss: 0.1751 - accuracy: 0.9372\n",
      "Epoch 29/200\n",
      "161/161 [==============================] - 80s 495ms/step - loss: 0.1703 - accuracy: 0.9466\n",
      "Epoch 30/200\n",
      "161/161 [==============================] - 79s 490ms/step - loss: 0.1571 - accuracy: 0.9519\n",
      "Epoch 31/200\n",
      "161/161 [==============================] - 80s 494ms/step - loss: 0.1599 - accuracy: 0.9458\n",
      "Epoch 32/200\n",
      "161/161 [==============================] - 79s 489ms/step - loss: 0.1648 - accuracy: 0.9409\n",
      "Epoch 33/200\n",
      "161/161 [==============================] - 80s 498ms/step - loss: 0.1491 - accuracy: 0.9528\n",
      "Epoch 34/200\n",
      "161/161 [==============================] - 79s 490ms/step - loss: 0.1495 - accuracy: 0.9491\n",
      "Epoch 35/200\n",
      "161/161 [==============================] - 80s 494ms/step - loss: 0.1462 - accuracy: 0.9517\n",
      "Epoch 36/200\n",
      "161/161 [==============================] - 80s 495ms/step - loss: 0.1325 - accuracy: 0.9556\n",
      "Epoch 37/200\n",
      "161/161 [==============================] - 79s 492ms/step - loss: 0.1328 - accuracy: 0.9554\n",
      "Epoch 38/200\n",
      "161/161 [==============================] - 80s 498ms/step - loss: 0.1243 - accuracy: 0.9583\n",
      "Epoch 39/200\n",
      "161/161 [==============================] - 80s 494ms/step - loss: 0.1180 - accuracy: 0.9600\n",
      "Epoch 40/200\n",
      "161/161 [==============================] - 81s 500ms/step - loss: 0.1096 - accuracy: 0.9639\n",
      "Epoch 41/200\n",
      "161/161 [==============================] - 80s 495ms/step - loss: 0.1118 - accuracy: 0.9630\n",
      "Epoch 42/200\n",
      "161/161 [==============================] - 79s 491ms/step - loss: 0.0982 - accuracy: 0.9669\n",
      "Epoch 43/200\n",
      "161/161 [==============================] - 81s 500ms/step - loss: 0.0900 - accuracy: 0.9706\n",
      "Epoch 44/200\n",
      "161/161 [==============================] - 81s 503ms/step - loss: 0.0988 - accuracy: 0.9663\n",
      "Epoch 45/200\n",
      "161/161 [==============================] - 81s 504ms/step - loss: 0.0803 - accuracy: 0.9733\n",
      "Epoch 46/200\n",
      "161/161 [==============================] - 80s 497ms/step - loss: 0.0954 - accuracy: 0.9676\n",
      "Epoch 47/200\n",
      "161/161 [==============================] - 80s 494ms/step - loss: 0.0826 - accuracy: 0.9737\n",
      "Epoch 48/200\n",
      "161/161 [==============================] - 80s 497ms/step - loss: 0.0771 - accuracy: 0.9741\n",
      "Epoch 49/200\n",
      "161/161 [==============================] - 81s 500ms/step - loss: 0.0709 - accuracy: 0.9762\n",
      "Epoch 50/200\n",
      "161/161 [==============================] - 82s 507ms/step - loss: 0.0608 - accuracy: 0.9811\n",
      "Epoch 51/200\n",
      "161/161 [==============================] - 81s 503ms/step - loss: 0.0596 - accuracy: 0.9809\n",
      "Epoch 52/200\n",
      "161/161 [==============================] - 82s 506ms/step - loss: 0.0668 - accuracy: 0.9768\n",
      "Epoch 53/200\n",
      "161/161 [==============================] - 80s 497ms/step - loss: 0.0597 - accuracy: 0.9791\n",
      "Epoch 54/200\n",
      "161/161 [==============================] - 79s 488ms/step - loss: 0.0610 - accuracy: 0.9817\n",
      "Epoch 55/200\n",
      "161/161 [==============================] - 80s 496ms/step - loss: 0.0578 - accuracy: 0.9791\n",
      "Epoch 56/200\n",
      "161/161 [==============================] - 80s 494ms/step - loss: 0.0495 - accuracy: 0.9846\n",
      "Epoch 57/200\n",
      "161/161 [==============================] - 80s 495ms/step - loss: 0.0428 - accuracy: 0.9854\n",
      "Epoch 58/200\n",
      "161/161 [==============================] - 80s 496ms/step - loss: 0.0433 - accuracy: 0.9832\n",
      "Epoch 59/200\n",
      "161/161 [==============================] - 80s 499ms/step - loss: 0.0360 - accuracy: 0.9881\n",
      "Epoch 60/200\n",
      "161/161 [==============================] - 80s 497ms/step - loss: 0.0408 - accuracy: 0.9848\n",
      "Epoch 61/200\n",
      "161/161 [==============================] - 77s 480ms/step - loss: 0.0387 - accuracy: 0.9871\n",
      "Epoch 62/200\n",
      "161/161 [==============================] - 78s 482ms/step - loss: 0.0344 - accuracy: 0.9885\n",
      "Epoch 63/200\n",
      "161/161 [==============================] - 77s 480ms/step - loss: 0.0334 - accuracy: 0.9887\n",
      "Epoch 64/200\n",
      "161/161 [==============================] - 78s 482ms/step - loss: 0.0369 - accuracy: 0.9875\n",
      "Epoch 65/200\n",
      "161/161 [==============================] - 77s 478ms/step - loss: 0.0300 - accuracy: 0.9906\n",
      "Epoch 66/200\n",
      "161/161 [==============================] - 78s 481ms/step - loss: 0.0353 - accuracy: 0.9893\n",
      "Epoch 67/200\n",
      "161/161 [==============================] - 77s 480ms/step - loss: 0.0376 - accuracy: 0.9869\n",
      "Epoch 68/200\n",
      "161/161 [==============================] - 78s 481ms/step - loss: 0.0293 - accuracy: 0.9905\n",
      "Epoch 69/200\n",
      "161/161 [==============================] - 78s 482ms/step - loss: 0.0357 - accuracy: 0.9873\n",
      "Epoch 70/200\n",
      "161/161 [==============================] - 80s 495ms/step - loss: 0.0366 - accuracy: 0.9887\n",
      "Epoch 71/200\n",
      "161/161 [==============================] - 82s 506ms/step - loss: 0.0298 - accuracy: 0.9905\n",
      "Epoch 72/200\n",
      "161/161 [==============================] - 82s 510ms/step - loss: 0.0342 - accuracy: 0.9889\n",
      "Epoch 73/200\n",
      "161/161 [==============================] - 80s 499ms/step - loss: 0.0327 - accuracy: 0.9887\n"
     ]
    }
   ],
   "source": [
    "# Fine-tune the model\n",
    "history4 = model.fit(\n",
    "    train_generator,\n",
    "    epochs=epochs_ft,\n",
    "    validation_data=valid_generator,\n",
    "    verbose=1,\n",
    "    callbacks=[early_stp, schedul],\n",
    ")"
   ]
  },
  {
   "cell_type": "code",
   "execution_count": null,
   "metadata": {
    "colab": {
     "base_uri": "https://localhost:8080/"
    },
    "executionInfo": {
     "elapsed": 62005,
     "status": "ok",
     "timestamp": 1656419126339,
     "user": {
      "displayName": "Catherine Seytre",
      "userId": "18110368277065052224"
     },
     "user_tz": -120
    },
    "id": "IRHj52DL0KEq",
    "outputId": "f1ff5ff5-7694-49e3-fad3-f331ad07d2fa"
   },
   "outputs": [
    {
     "name": "stdout",
     "output_type": "stream",
     "text": [
      "INFO:tensorflow:Assets written to: /content/drive/MyDrive/Colab Notebooks/paddy/paddy_resnet_fine_tuned_26/assets\n",
      "the model is saved\n"
     ]
    }
   ],
   "source": [
    "model.save(\"/content/drive/MyDrive/Colab Notebooks/paddy/paddy_resnet_fine_tuned_26\")\n",
    "print(\"the model is saved\")"
   ]
  },
  {
   "cell_type": "code",
   "execution_count": null,
   "metadata": {
    "id": "-sdrrIfUYc_N"
   },
   "outputs": [],
   "source": [
    "# predict sur test set avec resnet_26 layers\n",
    "disease_pred = model.predict(test_generator, batch_size=32,)"
   ]
  },
  {
   "cell_type": "code",
   "execution_count": null,
   "metadata": {
    "colab": {
     "base_uri": "https://localhost:8080/"
    },
    "executionInfo": {
     "elapsed": 429,
     "status": "ok",
     "timestamp": 1656444683154,
     "user": {
      "displayName": "Catherine Seytre",
      "userId": "18110368277065052224"
     },
     "user_tz": -120
    },
    "id": "QmNJfPcoiSv9",
    "outputId": "77365a65-827b-4bc4-aaf6-1b39bf8a1089"
   },
   "outputs": [
    {
     "name": "stdout",
     "output_type": "stream",
     "text": [
      "{0, 1, 2, 3, 4, 5, 6, 7, 8, 9}\n"
     ]
    }
   ],
   "source": [
    "# formatting Kaggle submission\n",
    "predicted_class_indices = np.argmax(disease_pred, axis=1)\n",
    "print(set(predicted_class_indices))\n",
    "\n",
    "inv_map = {v: k for k, v in train_generator.class_indices.items()}\n",
    "\n",
    "predictions = [inv_map[k] for k in predicted_class_indices]"
   ]
  },
  {
   "cell_type": "code",
   "execution_count": null,
   "metadata": {
    "colab": {
     "base_uri": "https://localhost:8080/",
     "height": 261
    },
    "executionInfo": {
     "elapsed": 7,
     "status": "ok",
     "timestamp": 1656444684294,
     "user": {
      "displayName": "Catherine Seytre",
      "userId": "18110368277065052224"
     },
     "user_tz": -120
    },
    "id": "aGFPeu51icJp",
    "outputId": "9225c358-a673-4311-8e43-726fb438841c"
   },
   "outputs": [
    {
     "name": "stderr",
     "output_type": "stream",
     "text": [
      "/usr/local/lib/python3.7/dist-packages/ipykernel_launcher.py:5: FutureWarning: The default value of regex will change from True to False in a future version.\n",
      "  \"\"\"\n"
     ]
    },
    {
     "data": {
      "text/html": [
       "\n",
       "  <div id=\"df-4de8f06a-85bc-47cf-a299-045604682789\">\n",
       "    <div class=\"colab-df-container\">\n",
       "      <div>\n",
       "<style scoped>\n",
       "    .dataframe tbody tr th:only-of-type {\n",
       "        vertical-align: middle;\n",
       "    }\n",
       "\n",
       "    .dataframe tbody tr th {\n",
       "        vertical-align: top;\n",
       "    }\n",
       "\n",
       "    .dataframe thead th {\n",
       "        text-align: right;\n",
       "    }\n",
       "</style>\n",
       "<table border=\"1\" class=\"dataframe\">\n",
       "  <thead>\n",
       "    <tr style=\"text-align: right;\">\n",
       "      <th></th>\n",
       "      <th>image_id</th>\n",
       "      <th>label</th>\n",
       "    </tr>\n",
       "  </thead>\n",
       "  <tbody>\n",
       "    <tr>\n",
       "      <th>0</th>\n",
       "      <td>200001.jpg</td>\n",
       "      <td>hispa</td>\n",
       "    </tr>\n",
       "    <tr>\n",
       "      <th>1</th>\n",
       "      <td>200002.jpg</td>\n",
       "      <td>normal</td>\n",
       "    </tr>\n",
       "    <tr>\n",
       "      <th>2</th>\n",
       "      <td>200003.jpg</td>\n",
       "      <td>blast</td>\n",
       "    </tr>\n",
       "    <tr>\n",
       "      <th>3</th>\n",
       "      <td>200004.jpg</td>\n",
       "      <td>blast</td>\n",
       "    </tr>\n",
       "    <tr>\n",
       "      <th>4</th>\n",
       "      <td>200005.jpg</td>\n",
       "      <td>blast</td>\n",
       "    </tr>\n",
       "  </tbody>\n",
       "</table>\n",
       "</div>\n",
       "      <button class=\"colab-df-convert\" onclick=\"convertToInteractive('df-4de8f06a-85bc-47cf-a299-045604682789')\"\n",
       "              title=\"Convert this dataframe to an interactive table.\"\n",
       "              style=\"display:none;\">\n",
       "        \n",
       "  <svg xmlns=\"http://www.w3.org/2000/svg\" height=\"24px\"viewBox=\"0 0 24 24\"\n",
       "       width=\"24px\">\n",
       "    <path d=\"M0 0h24v24H0V0z\" fill=\"none\"/>\n",
       "    <path d=\"M18.56 5.44l.94 2.06.94-2.06 2.06-.94-2.06-.94-.94-2.06-.94 2.06-2.06.94zm-11 1L8.5 8.5l.94-2.06 2.06-.94-2.06-.94L8.5 2.5l-.94 2.06-2.06.94zm10 10l.94 2.06.94-2.06 2.06-.94-2.06-.94-.94-2.06-.94 2.06-2.06.94z\"/><path d=\"M17.41 7.96l-1.37-1.37c-.4-.4-.92-.59-1.43-.59-.52 0-1.04.2-1.43.59L10.3 9.45l-7.72 7.72c-.78.78-.78 2.05 0 2.83L4 21.41c.39.39.9.59 1.41.59.51 0 1.02-.2 1.41-.59l7.78-7.78 2.81-2.81c.8-.78.8-2.07 0-2.86zM5.41 20L4 18.59l7.72-7.72 1.47 1.35L5.41 20z\"/>\n",
       "  </svg>\n",
       "      </button>\n",
       "      \n",
       "  <style>\n",
       "    .colab-df-container {\n",
       "      display:flex;\n",
       "      flex-wrap:wrap;\n",
       "      gap: 12px;\n",
       "    }\n",
       "\n",
       "    .colab-df-convert {\n",
       "      background-color: #E8F0FE;\n",
       "      border: none;\n",
       "      border-radius: 50%;\n",
       "      cursor: pointer;\n",
       "      display: none;\n",
       "      fill: #1967D2;\n",
       "      height: 32px;\n",
       "      padding: 0 0 0 0;\n",
       "      width: 32px;\n",
       "    }\n",
       "\n",
       "    .colab-df-convert:hover {\n",
       "      background-color: #E2EBFA;\n",
       "      box-shadow: 0px 1px 2px rgba(60, 64, 67, 0.3), 0px 1px 3px 1px rgba(60, 64, 67, 0.15);\n",
       "      fill: #174EA6;\n",
       "    }\n",
       "\n",
       "    [theme=dark] .colab-df-convert {\n",
       "      background-color: #3B4455;\n",
       "      fill: #D2E3FC;\n",
       "    }\n",
       "\n",
       "    [theme=dark] .colab-df-convert:hover {\n",
       "      background-color: #434B5C;\n",
       "      box-shadow: 0px 1px 3px 1px rgba(0, 0, 0, 0.15);\n",
       "      filter: drop-shadow(0px 1px 2px rgba(0, 0, 0, 0.3));\n",
       "      fill: #FFFFFF;\n",
       "    }\n",
       "  </style>\n",
       "\n",
       "      <script>\n",
       "        const buttonEl =\n",
       "          document.querySelector('#df-4de8f06a-85bc-47cf-a299-045604682789 button.colab-df-convert');\n",
       "        buttonEl.style.display =\n",
       "          google.colab.kernel.accessAllowed ? 'block' : 'none';\n",
       "\n",
       "        async function convertToInteractive(key) {\n",
       "          const element = document.querySelector('#df-4de8f06a-85bc-47cf-a299-045604682789');\n",
       "          const dataTable =\n",
       "            await google.colab.kernel.invokeFunction('convertToInteractive',\n",
       "                                                     [key], {});\n",
       "          if (!dataTable) return;\n",
       "\n",
       "          const docLinkHtml = 'Like what you see? Visit the ' +\n",
       "            '<a target=\"_blank\" href=https://colab.research.google.com/notebooks/data_table.ipynb>data table notebook</a>'\n",
       "            + ' to learn more about interactive tables.';\n",
       "          element.innerHTML = '';\n",
       "          dataTable['output_type'] = 'display_data';\n",
       "          await google.colab.output.renderOutput(dataTable, element);\n",
       "          const docLink = document.createElement('div');\n",
       "          docLink.innerHTML = docLinkHtml;\n",
       "          element.appendChild(docLink);\n",
       "        }\n",
       "      </script>\n",
       "    </div>\n",
       "  </div>\n",
       "  "
      ],
      "text/plain": [
       "     image_id   label\n",
       "0  200001.jpg   hispa\n",
       "1  200002.jpg  normal\n",
       "2  200003.jpg   blast\n",
       "3  200004.jpg   blast\n",
       "4  200005.jpg   blast"
      ]
     },
     "execution_count": 126,
     "metadata": {},
     "output_type": "execute_result"
    }
   ],
   "source": [
    "filenames = test_generator.filenames\n",
    "\n",
    "results = pd.DataFrame({\"image_id\": filenames, \"label\": predictions})\n",
    "results.image_id = results.image_id.str.replace(\"./\", \"\")\n",
    "results.to_csv(\"submission.csv\", index=False)\n",
    "results.head()"
   ]
  }
 ],
 "metadata": {
  "accelerator": "GPU",
  "colab": {
   "authorship_tag": "ABX9TyOHXhiPRP9ZS+IW6e0X+4+X",
   "background_execution": "on",
   "collapsed_sections": [],
   "machine_shape": "hm",
   "mount_file_id": "1sBpKlyeTVGRWBmiuDRhDMY68dEscLqtJ",
   "name": "P8_v2.ipynb",
   "provenance": [
    {
     "file_id": "1_ypliGvKqsJMp6l3IqPBEGW5jgt_VYEi",
     "timestamp": 1656503232628
    },
    {
     "file_id": "1YgqsOtgW6iJMD8l1X7k97XGXDKr31AGO",
     "timestamp": 1655809476734
    }
   ],
   "toc_visible": true
  },
  "gpuClass": "standard",
  "kernelspec": {
   "display_name": "Python 3 (ipykernel)",
   "language": "python",
   "name": "python3"
  },
  "language_info": {
   "codemirror_mode": {
    "name": "ipython",
    "version": 3
   },
   "file_extension": ".py",
   "mimetype": "text/x-python",
   "name": "python",
   "nbconvert_exporter": "python",
   "pygments_lexer": "ipython3",
   "version": "3.9.12"
  }
 },
 "nbformat": 4,
 "nbformat_minor": 4
}
