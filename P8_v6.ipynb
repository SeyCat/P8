{
  "cells": [
    {
      "cell_type": "markdown",
      "source": [
        "**Paddy Doctor**"
      ],
      "metadata": {
        "id": "4A6mRA250mh2"
      }
    },
    {
      "cell_type": "markdown",
      "source": [
        "#Import data and libraries"
      ],
      "metadata": {
        "id": "2t7iQexe0qnD"
      }
    },
    {
      "cell_type": "markdown",
      "source": [
        ""
      ],
      "metadata": {
        "id": "v3jBpVkZ0Umq"
      }
    },
    {
      "cell_type": "code",
      "execution_count": null,
      "metadata": {
        "colab": {
          "base_uri": "https://localhost:8080/"
        },
        "id": "uQ0TMZTjGHzM",
        "outputId": "bf5cf3b3-442e-499d-90c9-2272dd1e777f"
      },
      "outputs": [
        {
          "output_type": "stream",
          "name": "stdout",
          "text": [
            "Drive already mounted at /content/drive; to attempt to forcibly remount, call drive.mount(\"/content/drive\", force_remount=True).\n"
          ]
        }
      ],
      "source": [
        "from google.colab import drive\n",
        "\n",
        "drive.mount(\"/content/drive\")"
      ]
    },
    {
      "cell_type": "markdown",
      "source": [
        ""
      ],
      "metadata": {
        "id": "TIfaqO8Eo5ly"
      }
    },
    {
      "cell_type": "code",
      "execution_count": null,
      "metadata": {
        "colab": {
          "base_uri": "https://localhost:8080/"
        },
        "id": "d63z9-G6aEWn",
        "outputId": "b0423bb6-adef-43ed-dfb7-5210d8eddb66"
      },
      "outputs": [
        {
          "output_type": "stream",
          "name": "stdout",
          "text": [
            "Looking in indexes: https://pypi.org/simple, https://us-python.pkg.dev/colab-wheels/public/simple/\n",
            "Requirement already satisfied: tensorflow-addons in /usr/local/lib/python3.7/dist-packages (0.17.1)\n",
            "Requirement already satisfied: packaging in /usr/local/lib/python3.7/dist-packages (from tensorflow-addons) (21.3)\n",
            "Requirement already satisfied: typeguard>=2.7 in /usr/local/lib/python3.7/dist-packages (from tensorflow-addons) (2.7.1)\n",
            "Requirement already satisfied: pyparsing!=3.0.5,>=2.0.2 in /usr/local/lib/python3.7/dist-packages (from packaging->tensorflow-addons) (3.0.9)\n"
          ]
        }
      ],
      "source": [
        "# import librairies\n",
        "import os\n",
        "import warnings\n",
        "import numpy as np\n",
        "import pandas as pd\n",
        "import matplotlib.pyplot as plt\n",
        "\n",
        "import tensorflow as tf\n",
        "from tensorflow.keras import Model, optimizers\n",
        "from tensorflow.keras.applications import xception\n",
        "from tensorflow.keras.preprocessing import image\n",
        "from tensorflow.keras.preprocessing.image import ImageDataGenerator\n",
        "from tensorflow.keras.utils import plot_model\n",
        "from tensorflow.keras import backend as K\n",
        "from tensorflow.keras.models import load_model\n",
        "\n",
        "from tensorflow.keras.models import Model\n",
        "from tensorflow.keras.layers import Layer\n",
        "from tensorflow.keras.models import Sequential\n",
        "from tensorflow.keras.layers import BatchNormalization\n",
        "from tensorflow.keras.layers import AveragePooling2D\n",
        "from tensorflow.keras.layers import GlobalAveragePooling2D\n",
        "from tensorflow.keras.layers import MaxPooling2D\n",
        "from tensorflow.keras.layers import Conv2D\n",
        "from tensorflow.keras.layers import Activation\n",
        "from tensorflow.keras.layers import Dropout\n",
        "from tensorflow.keras.layers import Flatten\n",
        "from tensorflow.keras.layers import Input\n",
        "from tensorflow.keras.layers import Dense\n",
        "from tensorflow.keras.callbacks import Callback\n",
        "from tensorflow.keras.utils import to_categorical\n",
        "\n",
        "!pip install tensorflow-addons\n",
        "!pip install -q -U keras-tuner\n",
        "import tensorflow_addons as tfa\n",
        "import keras_tuner as kt\n",
        "\n",
        "from sklearn.preprocessing import LabelEncoder\n",
        "from sklearn.model_selection import train_test_split\n",
        "from sklearn.metrics import classification_report, confusion_matrix"
      ]
    },
    {
      "cell_type": "markdown",
      "source": [
        "##data exploration"
      ],
      "metadata": {
        "id": "3BnaMrJb8Epr"
      }
    },
    {
      "cell_type": "code",
      "source": [
        "df_meta = pd.read_csv(\"/content/drive/MyDrive/Colab Notebooks/paddy/train.csv\")\n",
        "df_meta.head()"
      ],
      "metadata": {
        "colab": {
          "base_uri": "https://localhost:8080/",
          "height": 206
        },
        "id": "Woy7rySEphOi",
        "outputId": "4f614d24-e91f-41d0-92ef-b4df5999bb10"
      },
      "execution_count": null,
      "outputs": [
        {
          "output_type": "execute_result",
          "data": {
            "text/plain": [
              "     image_id                  label variety  age\n",
              "0  100330.jpg  bacterial_leaf_blight   ADT45   45\n",
              "1  100365.jpg  bacterial_leaf_blight   ADT45   45\n",
              "2  100382.jpg  bacterial_leaf_blight   ADT45   45\n",
              "3  100632.jpg  bacterial_leaf_blight   ADT45   45\n",
              "4  101918.jpg  bacterial_leaf_blight   ADT45   45"
            ],
            "text/html": [
              "\n",
              "  <div id=\"df-0e54de3e-5152-44b4-bd0b-f34f6de172b8\">\n",
              "    <div class=\"colab-df-container\">\n",
              "      <div>\n",
              "<style scoped>\n",
              "    .dataframe tbody tr th:only-of-type {\n",
              "        vertical-align: middle;\n",
              "    }\n",
              "\n",
              "    .dataframe tbody tr th {\n",
              "        vertical-align: top;\n",
              "    }\n",
              "\n",
              "    .dataframe thead th {\n",
              "        text-align: right;\n",
              "    }\n",
              "</style>\n",
              "<table border=\"1\" class=\"dataframe\">\n",
              "  <thead>\n",
              "    <tr style=\"text-align: right;\">\n",
              "      <th></th>\n",
              "      <th>image_id</th>\n",
              "      <th>label</th>\n",
              "      <th>variety</th>\n",
              "      <th>age</th>\n",
              "    </tr>\n",
              "  </thead>\n",
              "  <tbody>\n",
              "    <tr>\n",
              "      <th>0</th>\n",
              "      <td>100330.jpg</td>\n",
              "      <td>bacterial_leaf_blight</td>\n",
              "      <td>ADT45</td>\n",
              "      <td>45</td>\n",
              "    </tr>\n",
              "    <tr>\n",
              "      <th>1</th>\n",
              "      <td>100365.jpg</td>\n",
              "      <td>bacterial_leaf_blight</td>\n",
              "      <td>ADT45</td>\n",
              "      <td>45</td>\n",
              "    </tr>\n",
              "    <tr>\n",
              "      <th>2</th>\n",
              "      <td>100382.jpg</td>\n",
              "      <td>bacterial_leaf_blight</td>\n",
              "      <td>ADT45</td>\n",
              "      <td>45</td>\n",
              "    </tr>\n",
              "    <tr>\n",
              "      <th>3</th>\n",
              "      <td>100632.jpg</td>\n",
              "      <td>bacterial_leaf_blight</td>\n",
              "      <td>ADT45</td>\n",
              "      <td>45</td>\n",
              "    </tr>\n",
              "    <tr>\n",
              "      <th>4</th>\n",
              "      <td>101918.jpg</td>\n",
              "      <td>bacterial_leaf_blight</td>\n",
              "      <td>ADT45</td>\n",
              "      <td>45</td>\n",
              "    </tr>\n",
              "  </tbody>\n",
              "</table>\n",
              "</div>\n",
              "      <button class=\"colab-df-convert\" onclick=\"convertToInteractive('df-0e54de3e-5152-44b4-bd0b-f34f6de172b8')\"\n",
              "              title=\"Convert this dataframe to an interactive table.\"\n",
              "              style=\"display:none;\">\n",
              "        \n",
              "  <svg xmlns=\"http://www.w3.org/2000/svg\" height=\"24px\"viewBox=\"0 0 24 24\"\n",
              "       width=\"24px\">\n",
              "    <path d=\"M0 0h24v24H0V0z\" fill=\"none\"/>\n",
              "    <path d=\"M18.56 5.44l.94 2.06.94-2.06 2.06-.94-2.06-.94-.94-2.06-.94 2.06-2.06.94zm-11 1L8.5 8.5l.94-2.06 2.06-.94-2.06-.94L8.5 2.5l-.94 2.06-2.06.94zm10 10l.94 2.06.94-2.06 2.06-.94-2.06-.94-.94-2.06-.94 2.06-2.06.94z\"/><path d=\"M17.41 7.96l-1.37-1.37c-.4-.4-.92-.59-1.43-.59-.52 0-1.04.2-1.43.59L10.3 9.45l-7.72 7.72c-.78.78-.78 2.05 0 2.83L4 21.41c.39.39.9.59 1.41.59.51 0 1.02-.2 1.41-.59l7.78-7.78 2.81-2.81c.8-.78.8-2.07 0-2.86zM5.41 20L4 18.59l7.72-7.72 1.47 1.35L5.41 20z\"/>\n",
              "  </svg>\n",
              "      </button>\n",
              "      \n",
              "  <style>\n",
              "    .colab-df-container {\n",
              "      display:flex;\n",
              "      flex-wrap:wrap;\n",
              "      gap: 12px;\n",
              "    }\n",
              "\n",
              "    .colab-df-convert {\n",
              "      background-color: #E8F0FE;\n",
              "      border: none;\n",
              "      border-radius: 50%;\n",
              "      cursor: pointer;\n",
              "      display: none;\n",
              "      fill: #1967D2;\n",
              "      height: 32px;\n",
              "      padding: 0 0 0 0;\n",
              "      width: 32px;\n",
              "    }\n",
              "\n",
              "    .colab-df-convert:hover {\n",
              "      background-color: #E2EBFA;\n",
              "      box-shadow: 0px 1px 2px rgba(60, 64, 67, 0.3), 0px 1px 3px 1px rgba(60, 64, 67, 0.15);\n",
              "      fill: #174EA6;\n",
              "    }\n",
              "\n",
              "    [theme=dark] .colab-df-convert {\n",
              "      background-color: #3B4455;\n",
              "      fill: #D2E3FC;\n",
              "    }\n",
              "\n",
              "    [theme=dark] .colab-df-convert:hover {\n",
              "      background-color: #434B5C;\n",
              "      box-shadow: 0px 1px 3px 1px rgba(0, 0, 0, 0.15);\n",
              "      filter: drop-shadow(0px 1px 2px rgba(0, 0, 0, 0.3));\n",
              "      fill: #FFFFFF;\n",
              "    }\n",
              "  </style>\n",
              "\n",
              "      <script>\n",
              "        const buttonEl =\n",
              "          document.querySelector('#df-0e54de3e-5152-44b4-bd0b-f34f6de172b8 button.colab-df-convert');\n",
              "        buttonEl.style.display =\n",
              "          google.colab.kernel.accessAllowed ? 'block' : 'none';\n",
              "\n",
              "        async function convertToInteractive(key) {\n",
              "          const element = document.querySelector('#df-0e54de3e-5152-44b4-bd0b-f34f6de172b8');\n",
              "          const dataTable =\n",
              "            await google.colab.kernel.invokeFunction('convertToInteractive',\n",
              "                                                     [key], {});\n",
              "          if (!dataTable) return;\n",
              "\n",
              "          const docLinkHtml = 'Like what you see? Visit the ' +\n",
              "            '<a target=\"_blank\" href=https://colab.research.google.com/notebooks/data_table.ipynb>data table notebook</a>'\n",
              "            + ' to learn more about interactive tables.';\n",
              "          element.innerHTML = '';\n",
              "          dataTable['output_type'] = 'display_data';\n",
              "          await google.colab.output.renderOutput(dataTable, element);\n",
              "          const docLink = document.createElement('div');\n",
              "          docLink.innerHTML = docLinkHtml;\n",
              "          element.appendChild(docLink);\n",
              "        }\n",
              "      </script>\n",
              "    </div>\n",
              "  </div>\n",
              "  "
            ]
          },
          "metadata": {},
          "execution_count": 3
        }
      ]
    },
    {
      "cell_type": "code",
      "execution_count": null,
      "metadata": {
        "id": "Yb0umgHfGWOa"
      },
      "outputs": [],
      "source": [
        "train_path = \"/content/drive/MyDrive/Colab Notebooks/paddy/train_images\"\n",
        "test_path = \"/content/drive/MyDrive/Colab Notebooks/paddy/test_images\""
      ]
    },
    {
      "cell_type": "code",
      "execution_count": null,
      "metadata": {
        "colab": {
          "base_uri": "https://localhost:8080/"
        },
        "id": "7tWve3fTHAJw",
        "outputId": "83c52652-01b9-4039-9310-0fe8a138448a"
      },
      "outputs": [
        {
          "output_type": "stream",
          "name": "stdout",
          "text": [
            "['brown_spot', 'downy_mildew', 'tungro', 'hispa', 'normal', 'bacterial_leaf_streak', 'blast', 'dead_heart', 'bacterial_panicle_blight', 'bacterial_leaf_blight']\n",
            "Total diseases number: 10\n"
          ]
        }
      ],
      "source": [
        "disease_list = os.listdir(train_path)\n",
        "n_classes = len(disease_list)\n",
        "print(disease_list)\n",
        "print(\"Total diseases number:\", n_classes)"
      ]
    },
    {
      "cell_type": "code",
      "source": [
        "# Counts the number of training and testing samples in the directories\n",
        "training_samples = sum([len(files) for r, d, files in os.walk(train_path)])\n",
        "testing_samples = sum([len(files) for r, d, files in os.walk(test_path)])"
      ],
      "metadata": {
        "id": "d56_ypTDtRUr"
      },
      "execution_count": null,
      "outputs": []
    },
    {
      "cell_type": "code",
      "execution_count": null,
      "metadata": {
        "colab": {
          "base_uri": "https://localhost:8080/"
        },
        "id": "2b7VpVMdAnMf",
        "outputId": "302750a6-5d40-4ed8-beb4-1b96b87a14d1"
      },
      "outputs": [
        {
          "output_type": "stream",
          "name": "stdout",
          "text": [
            "min nb of picture/disease 337\n",
            "max nb of picture/disease 770\n",
            "med nb of picture/disease 760.0\n"
          ]
        }
      ],
      "source": [
        "# number of pictures / class (diseases+control)\n",
        "\n",
        "df_disease = pd.DataFrame(\n",
        "    index=[disease for disease in disease_list],\n",
        "    data=[len(os.listdir(train_path + \"/\" + name)) for name in disease_list],\n",
        "    columns=[\"num_pictures\"],\n",
        ")\n",
        "\n",
        "print(\"min nb of picture/disease\", df_disease[\"num_pictures\"].min())\n",
        "print(\"max nb of picture/disease\", df_disease[\"num_pictures\"].max())\n",
        "print(\"med nb of picture/disease\", df_disease[\"num_pictures\"].median())"
      ]
    },
    {
      "cell_type": "code",
      "execution_count": null,
      "metadata": {
        "colab": {
          "base_uri": "https://localhost:8080/",
          "height": 487
        },
        "id": "oPcCyNhiAcc6",
        "outputId": "45e1755c-d378-44e8-f676-78ad80fa4520"
      },
      "outputs": [
        {
          "output_type": "display_data",
          "data": {
            "text/plain": [
              "<Figure size 1800x864 with 1 Axes>"
            ],
            "image/png": "[encoded data removed]"
          },
          "metadata": {
            "needs_background": "light"
          }
        }
      ],
      "source": [
        "# Plot the results\n",
        "fig, ax = plt.subplots(1, 1, figsize=(25, 12))\n",
        "df_disease.plot(kind=\"bar\", legend=True, ax=ax, label=\"Number of pictures\")\n",
        "ax.axhline(\n",
        "    df_disease[\"num_pictures\"].median(),\n",
        "    color=\"r\",\n",
        "    alpha=0.7,\n",
        "    linestyle=\"--\",\n",
        "    label=\"Median number of pictures\",\n",
        ")\n",
        "plt.title(\n",
        "    \"Number of pictures for each \" \"paddy condition\", color=\"#343434\", fontsize=22\n",
        ")\n",
        "plt.legend()\n",
        "plt.show()"
      ]
    },
    {
      "cell_type": "code",
      "source": [
        "df2 = df_meta.groupby(\"variety\")[\"image_id\"].nunique()"
      ],
      "metadata": {
        "id": "iUsY3P-GpYmD"
      },
      "execution_count": null,
      "outputs": []
    },
    {
      "cell_type": "code",
      "source": [
        "# number of images / variety\n",
        "# Plot results\n",
        "import matplotlib.pyplot as plt\n",
        "\n",
        "fig, ax = plt.subplots(1, 1, figsize=(15, 10))\n",
        "df2.plot(kind=\"bar\", legend=True, ax=ax)\n",
        "\n",
        "plt.title(\"Number of pictures per variety \", color=\"#343434\", fontsize=22)\n",
        "plt.legend()\n",
        "plt.show()"
      ],
      "metadata": {
        "colab": {
          "base_uri": "https://localhost:8080/",
          "height": 655
        },
        "id": "W0WlsrN0pYBS",
        "outputId": "41b91b33-6cbf-447c-d4a5-6aa3ea6f2f41"
      },
      "execution_count": null,
      "outputs": [
        {
          "output_type": "display_data",
          "data": {
            "text/plain": [
              "<Figure size 1080x720 with 1 Axes>"
            ],
            "image/png": "[encoded data removed]"
          },
          "metadata": {
            "needs_background": "light"
          }
        }
      ]
    },
    {
      "cell_type": "code",
      "source": [
        "df3 = df_meta.groupby(\"age\")[\"image_id\"].nunique()\n",
        "# Plot results\n",
        "import matplotlib.pyplot as plt\n",
        "\n",
        "fig, ax = plt.subplots(1, 1, figsize=(15, 10))\n",
        "df3.plot(kind=\"line\", legend=True, ax=ax)\n",
        "\n",
        "plt.title(\"Number of pictures per age \", color=\"#343434\", fontsize=22)\n",
        "plt.legend()\n",
        "plt.show()"
      ],
      "metadata": {
        "colab": {
          "base_uri": "https://localhost:8080/",
          "height": 591
        },
        "id": "GPmori8lqKAK",
        "outputId": "a45fbe6a-728f-48ad-8e1d-48161c7dfe79"
      },
      "execution_count": null,
      "outputs": [
        {
          "output_type": "display_data",
          "data": {
            "text/plain": [
              "<Figure size 1080x720 with 1 Axes>"
            ],
            "image/png": "[encoded data removed]"
          },
          "metadata": {
            "needs_background": "light"
          }
        }
      ]
    },
    {
      "cell_type": "code",
      "execution_count": null,
      "metadata": {
        "id": "jhNQJfd3-nHf"
      },
      "outputs": [],
      "source": [
        "# visualisation of the different paddy conditions\n",
        "\n",
        "\n",
        "def show_images_classes(path, classes, num_sample):\n",
        "\n",
        "    fig = plt.figure(figsize=(20, 20))\n",
        "    fig.patch.set_facecolor(\"#343434\")\n",
        "    plt.suptitle(\"{}\".format(classes), y=0.83, color=\"white\", fontsize=22)\n",
        "    images = os.listdir(path + \"/\" + classes)[:num_sample]\n",
        "    for i in range(num_sample):\n",
        "        img = mpimg.imread(path + \"/\" + classes + \"/\" + images[i])\n",
        "        plt.subplot(num_sample // 5 + 1, 5, i + 1)\n",
        "        plt.imshow(img)\n",
        "        plt.axis(\"off\")\n",
        "    plt.show()\n",
        "\n",
        "\n",
        "# read images\n",
        "for i in range(0, len(disease_list)):\n",
        "    show_images_classes(train_dir, disease_list[i], 5)"
      ]
    },
    {
      "cell_type": "markdown",
      "source": [
        "## ResNet152v2"
      ],
      "metadata": {
        "id": "cQFqnYjn6JIT"
      }
    },
    {
      "cell_type": "markdown",
      "source": [
        "### preprocessing"
      ],
      "metadata": {
        "id": "f8RDstJ5rB4e"
      }
    },
    {
      "cell_type": "markdown",
      "source": [
        ""
      ],
      "metadata": {
        "id": "OLeVHqNB_Q10"
      }
    },
    {
      "cell_type": "code",
      "source": [
        "img_width = 200\n",
        "img_height = 200\n",
        "batch_size = 32\n",
        "\n",
        "epochs = 100\n",
        "epochs_ft = 200"
      ],
      "metadata": {
        "id": "NGRDt7sYC_ix"
      },
      "execution_count": null,
      "outputs": []
    },
    {
      "cell_type": "code",
      "source": [
        "train_datagen = ImageDataGenerator(\n",
        "    rotation_range=20,\n",
        "    width_shift_range=0.3,\n",
        "    height_shift_range=0.2,\n",
        "    shear_range=0.3,\n",
        "    zoom_range=0.3,\n",
        "    horizontal_flip=True,\n",
        "    vertical_flip=False,\n",
        "    validation_split=0.2,\n",
        "    preprocessing_function=tf.keras.applications.resnet_v2.preprocess_input,\n",
        ")\n",
        "\n",
        "test_datagen = ImageDataGenerator(\n",
        "    preprocessing_function=tf.keras.applications.resnet_v2.preprocess_input\n",
        ")"
      ],
      "metadata": {
        "id": "AUok5I6NC_f_"
      },
      "execution_count": null,
      "outputs": []
    },
    {
      "cell_type": "code",
      "source": [
        "train_generator = train_datagen.flow_from_directory(\n",
        "    train_path,\n",
        "    subset=\"training\",\n",
        "    target_size=(img_width, img_height),\n",
        "    batch_size=batch_size,\n",
        "    class_mode=\"categorical\",\n",
        ")\n",
        "\n",
        "valid_generator = train_datagen.flow_from_directory(\n",
        "    train_path,\n",
        "    subset=\"validation\",\n",
        "    target_size=(img_width, img_height),\n",
        "    batch_size=batch_size,\n",
        "    class_mode=\"categorical\",\n",
        ")"
      ],
      "metadata": {
        "colab": {
          "base_uri": "https://localhost:8080/"
        },
        "id": "CtEbDkjdC_dc",
        "outputId": "a939c3d3-a6b0-42d3-8b2d-db2413bca905"
      },
      "execution_count": null,
      "outputs": [
        {
          "output_type": "stream",
          "name": "stdout",
          "text": [
            "Found 5131 images belonging to 10 classes.\n",
            "Found 1280 images belonging to 10 classes.\n"
          ]
        }
      ]
    },
    {
      "cell_type": "code",
      "source": [
        "# images for prediction\n",
        "test_generator = test_datagen.flow_from_directory(\n",
        "    directory=test_path,\n",
        "    target_size=(img_width, img_height),\n",
        "    batch_size=batch_size,\n",
        "    classes=[\".\"],\n",
        "    shuffle=False,\n",
        ")"
      ],
      "metadata": {
        "colab": {
          "base_uri": "https://localhost:8080/"
        },
        "id": "ZW7cSagyaC4m",
        "outputId": "323a113a-ddeb-4b5a-c46c-65f636704261"
      },
      "execution_count": null,
      "outputs": [
        {
          "output_type": "stream",
          "name": "stdout",
          "text": [
            "Found 3469 images belonging to 1 classes.\n"
          ]
        }
      ]
    },
    {
      "cell_type": "code",
      "source": [
        "# pour feature extraction\n",
        "features_datagen = ImageDataGenerator(\n",
        "    rotation_range=20,\n",
        "    width_shift_range=0.3,\n",
        "    height_shift_range=0.2,\n",
        "    shear_range=0.3,\n",
        "    zoom_range=0.3,\n",
        "    horizontal_flip=True,\n",
        "    vertical_flip=False,\n",
        "    preprocessing_function=tf.keras.applications.resnet_v2.preprocess_input,\n",
        ")\n",
        "\n",
        "features_generator = features_datagen.flow_from_directory(\n",
        "    train_path,\n",
        "    target_size=(img_width, img_height),\n",
        "    batch_size=None,\n",
        "    class_mode=\"categorical\",\n",
        ")"
      ],
      "metadata": {
        "colab": {
          "base_uri": "https://localhost:8080/"
        },
        "id": "CagCOuCUbNCo",
        "outputId": "00078be0-002f-48c8-e10c-ad360b6b260d"
      },
      "execution_count": null,
      "outputs": [
        {
          "output_type": "stream",
          "name": "stdout",
          "text": [
            "Found 6411 images belonging to 10 classes.\n"
          ]
        }
      ]
    },
    {
      "cell_type": "code",
      "execution_count": null,
      "metadata": {
        "id": "Sla0CfNASYVl"
      },
      "outputs": [],
      "source": [
        "# f1_score from tensorflow_addons\n",
        "f1_tfa = tfa.metrics.F1Score(num_classes=n_classes, average=\"macro\")"
      ]
    },
    {
      "cell_type": "code",
      "execution_count": null,
      "metadata": {
        "id": "ZeOEXuDlSYSx"
      },
      "outputs": [],
      "source": [
        "def plot_history(dict_history, first_score, second_score):\n",
        "\n",
        "    \"\"\"\n",
        "creates two subplots for plotting 2 different metrics\n",
        "called first_score and second_score against epoch number,\n",
        "values obtained from the train and the validation datasets\n",
        "are visualized\n",
        "  \"\"\"\n",
        "\n",
        "    with plt.style.context(\"seaborn-whitegrid\"):\n",
        "        fig = plt.figure(figsize=(25, 10))\n",
        "\n",
        "        # first suplot\n",
        "        plt.subplot(1, 2, 1)\n",
        "        plt.plot(dict_history.history[first_score], color=\"g\")\n",
        "        plt.plot(\n",
        "            dict_history.history[\"val_\" + first_score], linestyle=\"--\", color=\"orange\"\n",
        "        )\n",
        "        plt.title(\n",
        "            \"Pre-trained ResNet152v2 on Paddy dataset: \" + first_score, fontsize=18\n",
        "        )\n",
        "        plt.ylabel(first_score)\n",
        "        plt.xlabel(\"epoch\")\n",
        "        plt.legend([\"train\", \"validation\"], loc=\"upper left\")\n",
        "\n",
        "        # second subplot\n",
        "        plt.subplot(1, 2, 2)\n",
        "        plt.plot(dict_history.history[second_score], color=\"g\")\n",
        "        plt.plot(\n",
        "            dict_history.history[\"val_\" + second_score], linestyle=\"--\", color=\"orange\"\n",
        "        )\n",
        "        plt.title(\n",
        "            \"Pre-trained ResNet152v2 on Paddy dataset: \" + second_score, fontsize=18\n",
        "        )\n",
        "        plt.ylabel(second_score)\n",
        "        plt.xlabel(\"epoch\")\n",
        "        plt.legend([\"train\", \"validation\"], loc=\"upper left\")\n",
        "        plt.show()"
      ]
    },
    {
      "cell_type": "markdown",
      "source": [
        "##Model building"
      ],
      "metadata": {
        "id": "inUEdhscOLeJ"
      }
    },
    {
      "cell_type": "code",
      "source": [
        "# Adds new top to base model\n",
        "def add_top(base):\n",
        "    x = base.output\n",
        "    x = GlobalAveragePooling2D()(x)\n",
        "    x = Dense(512, activation=\"relu\")(x)\n",
        "\n",
        "    predictions = Dense(n_classes, activation=\"softmax\")(x)  # Output layer\n",
        "\n",
        "    return Model(inputs=base.input, outputs=predictions)"
      ],
      "metadata": {
        "id": "MeISXdheiXAP"
      },
      "execution_count": null,
      "outputs": []
    },
    {
      "cell_type": "code",
      "source": [
        "# optimizer AdaBelief\n",
        "opt = tfa.optimizers.AdaBelief(\n",
        "    learning_rate=1e-3,\n",
        "    total_steps=10000,\n",
        "    warmup_proportion=0.1,\n",
        "    min_lr=1e-5,\n",
        "    rectify=True,\n",
        ")"
      ],
      "metadata": {
        "id": "2BYWKBQfiXAQ"
      },
      "execution_count": null,
      "outputs": []
    },
    {
      "cell_type": "code",
      "source": [
        "# Sets up model for transfer learning\n",
        "def setup_model(model, base):\n",
        "\n",
        "    for layer in base.layers:\n",
        "        layer.trainable = False  # freeze base layers\n",
        "\n",
        "    model.compile(loss=\"categorical_crossentropy\", optimizer=opt, metrics=[\"accuracy\"])"
      ],
      "metadata": {
        "id": "7SjEQCT5iXAR"
      },
      "execution_count": null,
      "outputs": []
    },
    {
      "cell_type": "code",
      "source": [
        "# Import the ResNet152v2 model to use as the base for our model\n",
        "resnet_base = tf.keras.applications.ResNet152V2(\n",
        "    input_shape=(img_width, img_height, 3), include_top=False, weights=\"imagenet\"\n",
        ")\n",
        "\n",
        "model = add_top(resnet_base)\n",
        "setup_model(model, resnet_base)"
      ],
      "metadata": {
        "id": "yjYab78qiXAS",
        "colab": {
          "base_uri": "https://localhost:8080/"
        },
        "outputId": "15703fc4-c451-40c4-cb43-8ed94bc559ef"
      },
      "execution_count": null,
      "outputs": [
        {
          "output_type": "stream",
          "name": "stdout",
          "text": [
            "Downloading data from https://storage.googleapis.com/tensorflow/keras-applications/resnet/resnet152v2_weights_tf_dim_ordering_tf_kernels_notop.h5\n",
            "234553344/234545216 [==============================] - 4s 0us/step\n",
            "234561536/234545216 [==============================] - 4s 0us/step\n"
          ]
        }
      ]
    },
    {
      "cell_type": "markdown",
      "source": [
        "#### Train new top layers"
      ],
      "metadata": {
        "id": "W4BIwr4YuVmA"
      }
    },
    {
      "cell_type": "code",
      "source": [
        "# callbacks : early stopping\n",
        "early_stp = tf.keras.callbacks.EarlyStopping(monitor=\"val_loss\", patience=5)"
      ],
      "metadata": {
        "id": "a8hY2V8avayP"
      },
      "execution_count": null,
      "outputs": []
    },
    {
      "cell_type": "code",
      "source": [
        "K.clear_session()"
      ],
      "metadata": {
        "id": "LOL3lWhfHjLB"
      },
      "execution_count": null,
      "outputs": []
    },
    {
      "cell_type": "code",
      "source": [
        "# Train new top layers, image size = 200*200\n",
        "model.fit(\n",
        "    train_generator, epochs=epochs, validation_data=valid_generator, verbose=1,\n",
        ")"
      ],
      "metadata": {
        "colab": {
          "base_uri": "https://localhost:8080/"
        },
        "id": "ssjVGN7aiXAS",
        "outputId": "2866a4a3-178b-430a-82e6-371f648fbe5f"
      },
      "execution_count": null,
      "outputs": [
        {
          "output_type": "stream",
          "name": "stderr",
          "text": [
            "/usr/local/lib/python3.7/dist-packages/ipykernel_launcher.py:8: UserWarning: `Model.fit_generator` is deprecated and will be removed in a future version. Please use `Model.fit`, which supports generators.\n",
            "  \n"
          ]
        },
        {
          "output_type": "stream",
          "name": "stdout",
          "text": [
            "Epoch 1/100\n",
            "161/161 [==============================] - 98s 558ms/step - loss: 2.3944 - accuracy: 0.1495 - val_loss: 2.1151 - val_accuracy: 0.2266\n",
            "Epoch 2/100\n",
            "161/161 [==============================] - 85s 531ms/step - loss: 1.9701 - accuracy: 0.2982 - val_loss: 1.8068 - val_accuracy: 0.3633\n",
            "Epoch 3/100\n",
            "161/161 [==============================] - 86s 531ms/step - loss: 1.7330 - accuracy: 0.3970 - val_loss: 1.7270 - val_accuracy: 0.4172\n",
            "Epoch 4/100\n",
            "161/161 [==============================] - 86s 532ms/step - loss: 1.6219 - accuracy: 0.4407 - val_loss: 1.5964 - val_accuracy: 0.4445\n",
            "Epoch 5/100\n",
            "161/161 [==============================] - 85s 530ms/step - loss: 1.5698 - accuracy: 0.4537 - val_loss: 1.5500 - val_accuracy: 0.4859\n",
            "Epoch 6/100\n",
            "161/161 [==============================] - 85s 529ms/step - loss: 1.5192 - accuracy: 0.4769 - val_loss: 1.4875 - val_accuracy: 0.4906\n",
            "Epoch 7/100\n",
            "161/161 [==============================] - 85s 530ms/step - loss: 1.4398 - accuracy: 0.5020 - val_loss: 1.4251 - val_accuracy: 0.5016\n",
            "Epoch 8/100\n",
            "161/161 [==============================] - 86s 532ms/step - loss: 1.3829 - accuracy: 0.5248 - val_loss: 1.4194 - val_accuracy: 0.5070\n",
            "Epoch 9/100\n",
            "161/161 [==============================] - 85s 531ms/step - loss: 1.3106 - accuracy: 0.5478 - val_loss: 1.3856 - val_accuracy: 0.5164\n",
            "Epoch 10/100\n",
            "161/161 [==============================] - 86s 532ms/step - loss: 1.2500 - accuracy: 0.5689 - val_loss: 1.4115 - val_accuracy: 0.5367\n",
            "Epoch 11/100\n",
            "161/161 [==============================] - 86s 532ms/step - loss: 1.2034 - accuracy: 0.5888 - val_loss: 1.3016 - val_accuracy: 0.5656\n",
            "Epoch 12/100\n",
            "161/161 [==============================] - 86s 534ms/step - loss: 1.1856 - accuracy: 0.5931 - val_loss: 1.2731 - val_accuracy: 0.5688\n",
            "Epoch 13/100\n",
            "161/161 [==============================] - 86s 536ms/step - loss: 1.1608 - accuracy: 0.6032 - val_loss: 1.2660 - val_accuracy: 0.5688\n",
            "Epoch 14/100\n",
            "161/161 [==============================] - 86s 532ms/step - loss: 1.1184 - accuracy: 0.6180 - val_loss: 1.2435 - val_accuracy: 0.5875\n",
            "Epoch 15/100\n",
            "161/161 [==============================] - 85s 528ms/step - loss: 1.0817 - accuracy: 0.6340 - val_loss: 1.2170 - val_accuracy: 0.5922\n",
            "Epoch 16/100\n",
            "161/161 [==============================] - 86s 532ms/step - loss: 1.0850 - accuracy: 0.6256 - val_loss: 1.2291 - val_accuracy: 0.5844\n",
            "Epoch 17/100\n",
            "161/161 [==============================] - 85s 529ms/step - loss: 1.0265 - accuracy: 0.6451 - val_loss: 1.1582 - val_accuracy: 0.6273\n",
            "Epoch 18/100\n",
            "161/161 [==============================] - 86s 535ms/step - loss: 1.0118 - accuracy: 0.6517 - val_loss: 1.1129 - val_accuracy: 0.6187\n",
            "Epoch 19/100\n",
            "161/161 [==============================] - 86s 531ms/step - loss: 0.9865 - accuracy: 0.6519 - val_loss: 1.1087 - val_accuracy: 0.6297\n",
            "Epoch 20/100\n",
            "161/161 [==============================] - 86s 534ms/step - loss: 0.9791 - accuracy: 0.6589 - val_loss: 1.0901 - val_accuracy: 0.6453\n",
            "Epoch 21/100\n",
            "161/161 [==============================] - 86s 533ms/step - loss: 0.9504 - accuracy: 0.6792 - val_loss: 1.0880 - val_accuracy: 0.6438\n",
            "Epoch 22/100\n",
            "161/161 [==============================] - 86s 532ms/step - loss: 0.9328 - accuracy: 0.6798 - val_loss: 1.0738 - val_accuracy: 0.6406\n",
            "Epoch 23/100\n",
            "161/161 [==============================] - 86s 532ms/step - loss: 0.8935 - accuracy: 0.6954 - val_loss: 1.0009 - val_accuracy: 0.6602\n",
            "Epoch 24/100\n",
            "161/161 [==============================] - 85s 530ms/step - loss: 0.9016 - accuracy: 0.6891 - val_loss: 1.0294 - val_accuracy: 0.6680\n",
            "Epoch 25/100\n",
            "161/161 [==============================] - 85s 531ms/step - loss: 0.8765 - accuracy: 0.7024 - val_loss: 1.0859 - val_accuracy: 0.6547\n",
            "Epoch 26/100\n",
            "161/161 [==============================] - 85s 529ms/step - loss: 0.8819 - accuracy: 0.7024 - val_loss: 0.9447 - val_accuracy: 0.6695\n",
            "Epoch 27/100\n",
            "161/161 [==============================] - 85s 531ms/step - loss: 0.8267 - accuracy: 0.7160 - val_loss: 1.0078 - val_accuracy: 0.6531\n",
            "Epoch 28/100\n",
            "161/161 [==============================] - 86s 533ms/step - loss: 0.8249 - accuracy: 0.7225 - val_loss: 0.9782 - val_accuracy: 0.6922\n",
            "Epoch 29/100\n",
            "161/161 [==============================] - 86s 533ms/step - loss: 0.8134 - accuracy: 0.7234 - val_loss: 1.0112 - val_accuracy: 0.6766\n",
            "Epoch 30/100\n",
            "161/161 [==============================] - 86s 534ms/step - loss: 0.8095 - accuracy: 0.7215 - val_loss: 0.9385 - val_accuracy: 0.6977\n",
            "Epoch 31/100\n",
            "161/161 [==============================] - 84s 521ms/step - loss: 0.7999 - accuracy: 0.7231 - val_loss: 0.9359 - val_accuracy: 0.6812\n",
            "Epoch 32/100\n",
            "161/161 [==============================] - 84s 522ms/step - loss: 0.7869 - accuracy: 0.7301 - val_loss: 0.9297 - val_accuracy: 0.6906\n",
            "Epoch 33/100\n",
            "161/161 [==============================] - 83s 518ms/step - loss: 0.7499 - accuracy: 0.7433 - val_loss: 0.9560 - val_accuracy: 0.6844\n",
            "Epoch 34/100\n",
            "161/161 [==============================] - 83s 516ms/step - loss: 0.7305 - accuracy: 0.7525 - val_loss: 0.9356 - val_accuracy: 0.6977\n",
            "Epoch 35/100\n",
            "161/161 [==============================] - 83s 517ms/step - loss: 0.7422 - accuracy: 0.7531 - val_loss: 0.9669 - val_accuracy: 0.6852\n",
            "Epoch 36/100\n",
            "161/161 [==============================] - 83s 517ms/step - loss: 0.7122 - accuracy: 0.7618 - val_loss: 0.9157 - val_accuracy: 0.6977\n",
            "Epoch 37/100\n",
            "161/161 [==============================] - 83s 516ms/step - loss: 0.7255 - accuracy: 0.7542 - val_loss: 0.9491 - val_accuracy: 0.6812\n",
            "Epoch 38/100\n",
            "161/161 [==============================] - 83s 518ms/step - loss: 0.7154 - accuracy: 0.7560 - val_loss: 0.8738 - val_accuracy: 0.6992\n",
            "Epoch 39/100\n",
            "161/161 [==============================] - 83s 518ms/step - loss: 0.7002 - accuracy: 0.7648 - val_loss: 0.8205 - val_accuracy: 0.7180\n",
            "Epoch 40/100\n",
            "161/161 [==============================] - 84s 524ms/step - loss: 0.6893 - accuracy: 0.7611 - val_loss: 0.9281 - val_accuracy: 0.6914\n",
            "Epoch 41/100\n",
            "161/161 [==============================] - 85s 527ms/step - loss: 0.6528 - accuracy: 0.7800 - val_loss: 0.8995 - val_accuracy: 0.7125\n",
            "Epoch 42/100\n",
            "161/161 [==============================] - 84s 520ms/step - loss: 0.6448 - accuracy: 0.7819 - val_loss: 0.8928 - val_accuracy: 0.7148\n",
            "Epoch 43/100\n",
            "161/161 [==============================] - 83s 518ms/step - loss: 0.6198 - accuracy: 0.7893 - val_loss: 0.8569 - val_accuracy: 0.7133\n",
            "Epoch 44/100\n",
            "161/161 [==============================] - 83s 516ms/step - loss: 0.6355 - accuracy: 0.7850 - val_loss: 0.8076 - val_accuracy: 0.7258\n",
            "Epoch 45/100\n",
            "161/161 [==============================] - 86s 532ms/step - loss: 0.6408 - accuracy: 0.7772 - val_loss: 0.8192 - val_accuracy: 0.7281\n",
            "Epoch 46/100\n",
            "161/161 [==============================] - 85s 528ms/step - loss: 0.6164 - accuracy: 0.7917 - val_loss: 0.8703 - val_accuracy: 0.7156\n",
            "Epoch 47/100\n",
            "161/161 [==============================] - 84s 521ms/step - loss: 0.6169 - accuracy: 0.7948 - val_loss: 0.8172 - val_accuracy: 0.7227\n",
            "Epoch 48/100\n",
            "161/161 [==============================] - 84s 519ms/step - loss: 0.5988 - accuracy: 0.7956 - val_loss: 0.8421 - val_accuracy: 0.7305\n",
            "Epoch 49/100\n",
            "161/161 [==============================] - 84s 519ms/step - loss: 0.5890 - accuracy: 0.7998 - val_loss: 0.7749 - val_accuracy: 0.7586\n",
            "Epoch 50/100\n",
            "161/161 [==============================] - 83s 517ms/step - loss: 0.5815 - accuracy: 0.8039 - val_loss: 0.8223 - val_accuracy: 0.7234\n",
            "Epoch 51/100\n",
            "161/161 [==============================] - 84s 519ms/step - loss: 0.5866 - accuracy: 0.8039 - val_loss: 0.8002 - val_accuracy: 0.7469\n",
            "Epoch 52/100\n",
            "161/161 [==============================] - 83s 517ms/step - loss: 0.5566 - accuracy: 0.8129 - val_loss: 0.8056 - val_accuracy: 0.7477\n",
            "Epoch 53/100\n",
            "161/161 [==============================] - 83s 517ms/step - loss: 0.5553 - accuracy: 0.8166 - val_loss: 0.7652 - val_accuracy: 0.7578\n",
            "Epoch 54/100\n",
            "161/161 [==============================] - 85s 525ms/step - loss: 0.5464 - accuracy: 0.8215 - val_loss: 0.7862 - val_accuracy: 0.7508\n",
            "Epoch 55/100\n",
            "161/161 [==============================] - 85s 526ms/step - loss: 0.5347 - accuracy: 0.8137 - val_loss: 0.7849 - val_accuracy: 0.7617\n",
            "Epoch 56/100\n",
            "161/161 [==============================] - 85s 528ms/step - loss: 0.5471 - accuracy: 0.8149 - val_loss: 0.7488 - val_accuracy: 0.7578\n",
            "Epoch 57/100\n",
            "161/161 [==============================] - 84s 523ms/step - loss: 0.5343 - accuracy: 0.8221 - val_loss: 0.7693 - val_accuracy: 0.7484\n",
            "Epoch 58/100\n",
            "161/161 [==============================] - 84s 520ms/step - loss: 0.5467 - accuracy: 0.8129 - val_loss: 0.7652 - val_accuracy: 0.7547\n",
            "Epoch 59/100\n",
            "161/161 [==============================] - 84s 520ms/step - loss: 0.5274 - accuracy: 0.8256 - val_loss: 0.7671 - val_accuracy: 0.7563\n",
            "Epoch 60/100\n",
            "161/161 [==============================] - 85s 531ms/step - loss: 0.5101 - accuracy: 0.8349 - val_loss: 0.7455 - val_accuracy: 0.7570\n",
            "Epoch 61/100\n",
            "161/161 [==============================] - 83s 518ms/step - loss: 0.4999 - accuracy: 0.8355 - val_loss: 0.7324 - val_accuracy: 0.7594\n",
            "Epoch 62/100\n",
            "161/161 [==============================] - 84s 520ms/step - loss: 0.5055 - accuracy: 0.8341 - val_loss: 0.7617 - val_accuracy: 0.7492\n",
            "Epoch 63/100\n",
            "161/161 [==============================] - 83s 517ms/step - loss: 0.4860 - accuracy: 0.8425 - val_loss: 0.7173 - val_accuracy: 0.7648\n",
            "Epoch 64/100\n",
            "161/161 [==============================] - 83s 518ms/step - loss: 0.4868 - accuracy: 0.8388 - val_loss: 0.7603 - val_accuracy: 0.7437\n",
            "Epoch 65/100\n",
            "161/161 [==============================] - 83s 516ms/step - loss: 0.5018 - accuracy: 0.8375 - val_loss: 0.6894 - val_accuracy: 0.7664\n",
            "Epoch 66/100\n",
            "161/161 [==============================] - 85s 526ms/step - loss: 0.4949 - accuracy: 0.8355 - val_loss: 0.7521 - val_accuracy: 0.7633\n",
            "Epoch 67/100\n",
            "161/161 [==============================] - 84s 520ms/step - loss: 0.4894 - accuracy: 0.8369 - val_loss: 0.7167 - val_accuracy: 0.7781\n",
            "Epoch 68/100\n",
            "161/161 [==============================] - 84s 520ms/step - loss: 0.4970 - accuracy: 0.8316 - val_loss: 0.7358 - val_accuracy: 0.7664\n",
            "Epoch 69/100\n",
            "161/161 [==============================] - 84s 520ms/step - loss: 0.4882 - accuracy: 0.8357 - val_loss: 0.7478 - val_accuracy: 0.7570\n",
            "Epoch 70/100\n",
            "161/161 [==============================] - 83s 518ms/step - loss: 0.5029 - accuracy: 0.8302 - val_loss: 0.7380 - val_accuracy: 0.7672\n",
            "Epoch 71/100\n",
            "161/161 [==============================] - 83s 518ms/step - loss: 0.4974 - accuracy: 0.8373 - val_loss: 0.7520 - val_accuracy: 0.7570\n",
            "Epoch 72/100\n",
            "161/161 [==============================] - 84s 519ms/step - loss: 0.4978 - accuracy: 0.8310 - val_loss: 0.7553 - val_accuracy: 0.7539\n",
            "Epoch 73/100\n",
            "161/161 [==============================] - 84s 522ms/step - loss: 0.4898 - accuracy: 0.8324 - val_loss: 0.7314 - val_accuracy: 0.7695\n",
            "Epoch 74/100\n",
            "161/161 [==============================] - 84s 523ms/step - loss: 0.4863 - accuracy: 0.8421 - val_loss: 0.7686 - val_accuracy: 0.7555\n",
            "Epoch 75/100\n",
            "161/161 [==============================] - 84s 524ms/step - loss: 0.5026 - accuracy: 0.8332 - val_loss: 0.7612 - val_accuracy: 0.7602\n",
            "Epoch 76/100\n",
            "161/161 [==============================] - 83s 518ms/step - loss: 0.4936 - accuracy: 0.8345 - val_loss: 0.7509 - val_accuracy: 0.7578\n",
            "Epoch 77/100\n",
            "161/161 [==============================] - 84s 520ms/step - loss: 0.5043 - accuracy: 0.8316 - val_loss: 0.7124 - val_accuracy: 0.7766\n",
            "Epoch 78/100\n",
            "161/161 [==============================] - 83s 517ms/step - loss: 0.4902 - accuracy: 0.8351 - val_loss: 0.7225 - val_accuracy: 0.7742\n",
            "Epoch 79/100\n",
            "161/161 [==============================] - 85s 526ms/step - loss: 0.4811 - accuracy: 0.8414 - val_loss: 0.7246 - val_accuracy: 0.7688\n",
            "Epoch 80/100\n",
            "161/161 [==============================] - 84s 524ms/step - loss: 0.4983 - accuracy: 0.8402 - val_loss: 0.6822 - val_accuracy: 0.7688\n",
            "Epoch 81/100\n",
            "161/161 [==============================] - 84s 520ms/step - loss: 0.4689 - accuracy: 0.8410 - val_loss: 0.7386 - val_accuracy: 0.7617\n",
            "Epoch 82/100\n",
            "161/161 [==============================] - 84s 523ms/step - loss: 0.4991 - accuracy: 0.8353 - val_loss: 0.7061 - val_accuracy: 0.7781\n",
            "Epoch 83/100\n",
            "161/161 [==============================] - 84s 522ms/step - loss: 0.4698 - accuracy: 0.8492 - val_loss: 0.7690 - val_accuracy: 0.7461\n",
            "Epoch 84/100\n",
            "161/161 [==============================] - 84s 519ms/step - loss: 0.4795 - accuracy: 0.8386 - val_loss: 0.7284 - val_accuracy: 0.7641\n",
            "Epoch 85/100\n",
            "161/161 [==============================] - 83s 518ms/step - loss: 0.4901 - accuracy: 0.8367 - val_loss: 0.7760 - val_accuracy: 0.7500\n",
            "Epoch 86/100\n",
            "161/161 [==============================] - 84s 519ms/step - loss: 0.4956 - accuracy: 0.8417 - val_loss: 0.7306 - val_accuracy: 0.7641\n",
            "Epoch 87/100\n",
            "161/161 [==============================] - 83s 518ms/step - loss: 0.4915 - accuracy: 0.8398 - val_loss: 0.7451 - val_accuracy: 0.7688\n",
            "Epoch 88/100\n",
            "161/161 [==============================] - 83s 518ms/step - loss: 0.4920 - accuracy: 0.8345 - val_loss: 0.7212 - val_accuracy: 0.7727\n",
            "Epoch 89/100\n",
            "161/161 [==============================] - 84s 522ms/step - loss: 0.4831 - accuracy: 0.8382 - val_loss: 0.7535 - val_accuracy: 0.7547\n",
            "Epoch 90/100\n",
            "161/161 [==============================] - 85s 525ms/step - loss: 0.4842 - accuracy: 0.8445 - val_loss: 0.7672 - val_accuracy: 0.7414\n",
            "Epoch 91/100\n",
            "161/161 [==============================] - 86s 535ms/step - loss: 0.4906 - accuracy: 0.8398 - val_loss: 0.7120 - val_accuracy: 0.7781\n",
            "Epoch 92/100\n",
            "161/161 [==============================] - 83s 518ms/step - loss: 0.5070 - accuracy: 0.8353 - val_loss: 0.7644 - val_accuracy: 0.7563\n",
            "Epoch 93/100\n",
            "161/161 [==============================] - 84s 519ms/step - loss: 0.4966 - accuracy: 0.8355 - val_loss: 0.7394 - val_accuracy: 0.7625\n",
            "Epoch 94/100\n",
            "161/161 [==============================] - 84s 521ms/step - loss: 0.4887 - accuracy: 0.8406 - val_loss: 0.7331 - val_accuracy: 0.7656\n",
            "Epoch 95/100\n",
            "161/161 [==============================] - 84s 520ms/step - loss: 0.4833 - accuracy: 0.8380 - val_loss: 0.7132 - val_accuracy: 0.7734\n",
            "Epoch 96/100\n",
            "161/161 [==============================] - 83s 518ms/step - loss: 0.4817 - accuracy: 0.8488 - val_loss: 0.7302 - val_accuracy: 0.7602\n",
            "Epoch 97/100\n",
            "161/161 [==============================] - 84s 519ms/step - loss: 0.4897 - accuracy: 0.8398 - val_loss: 0.7049 - val_accuracy: 0.7758\n",
            "Epoch 98/100\n",
            "161/161 [==============================] - 84s 521ms/step - loss: 0.4845 - accuracy: 0.8408 - val_loss: 0.7450 - val_accuracy: 0.7586\n",
            "Epoch 99/100\n",
            "161/161 [==============================] - 84s 521ms/step - loss: 0.4881 - accuracy: 0.8375 - val_loss: 0.7384 - val_accuracy: 0.7734\n",
            "Epoch 100/100\n",
            "161/161 [==============================] - 86s 532ms/step - loss: 0.5030 - accuracy: 0.8320 - val_loss: 0.6833 - val_accuracy: 0.7883\n"
          ]
        },
        {
          "output_type": "execute_result",
          "data": {
            "text/plain": [
              "<keras.callbacks.History at 0x7fae214ac2d0>"
            ]
          },
          "metadata": {},
          "execution_count": 42
        }
      ]
    },
    {
      "cell_type": "code",
      "source": [
        "model.save(\"/content/drive/MyDrive/Colab Notebooks/paddy/paddy_resnet_top_layers\")\n",
        "print(\"the model is saved\")"
      ],
      "metadata": {
        "colab": {
          "base_uri": "https://localhost:8080/"
        },
        "id": "viorr6w50Nl_",
        "outputId": "9ff3c904-c0d9-4809-fa90-8137c7797396"
      },
      "execution_count": null,
      "outputs": [
        {
          "output_type": "stream",
          "name": "stdout",
          "text": [
            "INFO:tensorflow:Assets written to: /content/drive/MyDrive/Colab Notebooks/paddy/paddy_resnet_top_layers/assets\n",
            "the model is saved\n"
          ]
        }
      ]
    },
    {
      "cell_type": "code",
      "source": [
        "# load model\n",
        "model = load_model(\n",
        "    \"/content/drive/MyDrive/Colab Notebooks/paddy/paddy_resnet_top_layers\"\n",
        ")"
      ],
      "metadata": {
        "id": "Bn5QtsAI09DD"
      },
      "execution_count": null,
      "outputs": []
    },
    {
      "cell_type": "markdown",
      "source": [
        "#### Setup model for fine tuning"
      ],
      "metadata": {
        "id": "GfwguARmuPNz"
      }
    },
    {
      "cell_type": "code",
      "source": [
        "# Setup model for fine tuning\n",
        "def setup_model(model, trainable):\n",
        "    for layer in model.layers[: (len(model.layers) - trainable)]:\n",
        "        layer.trainable = False\n",
        "\n",
        "    for layer in model.layers[(len(model.layers) - trainable) :]:\n",
        "        layer.trainable = True\n",
        "\n",
        "    model.compile(loss=\"categorical_crossentropy\", optimizer=opt, metrics=[\"accuracy\"])"
      ],
      "metadata": {
        "id": "sOoX86btiXAT"
      },
      "execution_count": null,
      "outputs": []
    },
    {
      "cell_type": "code",
      "source": [
        "# Setup model to retrain our top layer plus 2 last blocks\n",
        "setup_model(model, 26)"
      ],
      "metadata": {
        "id": "5PBWiO_PiXAT"
      },
      "execution_count": null,
      "outputs": []
    },
    {
      "cell_type": "code",
      "source": [
        "# callbacks : early stopping\n",
        "early_stp = tf.keras.callbacks.EarlyStopping(monitor=\"val_loss\", patience=5)"
      ],
      "metadata": {
        "id": "Q0qK3qH1iXAU"
      },
      "execution_count": null,
      "outputs": []
    },
    {
      "cell_type": "code",
      "source": [
        "# Fine-tune the model\n",
        "history_4 = model.fit(\n",
        "    train_generator,\n",
        "    epochs=epochs_ft,\n",
        "    validation_data=valid_generator,\n",
        "    verbose=1,\n",
        "    #    callbacks=early_stp\n",
        ")"
      ],
      "metadata": {
        "colab": {
          "base_uri": "https://localhost:8080/"
        },
        "id": "JtFE0ZHjXV86",
        "outputId": "46bfd6fc-d359-46f9-db2f-046b640961b8"
      },
      "execution_count": null,
      "outputs": [
        {
          "output_type": "stream",
          "name": "stdout",
          "text": [
            "Epoch 1/200\n",
            "161/161 [==============================] - 94s 586ms/step - loss: 0.2824 - accuracy: 0.9063 - val_loss: 0.6516 - val_accuracy: 0.8133\n",
            "Epoch 2/200\n",
            "161/161 [==============================] - 92s 569ms/step - loss: 0.2326 - accuracy: 0.9230 - val_loss: 0.4775 - val_accuracy: 0.8570\n",
            "Epoch 3/200\n",
            "161/161 [==============================] - 93s 579ms/step - loss: 0.2177 - accuracy: 0.9285 - val_loss: 0.4791 - val_accuracy: 0.8695\n",
            "Epoch 4/200\n",
            "161/161 [==============================] - 93s 580ms/step - loss: 0.2375 - accuracy: 0.9195 - val_loss: 0.4426 - val_accuracy: 0.8656\n",
            "Epoch 5/200\n",
            "161/161 [==============================] - 92s 574ms/step - loss: 0.2251 - accuracy: 0.9244 - val_loss: 0.8480 - val_accuracy: 0.7961\n",
            "Epoch 6/200\n",
            "161/161 [==============================] - 93s 579ms/step - loss: 0.2206 - accuracy: 0.9275 - val_loss: 0.3822 - val_accuracy: 0.8875\n",
            "Epoch 7/200\n",
            "161/161 [==============================] - 93s 575ms/step - loss: 0.1948 - accuracy: 0.9365 - val_loss: 0.4668 - val_accuracy: 0.8687\n",
            "Epoch 8/200\n",
            "161/161 [==============================] - 92s 573ms/step - loss: 0.1862 - accuracy: 0.9339 - val_loss: 0.4536 - val_accuracy: 0.8789\n",
            "Epoch 9/200\n",
            "161/161 [==============================] - 91s 565ms/step - loss: 0.2029 - accuracy: 0.9320 - val_loss: 0.4989 - val_accuracy: 0.8672\n",
            "Epoch 10/200\n",
            "161/161 [==============================] - 92s 574ms/step - loss: 0.1829 - accuracy: 0.9369 - val_loss: 0.4716 - val_accuracy: 0.8773\n",
            "Epoch 11/200\n",
            "161/161 [==============================] - 93s 578ms/step - loss: 0.1798 - accuracy: 0.9390 - val_loss: 0.5963 - val_accuracy: 0.8383\n",
            "Epoch 12/200\n",
            "161/161 [==============================] - 92s 570ms/step - loss: 0.1711 - accuracy: 0.9460 - val_loss: 0.4426 - val_accuracy: 0.8711\n",
            "Epoch 13/200\n",
            "161/161 [==============================] - 92s 569ms/step - loss: 0.1529 - accuracy: 0.9474 - val_loss: 0.4104 - val_accuracy: 0.8883\n",
            "Epoch 14/200\n",
            "161/161 [==============================] - 91s 567ms/step - loss: 0.1496 - accuracy: 0.9505 - val_loss: 0.4011 - val_accuracy: 0.8922\n",
            "Epoch 15/200\n",
            "161/161 [==============================] - 91s 564ms/step - loss: 0.1539 - accuracy: 0.9487 - val_loss: 0.4229 - val_accuracy: 0.8930\n",
            "Epoch 16/200\n",
            "161/161 [==============================] - 93s 576ms/step - loss: 0.1473 - accuracy: 0.9493 - val_loss: 0.4035 - val_accuracy: 0.8914\n",
            "Epoch 17/200\n",
            "161/161 [==============================] - 92s 572ms/step - loss: 0.1363 - accuracy: 0.9571 - val_loss: 0.3304 - val_accuracy: 0.9094\n",
            "Epoch 18/200\n",
            "161/161 [==============================] - 92s 571ms/step - loss: 0.1361 - accuracy: 0.9540 - val_loss: 0.3799 - val_accuracy: 0.9039\n",
            "Epoch 19/200\n",
            "161/161 [==============================] - 92s 570ms/step - loss: 0.1284 - accuracy: 0.9599 - val_loss: 0.3778 - val_accuracy: 0.9047\n",
            "Epoch 20/200\n",
            "161/161 [==============================] - 92s 574ms/step - loss: 0.1091 - accuracy: 0.9620 - val_loss: 0.4562 - val_accuracy: 0.8852\n",
            "Epoch 21/200\n",
            "161/161 [==============================] - 91s 564ms/step - loss: 0.1178 - accuracy: 0.9589 - val_loss: 0.4478 - val_accuracy: 0.9000\n",
            "Epoch 22/200\n",
            "161/161 [==============================] - 91s 567ms/step - loss: 0.1173 - accuracy: 0.9579 - val_loss: 0.3414 - val_accuracy: 0.9016\n",
            "Epoch 23/200\n",
            "161/161 [==============================] - 92s 570ms/step - loss: 0.1053 - accuracy: 0.9614 - val_loss: 0.3833 - val_accuracy: 0.8992\n",
            "Epoch 24/200\n",
            "161/161 [==============================] - 92s 574ms/step - loss: 0.1034 - accuracy: 0.9651 - val_loss: 0.3943 - val_accuracy: 0.9086\n",
            "Epoch 25/200\n",
            "161/161 [==============================] - 91s 568ms/step - loss: 0.0919 - accuracy: 0.9680 - val_loss: 0.3597 - val_accuracy: 0.9102\n",
            "Epoch 26/200\n",
            "161/161 [==============================] - 93s 577ms/step - loss: 0.0914 - accuracy: 0.9706 - val_loss: 0.3303 - val_accuracy: 0.9195\n",
            "Epoch 27/200\n",
            "161/161 [==============================] - 91s 568ms/step - loss: 0.0836 - accuracy: 0.9710 - val_loss: 0.3346 - val_accuracy: 0.9180\n",
            "Epoch 28/200\n",
            "161/161 [==============================] - 91s 568ms/step - loss: 0.0723 - accuracy: 0.9762 - val_loss: 0.3710 - val_accuracy: 0.9195\n",
            "Epoch 29/200\n",
            "161/161 [==============================] - 91s 563ms/step - loss: 0.0875 - accuracy: 0.9676 - val_loss: 0.3901 - val_accuracy: 0.9180\n",
            "Epoch 30/200\n",
            "161/161 [==============================] - 92s 570ms/step - loss: 0.0734 - accuracy: 0.9741 - val_loss: 0.3488 - val_accuracy: 0.9219\n",
            "Epoch 31/200\n",
            "161/161 [==============================] - 91s 566ms/step - loss: 0.0758 - accuracy: 0.9768 - val_loss: 0.3399 - val_accuracy: 0.9266\n",
            "Epoch 32/200\n",
            "161/161 [==============================] - 91s 565ms/step - loss: 0.0671 - accuracy: 0.9791 - val_loss: 0.3223 - val_accuracy: 0.9258\n",
            "Epoch 33/200\n",
            "161/161 [==============================] - 92s 570ms/step - loss: 0.0662 - accuracy: 0.9791 - val_loss: 0.3575 - val_accuracy: 0.9211\n",
            "Epoch 34/200\n",
            "161/161 [==============================] - 92s 573ms/step - loss: 0.0617 - accuracy: 0.9788 - val_loss: 0.3212 - val_accuracy: 0.9305\n",
            "Epoch 35/200\n",
            "161/161 [==============================] - 92s 573ms/step - loss: 0.0523 - accuracy: 0.9838 - val_loss: 0.3326 - val_accuracy: 0.9227\n",
            "Epoch 36/200\n",
            "161/161 [==============================] - 93s 575ms/step - loss: 0.0613 - accuracy: 0.9778 - val_loss: 0.3139 - val_accuracy: 0.9266\n",
            "Epoch 37/200\n",
            "161/161 [==============================] - 92s 569ms/step - loss: 0.0469 - accuracy: 0.9838 - val_loss: 0.3392 - val_accuracy: 0.9344\n",
            "Epoch 38/200\n",
            "161/161 [==============================] - 93s 579ms/step - loss: 0.0588 - accuracy: 0.9760 - val_loss: 0.3711 - val_accuracy: 0.9305\n",
            "Epoch 39/200\n",
            "161/161 [==============================] - 92s 573ms/step - loss: 0.0490 - accuracy: 0.9827 - val_loss: 0.3198 - val_accuracy: 0.9336\n",
            "Epoch 40/200\n",
            "161/161 [==============================] - 92s 572ms/step - loss: 0.0470 - accuracy: 0.9834 - val_loss: 0.3385 - val_accuracy: 0.9273\n",
            "Epoch 41/200\n",
            "161/161 [==============================] - 91s 566ms/step - loss: 0.0400 - accuracy: 0.9866 - val_loss: 0.3253 - val_accuracy: 0.9273\n",
            "Epoch 42/200\n",
            "161/161 [==============================] - 91s 569ms/step - loss: 0.0364 - accuracy: 0.9871 - val_loss: 0.3600 - val_accuracy: 0.9281\n",
            "Epoch 43/200\n",
            "161/161 [==============================] - 92s 570ms/step - loss: 0.0350 - accuracy: 0.9867 - val_loss: 0.3079 - val_accuracy: 0.9344\n",
            "Epoch 44/200\n",
            "161/161 [==============================] - 93s 576ms/step - loss: 0.0361 - accuracy: 0.9879 - val_loss: 0.3078 - val_accuracy: 0.9375\n",
            "Epoch 45/200\n",
            "161/161 [==============================] - 93s 575ms/step - loss: 0.0412 - accuracy: 0.9871 - val_loss: 0.3211 - val_accuracy: 0.9398\n",
            "Epoch 46/200\n",
            "161/161 [==============================] - 93s 578ms/step - loss: 0.0357 - accuracy: 0.9873 - val_loss: 0.3602 - val_accuracy: 0.9305\n",
            "Epoch 47/200\n",
            "161/161 [==============================] - 93s 578ms/step - loss: 0.0305 - accuracy: 0.9893 - val_loss: 0.3528 - val_accuracy: 0.9305\n",
            "Epoch 48/200\n",
            "161/161 [==============================] - 92s 574ms/step - loss: 0.0346 - accuracy: 0.9879 - val_loss: 0.3175 - val_accuracy: 0.9344\n",
            "Epoch 49/200\n",
            "161/161 [==============================] - 92s 574ms/step - loss: 0.0321 - accuracy: 0.9883 - val_loss: 0.3275 - val_accuracy: 0.9328\n",
            "Epoch 50/200\n",
            "161/161 [==============================] - 92s 569ms/step - loss: 0.0369 - accuracy: 0.9877 - val_loss: 0.3271 - val_accuracy: 0.9383\n",
            "Epoch 51/200\n",
            "161/161 [==============================] - 91s 566ms/step - loss: 0.0278 - accuracy: 0.9899 - val_loss: 0.3507 - val_accuracy: 0.9328\n",
            "Epoch 52/200\n",
            "161/161 [==============================] - 91s 568ms/step - loss: 0.0384 - accuracy: 0.9869 - val_loss: 0.3406 - val_accuracy: 0.9320\n",
            "Epoch 53/200\n",
            "161/161 [==============================] - 92s 572ms/step - loss: 0.0320 - accuracy: 0.9897 - val_loss: 0.3141 - val_accuracy: 0.9367\n",
            "Epoch 54/200\n",
            "161/161 [==============================] - 93s 575ms/step - loss: 0.0356 - accuracy: 0.9867 - val_loss: 0.3273 - val_accuracy: 0.9328\n",
            "Epoch 55/200\n",
            "161/161 [==============================] - 92s 572ms/step - loss: 0.0322 - accuracy: 0.9901 - val_loss: 0.3033 - val_accuracy: 0.9398\n",
            "Epoch 56/200\n",
            "161/161 [==============================] - 91s 564ms/step - loss: 0.0291 - accuracy: 0.9903 - val_loss: 0.3231 - val_accuracy: 0.9383\n",
            "Epoch 57/200\n",
            "161/161 [==============================] - 92s 574ms/step - loss: 0.0331 - accuracy: 0.9885 - val_loss: 0.3438 - val_accuracy: 0.9281\n",
            "Epoch 58/200\n",
            "161/161 [==============================] - 91s 565ms/step - loss: 0.0342 - accuracy: 0.9889 - val_loss: 0.3342 - val_accuracy: 0.9391\n",
            "Epoch 59/200\n",
            "161/161 [==============================] - 91s 567ms/step - loss: 0.0362 - accuracy: 0.9871 - val_loss: 0.3410 - val_accuracy: 0.9422\n",
            "Epoch 60/200\n",
            "161/161 [==============================] - 93s 577ms/step - loss: 0.0322 - accuracy: 0.9893 - val_loss: 0.3268 - val_accuracy: 0.9352\n",
            "Epoch 61/200\n",
            "161/161 [==============================] - 92s 572ms/step - loss: 0.0284 - accuracy: 0.9908 - val_loss: 0.3379 - val_accuracy: 0.9336\n",
            "Epoch 62/200\n",
            "161/161 [==============================] - 91s 567ms/step - loss: 0.0286 - accuracy: 0.9912 - val_loss: 0.2945 - val_accuracy: 0.9367\n",
            "Epoch 63/200\n",
            "161/161 [==============================] - 93s 580ms/step - loss: 0.0331 - accuracy: 0.9867 - val_loss: 0.3048 - val_accuracy: 0.9398\n",
            "Epoch 64/200\n",
            "161/161 [==============================] - 92s 575ms/step - loss: 0.0284 - accuracy: 0.9906 - val_loss: 0.3504 - val_accuracy: 0.9344\n",
            "Epoch 65/200\n",
            "161/161 [==============================] - 93s 576ms/step - loss: 0.0298 - accuracy: 0.9905 - val_loss: 0.3454 - val_accuracy: 0.9391\n",
            "Epoch 66/200\n",
            "161/161 [==============================] - 91s 564ms/step - loss: 0.0223 - accuracy: 0.9910 - val_loss: 0.2895 - val_accuracy: 0.9414\n",
            "Epoch 67/200\n",
            "161/161 [==============================] - 91s 566ms/step - loss: 0.0350 - accuracy: 0.9871 - val_loss: 0.3681 - val_accuracy: 0.9336\n",
            "Epoch 68/200\n",
            "161/161 [==============================] - 92s 569ms/step - loss: 0.0279 - accuracy: 0.9897 - val_loss: 0.3563 - val_accuracy: 0.9344\n",
            "Epoch 69/200\n",
            "161/161 [==============================] - 92s 573ms/step - loss: 0.0284 - accuracy: 0.9906 - val_loss: 0.3391 - val_accuracy: 0.9273\n",
            "Epoch 70/200\n",
            "161/161 [==============================] - 91s 568ms/step - loss: 0.0337 - accuracy: 0.9893 - val_loss: 0.3053 - val_accuracy: 0.9398\n",
            "Epoch 71/200\n",
            "161/161 [==============================] - 92s 573ms/step - loss: 0.0312 - accuracy: 0.9885 - val_loss: 0.3242 - val_accuracy: 0.9391\n",
            "Epoch 72/200\n",
            "161/161 [==============================] - 91s 568ms/step - loss: 0.0245 - accuracy: 0.9914 - val_loss: 0.3144 - val_accuracy: 0.9391\n",
            "Epoch 73/200\n",
            "161/161 [==============================] - 91s 568ms/step - loss: 0.0260 - accuracy: 0.9908 - val_loss: 0.3497 - val_accuracy: 0.9367\n",
            "Epoch 74/200\n",
            "161/161 [==============================] - 92s 571ms/step - loss: 0.0260 - accuracy: 0.9910 - val_loss: 0.3448 - val_accuracy: 0.9305\n",
            "Epoch 75/200\n",
            "161/161 [==============================] - 92s 571ms/step - loss: 0.0274 - accuracy: 0.9899 - val_loss: 0.3359 - val_accuracy: 0.9438\n",
            "Epoch 76/200\n",
            "161/161 [==============================] - 93s 575ms/step - loss: 0.0271 - accuracy: 0.9905 - val_loss: 0.3216 - val_accuracy: 0.9352\n",
            "Epoch 77/200\n",
            "161/161 [==============================] - 92s 571ms/step - loss: 0.0311 - accuracy: 0.9897 - val_loss: 0.3475 - val_accuracy: 0.9359\n",
            "Epoch 78/200\n",
            "161/161 [==============================] - 93s 575ms/step - loss: 0.0302 - accuracy: 0.9895 - val_loss: 0.2647 - val_accuracy: 0.9445\n",
            "Epoch 79/200\n",
            "161/161 [==============================] - 92s 574ms/step - loss: 0.0285 - accuracy: 0.9905 - val_loss: 0.3597 - val_accuracy: 0.9414\n",
            "Epoch 80/200\n",
            "161/161 [==============================] - 93s 577ms/step - loss: 0.0267 - accuracy: 0.9906 - val_loss: 0.3150 - val_accuracy: 0.9406\n",
            "Epoch 81/200\n",
            "161/161 [==============================] - 93s 578ms/step - loss: 0.0298 - accuracy: 0.9910 - val_loss: 0.3196 - val_accuracy: 0.9383\n",
            "Epoch 82/200\n",
            "161/161 [==============================] - 93s 579ms/step - loss: 0.0262 - accuracy: 0.9916 - val_loss: 0.3228 - val_accuracy: 0.9383\n",
            "Epoch 83/200\n",
            "161/161 [==============================] - 92s 569ms/step - loss: 0.0321 - accuracy: 0.9885 - val_loss: 0.3528 - val_accuracy: 0.9281\n",
            "Epoch 84/200\n",
            "161/161 [==============================] - 92s 572ms/step - loss: 0.0281 - accuracy: 0.9899 - val_loss: 0.3751 - val_accuracy: 0.9320\n",
            "Epoch 85/200\n",
            "161/161 [==============================] - 92s 574ms/step - loss: 0.0250 - accuracy: 0.9908 - val_loss: 0.3078 - val_accuracy: 0.9391\n",
            "Epoch 86/200\n",
            "161/161 [==============================] - 92s 569ms/step - loss: 0.0261 - accuracy: 0.9906 - val_loss: 0.3254 - val_accuracy: 0.9391\n",
            "Epoch 87/200\n",
            "161/161 [==============================] - 92s 572ms/step - loss: 0.0234 - accuracy: 0.9922 - val_loss: 0.3122 - val_accuracy: 0.9438\n",
            "Epoch 88/200\n",
            "161/161 [==============================] - 91s 566ms/step - loss: 0.0253 - accuracy: 0.9899 - val_loss: 0.3249 - val_accuracy: 0.9336\n",
            "Epoch 89/200\n",
            "161/161 [==============================] - 93s 578ms/step - loss: 0.0302 - accuracy: 0.9895 - val_loss: 0.3470 - val_accuracy: 0.9367\n",
            "Epoch 90/200\n",
            "161/161 [==============================] - 93s 577ms/step - loss: 0.0264 - accuracy: 0.9914 - val_loss: 0.3345 - val_accuracy: 0.9367\n",
            "Epoch 91/200\n",
            "161/161 [==============================] - 93s 580ms/step - loss: 0.0257 - accuracy: 0.9906 - val_loss: 0.3211 - val_accuracy: 0.9344\n",
            "Epoch 92/200\n",
            "161/161 [==============================] - 93s 578ms/step - loss: 0.0261 - accuracy: 0.9914 - val_loss: 0.3413 - val_accuracy: 0.9422\n",
            "Epoch 93/200\n",
            "161/161 [==============================] - 92s 574ms/step - loss: 0.0247 - accuracy: 0.9910 - val_loss: 0.3582 - val_accuracy: 0.9344\n",
            "Epoch 94/200\n",
            "161/161 [==============================] - 93s 577ms/step - loss: 0.0251 - accuracy: 0.9912 - val_loss: 0.3034 - val_accuracy: 0.9414\n",
            "Epoch 95/200\n",
            "161/161 [==============================] - 93s 577ms/step - loss: 0.0232 - accuracy: 0.9920 - val_loss: 0.3204 - val_accuracy: 0.9344\n",
            "Epoch 96/200\n",
            "161/161 [==============================] - 93s 578ms/step - loss: 0.0259 - accuracy: 0.9910 - val_loss: 0.3404 - val_accuracy: 0.9344\n",
            "Epoch 97/200\n",
            "161/161 [==============================] - 94s 582ms/step - loss: 0.0276 - accuracy: 0.9905 - val_loss: 0.3500 - val_accuracy: 0.9430\n",
            "Epoch 98/200\n",
            "161/161 [==============================] - 92s 571ms/step - loss: 0.0341 - accuracy: 0.9889 - val_loss: 0.3530 - val_accuracy: 0.9312\n",
            "Epoch 99/200\n",
            "161/161 [==============================] - 92s 573ms/step - loss: 0.0268 - accuracy: 0.9910 - val_loss: 0.3735 - val_accuracy: 0.9289\n",
            "Epoch 100/200\n",
            "161/161 [==============================] - 91s 567ms/step - loss: 0.0277 - accuracy: 0.9908 - val_loss: 0.3281 - val_accuracy: 0.9359\n",
            "Epoch 101/200\n",
            "161/161 [==============================] - 92s 574ms/step - loss: 0.0305 - accuracy: 0.9903 - val_loss: 0.3109 - val_accuracy: 0.9406\n",
            "Epoch 102/200\n",
            "161/161 [==============================] - 92s 574ms/step - loss: 0.0218 - accuracy: 0.9920 - val_loss: 0.3167 - val_accuracy: 0.9375\n",
            "Epoch 103/200\n",
            "161/161 [==============================] - 92s 574ms/step - loss: 0.0285 - accuracy: 0.9897 - val_loss: 0.3390 - val_accuracy: 0.9367\n",
            "Epoch 104/200\n",
            "161/161 [==============================] - 92s 570ms/step - loss: 0.0292 - accuracy: 0.9891 - val_loss: 0.3239 - val_accuracy: 0.9406\n",
            "Epoch 105/200\n",
            "161/161 [==============================] - 93s 579ms/step - loss: 0.0318 - accuracy: 0.9897 - val_loss: 0.2920 - val_accuracy: 0.9398\n",
            "Epoch 106/200\n",
            "161/161 [==============================] - 92s 574ms/step - loss: 0.0270 - accuracy: 0.9914 - val_loss: 0.3478 - val_accuracy: 0.9320\n",
            "Epoch 107/200\n",
            "161/161 [==============================] - 93s 577ms/step - loss: 0.0281 - accuracy: 0.9895 - val_loss: 0.3633 - val_accuracy: 0.9305\n",
            "Epoch 108/200\n",
            "161/161 [==============================] - 92s 571ms/step - loss: 0.0261 - accuracy: 0.9910 - val_loss: 0.3155 - val_accuracy: 0.9430\n",
            "Epoch 109/200\n",
            "161/161 [==============================] - 93s 578ms/step - loss: 0.0271 - accuracy: 0.9897 - val_loss: 0.3324 - val_accuracy: 0.9414\n",
            "Epoch 110/200\n",
            "161/161 [==============================] - 93s 575ms/step - loss: 0.0261 - accuracy: 0.9920 - val_loss: 0.3457 - val_accuracy: 0.9312\n",
            "Epoch 111/200\n",
            "161/161 [==============================] - 93s 578ms/step - loss: 0.0232 - accuracy: 0.9916 - val_loss: 0.3483 - val_accuracy: 0.9375\n",
            "Epoch 112/200\n",
            "161/161 [==============================] - 93s 578ms/step - loss: 0.0254 - accuracy: 0.9912 - val_loss: 0.3540 - val_accuracy: 0.9352\n",
            "Epoch 113/200\n",
            "161/161 [==============================] - 94s 582ms/step - loss: 0.0265 - accuracy: 0.9914 - val_loss: 0.2959 - val_accuracy: 0.9469\n",
            "Epoch 114/200\n",
            "161/161 [==============================] - 93s 578ms/step - loss: 0.0216 - accuracy: 0.9922 - val_loss: 0.3278 - val_accuracy: 0.9414\n",
            "Epoch 115/200\n",
            "161/161 [==============================] - 93s 577ms/step - loss: 0.0235 - accuracy: 0.9916 - val_loss: 0.3602 - val_accuracy: 0.9328\n",
            "Epoch 116/200\n",
            "161/161 [==============================] - 92s 569ms/step - loss: 0.0262 - accuracy: 0.9901 - val_loss: 0.3173 - val_accuracy: 0.9391\n",
            "Epoch 117/200\n",
            "161/161 [==============================] - 92s 572ms/step - loss: 0.0266 - accuracy: 0.9906 - val_loss: 0.3282 - val_accuracy: 0.9297\n",
            "Epoch 118/200\n",
            "161/161 [==============================] - 92s 572ms/step - loss: 0.0281 - accuracy: 0.9887 - val_loss: 0.3468 - val_accuracy: 0.9344\n",
            "Epoch 119/200\n",
            "161/161 [==============================] - 94s 583ms/step - loss: 0.0245 - accuracy: 0.9903 - val_loss: 0.3234 - val_accuracy: 0.9367\n",
            "Epoch 120/200\n",
            "161/161 [==============================] - 92s 571ms/step - loss: 0.0215 - accuracy: 0.9918 - val_loss: 0.3168 - val_accuracy: 0.9406\n",
            "Epoch 121/200\n",
            "161/161 [==============================] - 92s 574ms/step - loss: 0.0237 - accuracy: 0.9922 - val_loss: 0.3208 - val_accuracy: 0.9391\n",
            "Epoch 122/200\n",
            "161/161 [==============================] - 92s 574ms/step - loss: 0.0249 - accuracy: 0.9916 - val_loss: 0.3118 - val_accuracy: 0.9367\n",
            "Epoch 123/200\n",
            "161/161 [==============================] - 92s 572ms/step - loss: 0.0267 - accuracy: 0.9912 - val_loss: 0.2897 - val_accuracy: 0.9391\n",
            "Epoch 124/200\n",
            "161/161 [==============================] - 93s 580ms/step - loss: 0.0276 - accuracy: 0.9912 - val_loss: 0.3234 - val_accuracy: 0.9375\n",
            "Epoch 125/200\n",
            "161/161 [==============================] - 92s 569ms/step - loss: 0.0240 - accuracy: 0.9920 - val_loss: 0.3728 - val_accuracy: 0.9336\n",
            "Epoch 126/200\n",
            "161/161 [==============================] - 91s 564ms/step - loss: 0.0222 - accuracy: 0.9940 - val_loss: 0.3521 - val_accuracy: 0.9359\n",
            "Epoch 127/200\n",
            "161/161 [==============================] - 91s 567ms/step - loss: 0.0220 - accuracy: 0.9926 - val_loss: 0.3399 - val_accuracy: 0.9406\n",
            "Epoch 128/200\n",
            "161/161 [==============================] - 90s 561ms/step - loss: 0.0241 - accuracy: 0.9918 - val_loss: 0.3200 - val_accuracy: 0.9430\n",
            "Epoch 129/200\n",
            "161/161 [==============================] - 91s 564ms/step - loss: 0.0227 - accuracy: 0.9914 - val_loss: 0.3567 - val_accuracy: 0.9406\n",
            "Epoch 130/200\n",
            "161/161 [==============================] - 93s 576ms/step - loss: 0.0231 - accuracy: 0.9922 - val_loss: 0.3336 - val_accuracy: 0.9422\n",
            "Epoch 131/200\n",
            "161/161 [==============================] - 93s 577ms/step - loss: 0.0242 - accuracy: 0.9903 - val_loss: 0.3148 - val_accuracy: 0.9414\n",
            "Epoch 132/200\n",
            "161/161 [==============================] - 92s 570ms/step - loss: 0.0309 - accuracy: 0.9889 - val_loss: 0.3626 - val_accuracy: 0.9336\n",
            "Epoch 133/200\n",
            "161/161 [==============================] - 92s 570ms/step - loss: 0.0267 - accuracy: 0.9908 - val_loss: 0.3549 - val_accuracy: 0.9266\n",
            "Epoch 134/200\n",
            "161/161 [==============================] - 92s 570ms/step - loss: 0.0243 - accuracy: 0.9912 - val_loss: 0.3101 - val_accuracy: 0.9438\n",
            "Epoch 135/200\n",
            "161/161 [==============================] - 93s 578ms/step - loss: 0.0259 - accuracy: 0.9912 - val_loss: 0.3549 - val_accuracy: 0.9336\n",
            "Epoch 136/200\n",
            "161/161 [==============================] - 93s 575ms/step - loss: 0.0212 - accuracy: 0.9912 - val_loss: 0.3488 - val_accuracy: 0.9375\n",
            "Epoch 137/200\n",
            "161/161 [==============================] - 92s 572ms/step - loss: 0.0234 - accuracy: 0.9910 - val_loss: 0.3512 - val_accuracy: 0.9406\n",
            "Epoch 138/200\n",
            "161/161 [==============================] - 92s 569ms/step - loss: 0.0219 - accuracy: 0.9926 - val_loss: 0.3666 - val_accuracy: 0.9391\n",
            "Epoch 139/200\n",
            "161/161 [==============================] - 91s 566ms/step - loss: 0.0227 - accuracy: 0.9918 - val_loss: 0.3012 - val_accuracy: 0.9422\n",
            "Epoch 140/200\n",
            "161/161 [==============================] - 93s 575ms/step - loss: 0.0244 - accuracy: 0.9924 - val_loss: 0.3199 - val_accuracy: 0.9367\n",
            "Epoch 141/200\n",
            "161/161 [==============================] - 92s 575ms/step - loss: 0.0197 - accuracy: 0.9934 - val_loss: 0.3764 - val_accuracy: 0.9367\n",
            "Epoch 142/200\n",
            "161/161 [==============================] - 91s 564ms/step - loss: 0.0220 - accuracy: 0.9914 - val_loss: 0.3659 - val_accuracy: 0.9352\n",
            "Epoch 143/200\n",
            "161/161 [==============================] - 92s 573ms/step - loss: 0.0260 - accuracy: 0.9905 - val_loss: 0.3690 - val_accuracy: 0.9367\n",
            "Epoch 144/200\n",
            "161/161 [==============================] - 92s 573ms/step - loss: 0.0234 - accuracy: 0.9912 - val_loss: 0.3054 - val_accuracy: 0.9453\n",
            "Epoch 145/200\n",
            "161/161 [==============================] - 91s 564ms/step - loss: 0.0262 - accuracy: 0.9922 - val_loss: 0.3389 - val_accuracy: 0.9469\n",
            "Epoch 146/200\n",
            "161/161 [==============================] - 92s 570ms/step - loss: 0.0218 - accuracy: 0.9918 - val_loss: 0.3721 - val_accuracy: 0.9312\n",
            "Epoch 147/200\n",
            "161/161 [==============================] - 91s 568ms/step - loss: 0.0274 - accuracy: 0.9910 - val_loss: 0.3531 - val_accuracy: 0.9352\n",
            "Epoch 148/200\n",
            "161/161 [==============================] - 91s 565ms/step - loss: 0.0238 - accuracy: 0.9916 - val_loss: 0.3513 - val_accuracy: 0.9375\n",
            "Epoch 149/200\n",
            "161/161 [==============================] - 91s 563ms/step - loss: 0.0285 - accuracy: 0.9891 - val_loss: 0.3748 - val_accuracy: 0.9266\n",
            "Epoch 150/200\n",
            "161/161 [==============================] - 92s 569ms/step - loss: 0.0223 - accuracy: 0.9922 - val_loss: 0.3802 - val_accuracy: 0.9328\n",
            "Epoch 151/200\n",
            "161/161 [==============================] - 93s 578ms/step - loss: 0.0248 - accuracy: 0.9906 - val_loss: 0.3122 - val_accuracy: 0.9422\n",
            "Epoch 152/200\n",
            "161/161 [==============================] - 92s 571ms/step - loss: 0.0238 - accuracy: 0.9926 - val_loss: 0.3367 - val_accuracy: 0.9375\n",
            "Epoch 153/200\n",
            "161/161 [==============================] - 91s 568ms/step - loss: 0.0217 - accuracy: 0.9918 - val_loss: 0.3111 - val_accuracy: 0.9367\n",
            "Epoch 154/200\n",
            "161/161 [==============================] - 91s 565ms/step - loss: 0.0178 - accuracy: 0.9934 - val_loss: 0.2999 - val_accuracy: 0.9414\n",
            "Epoch 155/200\n",
            "161/161 [==============================] - 92s 569ms/step - loss: 0.0219 - accuracy: 0.9924 - val_loss: 0.3179 - val_accuracy: 0.9398\n",
            "Epoch 156/200\n",
            "161/161 [==============================] - 91s 564ms/step - loss: 0.0235 - accuracy: 0.9916 - val_loss: 0.3658 - val_accuracy: 0.9391\n",
            "Epoch 157/200\n",
            "161/161 [==============================] - 92s 569ms/step - loss: 0.0216 - accuracy: 0.9910 - val_loss: 0.3228 - val_accuracy: 0.9359\n",
            "Epoch 158/200\n",
            "161/161 [==============================] - 92s 572ms/step - loss: 0.0256 - accuracy: 0.9916 - val_loss: 0.3269 - val_accuracy: 0.9352\n",
            "Epoch 159/200\n",
            "161/161 [==============================] - 92s 572ms/step - loss: 0.0245 - accuracy: 0.9916 - val_loss: 0.3283 - val_accuracy: 0.9375\n",
            "Epoch 160/200\n",
            "161/161 [==============================] - 91s 565ms/step - loss: 0.0299 - accuracy: 0.9895 - val_loss: 0.3524 - val_accuracy: 0.9375\n",
            "Epoch 161/200\n",
            "161/161 [==============================] - 92s 570ms/step - loss: 0.0214 - accuracy: 0.9926 - val_loss: 0.3579 - val_accuracy: 0.9328\n",
            "Epoch 162/200\n",
            "161/161 [==============================] - 92s 572ms/step - loss: 0.0213 - accuracy: 0.9926 - val_loss: 0.3547 - val_accuracy: 0.9344\n",
            "Epoch 163/200\n",
            "161/161 [==============================] - 91s 567ms/step - loss: 0.0229 - accuracy: 0.9930 - val_loss: 0.3207 - val_accuracy: 0.9383\n",
            "Epoch 164/200\n",
            "161/161 [==============================] - 91s 564ms/step - loss: 0.0240 - accuracy: 0.9918 - val_loss: 0.3729 - val_accuracy: 0.9336\n",
            "Epoch 165/200\n",
            "161/161 [==============================] - 91s 563ms/step - loss: 0.0196 - accuracy: 0.9934 - val_loss: 0.3131 - val_accuracy: 0.9398\n",
            "Epoch 166/200\n",
            "161/161 [==============================] - 91s 566ms/step - loss: 0.0223 - accuracy: 0.9920 - val_loss: 0.3214 - val_accuracy: 0.9438\n",
            "Epoch 167/200\n",
            "161/161 [==============================] - 92s 573ms/step - loss: 0.0238 - accuracy: 0.9920 - val_loss: 0.3343 - val_accuracy: 0.9359\n",
            "Epoch 168/200\n",
            "161/161 [==============================] - 92s 574ms/step - loss: 0.0181 - accuracy: 0.9922 - val_loss: 0.3445 - val_accuracy: 0.9430\n",
            "Epoch 169/200\n",
            "161/161 [==============================] - 91s 566ms/step - loss: 0.0198 - accuracy: 0.9930 - val_loss: 0.3717 - val_accuracy: 0.9281\n",
            "Epoch 170/200\n",
            "161/161 [==============================] - 91s 563ms/step - loss: 0.0225 - accuracy: 0.9918 - val_loss: 0.3544 - val_accuracy: 0.9328\n",
            "Epoch 171/200\n",
            "161/161 [==============================] - 90s 561ms/step - loss: 0.0231 - accuracy: 0.9916 - val_loss: 0.3446 - val_accuracy: 0.9359\n",
            "Epoch 172/200\n",
            "161/161 [==============================] - 90s 561ms/step - loss: 0.0216 - accuracy: 0.9930 - val_loss: 0.3551 - val_accuracy: 0.9406\n",
            "Epoch 173/200\n",
            "161/161 [==============================] - 91s 567ms/step - loss: 0.0213 - accuracy: 0.9930 - val_loss: 0.3669 - val_accuracy: 0.9406\n",
            "Epoch 174/200\n",
            "161/161 [==============================] - 91s 567ms/step - loss: 0.0172 - accuracy: 0.9951 - val_loss: 0.3370 - val_accuracy: 0.9367\n",
            "Epoch 175/200\n",
            "161/161 [==============================] - 93s 575ms/step - loss: 0.0217 - accuracy: 0.9926 - val_loss: 0.3526 - val_accuracy: 0.9391\n",
            "Epoch 176/200\n",
            "161/161 [==============================] - 92s 571ms/step - loss: 0.0230 - accuracy: 0.9916 - val_loss: 0.3872 - val_accuracy: 0.9367\n",
            "Epoch 177/200\n",
            "161/161 [==============================] - 92s 574ms/step - loss: 0.0236 - accuracy: 0.9918 - val_loss: 0.3156 - val_accuracy: 0.9422\n",
            "Epoch 178/200\n",
            "161/161 [==============================] - 93s 575ms/step - loss: 0.0277 - accuracy: 0.9893 - val_loss: 0.3608 - val_accuracy: 0.9383\n",
            "Epoch 179/200\n",
            "161/161 [==============================] - 91s 563ms/step - loss: 0.0213 - accuracy: 0.9922 - val_loss: 0.3912 - val_accuracy: 0.9352\n",
            "Epoch 180/200\n",
            "161/161 [==============================] - 90s 561ms/step - loss: 0.0199 - accuracy: 0.9930 - val_loss: 0.3153 - val_accuracy: 0.9445\n",
            "Epoch 181/200\n",
            "161/161 [==============================] - 90s 562ms/step - loss: 0.0259 - accuracy: 0.9908 - val_loss: 0.3407 - val_accuracy: 0.9430\n",
            "Epoch 182/200\n",
            "161/161 [==============================] - 90s 562ms/step - loss: 0.0190 - accuracy: 0.9928 - val_loss: 0.3484 - val_accuracy: 0.9414\n",
            "Epoch 183/200\n",
            "161/161 [==============================] - 91s 566ms/step - loss: 0.0192 - accuracy: 0.9922 - val_loss: 0.3240 - val_accuracy: 0.9398\n",
            "Epoch 184/200\n",
            "161/161 [==============================] - 92s 572ms/step - loss: 0.0238 - accuracy: 0.9905 - val_loss: 0.3418 - val_accuracy: 0.9406\n",
            "Epoch 185/200\n",
            "161/161 [==============================] - 91s 566ms/step - loss: 0.0246 - accuracy: 0.9906 - val_loss: 0.3555 - val_accuracy: 0.9438\n",
            "Epoch 186/200\n",
            "161/161 [==============================] - 91s 567ms/step - loss: 0.0248 - accuracy: 0.9908 - val_loss: 0.3181 - val_accuracy: 0.9406\n",
            "Epoch 187/200\n",
            "161/161 [==============================] - 91s 568ms/step - loss: 0.0177 - accuracy: 0.9932 - val_loss: 0.4012 - val_accuracy: 0.9320\n",
            "Epoch 188/200\n",
            "161/161 [==============================] - 90s 561ms/step - loss: 0.0239 - accuracy: 0.9922 - val_loss: 0.3318 - val_accuracy: 0.9406\n",
            "Epoch 189/200\n",
            "161/161 [==============================] - 91s 565ms/step - loss: 0.0188 - accuracy: 0.9938 - val_loss: 0.3261 - val_accuracy: 0.9398\n",
            "Epoch 190/200\n",
            "161/161 [==============================] - 92s 571ms/step - loss: 0.0228 - accuracy: 0.9920 - val_loss: 0.3831 - val_accuracy: 0.9312\n",
            "Epoch 191/200\n",
            "161/161 [==============================] - 91s 567ms/step - loss: 0.0222 - accuracy: 0.9930 - val_loss: 0.3795 - val_accuracy: 0.9352\n",
            "Epoch 192/200\n",
            "161/161 [==============================] - 92s 569ms/step - loss: 0.0247 - accuracy: 0.9901 - val_loss: 0.3842 - val_accuracy: 0.9305\n",
            "Epoch 193/200\n",
            "161/161 [==============================] - 92s 569ms/step - loss: 0.0228 - accuracy: 0.9922 - val_loss: 0.3477 - val_accuracy: 0.9414\n",
            "Epoch 194/200\n",
            "161/161 [==============================] - 92s 570ms/step - loss: 0.0232 - accuracy: 0.9916 - val_loss: 0.3459 - val_accuracy: 0.9367\n",
            "Epoch 195/200\n",
            "161/161 [==============================] - 93s 575ms/step - loss: 0.0212 - accuracy: 0.9924 - val_loss: 0.3654 - val_accuracy: 0.9344\n",
            "Epoch 196/200\n",
            "161/161 [==============================] - 90s 562ms/step - loss: 0.0221 - accuracy: 0.9912 - val_loss: 0.3290 - val_accuracy: 0.9383\n",
            "Epoch 197/200\n",
            "161/161 [==============================] - 92s 569ms/step - loss: 0.0212 - accuracy: 0.9940 - val_loss: 0.3330 - val_accuracy: 0.9414\n",
            "Epoch 198/200\n",
            "161/161 [==============================] - 93s 577ms/step - loss: 0.0201 - accuracy: 0.9926 - val_loss: 0.3094 - val_accuracy: 0.9430\n",
            "Epoch 199/200\n",
            "161/161 [==============================] - 92s 570ms/step - loss: 0.0240 - accuracy: 0.9916 - val_loss: 0.3542 - val_accuracy: 0.9422\n",
            "Epoch 200/200\n",
            "161/161 [==============================] - 91s 566ms/step - loss: 0.0282 - accuracy: 0.9887 - val_loss: 0.3508 - val_accuracy: 0.9352\n"
          ]
        }
      ]
    },
    {
      "cell_type": "code",
      "source": [
        "plot_history(dict_history=history_4, first_score=\"loss\", second_score=\"accuracy\")"
      ],
      "metadata": {
        "colab": {
          "base_uri": "https://localhost:8080/",
          "height": 378
        },
        "id": "tj8JxwjZZ0__",
        "outputId": "031cfd82-0d60-4223-b492-a9177497cdac"
      },
      "execution_count": null,
      "outputs": [
        {
          "output_type": "display_data",
          "data": {
            "text/plain": [
              "<Figure size 1800x720 with 2 Axes>"
            ],
            "image/png": "[encoded data removed]"
          },
          "metadata": {}
        }
      ]
    },
    {
      "cell_type": "code",
      "source": [
        "model.save(\"/content/drive/MyDrive/Colab Notebooks/paddy/paddy_resnet_fine_tuned_26_2\")\n",
        "print(\"the model is saved\")"
      ],
      "metadata": {
        "colab": {
          "base_uri": "https://localhost:8080/"
        },
        "id": "BYIg0XsjRm_6",
        "outputId": "b9172ff4-aa02-4bed-af4d-58aec405d451"
      },
      "execution_count": null,
      "outputs": [
        {
          "output_type": "stream",
          "name": "stdout",
          "text": [
            "INFO:tensorflow:Assets written to: /content/drive/MyDrive/Colab Notebooks/paddy/paddy_resnet_fine_tuned_26_2/assets\n",
            "the model is saved\n"
          ]
        }
      ]
    },
    {
      "cell_type": "code",
      "source": [
        "model = load_model(\n",
        "    \"/content/drive/MyDrive/Colab Notebooks/paddy/paddy_resnet_fine_tuned_26_2\"\n",
        ")"
      ],
      "metadata": {
        "id": "Qr5Sps3AGEg3"
      },
      "execution_count": null,
      "outputs": []
    },
    {
      "cell_type": "code",
      "source": [
        "# predict sur test set avec resnet_26 layers\n",
        "disease_pred = model.predict(test_generator, batch_size=32,)"
      ],
      "metadata": {
        "id": "clZnNwUnDPpx"
      },
      "execution_count": null,
      "outputs": []
    },
    {
      "cell_type": "code",
      "source": [
        "# formatting Kaggle submission\n",
        "predicted_class_indices = np.argmax(disease_pred, axis=1)\n",
        "print(set(predicted_class_indices))\n",
        "\n",
        "inv_map = {v: k for k, v in train_generator.class_indices.items()}\n",
        "\n",
        "predictions = [inv_map[k] for k in predicted_class_indices]"
      ],
      "metadata": {
        "colab": {
          "base_uri": "https://localhost:8080/"
        },
        "outputId": "076243b1-3c57-4557-adfd-811b84082827",
        "id": "bECnya4XDPpy"
      },
      "execution_count": null,
      "outputs": [
        {
          "output_type": "stream",
          "name": "stdout",
          "text": [
            "{0, 1, 2, 3, 4, 5, 6, 7, 8, 9}\n"
          ]
        }
      ]
    },
    {
      "cell_type": "code",
      "source": [
        "filenames = test_generator.filenames\n",
        "\n",
        "results = pd.DataFrame({\"image_id\": filenames, \"label\": predictions})\n",
        "results.image_id = results.image_id.str.replace(\"./\", \"\")\n",
        "results.to_csv(\"submission7.csv\", index=False)\n",
        "results.head()"
      ],
      "metadata": {
        "colab": {
          "base_uri": "https://localhost:8080/",
          "height": 261
        },
        "outputId": "ec0d080c-78ca-41f6-870f-163b3b926dc9",
        "id": "VNxlUf4VDPp0"
      },
      "execution_count": null,
      "outputs": [
        {
          "output_type": "stream",
          "name": "stderr",
          "text": [
            "/usr/local/lib/python3.7/dist-packages/ipykernel_launcher.py:5: FutureWarning: The default value of regex will change from True to False in a future version.\n",
            "  \"\"\"\n"
          ]
        },
        {
          "output_type": "execute_result",
          "data": {
            "text/plain": [
              "     image_id   label\n",
              "0  200001.jpg   hispa\n",
              "1  200002.jpg  normal\n",
              "2  200003.jpg   blast\n",
              "3  200004.jpg   blast\n",
              "4  200005.jpg   blast"
            ],
            "text/html": [
              "\n",
              "  <div id=\"df-ef1442c1-d9dd-4a73-9c7e-65cf38c9b030\">\n",
              "    <div class=\"colab-df-container\">\n",
              "      <div>\n",
              "<style scoped>\n",
              "    .dataframe tbody tr th:only-of-type {\n",
              "        vertical-align: middle;\n",
              "    }\n",
              "\n",
              "    .dataframe tbody tr th {\n",
              "        vertical-align: top;\n",
              "    }\n",
              "\n",
              "    .dataframe thead th {\n",
              "        text-align: right;\n",
              "    }\n",
              "</style>\n",
              "<table border=\"1\" class=\"dataframe\">\n",
              "  <thead>\n",
              "    <tr style=\"text-align: right;\">\n",
              "      <th></th>\n",
              "      <th>image_id</th>\n",
              "      <th>label</th>\n",
              "    </tr>\n",
              "  </thead>\n",
              "  <tbody>\n",
              "    <tr>\n",
              "      <th>0</th>\n",
              "      <td>200001.jpg</td>\n",
              "      <td>hispa</td>\n",
              "    </tr>\n",
              "    <tr>\n",
              "      <th>1</th>\n",
              "      <td>200002.jpg</td>\n",
              "      <td>normal</td>\n",
              "    </tr>\n",
              "    <tr>\n",
              "      <th>2</th>\n",
              "      <td>200003.jpg</td>\n",
              "      <td>blast</td>\n",
              "    </tr>\n",
              "    <tr>\n",
              "      <th>3</th>\n",
              "      <td>200004.jpg</td>\n",
              "      <td>blast</td>\n",
              "    </tr>\n",
              "    <tr>\n",
              "      <th>4</th>\n",
              "      <td>200005.jpg</td>\n",
              "      <td>blast</td>\n",
              "    </tr>\n",
              "  </tbody>\n",
              "</table>\n",
              "</div>\n",
              "      <button class=\"colab-df-convert\" onclick=\"convertToInteractive('df-ef1442c1-d9dd-4a73-9c7e-65cf38c9b030')\"\n",
              "              title=\"Convert this dataframe to an interactive table.\"\n",
              "              style=\"display:none;\">\n",
              "        \n",
              "  <svg xmlns=\"http://www.w3.org/2000/svg\" height=\"24px\"viewBox=\"0 0 24 24\"\n",
              "       width=\"24px\">\n",
              "    <path d=\"M0 0h24v24H0V0z\" fill=\"none\"/>\n",
              "    <path d=\"M18.56 5.44l.94 2.06.94-2.06 2.06-.94-2.06-.94-.94-2.06-.94 2.06-2.06.94zm-11 1L8.5 8.5l.94-2.06 2.06-.94-2.06-.94L8.5 2.5l-.94 2.06-2.06.94zm10 10l.94 2.06.94-2.06 2.06-.94-2.06-.94-.94-2.06-.94 2.06-2.06.94z\"/><path d=\"M17.41 7.96l-1.37-1.37c-.4-.4-.92-.59-1.43-.59-.52 0-1.04.2-1.43.59L10.3 9.45l-7.72 7.72c-.78.78-.78 2.05 0 2.83L4 21.41c.39.39.9.59 1.41.59.51 0 1.02-.2 1.41-.59l7.78-7.78 2.81-2.81c.8-.78.8-2.07 0-2.86zM5.41 20L4 18.59l7.72-7.72 1.47 1.35L5.41 20z\"/>\n",
              "  </svg>\n",
              "      </button>\n",
              "      \n",
              "  <style>\n",
              "    .colab-df-container {\n",
              "      display:flex;\n",
              "      flex-wrap:wrap;\n",
              "      gap: 12px;\n",
              "    }\n",
              "\n",
              "    .colab-df-convert {\n",
              "      background-color: #E8F0FE;\n",
              "      border: none;\n",
              "      border-radius: 50%;\n",
              "      cursor: pointer;\n",
              "      display: none;\n",
              "      fill: #1967D2;\n",
              "      height: 32px;\n",
              "      padding: 0 0 0 0;\n",
              "      width: 32px;\n",
              "    }\n",
              "\n",
              "    .colab-df-convert:hover {\n",
              "      background-color: #E2EBFA;\n",
              "      box-shadow: 0px 1px 2px rgba(60, 64, 67, 0.3), 0px 1px 3px 1px rgba(60, 64, 67, 0.15);\n",
              "      fill: #174EA6;\n",
              "    }\n",
              "\n",
              "    [theme=dark] .colab-df-convert {\n",
              "      background-color: #3B4455;\n",
              "      fill: #D2E3FC;\n",
              "    }\n",
              "\n",
              "    [theme=dark] .colab-df-convert:hover {\n",
              "      background-color: #434B5C;\n",
              "      box-shadow: 0px 1px 3px 1px rgba(0, 0, 0, 0.15);\n",
              "      filter: drop-shadow(0px 1px 2px rgba(0, 0, 0, 0.3));\n",
              "      fill: #FFFFFF;\n",
              "    }\n",
              "  </style>\n",
              "\n",
              "      <script>\n",
              "        const buttonEl =\n",
              "          document.querySelector('#df-ef1442c1-d9dd-4a73-9c7e-65cf38c9b030 button.colab-df-convert');\n",
              "        buttonEl.style.display =\n",
              "          google.colab.kernel.accessAllowed ? 'block' : 'none';\n",
              "\n",
              "        async function convertToInteractive(key) {\n",
              "          const element = document.querySelector('#df-ef1442c1-d9dd-4a73-9c7e-65cf38c9b030');\n",
              "          const dataTable =\n",
              "            await google.colab.kernel.invokeFunction('convertToInteractive',\n",
              "                                                     [key], {});\n",
              "          if (!dataTable) return;\n",
              "\n",
              "          const docLinkHtml = 'Like what you see? Visit the ' +\n",
              "            '<a target=\"_blank\" href=https://colab.research.google.com/notebooks/data_table.ipynb>data table notebook</a>'\n",
              "            + ' to learn more about interactive tables.';\n",
              "          element.innerHTML = '';\n",
              "          dataTable['output_type'] = 'display_data';\n",
              "          await google.colab.output.renderOutput(dataTable, element);\n",
              "          const docLink = document.createElement('div');\n",
              "          docLink.innerHTML = docLinkHtml;\n",
              "          element.appendChild(docLink);\n",
              "        }\n",
              "      </script>\n",
              "    </div>\n",
              "  </div>\n",
              "  "
            ]
          },
          "metadata": {},
          "execution_count": 28
        }
      ]
    }
  ],
  "metadata": {
    "colab": {
      "collapsed_sections": [],
      "machine_shape": "hm",
      "name": "P8_v6.ipynb",
      "provenance": [],
      "background_execution": "on"
    },
    "gpuClass": "standard",
    "kernelspec": {
      "display_name": "Python 3",
      "name": "python3"
    },
    "language_info": {
      "name": "python"
    },
    "accelerator": "GPU"
  },
  "nbformat": 4,
  "nbformat_minor": 0
}