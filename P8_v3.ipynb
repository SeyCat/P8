{
 "cells": [
  {
   "cell_type": "markdown",
   "source": [
    "**Paddy Doctor**"
   ],
   "metadata": {
    "id": "4A6mRA250mh2"
   }
  },
  {
   "cell_type": "markdown",
   "source": [
    "#Import data and libraries"
   ],
   "metadata": {
    "id": "2t7iQexe0qnD"
   }
  },
  {
   "cell_type": "markdown",
   "source": [
    ""
   ],
   "metadata": {
    "id": "v3jBpVkZ0Umq"
   }
  },
  {
   "cell_type": "code",
   "execution_count": 1,
   "metadata": {
    "colab": {
     "base_uri": "https://localhost:8080/"
    },
    "executionInfo": {
     "elapsed": 20468,
     "status": "ok",
     "timestamp": 1656943456564,
     "user": {
      "displayName": "Catherine Seytre",
      "userId": "18110368277065052224"
     },
     "user_tz": -120
    },
    "id": "uQ0TMZTjGHzM",
    "outputId": "82c0f15f-3490-4b6d-e090-2a9dc76d31ba"
   },
   "outputs": [
    {
     "output_type": "stream",
     "name": "stdout",
     "text": [
      "Mounted at /content/drive\n"
     ]
    }
   ],
   "source": [
    "from google.colab import drive\n",
    "\n",
    "drive.mount(\"/content/drive\")"
   ]
  },
  {
   "cell_type": "markdown",
   "source": [
    ""
   ],
   "metadata": {
    "id": "TIfaqO8Eo5ly"
   }
  },
  {
   "cell_type": "code",
   "execution_count": 2,
   "metadata": {
    "colab": {
     "base_uri": "https://localhost:8080/"
    },
    "executionInfo": {
     "elapsed": 11012,
     "status": "ok",
     "timestamp": 1656943470985,
     "user": {
      "displayName": "Catherine Seytre",
      "userId": "18110368277065052224"
     },
     "user_tz": -120
    },
    "id": "d63z9-G6aEWn",
    "outputId": "bdda5e12-9ccb-40b9-8510-514727c93bfc"
   },
   "outputs": [
    {
     "output_type": "stream",
     "name": "stdout",
     "text": [
      "Looking in indexes: https://pypi.org/simple, https://us-python.pkg.dev/colab-wheels/public/simple/\n",
      "Collecting tensorflow-addons\n",
      "  Downloading tensorflow_addons-0.17.1-cp37-cp37m-manylinux_2_17_x86_64.manylinux2014_x86_64.whl (1.1 MB)\n",
      "\u001b[K     |████████████████████████████████| 1.1 MB 14.8 MB/s \n",
      "\u001b[?25hRequirement already satisfied: typeguard>=2.7 in /usr/local/lib/python3.7/dist-packages (from tensorflow-addons) (2.7.1)\n",
      "Requirement already satisfied: packaging in /usr/local/lib/python3.7/dist-packages (from tensorflow-addons) (21.3)\n",
      "Requirement already satisfied: pyparsing!=3.0.5,>=2.0.2 in /usr/local/lib/python3.7/dist-packages (from packaging->tensorflow-addons) (3.0.9)\n",
      "Installing collected packages: tensorflow-addons\n",
      "Successfully installed tensorflow-addons-0.17.1\n",
      "\u001b[K     |████████████████████████████████| 133 kB 16.0 MB/s \n",
      "\u001b[?25h"
     ]
    }
   ],
   "source": [
    "# import librairies\n",
    "import os\n",
    "import warnings\n",
    "import numpy as np\n",
    "import pandas as pd\n",
    "import matplotlib.pyplot as plt\n",
    "\n",
    "import tensorflow as tf\n",
    "from tensorflow.keras import Model, optimizers\n",
    "from tensorflow.keras.applications import xception\n",
    "from tensorflow.keras.preprocessing import image\n",
    "from tensorflow.keras.preprocessing.image import ImageDataGenerator\n",
    "from tensorflow.keras.utils import plot_model\n",
    "from tensorflow.keras import backend as K\n",
    "from tensorflow.keras.models import load_model\n",
    "\n",
    "from tensorflow.keras.models import Model\n",
    "from tensorflow.keras.layers import Layer\n",
    "from tensorflow.keras.models import Sequential\n",
    "from tensorflow.keras.layers import BatchNormalization\n",
    "from tensorflow.keras.layers import AveragePooling2D\n",
    "from tensorflow.keras.layers import GlobalAveragePooling2D\n",
    "from tensorflow.keras.layers import MaxPooling2D\n",
    "from tensorflow.keras.layers import Conv2D\n",
    "from tensorflow.keras.layers import Activation\n",
    "from tensorflow.keras.layers import Dropout\n",
    "from tensorflow.keras.layers import Flatten\n",
    "from tensorflow.keras.layers import Input\n",
    "from tensorflow.keras.layers import Dense\n",
    "from tensorflow.keras.callbacks import Callback\n",
    "from tensorflow.keras.utils import to_categorical\n",
    "\n",
    "!pip install tensorflow-addons\n",
    "!pip install -q -U keras-tuner\n",
    "import tensorflow_addons as tfa\n",
    "import keras_tuner as kt\n",
    "\n",
    "from sklearn.preprocessing import LabelEncoder\n",
    "from sklearn.model_selection import train_test_split\n",
    "from sklearn.metrics import classification_report, confusion_matrix"
   ]
  },
  {
   "cell_type": "code",
   "execution_count": 3,
   "metadata": {
    "id": "Yb0umgHfGWOa",
    "executionInfo": {
     "status": "ok",
     "timestamp": 1656943813525,
     "user_tz": -120,
     "elapsed": 391,
     "user": {
      "displayName": "Catherine Seytre",
      "userId": "18110368277065052224"
     }
    }
   },
   "outputs": [],
   "source": [
    "train_path = \"/content/drive/MyDrive/Colab Notebooks/paddy/train_images\"\n",
    "test_path = \"/content/drive/MyDrive/Colab Notebooks/paddy/test_images\""
   ]
  },
  {
   "cell_type": "code",
   "execution_count": 4,
   "metadata": {
    "colab": {
     "base_uri": "https://localhost:8080/"
    },
    "executionInfo": {
     "elapsed": 792,
     "status": "ok",
     "timestamp": 1656943814728,
     "user": {
      "displayName": "Catherine Seytre",
      "userId": "18110368277065052224"
     },
     "user_tz": -120
    },
    "id": "7tWve3fTHAJw",
    "outputId": "ca057c91-9c57-4683-b8e3-bdcf9e72c792"
   },
   "outputs": [
    {
     "output_type": "stream",
     "name": "stdout",
     "text": [
      "['brown_spot', 'downy_mildew', 'tungro', 'hispa', 'normal', 'bacterial_leaf_streak', 'blast', 'dead_heart', 'bacterial_panicle_blight', 'bacterial_leaf_blight']\n",
      "Total diseases number: 10\n"
     ]
    }
   ],
   "source": [
    "disease_list = os.listdir(train_path)\n",
    "n_classes = len(disease_list)\n",
    "print(disease_list)\n",
    "print(\"Total diseases number:\", n_classes)"
   ]
  },
  {
   "cell_type": "code",
   "source": [
    "# Counts the number of training and testing samples in the directories\n",
    "training_samples = sum([len(files) for r, d, files in os.walk(train_path)])\n",
    "testing_samples = sum([len(files) for r, d, files in os.walk(test_path)])"
   ],
   "metadata": {
    "id": "d56_ypTDtRUr"
   },
   "execution_count": null,
   "outputs": []
  },
  {
   "cell_type": "code",
   "source": [
    "print(training_samples)\n",
    "print(testing_samples)"
   ],
   "metadata": {
    "colab": {
     "base_uri": "https://localhost:8080/"
    },
    "id": "T9PM2a6c1vfT",
    "executionInfo": {
     "status": "ok",
     "timestamp": 1656512561836,
     "user_tz": -120,
     "elapsed": 1524,
     "user": {
      "displayName": "Catherine Seytre",
      "userId": "18110368277065052224"
     }
    },
    "outputId": "aefb07c2-d1d0-4a94-d870-e6e159e19329"
   },
   "execution_count": null,
   "outputs": [
    {
     "output_type": "stream",
     "name": "stdout",
     "text": [
      "6411\n",
      "3469\n"
     ]
    }
   ]
  },
  {
   "cell_type": "markdown",
   "source": [
    "## ResNet152v2"
   ],
   "metadata": {
    "id": "cQFqnYjn6JIT"
   }
  },
  {
   "cell_type": "markdown",
   "source": [
    "### preprocessing"
   ],
   "metadata": {
    "id": "f8RDstJ5rB4e"
   }
  },
  {
   "cell_type": "code",
   "source": [
    "img_width = 200\n",
    "img_height = 200\n",
    "batch_size = 32\n",
    "\n",
    "epochs = 100\n",
    "epochs_ft = 200\n",
    "\n",
    "nb_classes = 10"
   ],
   "metadata": {
    "id": "NGRDt7sYC_ix"
   },
   "execution_count": null,
   "outputs": []
  },
  {
   "cell_type": "code",
   "source": [
    "train_datagen = ImageDataGenerator(\n",
    "    rotation_range=20,\n",
    "    width_shift_range=0.3,\n",
    "    height_shift_range=0.2,\n",
    "    shear_range=0.3,\n",
    "    zoom_range=0.3,\n",
    "    horizontal_flip=True,\n",
    "    vertical_flip=False,\n",
    "    validation_split=0.2,\n",
    "    preprocessing_function=tf.keras.applications.resnet_v2.preprocess_input,\n",
    ")\n",
    "\n",
    "test_datagen = ImageDataGenerator(\n",
    "    preprocessing_function=tf.keras.applications.resnet_v2.preprocess_input\n",
    ")"
   ],
   "metadata": {
    "id": "AUok5I6NC_f_"
   },
   "execution_count": null,
   "outputs": []
  },
  {
   "cell_type": "code",
   "source": [
    "train_generator = train_datagen.flow_from_directory(\n",
    "    train_path,\n",
    "    subset=\"training\",\n",
    "    target_size=(img_width, img_height),\n",
    "    batch_size=batch_size,\n",
    "    class_mode=\"categorical\",\n",
    ")\n",
    "\n",
    "valid_generator = train_datagen.flow_from_directory(\n",
    "    train_path,\n",
    "    subset=\"validation\",\n",
    "    target_size=(img_width, img_height),\n",
    "    batch_size=batch_size,\n",
    "    class_mode=\"categorical\",\n",
    ")"
   ],
   "metadata": {
    "colab": {
     "base_uri": "https://localhost:8080/"
    },
    "id": "CtEbDkjdC_dc",
    "executionInfo": {
     "status": "ok",
     "timestamp": 1656850928930,
     "user_tz": -120,
     "elapsed": 509,
     "user": {
      "displayName": "Catherine Seytre",
      "userId": "18110368277065052224"
     }
    },
    "outputId": "d79fe54a-3a6c-4118-99a6-fdb689649775"
   },
   "execution_count": null,
   "outputs": [
    {
     "output_type": "stream",
     "name": "stdout",
     "text": [
      "Found 5131 images belonging to 10 classes.\n",
      "Found 1280 images belonging to 10 classes.\n"
     ]
    }
   ]
  },
  {
   "cell_type": "code",
   "source": [
    "# images for prediction\n",
    "test_generator = test_datagen.flow_from_directory(\n",
    "    directory=test_path,\n",
    "    target_size=(img_width, img_height),\n",
    "    batch_size=batch_size,\n",
    "    classes=[\".\"],\n",
    "    shuffle=False,\n",
    ")"
   ],
   "metadata": {
    "colab": {
     "base_uri": "https://localhost:8080/"
    },
    "id": "ZW7cSagyaC4m",
    "executionInfo": {
     "status": "ok",
     "timestamp": 1656850940819,
     "user_tz": -120,
     "elapsed": 551,
     "user": {
      "displayName": "Catherine Seytre",
      "userId": "18110368277065052224"
     }
    },
    "outputId": "94c84e35-c05d-4db4-c3a3-7c166737a49b"
   },
   "execution_count": null,
   "outputs": [
    {
     "output_type": "stream",
     "name": "stdout",
     "text": [
      "Found 3469 images belonging to 1 classes.\n"
     ]
    }
   ]
  },
  {
   "cell_type": "code",
   "execution_count": null,
   "metadata": {
    "id": "Sla0CfNASYVl"
   },
   "outputs": [],
   "source": [
    "# f1_score from tensorflow_addons\n",
    "f1_tfa = tfa.metrics.F1Score(num_classes=n_classes, average=\"macro\")"
   ]
  },
  {
   "cell_type": "code",
   "execution_count": null,
   "metadata": {
    "id": "ZeOEXuDlSYSx"
   },
   "outputs": [],
   "source": [
    "def plot_history(dict_history, first_score, second_score):\n",
    "\n",
    "    \"\"\"\n",
    "creates two subplots for plotting 2 different metrics\n",
    "called first_score and second_score against epoch number,\n",
    "values obtained from the train and the validation datasets\n",
    "are visualized\n",
    "  \"\"\"\n",
    "\n",
    "    with plt.style.context(\"seaborn-whitegrid\"):\n",
    "        fig = plt.figure(figsize=(25, 10))\n",
    "\n",
    "        # first suplot\n",
    "        plt.subplot(1, 2, 1)\n",
    "        plt.plot(dict_history.history[first_score], color=\"g\")\n",
    "        plt.plot(\n",
    "            dict_history.history[\"val_\" + first_score], linestyle=\"--\", color=\"orange\"\n",
    "        )\n",
    "        plt.title(\n",
    "            \"Pre-trained ResNet152v2 on Paddy dataset \" + first_score, fontsize=18\n",
    "        )\n",
    "        plt.ylabel(first_score)\n",
    "        plt.xlabel(\"epoch\")\n",
    "        plt.legend([\"train\", \"validation\"], loc=\"upper left\")\n",
    "\n",
    "        # second subplot\n",
    "        plt.subplot(1, 2, 2)\n",
    "        plt.plot(dict_history.history[second_score], color=\"g\")\n",
    "        plt.plot(\n",
    "            dict_history.history[\"val_\" + second_score], linestyle=\"--\", color=\"orange\"\n",
    "        )\n",
    "        plt.title(\n",
    "            \"Pre-trained ResNet152v2 on Paddy dataset \" + second_score, fontsize=18\n",
    "        )\n",
    "        plt.ylabel(second_score)\n",
    "        plt.xlabel(\"epoch\")\n",
    "        plt.legend([\"train\", \"validation\"], loc=\"upper left\")\n",
    "        plt.show()"
   ]
  },
  {
   "cell_type": "markdown",
   "source": [
    "##Model building"
   ],
   "metadata": {
    "id": "inUEdhscOLeJ"
   }
  },
  {
   "cell_type": "markdown",
   "source": [
    "### hyperparameter tuning"
   ],
   "metadata": {
    "id": "PiASaVqrns1g"
   }
  },
  {
   "cell_type": "code",
   "source": [
    "def build_model(hp):\n",
    "    model = Sequential()\n",
    "    model.add(\n",
    "        tf.keras.applications.ResNet152V2(\n",
    "            include_top=False, weights=\"imagenet\", input_shape=(200, 200, 3),\n",
    "        )\n",
    "    )\n",
    "    model.add(AveragePooling2D(pool_size=(7, 7)))\n",
    "    model.add(Flatten(name=\"flatten\"))\n",
    "    model.add(\n",
    "        Dense(\n",
    "            units=hp.Int(\"units\", min_value=128, max_value=512, step=32),\n",
    "            activation=\"relu\",\n",
    "        )\n",
    "    )\n",
    "    model.add(Dropout(0.5))\n",
    "    model.add(Dense(10, activation=\"softmax\"))\n",
    "\n",
    "    model.compile(\n",
    "        optimizer=opt, loss=\"categorical_crossentropy\", metrics=[\"accuracy\"],\n",
    "    )\n",
    "    return model"
   ],
   "metadata": {
    "id": "My4tDt7Zvy4D"
   },
   "execution_count": null,
   "outputs": []
  },
  {
   "cell_type": "code",
   "source": [
    "from tensorflow.keras.layers import Reshape\n",
    "\n",
    "# preparation tuner\n",
    "tuner_resnet_top = kt.Hyperband(\n",
    "    build_model, objective=\"val_accuracy\", max_epochs=10, factor=3\n",
    ")"
   ],
   "metadata": {
    "colab": {
     "base_uri": "https://localhost:8080/"
    },
    "id": "jeKRKNoMDg-A",
    "executionInfo": {
     "status": "ok",
     "timestamp": 1656851804930,
     "user_tz": -120,
     "elapsed": 5104,
     "user": {
      "displayName": "Catherine Seytre",
      "userId": "18110368277065052224"
     }
    },
    "outputId": "cc3f86d4-1eba-476a-c8be-37998f7d168a"
   },
   "execution_count": null,
   "outputs": [
    {
     "output_type": "stream",
     "name": "stdout",
     "text": [
      "INFO:tensorflow:Reloading Oracle from existing project ./untitled_project/oracle.json\n"
     ]
    }
   ]
  },
  {
   "cell_type": "markdown",
   "source": [
    "#### Callbacks"
   ],
   "metadata": {
    "id": "sIHUJxy1oOMO"
   }
  },
  {
   "cell_type": "code",
   "source": [
    "# callbacks : early stopping\n",
    "early_stp = tf.keras.callbacks.EarlyStopping(monitor=\"val_loss\", patience=3)"
   ],
   "metadata": {
    "id": "pzVTyIXTDy05"
   },
   "execution_count": null,
   "outputs": []
  },
  {
   "cell_type": "code",
   "source": [
    "def scheduler(epoch, lr):\n",
    "    if epoch < 10:\n",
    "        return lr\n",
    "    else:\n",
    "        return lr * tf.math.exp(-0.1)\n",
    "\n",
    "\n",
    "schedul = tf.keras.callbacks.LearningRateScheduler(scheduler)"
   ],
   "metadata": {
    "id": "-vKyiyOABucp"
   },
   "execution_count": null,
   "outputs": []
  },
  {
   "cell_type": "code",
   "source": [
    "tuner_resnet_top.search(\n",
    "    train_generator,\n",
    "    batch_size=batch_size,\n",
    "    validation_data=valid_generator,\n",
    "    epochs=30,\n",
    "    callbacks=[early_stp],\n",
    ")"
   ],
   "metadata": {
    "id": "ZhfMo8bjDy06"
   },
   "execution_count": null,
   "outputs": []
  },
  {
   "cell_type": "markdown",
   "source": [
    "best 'dense units' = 416"
   ],
   "metadata": {
    "id": "-LTZpiHTmXfW"
   }
  },
  {
   "cell_type": "markdown",
   "source": [
    "### training top layers"
   ],
   "metadata": {
    "id": "YjyrzgC6nyC0"
   }
  },
  {
   "cell_type": "code",
   "source": [
    "# Adds new top to base model\n",
    "def add_top(base):\n",
    "    x = base.output\n",
    "    x = GlobalAveragePooling2D()(x)\n",
    "    x = Dense(416, activation=\"relu\")(x)\n",
    "\n",
    "    predictions = Dense(nb_classes, activation=\"softmax\")(x)  # Output layer\n",
    "\n",
    "    return Model(inputs=base.input, outputs=predictions)"
   ],
   "metadata": {
    "id": "MeISXdheiXAP"
   },
   "execution_count": null,
   "outputs": []
  },
  {
   "cell_type": "code",
   "source": [
    "# optimizer AdaBelief\n",
    "opt = tfa.optimizers.AdaBelief(\n",
    "    learning_rate=1e-3,\n",
    "    total_steps=10000,\n",
    "    warmup_proportion=0.1,\n",
    "    min_lr=1e-6,\n",
    "    rectify=True,\n",
    ")"
   ],
   "metadata": {
    "id": "2BYWKBQfiXAQ"
   },
   "execution_count": null,
   "outputs": []
  },
  {
   "cell_type": "code",
   "source": [
    "# Adabelief + lookahead\n",
    "ranger = tfa.optimizers.Lookahead(opt, sync_period=6, slow_step_size=0.5)"
   ],
   "metadata": {
    "id": "fMMgFIOjGfgP"
   },
   "execution_count": null,
   "outputs": []
  },
  {
   "cell_type": "code",
   "source": [
    "# Sets up model for transfer learning\n",
    "def setup_model(model, base):\n",
    "\n",
    "    for layer in base.layers:\n",
    "        layer.trainable = False  # freeze base layers\n",
    "\n",
    "    model.compile(loss=\"categorical_crossentropy\", optimizer=opt, metrics=[\"accuracy\"])"
   ],
   "metadata": {
    "id": "7SjEQCT5iXAR"
   },
   "execution_count": null,
   "outputs": []
  },
  {
   "cell_type": "code",
   "source": [
    "# Import the ResNet152v2 model to use as the base for our model\n",
    "resnet_base = tf.keras.applications.ResNet152V2(\n",
    "    input_shape=(img_width, img_height, 3), include_top=False, weights=\"imagenet\"\n",
    ")\n",
    "\n",
    "model = add_top(resnet_base)\n",
    "setup_model(model, resnet_base)"
   ],
   "metadata": {
    "id": "yjYab78qiXAS"
   },
   "execution_count": null,
   "outputs": []
  },
  {
   "cell_type": "code",
   "source": [
    "# Train new top layers\n",
    "model.fit(\n",
    "    train_generator, epochs=epochs, validation_data=valid_generator, verbose=1,\n",
    ")"
   ],
   "metadata": {
    "colab": {
     "base_uri": "https://localhost:8080/"
    },
    "id": "PcHl2sAunnGk",
    "executionInfo": {
     "status": "ok",
     "timestamp": 1656870545270,
     "user_tz": -120,
     "elapsed": 9352381,
     "user": {
      "displayName": "Catherine Seytre",
      "userId": "18110368277065052224"
     }
    },
    "outputId": "d7e0d554-e769-42aa-c25b-c1310b16ce48"
   },
   "execution_count": null,
   "outputs": [
    {
     "output_type": "stream",
     "name": "stdout",
     "text": [
      "Epoch 1/100\n",
      "161/161 [==============================] - 108s 617ms/step - loss: 2.5057 - accuracy: 0.1360 - val_loss: 2.1760 - val_accuracy: 0.2188\n",
      "Epoch 2/100\n",
      "161/161 [==============================] - 95s 593ms/step - loss: 1.9965 - accuracy: 0.2752 - val_loss: 1.8900 - val_accuracy: 0.3195\n",
      "Epoch 3/100\n",
      "161/161 [==============================] - 96s 596ms/step - loss: 1.7648 - accuracy: 0.3843 - val_loss: 1.6728 - val_accuracy: 0.4070\n",
      "Epoch 4/100\n",
      "161/161 [==============================] - 96s 594ms/step - loss: 1.6304 - accuracy: 0.4323 - val_loss: 1.7067 - val_accuracy: 0.4234\n",
      "Epoch 5/100\n",
      "161/161 [==============================] - 95s 589ms/step - loss: 1.5705 - accuracy: 0.4523 - val_loss: 1.5369 - val_accuracy: 0.4742\n",
      "Epoch 6/100\n",
      "161/161 [==============================] - 95s 589ms/step - loss: 1.4972 - accuracy: 0.4810 - val_loss: 1.5004 - val_accuracy: 0.4883\n",
      "Epoch 7/100\n",
      "161/161 [==============================] - 94s 587ms/step - loss: 1.4602 - accuracy: 0.5017 - val_loss: 1.3917 - val_accuracy: 0.5148\n",
      "Epoch 8/100\n",
      "161/161 [==============================] - 94s 582ms/step - loss: 1.3573 - accuracy: 0.5346 - val_loss: 1.3995 - val_accuracy: 0.5406\n",
      "Epoch 9/100\n",
      "161/161 [==============================] - 94s 582ms/step - loss: 1.3076 - accuracy: 0.5549 - val_loss: 1.4436 - val_accuracy: 0.5000\n",
      "Epoch 10/100\n",
      "161/161 [==============================] - 93s 578ms/step - loss: 1.2851 - accuracy: 0.5634 - val_loss: 1.3076 - val_accuracy: 0.5570\n",
      "Epoch 11/100\n",
      "161/161 [==============================] - 93s 578ms/step - loss: 1.2358 - accuracy: 0.5798 - val_loss: 1.3097 - val_accuracy: 0.5484\n",
      "Epoch 12/100\n",
      "161/161 [==============================] - 94s 581ms/step - loss: 1.1897 - accuracy: 0.5950 - val_loss: 1.2926 - val_accuracy: 0.5688\n",
      "Epoch 13/100\n",
      "161/161 [==============================] - 93s 580ms/step - loss: 1.1703 - accuracy: 0.5942 - val_loss: 1.2437 - val_accuracy: 0.5891\n",
      "Epoch 14/100\n",
      "161/161 [==============================] - 93s 580ms/step - loss: 1.1433 - accuracy: 0.6094 - val_loss: 1.2342 - val_accuracy: 0.5719\n",
      "Epoch 15/100\n",
      "161/161 [==============================] - 93s 579ms/step - loss: 1.0971 - accuracy: 0.6246 - val_loss: 1.1969 - val_accuracy: 0.5984\n",
      "Epoch 16/100\n",
      "161/161 [==============================] - 93s 576ms/step - loss: 1.0528 - accuracy: 0.6363 - val_loss: 1.2716 - val_accuracy: 0.5617\n",
      "Epoch 17/100\n",
      "161/161 [==============================] - 93s 580ms/step - loss: 1.0463 - accuracy: 0.6398 - val_loss: 1.1111 - val_accuracy: 0.6055\n",
      "Epoch 18/100\n",
      "161/161 [==============================] - 93s 579ms/step - loss: 1.0127 - accuracy: 0.6570 - val_loss: 1.1551 - val_accuracy: 0.6203\n",
      "Epoch 19/100\n",
      "161/161 [==============================] - 94s 583ms/step - loss: 1.0035 - accuracy: 0.6560 - val_loss: 1.0914 - val_accuracy: 0.6414\n",
      "Epoch 20/100\n",
      "161/161 [==============================] - 95s 591ms/step - loss: 0.9736 - accuracy: 0.6722 - val_loss: 1.0625 - val_accuracy: 0.6422\n",
      "Epoch 21/100\n",
      "161/161 [==============================] - 93s 581ms/step - loss: 0.9692 - accuracy: 0.6685 - val_loss: 1.1811 - val_accuracy: 0.6141\n",
      "Epoch 22/100\n",
      "161/161 [==============================] - 93s 577ms/step - loss: 0.9434 - accuracy: 0.6763 - val_loss: 1.1251 - val_accuracy: 0.6336\n",
      "Epoch 23/100\n",
      "161/161 [==============================] - 94s 582ms/step - loss: 0.8980 - accuracy: 0.6911 - val_loss: 1.0401 - val_accuracy: 0.6633\n",
      "Epoch 24/100\n",
      "161/161 [==============================] - 94s 582ms/step - loss: 0.9064 - accuracy: 0.6977 - val_loss: 1.1283 - val_accuracy: 0.6398\n",
      "Epoch 25/100\n",
      "161/161 [==============================] - 93s 579ms/step - loss: 0.8757 - accuracy: 0.7045 - val_loss: 1.0102 - val_accuracy: 0.6555\n",
      "Epoch 26/100\n",
      "161/161 [==============================] - 94s 583ms/step - loss: 0.8660 - accuracy: 0.7036 - val_loss: 1.0419 - val_accuracy: 0.6469\n",
      "Epoch 27/100\n",
      "161/161 [==============================] - 93s 580ms/step - loss: 0.8492 - accuracy: 0.7110 - val_loss: 1.0315 - val_accuracy: 0.6570\n",
      "Epoch 28/100\n",
      "161/161 [==============================] - 93s 577ms/step - loss: 0.8199 - accuracy: 0.7195 - val_loss: 1.0063 - val_accuracy: 0.6703\n",
      "Epoch 29/100\n",
      "161/161 [==============================] - 93s 580ms/step - loss: 0.8344 - accuracy: 0.7180 - val_loss: 0.9483 - val_accuracy: 0.6812\n",
      "Epoch 30/100\n",
      "161/161 [==============================] - 93s 579ms/step - loss: 0.8271 - accuracy: 0.7252 - val_loss: 1.0395 - val_accuracy: 0.6516\n",
      "Epoch 31/100\n",
      "161/161 [==============================] - 93s 581ms/step - loss: 0.8181 - accuracy: 0.7215 - val_loss: 0.9323 - val_accuracy: 0.6852\n",
      "Epoch 32/100\n",
      "161/161 [==============================] - 93s 580ms/step - loss: 0.7851 - accuracy: 0.7361 - val_loss: 0.9470 - val_accuracy: 0.6891\n",
      "Epoch 33/100\n",
      "161/161 [==============================] - 94s 582ms/step - loss: 0.7842 - accuracy: 0.7342 - val_loss: 1.0211 - val_accuracy: 0.6586\n",
      "Epoch 34/100\n",
      "161/161 [==============================] - 93s 575ms/step - loss: 0.7521 - accuracy: 0.7410 - val_loss: 0.9834 - val_accuracy: 0.6867\n",
      "Epoch 35/100\n",
      "161/161 [==============================] - 93s 579ms/step - loss: 0.7615 - accuracy: 0.7390 - val_loss: 0.9427 - val_accuracy: 0.6922\n",
      "Epoch 36/100\n",
      "161/161 [==============================] - 94s 584ms/step - loss: 0.7463 - accuracy: 0.7476 - val_loss: 0.8835 - val_accuracy: 0.7258\n",
      "Epoch 37/100\n",
      "161/161 [==============================] - 93s 580ms/step - loss: 0.7214 - accuracy: 0.7552 - val_loss: 0.9300 - val_accuracy: 0.6922\n",
      "Epoch 38/100\n",
      "161/161 [==============================] - 93s 580ms/step - loss: 0.7172 - accuracy: 0.7609 - val_loss: 0.8915 - val_accuracy: 0.7063\n",
      "Epoch 39/100\n",
      "161/161 [==============================] - 93s 581ms/step - loss: 0.6979 - accuracy: 0.7613 - val_loss: 0.9036 - val_accuracy: 0.7055\n",
      "Epoch 40/100\n",
      "161/161 [==============================] - 93s 576ms/step - loss: 0.6973 - accuracy: 0.7648 - val_loss: 0.8887 - val_accuracy: 0.7188\n",
      "Epoch 41/100\n",
      "161/161 [==============================] - 93s 581ms/step - loss: 0.6858 - accuracy: 0.7624 - val_loss: 0.8715 - val_accuracy: 0.7094\n",
      "Epoch 42/100\n",
      "161/161 [==============================] - 93s 578ms/step - loss: 0.6769 - accuracy: 0.7729 - val_loss: 0.8419 - val_accuracy: 0.7109\n",
      "Epoch 43/100\n",
      "161/161 [==============================] - 93s 577ms/step - loss: 0.6660 - accuracy: 0.7767 - val_loss: 0.8601 - val_accuracy: 0.7344\n",
      "Epoch 44/100\n",
      "161/161 [==============================] - 93s 578ms/step - loss: 0.6374 - accuracy: 0.7870 - val_loss: 0.8551 - val_accuracy: 0.7188\n",
      "Epoch 45/100\n",
      "161/161 [==============================] - 93s 580ms/step - loss: 0.6372 - accuracy: 0.7811 - val_loss: 0.8566 - val_accuracy: 0.7141\n",
      "Epoch 46/100\n",
      "161/161 [==============================] - 93s 575ms/step - loss: 0.6339 - accuracy: 0.7827 - val_loss: 0.8586 - val_accuracy: 0.7305\n",
      "Epoch 47/100\n",
      "161/161 [==============================] - 93s 580ms/step - loss: 0.6048 - accuracy: 0.7942 - val_loss: 0.8371 - val_accuracy: 0.7297\n",
      "Epoch 48/100\n",
      "161/161 [==============================] - 95s 589ms/step - loss: 0.6157 - accuracy: 0.7891 - val_loss: 0.8252 - val_accuracy: 0.7258\n",
      "Epoch 49/100\n",
      "161/161 [==============================] - 94s 584ms/step - loss: 0.6174 - accuracy: 0.7901 - val_loss: 0.7894 - val_accuracy: 0.7422\n",
      "Epoch 50/100\n",
      "161/161 [==============================] - 93s 579ms/step - loss: 0.5883 - accuracy: 0.8049 - val_loss: 0.8047 - val_accuracy: 0.7359\n",
      "Epoch 51/100\n",
      "161/161 [==============================] - 93s 577ms/step - loss: 0.5990 - accuracy: 0.7983 - val_loss: 0.8210 - val_accuracy: 0.7242\n",
      "Epoch 52/100\n",
      "161/161 [==============================] - 92s 572ms/step - loss: 0.5702 - accuracy: 0.8063 - val_loss: 0.7657 - val_accuracy: 0.7563\n",
      "Epoch 53/100\n",
      "161/161 [==============================] - 93s 581ms/step - loss: 0.5694 - accuracy: 0.8090 - val_loss: 0.8128 - val_accuracy: 0.7430\n",
      "Epoch 54/100\n",
      "161/161 [==============================] - 93s 577ms/step - loss: 0.5409 - accuracy: 0.8160 - val_loss: 0.8401 - val_accuracy: 0.7320\n",
      "Epoch 55/100\n",
      "161/161 [==============================] - 93s 577ms/step - loss: 0.5565 - accuracy: 0.8061 - val_loss: 0.7484 - val_accuracy: 0.7539\n",
      "Epoch 56/100\n",
      "161/161 [==============================] - 93s 577ms/step - loss: 0.5511 - accuracy: 0.8094 - val_loss: 0.7067 - val_accuracy: 0.7633\n",
      "Epoch 57/100\n",
      "161/161 [==============================] - 93s 578ms/step - loss: 0.5591 - accuracy: 0.8147 - val_loss: 0.7482 - val_accuracy: 0.7570\n",
      "Epoch 58/100\n",
      "161/161 [==============================] - 93s 577ms/step - loss: 0.5315 - accuracy: 0.8215 - val_loss: 0.7789 - val_accuracy: 0.7492\n",
      "Epoch 59/100\n",
      "161/161 [==============================] - 94s 583ms/step - loss: 0.5229 - accuracy: 0.8262 - val_loss: 0.7704 - val_accuracy: 0.7492\n",
      "Epoch 60/100\n",
      "161/161 [==============================] - 93s 581ms/step - loss: 0.5336 - accuracy: 0.8199 - val_loss: 0.7586 - val_accuracy: 0.7586\n",
      "Epoch 61/100\n",
      "161/161 [==============================] - 93s 581ms/step - loss: 0.5273 - accuracy: 0.8236 - val_loss: 0.7383 - val_accuracy: 0.7547\n",
      "Epoch 62/100\n",
      "161/161 [==============================] - 94s 582ms/step - loss: 0.5271 - accuracy: 0.8267 - val_loss: 0.7367 - val_accuracy: 0.7625\n",
      "Epoch 63/100\n",
      "161/161 [==============================] - 93s 580ms/step - loss: 0.5257 - accuracy: 0.8287 - val_loss: 0.7633 - val_accuracy: 0.7563\n",
      "Epoch 64/100\n",
      "161/161 [==============================] - 92s 572ms/step - loss: 0.5267 - accuracy: 0.8240 - val_loss: 0.7538 - val_accuracy: 0.7617\n",
      "Epoch 65/100\n",
      "161/161 [==============================] - 93s 579ms/step - loss: 0.5185 - accuracy: 0.8302 - val_loss: 0.7399 - val_accuracy: 0.7570\n",
      "Epoch 66/100\n",
      "161/161 [==============================] - 93s 579ms/step - loss: 0.5109 - accuracy: 0.8338 - val_loss: 0.7535 - val_accuracy: 0.7672\n",
      "Epoch 67/100\n",
      "161/161 [==============================] - 93s 578ms/step - loss: 0.5203 - accuracy: 0.8297 - val_loss: 0.7112 - val_accuracy: 0.7656\n",
      "Epoch 68/100\n",
      "161/161 [==============================] - 93s 579ms/step - loss: 0.5221 - accuracy: 0.8277 - val_loss: 0.7079 - val_accuracy: 0.7688\n",
      "Epoch 69/100\n",
      "161/161 [==============================] - 93s 579ms/step - loss: 0.5190 - accuracy: 0.8301 - val_loss: 0.7809 - val_accuracy: 0.7539\n",
      "Epoch 70/100\n",
      "161/161 [==============================] - 92s 574ms/step - loss: 0.5280 - accuracy: 0.8195 - val_loss: 0.7663 - val_accuracy: 0.7578\n",
      "Epoch 71/100\n",
      "161/161 [==============================] - 93s 577ms/step - loss: 0.5230 - accuracy: 0.8283 - val_loss: 0.7601 - val_accuracy: 0.7531\n",
      "Epoch 72/100\n",
      "161/161 [==============================] - 93s 576ms/step - loss: 0.5128 - accuracy: 0.8293 - val_loss: 0.7672 - val_accuracy: 0.7586\n",
      "Epoch 73/100\n",
      "161/161 [==============================] - 93s 578ms/step - loss: 0.5179 - accuracy: 0.8299 - val_loss: 0.7685 - val_accuracy: 0.7648\n",
      "Epoch 74/100\n",
      "161/161 [==============================] - 93s 580ms/step - loss: 0.5177 - accuracy: 0.8295 - val_loss: 0.7030 - val_accuracy: 0.7703\n",
      "Epoch 75/100\n",
      "161/161 [==============================] - 93s 580ms/step - loss: 0.5227 - accuracy: 0.8301 - val_loss: 0.7579 - val_accuracy: 0.7477\n",
      "Epoch 76/100\n",
      "161/161 [==============================] - 94s 582ms/step - loss: 0.5005 - accuracy: 0.8306 - val_loss: 0.7226 - val_accuracy: 0.7750\n",
      "Epoch 77/100\n",
      "161/161 [==============================] - 93s 580ms/step - loss: 0.5286 - accuracy: 0.8223 - val_loss: 0.7557 - val_accuracy: 0.7633\n",
      "Epoch 78/100\n",
      "161/161 [==============================] - 94s 583ms/step - loss: 0.5271 - accuracy: 0.8285 - val_loss: 0.7149 - val_accuracy: 0.7750\n",
      "Epoch 79/100\n",
      "161/161 [==============================] - 93s 578ms/step - loss: 0.5140 - accuracy: 0.8380 - val_loss: 0.7232 - val_accuracy: 0.7648\n",
      "Epoch 80/100\n",
      "161/161 [==============================] - 93s 577ms/step - loss: 0.5106 - accuracy: 0.8273 - val_loss: 0.7597 - val_accuracy: 0.7586\n",
      "Epoch 81/100\n",
      "161/161 [==============================] - 93s 577ms/step - loss: 0.5199 - accuracy: 0.8263 - val_loss: 0.7411 - val_accuracy: 0.7633\n",
      "Epoch 82/100\n",
      "161/161 [==============================] - 93s 577ms/step - loss: 0.5066 - accuracy: 0.8301 - val_loss: 0.7576 - val_accuracy: 0.7469\n",
      "Epoch 83/100\n",
      "161/161 [==============================] - 93s 578ms/step - loss: 0.5228 - accuracy: 0.8252 - val_loss: 0.7377 - val_accuracy: 0.7477\n",
      "Epoch 84/100\n",
      "161/161 [==============================] - 93s 578ms/step - loss: 0.5203 - accuracy: 0.8318 - val_loss: 0.8046 - val_accuracy: 0.7430\n",
      "Epoch 85/100\n",
      "161/161 [==============================] - 93s 576ms/step - loss: 0.5033 - accuracy: 0.8324 - val_loss: 0.7308 - val_accuracy: 0.7703\n",
      "Epoch 86/100\n",
      "161/161 [==============================] - 93s 580ms/step - loss: 0.5181 - accuracy: 0.8332 - val_loss: 0.7208 - val_accuracy: 0.7625\n",
      "Epoch 87/100\n",
      "161/161 [==============================] - 93s 580ms/step - loss: 0.5131 - accuracy: 0.8273 - val_loss: 0.7570 - val_accuracy: 0.7648\n",
      "Epoch 88/100\n",
      "161/161 [==============================] - 92s 574ms/step - loss: 0.5361 - accuracy: 0.8162 - val_loss: 0.7255 - val_accuracy: 0.7727\n",
      "Epoch 89/100\n",
      "161/161 [==============================] - 93s 576ms/step - loss: 0.5063 - accuracy: 0.8375 - val_loss: 0.7252 - val_accuracy: 0.7711\n",
      "Epoch 90/100\n",
      "161/161 [==============================] - 94s 581ms/step - loss: 0.5250 - accuracy: 0.8265 - val_loss: 0.7493 - val_accuracy: 0.7711\n",
      "Epoch 91/100\n",
      "161/161 [==============================] - 94s 584ms/step - loss: 0.5247 - accuracy: 0.8312 - val_loss: 0.7434 - val_accuracy: 0.7617\n",
      "Epoch 92/100\n",
      "161/161 [==============================] - 93s 577ms/step - loss: 0.5215 - accuracy: 0.8221 - val_loss: 0.7342 - val_accuracy: 0.7594\n",
      "Epoch 93/100\n",
      "161/161 [==============================] - 93s 581ms/step - loss: 0.5352 - accuracy: 0.8211 - val_loss: 0.7818 - val_accuracy: 0.7477\n",
      "Epoch 94/100\n",
      "161/161 [==============================] - 93s 578ms/step - loss: 0.5068 - accuracy: 0.8322 - val_loss: 0.7511 - val_accuracy: 0.7539\n",
      "Epoch 95/100\n",
      "161/161 [==============================] - 93s 576ms/step - loss: 0.5163 - accuracy: 0.8363 - val_loss: 0.7180 - val_accuracy: 0.7664\n",
      "Epoch 96/100\n",
      "161/161 [==============================] - 93s 581ms/step - loss: 0.4981 - accuracy: 0.8306 - val_loss: 0.7242 - val_accuracy: 0.7672\n",
      "Epoch 97/100\n",
      "161/161 [==============================] - 93s 580ms/step - loss: 0.5251 - accuracy: 0.8289 - val_loss: 0.7598 - val_accuracy: 0.7469\n",
      "Epoch 98/100\n",
      "161/161 [==============================] - 93s 579ms/step - loss: 0.5076 - accuracy: 0.8345 - val_loss: 0.7425 - val_accuracy: 0.7555\n",
      "Epoch 99/100\n",
      "161/161 [==============================] - 93s 579ms/step - loss: 0.5182 - accuracy: 0.8283 - val_loss: 0.7473 - val_accuracy: 0.7719\n",
      "Epoch 100/100\n",
      "161/161 [==============================] - 93s 577ms/step - loss: 0.5182 - accuracy: 0.8263 - val_loss: 0.7788 - val_accuracy: 0.7570\n"
     ]
    },
    {
     "output_type": "execute_result",
     "data": {
      "text/plain": [
       "<keras.callbacks.History at 0x7f5aebeddc10>"
      ]
     },
     "metadata": {},
     "execution_count": 28
    }
   ]
  },
  {
   "cell_type": "code",
   "source": [
    "model.save(\"/content/drive/MyDrive/Colab Notebooks/paddy/paddy_resnet_top_layers_416\")\n",
    "print(\"the model is saved\")"
   ],
   "metadata": {
    "colab": {
     "base_uri": "https://localhost:8080/"
    },
    "id": "HLS-Yka-PJcz",
    "executionInfo": {
     "status": "ok",
     "timestamp": 1656871577393,
     "user_tz": -120,
     "elapsed": 50179,
     "user": {
      "displayName": "Catherine Seytre",
      "userId": "18110368277065052224"
     }
    },
    "outputId": "13ac82de-2923-4aed-b056-ff9cdf7f48c5"
   },
   "execution_count": null,
   "outputs": [
    {
     "output_type": "stream",
     "name": "stdout",
     "text": [
      "INFO:tensorflow:Assets written to: /content/drive/MyDrive/Colab Notebooks/paddy/paddy_resnet_top_layers_416/assets\n",
      "the model is saved\n"
     ]
    }
   ]
  },
  {
   "cell_type": "code",
   "source": [
    "# Train new top layers\n",
    "model.fit_generator(\n",
    "    train_generator, epochs=epochs, validation_data=valid_generator, verbose=1,\n",
    ")"
   ],
   "metadata": {
    "colab": {
     "base_uri": "https://localhost:8080/"
    },
    "id": "ssjVGN7aiXAS",
    "executionInfo": {
     "status": "ok",
     "timestamp": 1656331506043,
     "user_tz": -120,
     "elapsed": 8455793,
     "user": {
      "displayName": "Catherine Seytre",
      "userId": "18110368277065052224"
     }
    },
    "outputId": "2866a4a3-178b-430a-82e6-371f648fbe5f"
   },
   "execution_count": null,
   "outputs": [
    {
     "output_type": "stream",
     "name": "stderr",
     "text": [
      "/usr/local/lib/python3.7/dist-packages/ipykernel_launcher.py:8: UserWarning: `Model.fit_generator` is deprecated and will be removed in a future version. Please use `Model.fit`, which supports generators.\n",
      "  \n"
     ]
    },
    {
     "output_type": "stream",
     "name": "stdout",
     "text": [
      "Epoch 1/100\n",
      "161/161 [==============================] - 98s 558ms/step - loss: 2.3944 - accuracy: 0.1495 - val_loss: 2.1151 - val_accuracy: 0.2266\n",
      "Epoch 2/100\n",
      "161/161 [==============================] - 85s 531ms/step - loss: 1.9701 - accuracy: 0.2982 - val_loss: 1.8068 - val_accuracy: 0.3633\n",
      "Epoch 3/100\n",
      "161/161 [==============================] - 86s 531ms/step - loss: 1.7330 - accuracy: 0.3970 - val_loss: 1.7270 - val_accuracy: 0.4172\n",
      "Epoch 4/100\n",
      "161/161 [==============================] - 86s 532ms/step - loss: 1.6219 - accuracy: 0.4407 - val_loss: 1.5964 - val_accuracy: 0.4445\n",
      "Epoch 5/100\n",
      "161/161 [==============================] - 85s 530ms/step - loss: 1.5698 - accuracy: 0.4537 - val_loss: 1.5500 - val_accuracy: 0.4859\n",
      "Epoch 6/100\n",
      "161/161 [==============================] - 85s 529ms/step - loss: 1.5192 - accuracy: 0.4769 - val_loss: 1.4875 - val_accuracy: 0.4906\n",
      "Epoch 7/100\n",
      "161/161 [==============================] - 85s 530ms/step - loss: 1.4398 - accuracy: 0.5020 - val_loss: 1.4251 - val_accuracy: 0.5016\n",
      "Epoch 8/100\n",
      "161/161 [==============================] - 86s 532ms/step - loss: 1.3829 - accuracy: 0.5248 - val_loss: 1.4194 - val_accuracy: 0.5070\n",
      "Epoch 9/100\n",
      "161/161 [==============================] - 85s 531ms/step - loss: 1.3106 - accuracy: 0.5478 - val_loss: 1.3856 - val_accuracy: 0.5164\n",
      "Epoch 10/100\n",
      "161/161 [==============================] - 86s 532ms/step - loss: 1.2500 - accuracy: 0.5689 - val_loss: 1.4115 - val_accuracy: 0.5367\n",
      "Epoch 11/100\n",
      "161/161 [==============================] - 86s 532ms/step - loss: 1.2034 - accuracy: 0.5888 - val_loss: 1.3016 - val_accuracy: 0.5656\n",
      "Epoch 12/100\n",
      "161/161 [==============================] - 86s 534ms/step - loss: 1.1856 - accuracy: 0.5931 - val_loss: 1.2731 - val_accuracy: 0.5688\n",
      "Epoch 13/100\n",
      "161/161 [==============================] - 86s 536ms/step - loss: 1.1608 - accuracy: 0.6032 - val_loss: 1.2660 - val_accuracy: 0.5688\n",
      "Epoch 14/100\n",
      "161/161 [==============================] - 86s 532ms/step - loss: 1.1184 - accuracy: 0.6180 - val_loss: 1.2435 - val_accuracy: 0.5875\n",
      "Epoch 15/100\n",
      "161/161 [==============================] - 85s 528ms/step - loss: 1.0817 - accuracy: 0.6340 - val_loss: 1.2170 - val_accuracy: 0.5922\n",
      "Epoch 16/100\n",
      "161/161 [==============================] - 86s 532ms/step - loss: 1.0850 - accuracy: 0.6256 - val_loss: 1.2291 - val_accuracy: 0.5844\n",
      "Epoch 17/100\n",
      "161/161 [==============================] - 85s 529ms/step - loss: 1.0265 - accuracy: 0.6451 - val_loss: 1.1582 - val_accuracy: 0.6273\n",
      "Epoch 18/100\n",
      "161/161 [==============================] - 86s 535ms/step - loss: 1.0118 - accuracy: 0.6517 - val_loss: 1.1129 - val_accuracy: 0.6187\n",
      "Epoch 19/100\n",
      "161/161 [==============================] - 86s 531ms/step - loss: 0.9865 - accuracy: 0.6519 - val_loss: 1.1087 - val_accuracy: 0.6297\n",
      "Epoch 20/100\n",
      "161/161 [==============================] - 86s 534ms/step - loss: 0.9791 - accuracy: 0.6589 - val_loss: 1.0901 - val_accuracy: 0.6453\n",
      "Epoch 21/100\n",
      "161/161 [==============================] - 86s 533ms/step - loss: 0.9504 - accuracy: 0.6792 - val_loss: 1.0880 - val_accuracy: 0.6438\n",
      "Epoch 22/100\n",
      "161/161 [==============================] - 86s 532ms/step - loss: 0.9328 - accuracy: 0.6798 - val_loss: 1.0738 - val_accuracy: 0.6406\n",
      "Epoch 23/100\n",
      "161/161 [==============================] - 86s 532ms/step - loss: 0.8935 - accuracy: 0.6954 - val_loss: 1.0009 - val_accuracy: 0.6602\n",
      "Epoch 24/100\n",
      "161/161 [==============================] - 85s 530ms/step - loss: 0.9016 - accuracy: 0.6891 - val_loss: 1.0294 - val_accuracy: 0.6680\n",
      "Epoch 25/100\n",
      "161/161 [==============================] - 85s 531ms/step - loss: 0.8765 - accuracy: 0.7024 - val_loss: 1.0859 - val_accuracy: 0.6547\n",
      "Epoch 26/100\n",
      "161/161 [==============================] - 85s 529ms/step - loss: 0.8819 - accuracy: 0.7024 - val_loss: 0.9447 - val_accuracy: 0.6695\n",
      "Epoch 27/100\n",
      "161/161 [==============================] - 85s 531ms/step - loss: 0.8267 - accuracy: 0.7160 - val_loss: 1.0078 - val_accuracy: 0.6531\n",
      "Epoch 28/100\n",
      "161/161 [==============================] - 86s 533ms/step - loss: 0.8249 - accuracy: 0.7225 - val_loss: 0.9782 - val_accuracy: 0.6922\n",
      "Epoch 29/100\n",
      "161/161 [==============================] - 86s 533ms/step - loss: 0.8134 - accuracy: 0.7234 - val_loss: 1.0112 - val_accuracy: 0.6766\n",
      "Epoch 30/100\n",
      "161/161 [==============================] - 86s 534ms/step - loss: 0.8095 - accuracy: 0.7215 - val_loss: 0.9385 - val_accuracy: 0.6977\n",
      "Epoch 31/100\n",
      "161/161 [==============================] - 84s 521ms/step - loss: 0.7999 - accuracy: 0.7231 - val_loss: 0.9359 - val_accuracy: 0.6812\n",
      "Epoch 32/100\n",
      "161/161 [==============================] - 84s 522ms/step - loss: 0.7869 - accuracy: 0.7301 - val_loss: 0.9297 - val_accuracy: 0.6906\n",
      "Epoch 33/100\n",
      "161/161 [==============================] - 83s 518ms/step - loss: 0.7499 - accuracy: 0.7433 - val_loss: 0.9560 - val_accuracy: 0.6844\n",
      "Epoch 34/100\n",
      "161/161 [==============================] - 83s 516ms/step - loss: 0.7305 - accuracy: 0.7525 - val_loss: 0.9356 - val_accuracy: 0.6977\n",
      "Epoch 35/100\n",
      "161/161 [==============================] - 83s 517ms/step - loss: 0.7422 - accuracy: 0.7531 - val_loss: 0.9669 - val_accuracy: 0.6852\n",
      "Epoch 36/100\n",
      "161/161 [==============================] - 83s 517ms/step - loss: 0.7122 - accuracy: 0.7618 - val_loss: 0.9157 - val_accuracy: 0.6977\n",
      "Epoch 37/100\n",
      "161/161 [==============================] - 83s 516ms/step - loss: 0.7255 - accuracy: 0.7542 - val_loss: 0.9491 - val_accuracy: 0.6812\n",
      "Epoch 38/100\n",
      "161/161 [==============================] - 83s 518ms/step - loss: 0.7154 - accuracy: 0.7560 - val_loss: 0.8738 - val_accuracy: 0.6992\n",
      "Epoch 39/100\n",
      "161/161 [==============================] - 83s 518ms/step - loss: 0.7002 - accuracy: 0.7648 - val_loss: 0.8205 - val_accuracy: 0.7180\n",
      "Epoch 40/100\n",
      "161/161 [==============================] - 84s 524ms/step - loss: 0.6893 - accuracy: 0.7611 - val_loss: 0.9281 - val_accuracy: 0.6914\n",
      "Epoch 41/100\n",
      "161/161 [==============================] - 85s 527ms/step - loss: 0.6528 - accuracy: 0.7800 - val_loss: 0.8995 - val_accuracy: 0.7125\n",
      "Epoch 42/100\n",
      "161/161 [==============================] - 84s 520ms/step - loss: 0.6448 - accuracy: 0.7819 - val_loss: 0.8928 - val_accuracy: 0.7148\n",
      "Epoch 43/100\n",
      "161/161 [==============================] - 83s 518ms/step - loss: 0.6198 - accuracy: 0.7893 - val_loss: 0.8569 - val_accuracy: 0.7133\n",
      "Epoch 44/100\n",
      "161/161 [==============================] - 83s 516ms/step - loss: 0.6355 - accuracy: 0.7850 - val_loss: 0.8076 - val_accuracy: 0.7258\n",
      "Epoch 45/100\n",
      "161/161 [==============================] - 86s 532ms/step - loss: 0.6408 - accuracy: 0.7772 - val_loss: 0.8192 - val_accuracy: 0.7281\n",
      "Epoch 46/100\n",
      "161/161 [==============================] - 85s 528ms/step - loss: 0.6164 - accuracy: 0.7917 - val_loss: 0.8703 - val_accuracy: 0.7156\n",
      "Epoch 47/100\n",
      "161/161 [==============================] - 84s 521ms/step - loss: 0.6169 - accuracy: 0.7948 - val_loss: 0.8172 - val_accuracy: 0.7227\n",
      "Epoch 48/100\n",
      "161/161 [==============================] - 84s 519ms/step - loss: 0.5988 - accuracy: 0.7956 - val_loss: 0.8421 - val_accuracy: 0.7305\n",
      "Epoch 49/100\n",
      "161/161 [==============================] - 84s 519ms/step - loss: 0.5890 - accuracy: 0.7998 - val_loss: 0.7749 - val_accuracy: 0.7586\n",
      "Epoch 50/100\n",
      "161/161 [==============================] - 83s 517ms/step - loss: 0.5815 - accuracy: 0.8039 - val_loss: 0.8223 - val_accuracy: 0.7234\n",
      "Epoch 51/100\n",
      "161/161 [==============================] - 84s 519ms/step - loss: 0.5866 - accuracy: 0.8039 - val_loss: 0.8002 - val_accuracy: 0.7469\n",
      "Epoch 52/100\n",
      "161/161 [==============================] - 83s 517ms/step - loss: 0.5566 - accuracy: 0.8129 - val_loss: 0.8056 - val_accuracy: 0.7477\n",
      "Epoch 53/100\n",
      "161/161 [==============================] - 83s 517ms/step - loss: 0.5553 - accuracy: 0.8166 - val_loss: 0.7652 - val_accuracy: 0.7578\n",
      "Epoch 54/100\n",
      "161/161 [==============================] - 85s 525ms/step - loss: 0.5464 - accuracy: 0.8215 - val_loss: 0.7862 - val_accuracy: 0.7508\n",
      "Epoch 55/100\n",
      "161/161 [==============================] - 85s 526ms/step - loss: 0.5347 - accuracy: 0.8137 - val_loss: 0.7849 - val_accuracy: 0.7617\n",
      "Epoch 56/100\n",
      "161/161 [==============================] - 85s 528ms/step - loss: 0.5471 - accuracy: 0.8149 - val_loss: 0.7488 - val_accuracy: 0.7578\n",
      "Epoch 57/100\n",
      "161/161 [==============================] - 84s 523ms/step - loss: 0.5343 - accuracy: 0.8221 - val_loss: 0.7693 - val_accuracy: 0.7484\n",
      "Epoch 58/100\n",
      "161/161 [==============================] - 84s 520ms/step - loss: 0.5467 - accuracy: 0.8129 - val_loss: 0.7652 - val_accuracy: 0.7547\n",
      "Epoch 59/100\n",
      "161/161 [==============================] - 84s 520ms/step - loss: 0.5274 - accuracy: 0.8256 - val_loss: 0.7671 - val_accuracy: 0.7563\n",
      "Epoch 60/100\n",
      "161/161 [==============================] - 85s 531ms/step - loss: 0.5101 - accuracy: 0.8349 - val_loss: 0.7455 - val_accuracy: 0.7570\n",
      "Epoch 61/100\n",
      "161/161 [==============================] - 83s 518ms/step - loss: 0.4999 - accuracy: 0.8355 - val_loss: 0.7324 - val_accuracy: 0.7594\n",
      "Epoch 62/100\n",
      "161/161 [==============================] - 84s 520ms/step - loss: 0.5055 - accuracy: 0.8341 - val_loss: 0.7617 - val_accuracy: 0.7492\n",
      "Epoch 63/100\n",
      "161/161 [==============================] - 83s 517ms/step - loss: 0.4860 - accuracy: 0.8425 - val_loss: 0.7173 - val_accuracy: 0.7648\n",
      "Epoch 64/100\n",
      "161/161 [==============================] - 83s 518ms/step - loss: 0.4868 - accuracy: 0.8388 - val_loss: 0.7603 - val_accuracy: 0.7437\n",
      "Epoch 65/100\n",
      "161/161 [==============================] - 83s 516ms/step - loss: 0.5018 - accuracy: 0.8375 - val_loss: 0.6894 - val_accuracy: 0.7664\n",
      "Epoch 66/100\n",
      "161/161 [==============================] - 85s 526ms/step - loss: 0.4949 - accuracy: 0.8355 - val_loss: 0.7521 - val_accuracy: 0.7633\n",
      "Epoch 67/100\n",
      "161/161 [==============================] - 84s 520ms/step - loss: 0.4894 - accuracy: 0.8369 - val_loss: 0.7167 - val_accuracy: 0.7781\n",
      "Epoch 68/100\n",
      "161/161 [==============================] - 84s 520ms/step - loss: 0.4970 - accuracy: 0.8316 - val_loss: 0.7358 - val_accuracy: 0.7664\n",
      "Epoch 69/100\n",
      "161/161 [==============================] - 84s 520ms/step - loss: 0.4882 - accuracy: 0.8357 - val_loss: 0.7478 - val_accuracy: 0.7570\n",
      "Epoch 70/100\n",
      "161/161 [==============================] - 83s 518ms/step - loss: 0.5029 - accuracy: 0.8302 - val_loss: 0.7380 - val_accuracy: 0.7672\n",
      "Epoch 71/100\n",
      "161/161 [==============================] - 83s 518ms/step - loss: 0.4974 - accuracy: 0.8373 - val_loss: 0.7520 - val_accuracy: 0.7570\n",
      "Epoch 72/100\n",
      "161/161 [==============================] - 84s 519ms/step - loss: 0.4978 - accuracy: 0.8310 - val_loss: 0.7553 - val_accuracy: 0.7539\n",
      "Epoch 73/100\n",
      "161/161 [==============================] - 84s 522ms/step - loss: 0.4898 - accuracy: 0.8324 - val_loss: 0.7314 - val_accuracy: 0.7695\n",
      "Epoch 74/100\n",
      "161/161 [==============================] - 84s 523ms/step - loss: 0.4863 - accuracy: 0.8421 - val_loss: 0.7686 - val_accuracy: 0.7555\n",
      "Epoch 75/100\n",
      "161/161 [==============================] - 84s 524ms/step - loss: 0.5026 - accuracy: 0.8332 - val_loss: 0.7612 - val_accuracy: 0.7602\n",
      "Epoch 76/100\n",
      "161/161 [==============================] - 83s 518ms/step - loss: 0.4936 - accuracy: 0.8345 - val_loss: 0.7509 - val_accuracy: 0.7578\n",
      "Epoch 77/100\n",
      "161/161 [==============================] - 84s 520ms/step - loss: 0.5043 - accuracy: 0.8316 - val_loss: 0.7124 - val_accuracy: 0.7766\n",
      "Epoch 78/100\n",
      "161/161 [==============================] - 83s 517ms/step - loss: 0.4902 - accuracy: 0.8351 - val_loss: 0.7225 - val_accuracy: 0.7742\n",
      "Epoch 79/100\n",
      "161/161 [==============================] - 85s 526ms/step - loss: 0.4811 - accuracy: 0.8414 - val_loss: 0.7246 - val_accuracy: 0.7688\n",
      "Epoch 80/100\n",
      "161/161 [==============================] - 84s 524ms/step - loss: 0.4983 - accuracy: 0.8402 - val_loss: 0.6822 - val_accuracy: 0.7688\n",
      "Epoch 81/100\n",
      "161/161 [==============================] - 84s 520ms/step - loss: 0.4689 - accuracy: 0.8410 - val_loss: 0.7386 - val_accuracy: 0.7617\n",
      "Epoch 82/100\n",
      "161/161 [==============================] - 84s 523ms/step - loss: 0.4991 - accuracy: 0.8353 - val_loss: 0.7061 - val_accuracy: 0.7781\n",
      "Epoch 83/100\n",
      "161/161 [==============================] - 84s 522ms/step - loss: 0.4698 - accuracy: 0.8492 - val_loss: 0.7690 - val_accuracy: 0.7461\n",
      "Epoch 84/100\n",
      "161/161 [==============================] - 84s 519ms/step - loss: 0.4795 - accuracy: 0.8386 - val_loss: 0.7284 - val_accuracy: 0.7641\n",
      "Epoch 85/100\n",
      "161/161 [==============================] - 83s 518ms/step - loss: 0.4901 - accuracy: 0.8367 - val_loss: 0.7760 - val_accuracy: 0.7500\n",
      "Epoch 86/100\n",
      "161/161 [==============================] - 84s 519ms/step - loss: 0.4956 - accuracy: 0.8417 - val_loss: 0.7306 - val_accuracy: 0.7641\n",
      "Epoch 87/100\n",
      "161/161 [==============================] - 83s 518ms/step - loss: 0.4915 - accuracy: 0.8398 - val_loss: 0.7451 - val_accuracy: 0.7688\n",
      "Epoch 88/100\n",
      "161/161 [==============================] - 83s 518ms/step - loss: 0.4920 - accuracy: 0.8345 - val_loss: 0.7212 - val_accuracy: 0.7727\n",
      "Epoch 89/100\n",
      "161/161 [==============================] - 84s 522ms/step - loss: 0.4831 - accuracy: 0.8382 - val_loss: 0.7535 - val_accuracy: 0.7547\n",
      "Epoch 90/100\n",
      "161/161 [==============================] - 85s 525ms/step - loss: 0.4842 - accuracy: 0.8445 - val_loss: 0.7672 - val_accuracy: 0.7414\n",
      "Epoch 91/100\n",
      "161/161 [==============================] - 86s 535ms/step - loss: 0.4906 - accuracy: 0.8398 - val_loss: 0.7120 - val_accuracy: 0.7781\n",
      "Epoch 92/100\n",
      "161/161 [==============================] - 83s 518ms/step - loss: 0.5070 - accuracy: 0.8353 - val_loss: 0.7644 - val_accuracy: 0.7563\n",
      "Epoch 93/100\n",
      "161/161 [==============================] - 84s 519ms/step - loss: 0.4966 - accuracy: 0.8355 - val_loss: 0.7394 - val_accuracy: 0.7625\n",
      "Epoch 94/100\n",
      "161/161 [==============================] - 84s 521ms/step - loss: 0.4887 - accuracy: 0.8406 - val_loss: 0.7331 - val_accuracy: 0.7656\n",
      "Epoch 95/100\n",
      "161/161 [==============================] - 84s 520ms/step - loss: 0.4833 - accuracy: 0.8380 - val_loss: 0.7132 - val_accuracy: 0.7734\n",
      "Epoch 96/100\n",
      "161/161 [==============================] - 83s 518ms/step - loss: 0.4817 - accuracy: 0.8488 - val_loss: 0.7302 - val_accuracy: 0.7602\n",
      "Epoch 97/100\n",
      "161/161 [==============================] - 84s 519ms/step - loss: 0.4897 - accuracy: 0.8398 - val_loss: 0.7049 - val_accuracy: 0.7758\n",
      "Epoch 98/100\n",
      "161/161 [==============================] - 84s 521ms/step - loss: 0.4845 - accuracy: 0.8408 - val_loss: 0.7450 - val_accuracy: 0.7586\n",
      "Epoch 99/100\n",
      "161/161 [==============================] - 84s 521ms/step - loss: 0.4881 - accuracy: 0.8375 - val_loss: 0.7384 - val_accuracy: 0.7734\n",
      "Epoch 100/100\n",
      "161/161 [==============================] - 86s 532ms/step - loss: 0.5030 - accuracy: 0.8320 - val_loss: 0.6833 - val_accuracy: 0.7883\n"
     ]
    },
    {
     "output_type": "execute_result",
     "data": {
      "text/plain": [
       "<keras.callbacks.History at 0x7fae214ac2d0>"
      ]
     },
     "metadata": {},
     "execution_count": 42
    }
   ]
  },
  {
   "cell_type": "code",
   "source": [
    "# save v3 model\n",
    "model.save(\"/content/drive/MyDrive/Colab Notebooks/paddy/paddy_resnet_top_layers\")\n",
    "print(\"the model is saved\")"
   ],
   "metadata": {
    "colab": {
     "base_uri": "https://localhost:8080/"
    },
    "id": "viorr6w50Nl_",
    "executionInfo": {
     "status": "ok",
     "timestamp": 1656331716830,
     "user_tz": -120,
     "elapsed": 45304,
     "user": {
      "displayName": "Catherine Seytre",
      "userId": "18110368277065052224"
     }
    },
    "outputId": "9ff3c904-c0d9-4809-fa90-8137c7797396"
   },
   "execution_count": null,
   "outputs": [
    {
     "output_type": "stream",
     "name": "stdout",
     "text": [
      "INFO:tensorflow:Assets written to: /content/drive/MyDrive/Colab Notebooks/paddy/paddy_resnet_top_layers/assets\n",
      "the model is saved\n"
     ]
    }
   ]
  },
  {
   "cell_type": "markdown",
   "source": [
    "### fine tuning 26 layers on re-trained top layers from v3 model"
   ],
   "metadata": {
    "id": "pBrcfF16kJa3"
   }
  },
  {
   "cell_type": "code",
   "source": [
    "# load model with dense units tuning\n",
    "model = load_model(\n",
    "    \"/content/drive/MyDrive/Colab Notebooks/paddy/paddy_resnet_top_layers_416\"\n",
    ")"
   ],
   "metadata": {
    "id": "Bn5QtsAI09DD"
   },
   "execution_count": null,
   "outputs": []
  },
  {
   "cell_type": "markdown",
   "source": [
    "#### Setup model for fine tuning"
   ],
   "metadata": {
    "id": "GfwguARmuPNz"
   }
  },
  {
   "cell_type": "code",
   "source": [
    "# Setup model for fine tuning\n",
    "def setup_model(model, trainable):\n",
    "    for layer in model.layers[: (len(model.layers) - trainable)]:\n",
    "        layer.trainable = False  # freeze model base\n",
    "\n",
    "    for layer in model.layers[(len(model.layers) - trainable) :]:\n",
    "        if isinstance(layer, BatchNormalization):\n",
    "            layer.trainable = False\n",
    "        else:\n",
    "            layer.trainable = True\n",
    "\n",
    "    model.compile(\n",
    "        loss=\"categorical_crossentropy\",\n",
    "        optimizer=ranger,  # schedule in callbacks\n",
    "        metrics=[\"accuracy\"],\n",
    "    )"
   ],
   "metadata": {
    "id": "sOoX86btiXAT"
   },
   "execution_count": null,
   "outputs": []
  },
  {
   "cell_type": "code",
   "source": [
    "# Setup model to retrain our top layer plus 2 last blocks\n",
    "setup_model(model, 26)"
   ],
   "metadata": {
    "id": "5PBWiO_PiXAT"
   },
   "execution_count": null,
   "outputs": []
  },
  {
   "cell_type": "code",
   "source": [
    "# callbacks : early stopping\n",
    "early_stp = tf.keras.callbacks.EarlyStopping(monitor=\"val_loss\", patience=5)"
   ],
   "metadata": {
    "id": "Q0qK3qH1iXAU"
   },
   "execution_count": null,
   "outputs": []
  },
  {
   "cell_type": "code",
   "source": [
    "K.clear_session()"
   ],
   "metadata": {
    "id": "WbjVUGhxuQOm"
   },
   "execution_count": null,
   "outputs": []
  },
  {
   "cell_type": "code",
   "source": [
    "# Fine-tune the model (dense units tuning and freeze batch normalization)\n",
    "history4 = model.fit(\n",
    "    train_generator,\n",
    "    epochs=epochs_ft,\n",
    "    validation_data=valid_generator,\n",
    "    verbose=1,\n",
    "    callbacks=[early_stp],\n",
    ")"
   ],
   "metadata": {
    "colab": {
     "base_uri": "https://localhost:8080/"
    },
    "id": "QHaTYCR3Qf5X",
    "executionInfo": {
     "status": "ok",
     "timestamp": 1656874914956,
     "user_tz": -120,
     "elapsed": 3065955,
     "user": {
      "displayName": "Catherine Seytre",
      "userId": "18110368277065052224"
     }
    },
    "outputId": "716de5d2-5d8d-4fa2-fe63-f24af716971b"
   },
   "execution_count": null,
   "outputs": [
    {
     "output_type": "stream",
     "name": "stdout",
     "text": [
      "Epoch 1/200\n",
      "161/161 [==============================] - 107s 597ms/step - loss: 0.5091 - accuracy: 0.8299 - val_loss: 0.8402 - val_accuracy: 0.7570\n",
      "Epoch 2/200\n",
      "161/161 [==============================] - 94s 584ms/step - loss: 0.5315 - accuracy: 0.8213 - val_loss: 0.9056 - val_accuracy: 0.7266\n",
      "Epoch 3/200\n",
      "161/161 [==============================] - 92s 572ms/step - loss: 0.5963 - accuracy: 0.8043 - val_loss: 0.8310 - val_accuracy: 0.7211\n",
      "Epoch 4/200\n",
      "161/161 [==============================] - 89s 554ms/step - loss: 0.5981 - accuracy: 0.8018 - val_loss: 0.7184 - val_accuracy: 0.7812\n",
      "Epoch 5/200\n",
      "161/161 [==============================] - 89s 555ms/step - loss: 0.6123 - accuracy: 0.7930 - val_loss: 0.7106 - val_accuracy: 0.7703\n",
      "Epoch 6/200\n",
      "161/161 [==============================] - 89s 553ms/step - loss: 0.5909 - accuracy: 0.7996 - val_loss: 0.6612 - val_accuracy: 0.8023\n",
      "Epoch 7/200\n",
      "161/161 [==============================] - 89s 553ms/step - loss: 0.5600 - accuracy: 0.8184 - val_loss: 0.6954 - val_accuracy: 0.7883\n",
      "Epoch 8/200\n",
      "161/161 [==============================] - 89s 551ms/step - loss: 0.5250 - accuracy: 0.8332 - val_loss: 0.6810 - val_accuracy: 0.7680\n",
      "Epoch 9/200\n",
      "161/161 [==============================] - 89s 556ms/step - loss: 0.4982 - accuracy: 0.8371 - val_loss: 0.7461 - val_accuracy: 0.7633\n",
      "Epoch 10/200\n",
      "161/161 [==============================] - 89s 554ms/step - loss: 0.4550 - accuracy: 0.8513 - val_loss: 0.6452 - val_accuracy: 0.7953\n",
      "Epoch 11/200\n",
      "161/161 [==============================] - 89s 555ms/step - loss: 0.4514 - accuracy: 0.8511 - val_loss: 0.6128 - val_accuracy: 0.8125\n",
      "Epoch 12/200\n",
      "161/161 [==============================] - 89s 554ms/step - loss: 0.4366 - accuracy: 0.8583 - val_loss: 0.5185 - val_accuracy: 0.8461\n",
      "Epoch 13/200\n",
      "161/161 [==============================] - 89s 553ms/step - loss: 0.4142 - accuracy: 0.8661 - val_loss: 0.6475 - val_accuracy: 0.8156\n",
      "Epoch 14/200\n",
      "161/161 [==============================] - 89s 553ms/step - loss: 0.3694 - accuracy: 0.8803 - val_loss: 0.6745 - val_accuracy: 0.7961\n",
      "Epoch 15/200\n",
      "161/161 [==============================] - 89s 554ms/step - loss: 0.3888 - accuracy: 0.8782 - val_loss: 0.5879 - val_accuracy: 0.8156\n",
      "Epoch 16/200\n",
      "161/161 [==============================] - 89s 553ms/step - loss: 0.3530 - accuracy: 0.8850 - val_loss: 0.4912 - val_accuracy: 0.8484\n",
      "Epoch 17/200\n",
      "161/161 [==============================] - 89s 552ms/step - loss: 0.3520 - accuracy: 0.8870 - val_loss: 0.4801 - val_accuracy: 0.8578\n",
      "Epoch 18/200\n",
      "161/161 [==============================] - 90s 560ms/step - loss: 0.3175 - accuracy: 0.8936 - val_loss: 0.4469 - val_accuracy: 0.8672\n",
      "Epoch 19/200\n",
      "161/161 [==============================] - 90s 558ms/step - loss: 0.3167 - accuracy: 0.8973 - val_loss: 0.7185 - val_accuracy: 0.7852\n",
      "Epoch 20/200\n",
      "161/161 [==============================] - 89s 552ms/step - loss: 0.2987 - accuracy: 0.9027 - val_loss: 0.6074 - val_accuracy: 0.8352\n",
      "Epoch 21/200\n",
      "161/161 [==============================] - 89s 552ms/step - loss: 0.2855 - accuracy: 0.9076 - val_loss: 0.4938 - val_accuracy: 0.8531\n",
      "Epoch 22/200\n",
      "161/161 [==============================] - 91s 564ms/step - loss: 0.2699 - accuracy: 0.9094 - val_loss: 0.5050 - val_accuracy: 0.8469\n",
      "Epoch 23/200\n",
      "161/161 [==============================] - 90s 558ms/step - loss: 0.2783 - accuracy: 0.9111 - val_loss: 0.4362 - val_accuracy: 0.8742\n",
      "Epoch 24/200\n",
      "161/161 [==============================] - 89s 553ms/step - loss: 0.2692 - accuracy: 0.9102 - val_loss: 0.4221 - val_accuracy: 0.8687\n",
      "Epoch 25/200\n",
      "161/161 [==============================] - 89s 551ms/step - loss: 0.2334 - accuracy: 0.9246 - val_loss: 0.5350 - val_accuracy: 0.8492\n",
      "Epoch 26/200\n",
      "161/161 [==============================] - 90s 562ms/step - loss: 0.2296 - accuracy: 0.9254 - val_loss: 0.4836 - val_accuracy: 0.8445\n",
      "Epoch 27/200\n",
      "161/161 [==============================] - 90s 558ms/step - loss: 0.2522 - accuracy: 0.9252 - val_loss: 0.4640 - val_accuracy: 0.8477\n",
      "Epoch 28/200\n",
      "161/161 [==============================] - 90s 557ms/step - loss: 0.2072 - accuracy: 0.9324 - val_loss: 0.4360 - val_accuracy: 0.8547\n",
      "Epoch 29/200\n",
      "161/161 [==============================] - 91s 566ms/step - loss: 0.2023 - accuracy: 0.9322 - val_loss: 0.4204 - val_accuracy: 0.8750\n",
      "Epoch 30/200\n",
      "161/161 [==============================] - 88s 549ms/step - loss: 0.1976 - accuracy: 0.9374 - val_loss: 0.4307 - val_accuracy: 0.8664\n",
      "Epoch 31/200\n",
      "161/161 [==============================] - 90s 560ms/step - loss: 0.1918 - accuracy: 0.9396 - val_loss: 0.4466 - val_accuracy: 0.8664\n",
      "Epoch 32/200\n",
      "161/161 [==============================] - 89s 554ms/step - loss: 0.1665 - accuracy: 0.9437 - val_loss: 0.4762 - val_accuracy: 0.8609\n",
      "Epoch 33/200\n",
      "161/161 [==============================] - 89s 553ms/step - loss: 0.1763 - accuracy: 0.9406 - val_loss: 0.4329 - val_accuracy: 0.8648\n",
      "Epoch 34/200\n",
      "161/161 [==============================] - 90s 559ms/step - loss: 0.1900 - accuracy: 0.9408 - val_loss: 0.4309 - val_accuracy: 0.8875\n"
     ]
    }
   ]
  },
  {
   "cell_type": "code",
   "source": [
    "plot_history(history4, first_score=\"loss\", second_score=\"accuracy\")"
   ],
   "metadata": {
    "colab": {
     "base_uri": "https://localhost:8080/",
     "height": 359
    },
    "id": "ryw-9Im4Q7_N",
    "executionInfo": {
     "status": "ok",
     "timestamp": 1656879021248,
     "user_tz": -120,
     "elapsed": 1297,
     "user": {
      "displayName": "Catherine Seytre",
      "userId": "18110368277065052224"
     }
    },
    "outputId": "cc179c77-0e3d-41f5-e0c0-371ad7f0bfb3"
   },
   "execution_count": null,
   "outputs": [
    {
     "output_type": "display_data",
     "data": {
      "text/plain": [
       "<Figure size 1800x720 with 2 Axes>"
      ],
      "image/png": "[encoded data removed]"
     },
     "metadata": {}
    }
   ]
  },
  {
   "cell_type": "code",
   "source": [
    "# dense units, batch normalization trainable = false\n",
    "model.save(\n",
    "    \"/content/drive/MyDrive/Colab Notebooks/paddy/paddy_resnet_fine_tuned_26_416\"\n",
    ")\n",
    "print(\"the model is saved\")"
   ],
   "metadata": {
    "id": "1MuEJUb6Z97o"
   },
   "execution_count": null,
   "outputs": []
  },
  {
   "cell_type": "markdown",
   "source": [
    "### fine tuning 26 layers on retrained top layers from v1"
   ],
   "metadata": {
    "id": "rYUIuTATjecb"
   }
  },
  {
   "cell_type": "code",
   "source": [
    "# load model without dense units tuning (model from P8_v1)\n",
    "model = load_model(\n",
    "    \"/content/drive/MyDrive/Colab Notebooks/paddy/paddy_resnet_top_layers_416\"\n",
    ")"
   ],
   "metadata": {
    "id": "bhgNVAmtQq2S"
   },
   "execution_count": null,
   "outputs": []
  },
  {
   "cell_type": "code",
   "source": [
    "# Fine-tune the model\n",
    "history4 = model.fit(\n",
    "    train_generator,\n",
    "    epochs=epochs_ft,\n",
    "    validation_data=valid_generator,\n",
    "    verbose=1,\n",
    "    callbacks=[early_stp],\n",
    ")"
   ],
   "metadata": {
    "colab": {
     "base_uri": "https://localhost:8080/"
    },
    "id": "OgS_k6-fjjmW",
    "executionInfo": {
     "status": "ok",
     "timestamp": 1656673702685,
     "user_tz": -120,
     "elapsed": 5669874,
     "user": {
      "displayName": "Catherine Seytre",
      "userId": "18110368277065052224"
     }
    },
    "outputId": "756a728e-e62d-4c58-8662-6b85bb78af77"
   },
   "execution_count": null,
   "outputs": [
    {
     "output_type": "stream",
     "name": "stdout",
     "text": [
      "Epoch 1/200\n",
      "161/161 [==============================] - 99s 537ms/step - loss: 1.3402 - accuracy: 0.5494 - val_loss: 1.0786 - val_accuracy: 0.6523\n",
      "Epoch 2/200\n",
      "161/161 [==============================] - 85s 525ms/step - loss: 0.8826 - accuracy: 0.6993 - val_loss: 0.9539 - val_accuracy: 0.6906\n",
      "Epoch 3/200\n",
      "161/161 [==============================] - 83s 517ms/step - loss: 0.7158 - accuracy: 0.7523 - val_loss: 0.8842 - val_accuracy: 0.7117\n",
      "Epoch 4/200\n",
      "161/161 [==============================] - 84s 521ms/step - loss: 0.6308 - accuracy: 0.7942 - val_loss: 0.7922 - val_accuracy: 0.7508\n",
      "Epoch 5/200\n",
      "161/161 [==============================] - 84s 520ms/step - loss: 0.5860 - accuracy: 0.8117 - val_loss: 0.9102 - val_accuracy: 0.7258\n",
      "Epoch 6/200\n",
      "161/161 [==============================] - 83s 514ms/step - loss: 0.5193 - accuracy: 0.8254 - val_loss: 0.7434 - val_accuracy: 0.7742\n",
      "Epoch 7/200\n",
      "161/161 [==============================] - 83s 518ms/step - loss: 0.4915 - accuracy: 0.8347 - val_loss: 0.8296 - val_accuracy: 0.7469\n",
      "Epoch 8/200\n",
      "161/161 [==============================] - 85s 526ms/step - loss: 0.4653 - accuracy: 0.8478 - val_loss: 0.7992 - val_accuracy: 0.7508\n",
      "Epoch 9/200\n",
      "161/161 [==============================] - 83s 515ms/step - loss: 0.4306 - accuracy: 0.8626 - val_loss: 0.6759 - val_accuracy: 0.7891\n",
      "Epoch 10/200\n",
      "161/161 [==============================] - 83s 516ms/step - loss: 0.3654 - accuracy: 0.8745 - val_loss: 0.6351 - val_accuracy: 0.8039\n",
      "Epoch 11/200\n",
      "161/161 [==============================] - 83s 513ms/step - loss: 0.3676 - accuracy: 0.8798 - val_loss: 0.5825 - val_accuracy: 0.8148\n",
      "Epoch 12/200\n",
      "161/161 [==============================] - 83s 516ms/step - loss: 0.3479 - accuracy: 0.8911 - val_loss: 0.5727 - val_accuracy: 0.8203\n",
      "Epoch 13/200\n",
      "161/161 [==============================] - 83s 515ms/step - loss: 0.3138 - accuracy: 0.8975 - val_loss: 0.7953 - val_accuracy: 0.7836\n",
      "Epoch 14/200\n",
      "161/161 [==============================] - 83s 514ms/step - loss: 0.2903 - accuracy: 0.9049 - val_loss: 0.4930 - val_accuracy: 0.8508\n",
      "Epoch 15/200\n",
      "161/161 [==============================] - 84s 523ms/step - loss: 0.2835 - accuracy: 0.9068 - val_loss: 0.5286 - val_accuracy: 0.8555\n",
      "Epoch 16/200\n",
      "161/161 [==============================] - 84s 521ms/step - loss: 0.2669 - accuracy: 0.9113 - val_loss: 0.4904 - val_accuracy: 0.8625\n",
      "Epoch 17/200\n",
      "161/161 [==============================] - 84s 519ms/step - loss: 0.2479 - accuracy: 0.9178 - val_loss: 0.5324 - val_accuracy: 0.8461\n",
      "Epoch 18/200\n",
      "161/161 [==============================] - 84s 522ms/step - loss: 0.2683 - accuracy: 0.9144 - val_loss: 0.5659 - val_accuracy: 0.8383\n",
      "Epoch 19/200\n",
      "161/161 [==============================] - 84s 520ms/step - loss: 0.2405 - accuracy: 0.9211 - val_loss: 0.5282 - val_accuracy: 0.8492\n",
      "Epoch 20/200\n",
      "161/161 [==============================] - 85s 526ms/step - loss: 0.2273 - accuracy: 0.9275 - val_loss: 0.4314 - val_accuracy: 0.8687\n",
      "Epoch 21/200\n",
      "161/161 [==============================] - 84s 519ms/step - loss: 0.2269 - accuracy: 0.9246 - val_loss: 0.5145 - val_accuracy: 0.8445\n",
      "Epoch 22/200\n",
      "161/161 [==============================] - 84s 520ms/step - loss: 0.2054 - accuracy: 0.9363 - val_loss: 0.4622 - val_accuracy: 0.8609\n",
      "Epoch 23/200\n",
      "161/161 [==============================] - 83s 515ms/step - loss: 0.2083 - accuracy: 0.9289 - val_loss: 0.4843 - val_accuracy: 0.8641\n",
      "Epoch 24/200\n",
      "161/161 [==============================] - 83s 515ms/step - loss: 0.1950 - accuracy: 0.9333 - val_loss: 0.4472 - val_accuracy: 0.8750\n",
      "Epoch 25/200\n",
      "161/161 [==============================] - 83s 514ms/step - loss: 0.1832 - accuracy: 0.9417 - val_loss: 0.5314 - val_accuracy: 0.8547\n",
      "Epoch 26/200\n",
      "161/161 [==============================] - 83s 514ms/step - loss: 0.1685 - accuracy: 0.9445 - val_loss: 0.4718 - val_accuracy: 0.8766\n",
      "Epoch 27/200\n",
      "161/161 [==============================] - 83s 516ms/step - loss: 0.1749 - accuracy: 0.9409 - val_loss: 0.4400 - val_accuracy: 0.8820\n",
      "Epoch 28/200\n",
      "161/161 [==============================] - 83s 514ms/step - loss: 0.1585 - accuracy: 0.9472 - val_loss: 0.4472 - val_accuracy: 0.8773\n",
      "Epoch 29/200\n",
      "161/161 [==============================] - 83s 515ms/step - loss: 0.1709 - accuracy: 0.9478 - val_loss: 0.3835 - val_accuracy: 0.8891\n",
      "Epoch 30/200\n",
      "161/161 [==============================] - 83s 514ms/step - loss: 0.1407 - accuracy: 0.9534 - val_loss: 0.4260 - val_accuracy: 0.8758\n",
      "Epoch 31/200\n",
      "161/161 [==============================] - 83s 513ms/step - loss: 0.1291 - accuracy: 0.9600 - val_loss: 0.4209 - val_accuracy: 0.8922\n",
      "Epoch 32/200\n",
      "161/161 [==============================] - 83s 515ms/step - loss: 0.1414 - accuracy: 0.9538 - val_loss: 0.3328 - val_accuracy: 0.9070\n",
      "Epoch 33/200\n",
      "161/161 [==============================] - 83s 514ms/step - loss: 0.1331 - accuracy: 0.9542 - val_loss: 0.4418 - val_accuracy: 0.8891\n",
      "Epoch 34/200\n",
      "161/161 [==============================] - 83s 515ms/step - loss: 0.1173 - accuracy: 0.9583 - val_loss: 0.4219 - val_accuracy: 0.9008\n",
      "Epoch 35/200\n",
      "161/161 [==============================] - 83s 516ms/step - loss: 0.1153 - accuracy: 0.9579 - val_loss: 0.4097 - val_accuracy: 0.8945\n",
      "Epoch 36/200\n",
      "161/161 [==============================] - 83s 513ms/step - loss: 0.1257 - accuracy: 0.9569 - val_loss: 0.3869 - val_accuracy: 0.8992\n",
      "Epoch 37/200\n",
      "161/161 [==============================] - 83s 514ms/step - loss: 0.1264 - accuracy: 0.9600 - val_loss: 0.3501 - val_accuracy: 0.9070\n",
      "Epoch 38/200\n",
      "161/161 [==============================] - 83s 516ms/step - loss: 0.1164 - accuracy: 0.9602 - val_loss: 0.3570 - val_accuracy: 0.9055\n",
      "Epoch 39/200\n",
      "161/161 [==============================] - 83s 513ms/step - loss: 0.1064 - accuracy: 0.9622 - val_loss: 0.4110 - val_accuracy: 0.8930\n",
      "Epoch 40/200\n",
      "161/161 [==============================] - 83s 518ms/step - loss: 0.0939 - accuracy: 0.9688 - val_loss: 0.4201 - val_accuracy: 0.9070\n",
      "Epoch 41/200\n",
      "161/161 [==============================] - 83s 516ms/step - loss: 0.1093 - accuracy: 0.9653 - val_loss: 0.3439 - val_accuracy: 0.9133\n",
      "Epoch 42/200\n",
      "161/161 [==============================] - 83s 516ms/step - loss: 0.0997 - accuracy: 0.9671 - val_loss: 0.3682 - val_accuracy: 0.9125\n",
      "Epoch 43/200\n",
      "161/161 [==============================] - 83s 516ms/step - loss: 0.0855 - accuracy: 0.9712 - val_loss: 0.3907 - val_accuracy: 0.9070\n",
      "Epoch 44/200\n",
      "161/161 [==============================] - 83s 515ms/step - loss: 0.0802 - accuracy: 0.9737 - val_loss: 0.3244 - val_accuracy: 0.9289\n",
      "Epoch 45/200\n",
      "161/161 [==============================] - 83s 517ms/step - loss: 0.0865 - accuracy: 0.9708 - val_loss: 0.3554 - val_accuracy: 0.9219\n",
      "Epoch 46/200\n",
      "161/161 [==============================] - 83s 515ms/step - loss: 0.0762 - accuracy: 0.9751 - val_loss: 0.3579 - val_accuracy: 0.9234\n",
      "Epoch 47/200\n",
      "161/161 [==============================] - 83s 514ms/step - loss: 0.0615 - accuracy: 0.9801 - val_loss: 0.3512 - val_accuracy: 0.9211\n",
      "Epoch 48/200\n",
      "161/161 [==============================] - 83s 514ms/step - loss: 0.0722 - accuracy: 0.9733 - val_loss: 0.3962 - val_accuracy: 0.9187\n",
      "Epoch 49/200\n",
      "161/161 [==============================] - 83s 514ms/step - loss: 0.0693 - accuracy: 0.9752 - val_loss: 0.3375 - val_accuracy: 0.9250\n",
      "Epoch 50/200\n",
      "161/161 [==============================] - 83s 515ms/step - loss: 0.0598 - accuracy: 0.9811 - val_loss: 0.3485 - val_accuracy: 0.9203\n",
      "Epoch 51/200\n",
      "161/161 [==============================] - 83s 516ms/step - loss: 0.0625 - accuracy: 0.9790 - val_loss: 0.3509 - val_accuracy: 0.9305\n",
      "Epoch 52/200\n",
      "161/161 [==============================] - 83s 515ms/step - loss: 0.0554 - accuracy: 0.9819 - val_loss: 0.3378 - val_accuracy: 0.9234\n",
      "Epoch 53/200\n",
      "161/161 [==============================] - 83s 517ms/step - loss: 0.0507 - accuracy: 0.9827 - val_loss: 0.3393 - val_accuracy: 0.9305\n",
      "Epoch 54/200\n",
      "161/161 [==============================] - 83s 513ms/step - loss: 0.0481 - accuracy: 0.9830 - val_loss: 0.3556 - val_accuracy: 0.9211\n",
      "Epoch 55/200\n",
      "161/161 [==============================] - 83s 514ms/step - loss: 0.0445 - accuracy: 0.9854 - val_loss: 0.3374 - val_accuracy: 0.9250\n",
      "Epoch 56/200\n",
      "161/161 [==============================] - 83s 514ms/step - loss: 0.0469 - accuracy: 0.9840 - val_loss: 0.3279 - val_accuracy: 0.9336\n",
      "Epoch 57/200\n",
      "161/161 [==============================] - 83s 515ms/step - loss: 0.0481 - accuracy: 0.9836 - val_loss: 0.3614 - val_accuracy: 0.9250\n",
      "Epoch 58/200\n",
      "161/161 [==============================] - 83s 515ms/step - loss: 0.0454 - accuracy: 0.9834 - val_loss: 0.3458 - val_accuracy: 0.9305\n",
      "Epoch 59/200\n",
      "161/161 [==============================] - 83s 515ms/step - loss: 0.0403 - accuracy: 0.9856 - val_loss: 0.3343 - val_accuracy: 0.9219\n",
      "Epoch 60/200\n",
      "161/161 [==============================] - 83s 515ms/step - loss: 0.0447 - accuracy: 0.9850 - val_loss: 0.3464 - val_accuracy: 0.9273\n",
      "Epoch 61/200\n",
      "161/161 [==============================] - 83s 513ms/step - loss: 0.0333 - accuracy: 0.9885 - val_loss: 0.3224 - val_accuracy: 0.9320\n",
      "Epoch 62/200\n",
      "161/161 [==============================] - 83s 513ms/step - loss: 0.0354 - accuracy: 0.9901 - val_loss: 0.3138 - val_accuracy: 0.9305\n",
      "Epoch 63/200\n",
      "161/161 [==============================] - 83s 515ms/step - loss: 0.0305 - accuracy: 0.9903 - val_loss: 0.3345 - val_accuracy: 0.9289\n",
      "Epoch 64/200\n",
      "161/161 [==============================] - 83s 514ms/step - loss: 0.0379 - accuracy: 0.9869 - val_loss: 0.3244 - val_accuracy: 0.9312\n",
      "Epoch 65/200\n",
      "161/161 [==============================] - 83s 512ms/step - loss: 0.0354 - accuracy: 0.9889 - val_loss: 0.2922 - val_accuracy: 0.9383\n",
      "Epoch 66/200\n",
      "161/161 [==============================] - 83s 513ms/step - loss: 0.0363 - accuracy: 0.9885 - val_loss: 0.3243 - val_accuracy: 0.9312\n",
      "Epoch 67/200\n",
      "161/161 [==============================] - 83s 513ms/step - loss: 0.0394 - accuracy: 0.9864 - val_loss: 0.3466 - val_accuracy: 0.9312\n",
      "Epoch 68/200\n",
      "161/161 [==============================] - 83s 515ms/step - loss: 0.0355 - accuracy: 0.9897 - val_loss: 0.3141 - val_accuracy: 0.9344\n"
     ]
    }
   ]
  },
  {
   "cell_type": "markdown",
   "source": [
    "better accuracy for this last model, used to send a new submission on the test set"
   ],
   "metadata": {
    "id": "qcsY0IPKu8Wk"
   }
  },
  {
   "cell_type": "code",
   "source": [
    "model.save(\n",
    "    \"/content/drive/MyDrive/Colab Notebooks/paddy/paddy_resnet_adabelief_ranger_2\"\n",
    ")\n",
    "print(\"the model is saved\")"
   ],
   "metadata": {
    "colab": {
     "base_uri": "https://localhost:8080/"
    },
    "id": "EWwhNfec8zBX",
    "executionInfo": {
     "status": "ok",
     "timestamp": 1656673842851,
     "user_tz": -120,
     "elapsed": 46226,
     "user": {
      "displayName": "Catherine Seytre",
      "userId": "18110368277065052224"
     }
    },
    "outputId": "d5ea8726-75ae-4843-d682-7efcb8fa47bb"
   },
   "execution_count": null,
   "outputs": [
    {
     "output_type": "stream",
     "name": "stdout",
     "text": [
      "INFO:tensorflow:Assets written to: /content/drive/MyDrive/Colab Notebooks/paddy/paddy_resnet_adabelief_ranger_2/assets\n",
      "the model is saved\n"
     ]
    }
   ]
  },
  {
   "cell_type": "code",
   "source": [
    ""
   ],
   "metadata": {
    "id": "COGiLPwh8y8m"
   },
   "execution_count": null,
   "outputs": []
  },
  {
   "cell_type": "code",
   "source": [
    "# predict sur test set avec resnet_26 layers\n",
    "disease_pred = model.predict(test_generator, batch_size=32,)"
   ],
   "metadata": {
    "id": "ayvlivRv9Ah7"
   },
   "execution_count": null,
   "outputs": []
  },
  {
   "cell_type": "code",
   "source": [
    "# formatting Kaggle submission\n",
    "predicted_class_indices = np.argmax(disease_pred, axis=1)\n",
    "print(set(predicted_class_indices))\n",
    "\n",
    "inv_map = {v: k for k, v in train_generator.class_indices.items()}\n",
    "\n",
    "predictions = [inv_map[k] for k in predicted_class_indices]"
   ],
   "metadata": {
    "executionInfo": {
     "status": "ok",
     "timestamp": 1656673866294,
     "user_tz": -120,
     "elapsed": 21,
     "user": {
      "displayName": "Catherine Seytre",
      "userId": "18110368277065052224"
     }
    },
    "id": "Fs-l_jF99Ah7",
    "colab": {
     "base_uri": "https://localhost:8080/"
    },
    "outputId": "9726204a-6ea6-4f57-983d-c4b54f97cb9a"
   },
   "execution_count": null,
   "outputs": [
    {
     "output_type": "stream",
     "name": "stdout",
     "text": [
      "{0, 1, 2, 3, 4, 5, 6, 7, 8, 9}\n"
     ]
    }
   ]
  },
  {
   "cell_type": "code",
   "source": [
    "filenames = test_generator.filenames\n",
    "\n",
    "results = pd.DataFrame({\"image_id\": filenames, \"label\": predictions})\n",
    "results.image_id = results.image_id.str.replace(\"./\", \"\")\n",
    "results.to_csv(\"/content/drive/MyDrive/Colab Notebooks/submission5.csv\", index=False)\n",
    "results.head()"
   ],
   "metadata": {
    "executionInfo": {
     "status": "ok",
     "timestamp": 1656673866296,
     "user_tz": -120,
     "elapsed": 18,
     "user": {
      "displayName": "Catherine Seytre",
      "userId": "18110368277065052224"
     }
    },
    "id": "jGCRBIo79Ah9",
    "colab": {
     "base_uri": "https://localhost:8080/",
     "height": 261
    },
    "outputId": "4c1c5637-c5eb-40d0-c9e1-7c08571f3d2b"
   },
   "execution_count": null,
   "outputs": [
    {
     "output_type": "stream",
     "name": "stderr",
     "text": [
      "/usr/local/lib/python3.7/dist-packages/ipykernel_launcher.py:5: FutureWarning: The default value of regex will change from True to False in a future version.\n",
      "  \"\"\"\n"
     ]
    },
    {
     "output_type": "execute_result",
     "data": {
      "text/plain": [
       "     image_id   label\n",
       "0  200001.jpg   hispa\n",
       "1  200002.jpg  normal\n",
       "2  200003.jpg   blast\n",
       "3  200004.jpg   blast\n",
       "4  200005.jpg   blast"
      ],
      "text/html": [
       "\n",
       "  <div id=\"df-a2849f95-d9f3-4e4a-a0aa-05d0a6f4c3cf\">\n",
       "    <div class=\"colab-df-container\">\n",
       "      <div>\n",
       "<style scoped>\n",
       "    .dataframe tbody tr th:only-of-type {\n",
       "        vertical-align: middle;\n",
       "    }\n",
       "\n",
       "    .dataframe tbody tr th {\n",
       "        vertical-align: top;\n",
       "    }\n",
       "\n",
       "    .dataframe thead th {\n",
       "        text-align: right;\n",
       "    }\n",
       "</style>\n",
       "<table border=\"1\" class=\"dataframe\">\n",
       "  <thead>\n",
       "    <tr style=\"text-align: right;\">\n",
       "      <th></th>\n",
       "      <th>image_id</th>\n",
       "      <th>label</th>\n",
       "    </tr>\n",
       "  </thead>\n",
       "  <tbody>\n",
       "    <tr>\n",
       "      <th>0</th>\n",
       "      <td>200001.jpg</td>\n",
       "      <td>hispa</td>\n",
       "    </tr>\n",
       "    <tr>\n",
       "      <th>1</th>\n",
       "      <td>200002.jpg</td>\n",
       "      <td>normal</td>\n",
       "    </tr>\n",
       "    <tr>\n",
       "      <th>2</th>\n",
       "      <td>200003.jpg</td>\n",
       "      <td>blast</td>\n",
       "    </tr>\n",
       "    <tr>\n",
       "      <th>3</th>\n",
       "      <td>200004.jpg</td>\n",
       "      <td>blast</td>\n",
       "    </tr>\n",
       "    <tr>\n",
       "      <th>4</th>\n",
       "      <td>200005.jpg</td>\n",
       "      <td>blast</td>\n",
       "    </tr>\n",
       "  </tbody>\n",
       "</table>\n",
       "</div>\n",
       "      <button class=\"colab-df-convert\" onclick=\"convertToInteractive('df-a2849f95-d9f3-4e4a-a0aa-05d0a6f4c3cf')\"\n",
       "              title=\"Convert this dataframe to an interactive table.\"\n",
       "              style=\"display:none;\">\n",
       "        \n",
       "  <svg xmlns=\"http://www.w3.org/2000/svg\" height=\"24px\"viewBox=\"0 0 24 24\"\n",
       "       width=\"24px\">\n",
       "    <path d=\"M0 0h24v24H0V0z\" fill=\"none\"/>\n",
       "    <path d=\"M18.56 5.44l.94 2.06.94-2.06 2.06-.94-2.06-.94-.94-2.06-.94 2.06-2.06.94zm-11 1L8.5 8.5l.94-2.06 2.06-.94-2.06-.94L8.5 2.5l-.94 2.06-2.06.94zm10 10l.94 2.06.94-2.06 2.06-.94-2.06-.94-.94-2.06-.94 2.06-2.06.94z\"/><path d=\"M17.41 7.96l-1.37-1.37c-.4-.4-.92-.59-1.43-.59-.52 0-1.04.2-1.43.59L10.3 9.45l-7.72 7.72c-.78.78-.78 2.05 0 2.83L4 21.41c.39.39.9.59 1.41.59.51 0 1.02-.2 1.41-.59l7.78-7.78 2.81-2.81c.8-.78.8-2.07 0-2.86zM5.41 20L4 18.59l7.72-7.72 1.47 1.35L5.41 20z\"/>\n",
       "  </svg>\n",
       "      </button>\n",
       "      \n",
       "  <style>\n",
       "    .colab-df-container {\n",
       "      display:flex;\n",
       "      flex-wrap:wrap;\n",
       "      gap: 12px;\n",
       "    }\n",
       "\n",
       "    .colab-df-convert {\n",
       "      background-color: #E8F0FE;\n",
       "      border: none;\n",
       "      border-radius: 50%;\n",
       "      cursor: pointer;\n",
       "      display: none;\n",
       "      fill: #1967D2;\n",
       "      height: 32px;\n",
       "      padding: 0 0 0 0;\n",
       "      width: 32px;\n",
       "    }\n",
       "\n",
       "    .colab-df-convert:hover {\n",
       "      background-color: #E2EBFA;\n",
       "      box-shadow: 0px 1px 2px rgba(60, 64, 67, 0.3), 0px 1px 3px 1px rgba(60, 64, 67, 0.15);\n",
       "      fill: #174EA6;\n",
       "    }\n",
       "\n",
       "    [theme=dark] .colab-df-convert {\n",
       "      background-color: #3B4455;\n",
       "      fill: #D2E3FC;\n",
       "    }\n",
       "\n",
       "    [theme=dark] .colab-df-convert:hover {\n",
       "      background-color: #434B5C;\n",
       "      box-shadow: 0px 1px 3px 1px rgba(0, 0, 0, 0.15);\n",
       "      filter: drop-shadow(0px 1px 2px rgba(0, 0, 0, 0.3));\n",
       "      fill: #FFFFFF;\n",
       "    }\n",
       "  </style>\n",
       "\n",
       "      <script>\n",
       "        const buttonEl =\n",
       "          document.querySelector('#df-a2849f95-d9f3-4e4a-a0aa-05d0a6f4c3cf button.colab-df-convert');\n",
       "        buttonEl.style.display =\n",
       "          google.colab.kernel.accessAllowed ? 'block' : 'none';\n",
       "\n",
       "        async function convertToInteractive(key) {\n",
       "          const element = document.querySelector('#df-a2849f95-d9f3-4e4a-a0aa-05d0a6f4c3cf');\n",
       "          const dataTable =\n",
       "            await google.colab.kernel.invokeFunction('convertToInteractive',\n",
       "                                                     [key], {});\n",
       "          if (!dataTable) return;\n",
       "\n",
       "          const docLinkHtml = 'Like what you see? Visit the ' +\n",
       "            '<a target=\"_blank\" href=https://colab.research.google.com/notebooks/data_table.ipynb>data table notebook</a>'\n",
       "            + ' to learn more about interactive tables.';\n",
       "          element.innerHTML = '';\n",
       "          dataTable['output_type'] = 'display_data';\n",
       "          await google.colab.output.renderOutput(dataTable, element);\n",
       "          const docLink = document.createElement('div');\n",
       "          docLink.innerHTML = docLinkHtml;\n",
       "          element.appendChild(docLink);\n",
       "        }\n",
       "      </script>\n",
       "    </div>\n",
       "  </div>\n",
       "  "
      ]
     },
     "metadata": {},
     "execution_count": 49
    }
   ]
  },
  {
   "cell_type": "markdown",
   "source": [
    "same accuracy on test set as v1 model : 0.95271"
   ],
   "metadata": {
    "id": "MLGoIvu5wK1S"
   }
  }
 ],
 "metadata": {
  "colab": {
   "collapsed_sections": [],
   "machine_shape": "hm",
   "name": "P8_v3.ipynb",
   "provenance": [
    {
     "file_id": "1sBpKlyeTVGRWBmiuDRhDMY68dEscLqtJ",
     "timestamp": 1656656483962
    },
    {
     "file_id": "1_ypliGvKqsJMp6l3IqPBEGW5jgt_VYEi",
     "timestamp": 1656503232628
    },
    {
     "file_id": "1YgqsOtgW6iJMD8l1X7k97XGXDKr31AGO",
     "timestamp": 1655809476734
    }
   ],
   "background_execution": "on",
   "toc_visible": true,
   "mount_file_id": "1sBpKlyeTVGRWBmiuDRhDMY68dEscLqtJ",
   "authorship_tag": "ABX9TyMP9ws8mNAm6V0Zu/jL+u+9"
  },
  "gpuClass": "standard",
  "kernelspec": {
   "display_name": "Python 3",
   "name": "python3"
  },
  "language_info": {
   "name": "python"
  },
  "accelerator": "GPU"
 },
 "nbformat": 4,
 "nbformat_minor": 0
}