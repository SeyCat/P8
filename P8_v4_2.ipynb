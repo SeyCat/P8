{
 "cells": [
  {
   "cell_type": "markdown",
   "source": [
    "**Paddy Doctor**"
   ],
   "metadata": {
    "id": "4A6mRA250mh2"
   }
  },
  {
   "cell_type": "markdown",
   "source": [
    "#Import data and libraries"
   ],
   "metadata": {
    "id": "2t7iQexe0qnD"
   }
  },
  {
   "cell_type": "code",
   "execution_count": 1,
   "metadata": {
    "colab": {
     "base_uri": "https://localhost:8080/"
    },
    "executionInfo": {
     "elapsed": 25534,
     "status": "ok",
     "timestamp": 1657280684894,
     "user": {
      "displayName": "Catherine Seytre",
      "userId": "18110368277065052224"
     },
     "user_tz": -120
    },
    "id": "uQ0TMZTjGHzM",
    "outputId": "ad903298-0dad-4a9b-c759-4a66b89b0755"
   },
   "outputs": [
    {
     "output_type": "stream",
     "name": "stdout",
     "text": [
      "Mounted at /content/drive\n"
     ]
    }
   ],
   "source": [
    "from google.colab import drive\n",
    "\n",
    "drive.mount(\"/content/drive\")"
   ]
  },
  {
   "cell_type": "code",
   "execution_count": 2,
   "metadata": {
    "colab": {
     "base_uri": "https://localhost:8080/"
    },
    "executionInfo": {
     "elapsed": 10971,
     "status": "ok",
     "timestamp": 1657280698749,
     "user": {
      "displayName": "Catherine Seytre",
      "userId": "18110368277065052224"
     },
     "user_tz": -120
    },
    "id": "d63z9-G6aEWn",
    "outputId": "e8651cd3-fa2b-40b1-d139-c679113a2727"
   },
   "outputs": [
    {
     "output_type": "stream",
     "name": "stdout",
     "text": [
      "Looking in indexes: https://pypi.org/simple, https://us-python.pkg.dev/colab-wheels/public/simple/\n",
      "Collecting tensorflow-addons\n",
      "  Downloading tensorflow_addons-0.17.1-cp37-cp37m-manylinux_2_17_x86_64.manylinux2014_x86_64.whl (1.1 MB)\n",
      "\u001b[K     |████████████████████████████████| 1.1 MB 14.0 MB/s \n",
      "\u001b[?25hRequirement already satisfied: typeguard>=2.7 in /usr/local/lib/python3.7/dist-packages (from tensorflow-addons) (2.7.1)\n",
      "Requirement already satisfied: packaging in /usr/local/lib/python3.7/dist-packages (from tensorflow-addons) (21.3)\n",
      "Requirement already satisfied: pyparsing!=3.0.5,>=2.0.2 in /usr/local/lib/python3.7/dist-packages (from packaging->tensorflow-addons) (3.0.9)\n",
      "Installing collected packages: tensorflow-addons\n",
      "Successfully installed tensorflow-addons-0.17.1\n",
      "\u001b[K     |████████████████████████████████| 133 kB 14.1 MB/s \n",
      "\u001b[?25h"
     ]
    }
   ],
   "source": [
    "# import librairies\n",
    "import os\n",
    "import warnings\n",
    "import numpy as np\n",
    "import pandas as pd\n",
    "import matplotlib.pyplot as plt\n",
    "\n",
    "import tensorflow as tf\n",
    "from tensorflow.keras import Model, optimizers\n",
    "from tensorflow.keras.applications import xception\n",
    "from tensorflow.keras.preprocessing import image\n",
    "from tensorflow.keras.preprocessing.image import ImageDataGenerator\n",
    "from tensorflow.keras.utils import plot_model\n",
    "from tensorflow.keras import backend as K\n",
    "from tensorflow.keras.models import load_model\n",
    "\n",
    "from tensorflow.keras.models import Model\n",
    "from tensorflow.keras.layers import Layer\n",
    "from tensorflow.keras.models import Sequential\n",
    "from tensorflow.keras.layers import BatchNormalization\n",
    "from tensorflow.keras.layers import AveragePooling2D\n",
    "from tensorflow.keras.layers import GlobalAveragePooling2D\n",
    "from tensorflow.keras.layers import MaxPooling2D\n",
    "from tensorflow.keras.layers import Conv2D\n",
    "from tensorflow.keras.layers import Activation\n",
    "from tensorflow.keras.layers import Dropout\n",
    "from tensorflow.keras.layers import Flatten\n",
    "from tensorflow.keras.layers import Input\n",
    "from tensorflow.keras.layers import Dense\n",
    "from tensorflow.keras.callbacks import Callback\n",
    "from tensorflow.keras.utils import to_categorical\n",
    "from tensorflow.keras.applications import EfficientNetB0\n",
    "\n",
    "!pip install tensorflow-addons\n",
    "!pip install -q -U keras-tuner\n",
    "import tensorflow_addons as tfa\n",
    "import keras_tuner as kt\n",
    "\n",
    "from sklearn.preprocessing import LabelEncoder\n",
    "from sklearn.model_selection import train_test_split\n",
    "from sklearn.metrics import classification_report, confusion_matrix"
   ]
  },
  {
   "cell_type": "markdown",
   "source": [
    "##data exploration"
   ],
   "metadata": {
    "id": "3BnaMrJb8Epr"
   }
  },
  {
   "cell_type": "code",
   "source": [
    "df_meta = pd.read_csv(\"/content/drive/MyDrive/Colab Notebooks/paddy/train.csv\")\n",
    "df_meta.head()"
   ],
   "metadata": {
    "colab": {
     "base_uri": "https://localhost:8080/",
     "height": 206
    },
    "id": "Woy7rySEphOi",
    "executionInfo": {
     "status": "ok",
     "timestamp": 1656775162927,
     "user_tz": -120,
     "elapsed": 2424,
     "user": {
      "displayName": "Catherine Seytre",
      "userId": "18110368277065052224"
     }
    },
    "outputId": "bd3ce6a7-9fe7-4f05-ab9c-749a2dc69004"
   },
   "execution_count": null,
   "outputs": [
    {
     "output_type": "execute_result",
     "data": {
      "text/plain": [
       "     image_id                  label variety  age\n",
       "0  100330.jpg  bacterial_leaf_blight   ADT45   45\n",
       "1  100365.jpg  bacterial_leaf_blight   ADT45   45\n",
       "2  100382.jpg  bacterial_leaf_blight   ADT45   45\n",
       "3  100632.jpg  bacterial_leaf_blight   ADT45   45\n",
       "4  101918.jpg  bacterial_leaf_blight   ADT45   45"
      ],
      "text/html": [
       "\n",
       "  <div id=\"df-aeb16e39-4d06-4cf9-92d4-eac9a967c70b\">\n",
       "    <div class=\"colab-df-container\">\n",
       "      <div>\n",
       "<style scoped>\n",
       "    .dataframe tbody tr th:only-of-type {\n",
       "        vertical-align: middle;\n",
       "    }\n",
       "\n",
       "    .dataframe tbody tr th {\n",
       "        vertical-align: top;\n",
       "    }\n",
       "\n",
       "    .dataframe thead th {\n",
       "        text-align: right;\n",
       "    }\n",
       "</style>\n",
       "<table border=\"1\" class=\"dataframe\">\n",
       "  <thead>\n",
       "    <tr style=\"text-align: right;\">\n",
       "      <th></th>\n",
       "      <th>image_id</th>\n",
       "      <th>label</th>\n",
       "      <th>variety</th>\n",
       "      <th>age</th>\n",
       "    </tr>\n",
       "  </thead>\n",
       "  <tbody>\n",
       "    <tr>\n",
       "      <th>0</th>\n",
       "      <td>100330.jpg</td>\n",
       "      <td>bacterial_leaf_blight</td>\n",
       "      <td>ADT45</td>\n",
       "      <td>45</td>\n",
       "    </tr>\n",
       "    <tr>\n",
       "      <th>1</th>\n",
       "      <td>100365.jpg</td>\n",
       "      <td>bacterial_leaf_blight</td>\n",
       "      <td>ADT45</td>\n",
       "      <td>45</td>\n",
       "    </tr>\n",
       "    <tr>\n",
       "      <th>2</th>\n",
       "      <td>100382.jpg</td>\n",
       "      <td>bacterial_leaf_blight</td>\n",
       "      <td>ADT45</td>\n",
       "      <td>45</td>\n",
       "    </tr>\n",
       "    <tr>\n",
       "      <th>3</th>\n",
       "      <td>100632.jpg</td>\n",
       "      <td>bacterial_leaf_blight</td>\n",
       "      <td>ADT45</td>\n",
       "      <td>45</td>\n",
       "    </tr>\n",
       "    <tr>\n",
       "      <th>4</th>\n",
       "      <td>101918.jpg</td>\n",
       "      <td>bacterial_leaf_blight</td>\n",
       "      <td>ADT45</td>\n",
       "      <td>45</td>\n",
       "    </tr>\n",
       "  </tbody>\n",
       "</table>\n",
       "</div>\n",
       "      <button class=\"colab-df-convert\" onclick=\"convertToInteractive('df-aeb16e39-4d06-4cf9-92d4-eac9a967c70b')\"\n",
       "              title=\"Convert this dataframe to an interactive table.\"\n",
       "              style=\"display:none;\">\n",
       "        \n",
       "  <svg xmlns=\"http://www.w3.org/2000/svg\" height=\"24px\"viewBox=\"0 0 24 24\"\n",
       "       width=\"24px\">\n",
       "    <path d=\"M0 0h24v24H0V0z\" fill=\"none\"/>\n",
       "    <path d=\"M18.56 5.44l.94 2.06.94-2.06 2.06-.94-2.06-.94-.94-2.06-.94 2.06-2.06.94zm-11 1L8.5 8.5l.94-2.06 2.06-.94-2.06-.94L8.5 2.5l-.94 2.06-2.06.94zm10 10l.94 2.06.94-2.06 2.06-.94-2.06-.94-.94-2.06-.94 2.06-2.06.94z\"/><path d=\"M17.41 7.96l-1.37-1.37c-.4-.4-.92-.59-1.43-.59-.52 0-1.04.2-1.43.59L10.3 9.45l-7.72 7.72c-.78.78-.78 2.05 0 2.83L4 21.41c.39.39.9.59 1.41.59.51 0 1.02-.2 1.41-.59l7.78-7.78 2.81-2.81c.8-.78.8-2.07 0-2.86zM5.41 20L4 18.59l7.72-7.72 1.47 1.35L5.41 20z\"/>\n",
       "  </svg>\n",
       "      </button>\n",
       "      \n",
       "  <style>\n",
       "    .colab-df-container {\n",
       "      display:flex;\n",
       "      flex-wrap:wrap;\n",
       "      gap: 12px;\n",
       "    }\n",
       "\n",
       "    .colab-df-convert {\n",
       "      background-color: #E8F0FE;\n",
       "      border: none;\n",
       "      border-radius: 50%;\n",
       "      cursor: pointer;\n",
       "      display: none;\n",
       "      fill: #1967D2;\n",
       "      height: 32px;\n",
       "      padding: 0 0 0 0;\n",
       "      width: 32px;\n",
       "    }\n",
       "\n",
       "    .colab-df-convert:hover {\n",
       "      background-color: #E2EBFA;\n",
       "      box-shadow: 0px 1px 2px rgba(60, 64, 67, 0.3), 0px 1px 3px 1px rgba(60, 64, 67, 0.15);\n",
       "      fill: #174EA6;\n",
       "    }\n",
       "\n",
       "    [theme=dark] .colab-df-convert {\n",
       "      background-color: #3B4455;\n",
       "      fill: #D2E3FC;\n",
       "    }\n",
       "\n",
       "    [theme=dark] .colab-df-convert:hover {\n",
       "      background-color: #434B5C;\n",
       "      box-shadow: 0px 1px 3px 1px rgba(0, 0, 0, 0.15);\n",
       "      filter: drop-shadow(0px 1px 2px rgba(0, 0, 0, 0.3));\n",
       "      fill: #FFFFFF;\n",
       "    }\n",
       "  </style>\n",
       "\n",
       "      <script>\n",
       "        const buttonEl =\n",
       "          document.querySelector('#df-aeb16e39-4d06-4cf9-92d4-eac9a967c70b button.colab-df-convert');\n",
       "        buttonEl.style.display =\n",
       "          google.colab.kernel.accessAllowed ? 'block' : 'none';\n",
       "\n",
       "        async function convertToInteractive(key) {\n",
       "          const element = document.querySelector('#df-aeb16e39-4d06-4cf9-92d4-eac9a967c70b');\n",
       "          const dataTable =\n",
       "            await google.colab.kernel.invokeFunction('convertToInteractive',\n",
       "                                                     [key], {});\n",
       "          if (!dataTable) return;\n",
       "\n",
       "          const docLinkHtml = 'Like what you see? Visit the ' +\n",
       "            '<a target=\"_blank\" href=https://colab.research.google.com/notebooks/data_table.ipynb>data table notebook</a>'\n",
       "            + ' to learn more about interactive tables.';\n",
       "          element.innerHTML = '';\n",
       "          dataTable['output_type'] = 'display_data';\n",
       "          await google.colab.output.renderOutput(dataTable, element);\n",
       "          const docLink = document.createElement('div');\n",
       "          docLink.innerHTML = docLinkHtml;\n",
       "          element.appendChild(docLink);\n",
       "        }\n",
       "      </script>\n",
       "    </div>\n",
       "  </div>\n",
       "  "
      ]
     },
     "metadata": {},
     "execution_count": 4
    }
   ]
  },
  {
   "cell_type": "code",
   "execution_count": 3,
   "metadata": {
    "id": "Yb0umgHfGWOa",
    "executionInfo": {
     "status": "ok",
     "timestamp": 1657280700645,
     "user_tz": -120,
     "elapsed": 3,
     "user": {
      "displayName": "Catherine Seytre",
      "userId": "18110368277065052224"
     }
    }
   },
   "outputs": [],
   "source": [
    "train_path = \"/content/drive/MyDrive/Colab Notebooks/paddy/train_images\"\n",
    "test_path = \"/content/drive/MyDrive/Colab Notebooks/paddy/test_images\""
   ]
  },
  {
   "cell_type": "code",
   "execution_count": 4,
   "metadata": {
    "colab": {
     "base_uri": "https://localhost:8080/"
    },
    "executionInfo": {
     "elapsed": 825,
     "status": "ok",
     "timestamp": 1657280701791,
     "user": {
      "displayName": "Catherine Seytre",
      "userId": "18110368277065052224"
     },
     "user_tz": -120
    },
    "id": "7tWve3fTHAJw",
    "outputId": "713a752b-9db8-4271-aacd-d9fd4ba1ddd5"
   },
   "outputs": [
    {
     "output_type": "stream",
     "name": "stdout",
     "text": [
      "['brown_spot', 'downy_mildew', 'tungro', 'hispa', 'normal', 'bacterial_leaf_streak', 'blast', 'dead_heart', 'bacterial_panicle_blight', 'bacterial_leaf_blight']\n",
      "Total diseases number: 10\n"
     ]
    }
   ],
   "source": [
    "disease_list = os.listdir(train_path)\n",
    "n_classes = len(disease_list)\n",
    "print(disease_list)\n",
    "print(\"Total diseases number:\", n_classes)"
   ]
  },
  {
   "cell_type": "markdown",
   "source": [
    "## Preprocessing"
   ],
   "metadata": {
    "id": "X7Z6TtZggPyH"
   }
  },
  {
   "cell_type": "code",
   "source": [
    "img_width = 224\n",
    "img_height = 224\n",
    "batch_size = 32\n",
    "\n",
    "epochs = 100\n",
    "epochs_ft = 200\n",
    "\n",
    "nb_classes = 10"
   ],
   "metadata": {
    "id": "NGRDt7sYC_ix",
    "executionInfo": {
     "status": "ok",
     "timestamp": 1657280704899,
     "user_tz": -120,
     "elapsed": 2,
     "user": {
      "displayName": "Catherine Seytre",
      "userId": "18110368277065052224"
     }
    }
   },
   "execution_count": 5,
   "outputs": []
  },
  {
   "cell_type": "code",
   "source": [
    "train_datagen = ImageDataGenerator(\n",
    "    rotation_range=20,\n",
    "    width_shift_range=0.3,\n",
    "    height_shift_range=0.2,\n",
    "    shear_range=0.3,\n",
    "    zoom_range=0.3,\n",
    "    horizontal_flip=True,\n",
    "    vertical_flip=False,\n",
    "    validation_split=0.2,\n",
    "    preprocessing_function=tf.keras.applications.efficientnet.preprocess_input,\n",
    ")\n",
    "\n",
    "test_datagen = ImageDataGenerator(\n",
    "    preprocessing_function=tf.keras.applications.efficientnet.preprocess_input\n",
    ")"
   ],
   "metadata": {
    "id": "AUok5I6NC_f_",
    "executionInfo": {
     "status": "ok",
     "timestamp": 1657280705293,
     "user_tz": -120,
     "elapsed": 3,
     "user": {
      "displayName": "Catherine Seytre",
      "userId": "18110368277065052224"
     }
    }
   },
   "execution_count": 6,
   "outputs": []
  },
  {
   "cell_type": "code",
   "source": [
    "train_generator = train_datagen.flow_from_directory(\n",
    "    train_path,\n",
    "    subset=\"training\",\n",
    "    target_size=(img_width, img_height),\n",
    "    batch_size=batch_size,\n",
    "    class_mode=\"categorical\",\n",
    ")\n",
    "\n",
    "valid_generator = train_datagen.flow_from_directory(\n",
    "    train_path,\n",
    "    subset=\"validation\",\n",
    "    target_size=(img_width, img_height),\n",
    "    batch_size=batch_size,\n",
    "    class_mode=\"categorical\",\n",
    ")"
   ],
   "metadata": {
    "colab": {
     "base_uri": "https://localhost:8080/"
    },
    "id": "CtEbDkjdC_dc",
    "executionInfo": {
     "status": "ok",
     "timestamp": 1657280709808,
     "user_tz": -120,
     "elapsed": 3776,
     "user": {
      "displayName": "Catherine Seytre",
      "userId": "18110368277065052224"
     }
    },
    "outputId": "cf8957bc-db53-4576-f069-56d49ed810ed"
   },
   "execution_count": 7,
   "outputs": [
    {
     "output_type": "stream",
     "name": "stdout",
     "text": [
      "Found 5131 images belonging to 10 classes.\n",
      "Found 1280 images belonging to 10 classes.\n"
     ]
    }
   ]
  },
  {
   "cell_type": "code",
   "source": [
    "# images for prediction\n",
    "test_generator = test_datagen.flow_from_directory(\n",
    "    directory=test_path,\n",
    "    target_size=(img_width, img_height),\n",
    "    batch_size=batch_size,\n",
    "    classes=[\".\"],\n",
    "    shuffle=False,\n",
    ")"
   ],
   "metadata": {
    "colab": {
     "base_uri": "https://localhost:8080/"
    },
    "id": "ZW7cSagyaC4m",
    "executionInfo": {
     "status": "ok",
     "timestamp": 1657280723254,
     "user_tz": -120,
     "elapsed": 13448,
     "user": {
      "displayName": "Catherine Seytre",
      "userId": "18110368277065052224"
     }
    },
    "outputId": "8fba66a1-27ef-4436-f985-319907d55d0b"
   },
   "execution_count": 8,
   "outputs": [
    {
     "output_type": "stream",
     "name": "stdout",
     "text": [
      "Found 3469 images belonging to 1 classes.\n"
     ]
    }
   ]
  },
  {
   "cell_type": "code",
   "execution_count": null,
   "metadata": {
    "id": "Sla0CfNASYVl"
   },
   "outputs": [],
   "source": [
    "# f1_score from tensorflow_addons\n",
    "f1_tfa = tfa.metrics.F1Score(num_classes=n_classes, average=\"macro\")"
   ]
  },
  {
   "cell_type": "code",
   "execution_count": 9,
   "metadata": {
    "id": "ZeOEXuDlSYSx",
    "executionInfo": {
     "status": "ok",
     "timestamp": 1657280723255,
     "user_tz": -120,
     "elapsed": 8,
     "user": {
      "displayName": "Catherine Seytre",
      "userId": "18110368277065052224"
     }
    }
   },
   "outputs": [],
   "source": [
    "def plot_history(dict_history, first_score, second_score):\n",
    "\n",
    "    \"\"\"\n",
    "creates two subplots for plotting 2 different metrics\n",
    "called first_score and second_score against epoch number,\n",
    "values obtained from the train and the validation datasets\n",
    "are visualized\n",
    "  \"\"\"\n",
    "\n",
    "    with plt.style.context(\"seaborn-whitegrid\"):\n",
    "        fig = plt.figure(figsize=(25, 10))\n",
    "\n",
    "        # first suplot\n",
    "        plt.subplot(1, 2, 1)\n",
    "        plt.plot(dict_history.history[first_score], color=\"g\")\n",
    "        plt.plot(\n",
    "            dict_history.history[\"val_\" + first_score], linestyle=\"--\", color=\"orange\"\n",
    "        )\n",
    "        plt.title(\n",
    "            \"Pre-trained EfficientNet_B0 on Paddy dataset \" + first_score, fontsize=18\n",
    "        )\n",
    "        plt.ylabel(first_score)\n",
    "        plt.xlabel(\"epoch\")\n",
    "        plt.legend([\"train\", \"validation\"], loc=\"upper left\")\n",
    "\n",
    "        # second subplot\n",
    "        plt.subplot(1, 2, 2)\n",
    "        plt.plot(dict_history.history[second_score], color=\"g\")\n",
    "        plt.plot(\n",
    "            dict_history.history[\"val_\" + second_score], linestyle=\"--\", color=\"orange\"\n",
    "        )\n",
    "        plt.title(\n",
    "            \"Pre-trained EfficientNet_B0 on Paddy dataset \" + second_score, fontsize=18\n",
    "        )\n",
    "        plt.ylabel(second_score)\n",
    "        plt.xlabel(\"epoch\")\n",
    "        plt.legend([\"train\", \"validation\"], loc=\"upper left\")\n",
    "        plt.show()"
   ]
  },
  {
   "cell_type": "code",
   "source": [
    "# parameters for data\n",
    "height = 224\n",
    "width = 224\n",
    "channels = 3\n",
    "input_shape = (height, width, channels)\n",
    "n_classes = 10\n",
    "\n",
    "# parameters for callback functions\n",
    "es_patience = 10"
   ],
   "metadata": {
    "id": "-Lnf60-MTHAu",
    "executionInfo": {
     "status": "ok",
     "timestamp": 1657280732238,
     "user_tz": -120,
     "elapsed": 335,
     "user": {
      "displayName": "Catherine Seytre",
      "userId": "18110368277065052224"
     }
    }
   },
   "execution_count": 11,
   "outputs": []
  },
  {
   "cell_type": "markdown",
   "source": [
    "#Model EfficientNetB0"
   ],
   "metadata": {
    "id": "inUEdhscOLeJ"
   }
  },
  {
   "cell_type": "code",
   "source": [
    "es = tf.keras.callbacks.EarlyStopping(\n",
    "    monitor=\"val_loss\",\n",
    "    mode=\"min\",\n",
    "    patience=es_patience,\n",
    "    restore_best_weights=True,\n",
    "    verbose=1,\n",
    ")"
   ],
   "metadata": {
    "id": "lKXjORvcWe_E",
    "executionInfo": {
     "status": "ok",
     "timestamp": 1657280743485,
     "user_tz": -120,
     "elapsed": 322,
     "user": {
      "displayName": "Catherine Seytre",
      "userId": "18110368277065052224"
     }
    }
   },
   "execution_count": 12,
   "outputs": []
  },
  {
   "cell_type": "code",
   "source": [
    "# optimizer AdaBelief\n",
    "opt = tfa.optimizers.AdaBelief(\n",
    "    learning_rate=1e-3,\n",
    "    total_steps=10000,\n",
    "    warmup_proportion=0.1,\n",
    "    min_lr=1e-5,\n",
    "    rectify=True,\n",
    ")"
   ],
   "metadata": {
    "id": "2BYWKBQfiXAQ",
    "executionInfo": {
     "status": "ok",
     "timestamp": 1657280759060,
     "user_tz": -120,
     "elapsed": 322,
     "user": {
      "displayName": "Catherine Seytre",
      "userId": "18110368277065052224"
     }
    }
   },
   "execution_count": 15,
   "outputs": []
  },
  {
   "cell_type": "markdown",
   "source": [
    "## tuning top layers"
   ],
   "metadata": {
    "id": "6tQpMPYqGJ83"
   }
  },
  {
   "cell_type": "code",
   "source": [
    "def build_model(num_classes):\n",
    "    inputs = tf.keras.layers.Input(shape=(224, 224, 3))\n",
    "    model = EfficientNetB0(include_top=False, input_tensor=inputs, weights=\"imagenet\")\n",
    "\n",
    "    # Freeze the pretrained weights\n",
    "    model.trainable = False\n",
    "\n",
    "    # Rebuild top\n",
    "    x = tf.keras.layers.GlobalAveragePooling2D()(model.output)\n",
    "    x = tf.keras.layers.BatchNormalization()(x)\n",
    "\n",
    "    top_dropout_rate = 0.2\n",
    "    x = tf.keras.layers.Dropout(top_dropout_rate)(x)\n",
    "    outputs = tf.keras.layers.Dense(num_classes, activation=\"softmax\")(x)\n",
    "\n",
    "    # Compile\n",
    "    model = tf.keras.Model(inputs, outputs)\n",
    "    model.compile(optimizer=opt, loss=\"categorical_crossentropy\", metrics=[\"accuracy\"])\n",
    "    return model"
   ],
   "metadata": {
    "id": "ovhKcXe6JjLg"
   },
   "execution_count": null,
   "outputs": []
  },
  {
   "cell_type": "code",
   "source": [
    "num_classes = 10\n",
    "model = build_model(num_classes=num_classes)\n",
    "\n",
    "epochs = 80\n",
    "hist = model.fit(\n",
    "    train_generator,\n",
    "    epochs=epochs,\n",
    "    validation_data=valid_generator,\n",
    "    verbose=1,\n",
    "    callbacks=[early_stp],\n",
    ")"
   ],
   "metadata": {
    "colab": {
     "base_uri": "https://localhost:8080/"
    },
    "id": "g-ohARxWMIWX",
    "executionInfo": {
     "status": "ok",
     "timestamp": 1656702515482,
     "user_tz": -120,
     "elapsed": 4085559,
     "user": {
      "displayName": "Catherine Seytre",
      "userId": "18110368277065052224"
     }
    },
    "outputId": "093f00df-8e95-4c1a-9d85-00d8d38de89c"
   },
   "execution_count": null,
   "outputs": [
    {
     "output_type": "stream",
     "name": "stdout",
     "text": [
      "Epoch 1/80\n",
      "161/161 - 121s - loss: 3.1733 - accuracy: 0.0941 - val_loss: 2.4045 - val_accuracy: 0.1141 - 121s/epoch - 750ms/step\n",
      "Epoch 2/80\n",
      "161/161 - 108s - loss: 2.7403 - accuracy: 0.1399 - val_loss: 2.1859 - val_accuracy: 0.2102 - 108s/epoch - 674ms/step\n",
      "Epoch 3/80\n",
      "161/161 - 108s - loss: 2.2571 - accuracy: 0.2438 - val_loss: 1.8716 - val_accuracy: 0.3391 - 108s/epoch - 672ms/step\n",
      "Epoch 4/80\n",
      "161/161 - 108s - loss: 1.9651 - accuracy: 0.3261 - val_loss: 1.6763 - val_accuracy: 0.4273 - 108s/epoch - 671ms/step\n",
      "Epoch 5/80\n",
      "161/161 - 108s - loss: 1.7334 - accuracy: 0.4062 - val_loss: 1.5108 - val_accuracy: 0.4812 - 108s/epoch - 670ms/step\n",
      "Epoch 6/80\n",
      "161/161 - 108s - loss: 1.6123 - accuracy: 0.4463 - val_loss: 1.3933 - val_accuracy: 0.5289 - 108s/epoch - 669ms/step\n",
      "Epoch 7/80\n",
      "161/161 - 107s - loss: 1.4728 - accuracy: 0.4980 - val_loss: 1.2942 - val_accuracy: 0.5453 - 107s/epoch - 668ms/step\n",
      "Epoch 8/80\n",
      "161/161 - 108s - loss: 1.3952 - accuracy: 0.5171 - val_loss: 1.2714 - val_accuracy: 0.5688 - 108s/epoch - 668ms/step\n",
      "Epoch 9/80\n",
      "161/161 - 108s - loss: 1.3256 - accuracy: 0.5426 - val_loss: 1.2091 - val_accuracy: 0.6047 - 108s/epoch - 668ms/step\n",
      "Epoch 10/80\n",
      "161/161 - 107s - loss: 1.2778 - accuracy: 0.5611 - val_loss: 1.1206 - val_accuracy: 0.6297 - 107s/epoch - 666ms/step\n",
      "Epoch 11/80\n",
      "161/161 - 108s - loss: 1.2435 - accuracy: 0.5726 - val_loss: 1.1113 - val_accuracy: 0.6227 - 108s/epoch - 668ms/step\n",
      "Epoch 12/80\n",
      "161/161 - 109s - loss: 1.2325 - accuracy: 0.5749 - val_loss: 1.0641 - val_accuracy: 0.6539 - 109s/epoch - 674ms/step\n",
      "Epoch 13/80\n",
      "161/161 - 107s - loss: 1.2072 - accuracy: 0.5921 - val_loss: 1.0740 - val_accuracy: 0.6500 - 107s/epoch - 666ms/step\n",
      "Epoch 14/80\n",
      "161/161 - 107s - loss: 1.1949 - accuracy: 0.5845 - val_loss: 1.0562 - val_accuracy: 0.6422 - 107s/epoch - 663ms/step\n",
      "Epoch 15/80\n",
      "161/161 - 107s - loss: 1.1693 - accuracy: 0.6014 - val_loss: 1.0433 - val_accuracy: 0.6430 - 107s/epoch - 663ms/step\n",
      "Epoch 16/80\n",
      "161/161 - 106s - loss: 1.1691 - accuracy: 0.6026 - val_loss: 1.0675 - val_accuracy: 0.6453 - 106s/epoch - 661ms/step\n",
      "Epoch 17/80\n",
      "161/161 - 106s - loss: 1.1313 - accuracy: 0.6116 - val_loss: 1.0147 - val_accuracy: 0.6656 - 106s/epoch - 661ms/step\n",
      "Epoch 18/80\n",
      "161/161 - 107s - loss: 1.1462 - accuracy: 0.6053 - val_loss: 1.0050 - val_accuracy: 0.6844 - 107s/epoch - 665ms/step\n",
      "Epoch 19/80\n",
      "161/161 - 108s - loss: 1.1395 - accuracy: 0.6164 - val_loss: 0.9871 - val_accuracy: 0.6687 - 108s/epoch - 674ms/step\n",
      "Epoch 20/80\n",
      "161/161 - 108s - loss: 1.1394 - accuracy: 0.6184 - val_loss: 0.9734 - val_accuracy: 0.6742 - 108s/epoch - 670ms/step\n",
      "Epoch 21/80\n",
      "161/161 - 108s - loss: 1.1372 - accuracy: 0.6090 - val_loss: 0.9813 - val_accuracy: 0.6812 - 108s/epoch - 672ms/step\n",
      "Epoch 22/80\n",
      "161/161 - 107s - loss: 1.1165 - accuracy: 0.6092 - val_loss: 0.9885 - val_accuracy: 0.6625 - 107s/epoch - 663ms/step\n",
      "Epoch 23/80\n",
      "161/161 - 106s - loss: 1.1177 - accuracy: 0.6161 - val_loss: 0.9947 - val_accuracy: 0.6656 - 106s/epoch - 656ms/step\n",
      "Epoch 24/80\n",
      "161/161 - 106s - loss: 1.1175 - accuracy: 0.6219 - val_loss: 0.9714 - val_accuracy: 0.6711 - 106s/epoch - 658ms/step\n",
      "Epoch 25/80\n",
      "161/161 - 106s - loss: 1.0790 - accuracy: 0.6287 - val_loss: 0.9706 - val_accuracy: 0.6687 - 106s/epoch - 657ms/step\n",
      "Epoch 26/80\n",
      "161/161 - 106s - loss: 1.1046 - accuracy: 0.6215 - val_loss: 0.9707 - val_accuracy: 0.6891 - 106s/epoch - 657ms/step\n",
      "Epoch 27/80\n",
      "161/161 - 106s - loss: 1.0964 - accuracy: 0.6268 - val_loss: 0.9524 - val_accuracy: 0.6828 - 106s/epoch - 656ms/step\n",
      "Epoch 28/80\n",
      "161/161 - 106s - loss: 1.0881 - accuracy: 0.6334 - val_loss: 0.9436 - val_accuracy: 0.6867 - 106s/epoch - 660ms/step\n",
      "Epoch 29/80\n",
      "161/161 - 105s - loss: 1.1038 - accuracy: 0.6237 - val_loss: 0.9195 - val_accuracy: 0.7031 - 105s/epoch - 654ms/step\n",
      "Epoch 30/80\n",
      "161/161 - 105s - loss: 1.0898 - accuracy: 0.6278 - val_loss: 0.9736 - val_accuracy: 0.6812 - 105s/epoch - 654ms/step\n",
      "Epoch 31/80\n",
      "161/161 - 105s - loss: 1.0895 - accuracy: 0.6268 - val_loss: 0.9479 - val_accuracy: 0.6852 - 105s/epoch - 654ms/step\n",
      "Epoch 32/80\n",
      "161/161 - 105s - loss: 1.0646 - accuracy: 0.6350 - val_loss: 0.9316 - val_accuracy: 0.7000 - 105s/epoch - 653ms/step\n",
      "Epoch 33/80\n",
      "161/161 - 106s - loss: 1.1026 - accuracy: 0.6293 - val_loss: 0.9066 - val_accuracy: 0.6984 - 106s/epoch - 656ms/step\n",
      "Epoch 34/80\n",
      "161/161 - 106s - loss: 1.0858 - accuracy: 0.6254 - val_loss: 0.9442 - val_accuracy: 0.7133 - 106s/epoch - 658ms/step\n",
      "Epoch 35/80\n",
      "161/161 - 106s - loss: 1.0751 - accuracy: 0.6303 - val_loss: 0.9307 - val_accuracy: 0.6906 - 106s/epoch - 658ms/step\n",
      "Epoch 36/80\n",
      "161/161 - 108s - loss: 1.0735 - accuracy: 0.6404 - val_loss: 0.9182 - val_accuracy: 0.7008 - 108s/epoch - 673ms/step\n",
      "Epoch 37/80\n",
      "161/161 - 110s - loss: 1.0689 - accuracy: 0.6393 - val_loss: 0.9338 - val_accuracy: 0.7039 - 110s/epoch - 683ms/step\n",
      "Epoch 38/80\n",
      "161/161 - 111s - loss: 1.0700 - accuracy: 0.6328 - val_loss: 0.9449 - val_accuracy: 0.6930 - 111s/epoch - 689ms/step\n"
     ]
    }
   ]
  },
  {
   "cell_type": "code",
   "source": [
    "model.save(\n",
    "    \"/content/drive/MyDrive/Colab Notebooks/paddy/paddy_efficientnetb0_top_layers_builder\"\n",
    ")\n",
    "print(\"the model is saved\")"
   ],
   "metadata": {
    "colab": {
     "base_uri": "https://localhost:8080/"
    },
    "id": "tMPuqzKzQSk8",
    "executionInfo": {
     "status": "ok",
     "timestamp": 1656704078625,
     "user_tz": -120,
     "elapsed": 35320,
     "user": {
      "displayName": "Catherine Seytre",
      "userId": "18110368277065052224"
     }
    },
    "outputId": "5e88eb87-6b1c-48d3-a585-a512a7a8e17e"
   },
   "execution_count": null,
   "outputs": [
    {
     "output_type": "stream",
     "name": "stdout",
     "text": [
      "INFO:tensorflow:Assets written to: /content/drive/MyDrive/Colab Notebooks/paddy/paddy_efficientnetb0_top_layers_builder/assets\n",
      "the model is saved\n"
     ]
    }
   ]
  },
  {
   "cell_type": "markdown",
   "source": [
    "## tuning 20 last layers (last block + top layer)"
   ],
   "metadata": {
    "id": "7UsOMCgDGBeJ"
   }
  },
  {
   "cell_type": "code",
   "source": [
    "# load model\n",
    "model = load_model(\n",
    "    \"/content/drive/MyDrive/Colab Notebooks/paddy/paddy_efficientnetb0_top_layers_builder\"\n",
    ")\n",
    "print(\"the model is saved\")"
   ],
   "metadata": {
    "colab": {
     "base_uri": "https://localhost:8080/"
    },
    "id": "rUffeeyahALM",
    "executionInfo": {
     "status": "ok",
     "timestamp": 1657280785450,
     "user_tz": -120,
     "elapsed": 19026,
     "user": {
      "displayName": "Catherine Seytre",
      "userId": "18110368277065052224"
     }
    },
    "outputId": "6a6cc16a-0d9f-4017-a233-066173d74664"
   },
   "execution_count": 16,
   "outputs": [
    {
     "output_type": "stream",
     "name": "stdout",
     "text": [
      "the model is saved\n"
     ]
    }
   ]
  },
  {
   "cell_type": "code",
   "source": [
    "model.summary()"
   ],
   "metadata": {
    "colab": {
     "base_uri": "https://localhost:8080/"
    },
    "id": "kDCFo4ADho3-",
    "executionInfo": {
     "status": "ok",
     "timestamp": 1656775691293,
     "user_tz": -120,
     "elapsed": 1946,
     "user": {
      "displayName": "Catherine Seytre",
      "userId": "18110368277065052224"
     }
    },
    "outputId": "c5a07645-0648-40fc-d5cd-e9f2a5a2c047"
   },
   "execution_count": null,
   "outputs": [
    {
     "output_type": "stream",
     "name": "stdout",
     "text": [
      "Model: \"model_3\"\n",
      "__________________________________________________________________________________________________\n",
      " Layer (type)                   Output Shape         Param #     Connected to                     \n",
      "==================================================================================================\n",
      " input_11 (InputLayer)          [(None, 224, 224, 3  0           []                               \n",
      "                                )]                                                                \n",
      "                                                                                                  \n",
      " rescaling_8 (Rescaling)        (None, 224, 224, 3)  0           ['input_11[0][0]']               \n",
      "                                                                                                  \n",
      " normalization_8 (Normalization  (None, 224, 224, 3)  7          ['rescaling_8[0][0]']            \n",
      " )                                                                                                \n",
      "                                                                                                  \n",
      " stem_conv_pad (ZeroPadding2D)  (None, 225, 225, 3)  0           ['normalization_8[0][0]']        \n",
      "                                                                                                  \n",
      " stem_conv (Conv2D)             (None, 112, 112, 32  864         ['stem_conv_pad[0][0]']          \n",
      "                                )                                                                 \n",
      "                                                                                                  \n",
      " stem_bn (BatchNormalization)   (None, 112, 112, 32  128         ['stem_conv[0][0]']              \n",
      "                                )                                                                 \n",
      "                                                                                                  \n",
      " stem_activation (Activation)   (None, 112, 112, 32  0           ['stem_bn[0][0]']                \n",
      "                                )                                                                 \n",
      "                                                                                                  \n",
      " block1a_dwconv (DepthwiseConv2  (None, 112, 112, 32  288        ['stem_activation[0][0]']        \n",
      " D)                             )                                                                 \n",
      "                                                                                                  \n",
      " block1a_bn (BatchNormalization  (None, 112, 112, 32  128        ['block1a_dwconv[0][0]']         \n",
      " )                              )                                                                 \n",
      "                                                                                                  \n",
      " block1a_activation (Activation  (None, 112, 112, 32  0          ['block1a_bn[0][0]']             \n",
      " )                              )                                                                 \n",
      "                                                                                                  \n",
      " block1a_se_squeeze (GlobalAver  (None, 32)          0           ['block1a_activation[0][0]']     \n",
      " agePooling2D)                                                                                    \n",
      "                                                                                                  \n",
      " block1a_se_reshape (Reshape)   (None, 1, 1, 32)     0           ['block1a_se_squeeze[0][0]']     \n",
      "                                                                                                  \n",
      " block1a_se_reduce (Conv2D)     (None, 1, 1, 8)      264         ['block1a_se_reshape[0][0]']     \n",
      "                                                                                                  \n",
      " block1a_se_expand (Conv2D)     (None, 1, 1, 32)     288         ['block1a_se_reduce[0][0]']      \n",
      "                                                                                                  \n",
      " block1a_se_excite (Multiply)   (None, 112, 112, 32  0           ['block1a_activation[0][0]',     \n",
      "                                )                                 'block1a_se_expand[0][0]']      \n",
      "                                                                                                  \n",
      " block1a_project_conv (Conv2D)  (None, 112, 112, 16  512         ['block1a_se_excite[0][0]']      \n",
      "                                )                                                                 \n",
      "                                                                                                  \n",
      " block1a_project_bn (BatchNorma  (None, 112, 112, 16  64         ['block1a_project_conv[0][0]']   \n",
      " lization)                      )                                                                 \n",
      "                                                                                                  \n",
      " block2a_expand_conv (Conv2D)   (None, 112, 112, 96  1536        ['block1a_project_bn[0][0]']     \n",
      "                                )                                                                 \n",
      "                                                                                                  \n",
      " block2a_expand_bn (BatchNormal  (None, 112, 112, 96  384        ['block2a_expand_conv[0][0]']    \n",
      " ization)                       )                                                                 \n",
      "                                                                                                  \n",
      " block2a_expand_activation (Act  (None, 112, 112, 96  0          ['block2a_expand_bn[0][0]']      \n",
      " ivation)                       )                                                                 \n",
      "                                                                                                  \n",
      " block2a_dwconv_pad (ZeroPaddin  (None, 113, 113, 96  0          ['block2a_expand_activation[0][0]\n",
      " g2D)                           )                                ']                               \n",
      "                                                                                                  \n",
      " block2a_dwconv (DepthwiseConv2  (None, 56, 56, 96)  864         ['block2a_dwconv_pad[0][0]']     \n",
      " D)                                                                                               \n",
      "                                                                                                  \n",
      " block2a_bn (BatchNormalization  (None, 56, 56, 96)  384         ['block2a_dwconv[0][0]']         \n",
      " )                                                                                                \n",
      "                                                                                                  \n",
      " block2a_activation (Activation  (None, 56, 56, 96)  0           ['block2a_bn[0][0]']             \n",
      " )                                                                                                \n",
      "                                                                                                  \n",
      " block2a_se_squeeze (GlobalAver  (None, 96)          0           ['block2a_activation[0][0]']     \n",
      " agePooling2D)                                                                                    \n",
      "                                                                                                  \n",
      " block2a_se_reshape (Reshape)   (None, 1, 1, 96)     0           ['block2a_se_squeeze[0][0]']     \n",
      "                                                                                                  \n",
      " block2a_se_reduce (Conv2D)     (None, 1, 1, 4)      388         ['block2a_se_reshape[0][0]']     \n",
      "                                                                                                  \n",
      " block2a_se_expand (Conv2D)     (None, 1, 1, 96)     480         ['block2a_se_reduce[0][0]']      \n",
      "                                                                                                  \n",
      " block2a_se_excite (Multiply)   (None, 56, 56, 96)   0           ['block2a_activation[0][0]',     \n",
      "                                                                  'block2a_se_expand[0][0]']      \n",
      "                                                                                                  \n",
      " block2a_project_conv (Conv2D)  (None, 56, 56, 24)   2304        ['block2a_se_excite[0][0]']      \n",
      "                                                                                                  \n",
      " block2a_project_bn (BatchNorma  (None, 56, 56, 24)  96          ['block2a_project_conv[0][0]']   \n",
      " lization)                                                                                        \n",
      "                                                                                                  \n",
      " block2b_expand_conv (Conv2D)   (None, 56, 56, 144)  3456        ['block2a_project_bn[0][0]']     \n",
      "                                                                                                  \n",
      " block2b_expand_bn (BatchNormal  (None, 56, 56, 144)  576        ['block2b_expand_conv[0][0]']    \n",
      " ization)                                                                                         \n",
      "                                                                                                  \n",
      " block2b_expand_activation (Act  (None, 56, 56, 144)  0          ['block2b_expand_bn[0][0]']      \n",
      " ivation)                                                                                         \n",
      "                                                                                                  \n",
      " block2b_dwconv (DepthwiseConv2  (None, 56, 56, 144)  1296       ['block2b_expand_activation[0][0]\n",
      " D)                                                              ']                               \n",
      "                                                                                                  \n",
      " block2b_bn (BatchNormalization  (None, 56, 56, 144)  576        ['block2b_dwconv[0][0]']         \n",
      " )                                                                                                \n",
      "                                                                                                  \n",
      " block2b_activation (Activation  (None, 56, 56, 144)  0          ['block2b_bn[0][0]']             \n",
      " )                                                                                                \n",
      "                                                                                                  \n",
      " block2b_se_squeeze (GlobalAver  (None, 144)         0           ['block2b_activation[0][0]']     \n",
      " agePooling2D)                                                                                    \n",
      "                                                                                                  \n",
      " block2b_se_reshape (Reshape)   (None, 1, 1, 144)    0           ['block2b_se_squeeze[0][0]']     \n",
      "                                                                                                  \n",
      " block2b_se_reduce (Conv2D)     (None, 1, 1, 6)      870         ['block2b_se_reshape[0][0]']     \n",
      "                                                                                                  \n",
      " block2b_se_expand (Conv2D)     (None, 1, 1, 144)    1008        ['block2b_se_reduce[0][0]']      \n",
      "                                                                                                  \n",
      " block2b_se_excite (Multiply)   (None, 56, 56, 144)  0           ['block2b_activation[0][0]',     \n",
      "                                                                  'block2b_se_expand[0][0]']      \n",
      "                                                                                                  \n",
      " block2b_project_conv (Conv2D)  (None, 56, 56, 24)   3456        ['block2b_se_excite[0][0]']      \n",
      "                                                                                                  \n",
      " block2b_project_bn (BatchNorma  (None, 56, 56, 24)  96          ['block2b_project_conv[0][0]']   \n",
      " lization)                                                                                        \n",
      "                                                                                                  \n",
      " block2b_drop (Dropout)         (None, 56, 56, 24)   0           ['block2b_project_bn[0][0]']     \n",
      "                                                                                                  \n",
      " block2b_add (Add)              (None, 56, 56, 24)   0           ['block2b_drop[0][0]',           \n",
      "                                                                  'block2a_project_bn[0][0]']     \n",
      "                                                                                                  \n",
      " block3a_expand_conv (Conv2D)   (None, 56, 56, 144)  3456        ['block2b_add[0][0]']            \n",
      "                                                                                                  \n",
      " block3a_expand_bn (BatchNormal  (None, 56, 56, 144)  576        ['block3a_expand_conv[0][0]']    \n",
      " ization)                                                                                         \n",
      "                                                                                                  \n",
      " block3a_expand_activation (Act  (None, 56, 56, 144)  0          ['block3a_expand_bn[0][0]']      \n",
      " ivation)                                                                                         \n",
      "                                                                                                  \n",
      " block3a_dwconv_pad (ZeroPaddin  (None, 59, 59, 144)  0          ['block3a_expand_activation[0][0]\n",
      " g2D)                                                            ']                               \n",
      "                                                                                                  \n",
      " block3a_dwconv (DepthwiseConv2  (None, 28, 28, 144)  3600       ['block3a_dwconv_pad[0][0]']     \n",
      " D)                                                                                               \n",
      "                                                                                                  \n",
      " block3a_bn (BatchNormalization  (None, 28, 28, 144)  576        ['block3a_dwconv[0][0]']         \n",
      " )                                                                                                \n",
      "                                                                                                  \n",
      " block3a_activation (Activation  (None, 28, 28, 144)  0          ['block3a_bn[0][0]']             \n",
      " )                                                                                                \n",
      "                                                                                                  \n",
      " block3a_se_squeeze (GlobalAver  (None, 144)         0           ['block3a_activation[0][0]']     \n",
      " agePooling2D)                                                                                    \n",
      "                                                                                                  \n",
      " block3a_se_reshape (Reshape)   (None, 1, 1, 144)    0           ['block3a_se_squeeze[0][0]']     \n",
      "                                                                                                  \n",
      " block3a_se_reduce (Conv2D)     (None, 1, 1, 6)      870         ['block3a_se_reshape[0][0]']     \n",
      "                                                                                                  \n",
      " block3a_se_expand (Conv2D)     (None, 1, 1, 144)    1008        ['block3a_se_reduce[0][0]']      \n",
      "                                                                                                  \n",
      " block3a_se_excite (Multiply)   (None, 28, 28, 144)  0           ['block3a_activation[0][0]',     \n",
      "                                                                  'block3a_se_expand[0][0]']      \n",
      "                                                                                                  \n",
      " block3a_project_conv (Conv2D)  (None, 28, 28, 40)   5760        ['block3a_se_excite[0][0]']      \n",
      "                                                                                                  \n",
      " block3a_project_bn (BatchNorma  (None, 28, 28, 40)  160         ['block3a_project_conv[0][0]']   \n",
      " lization)                                                                                        \n",
      "                                                                                                  \n",
      " block3b_expand_conv (Conv2D)   (None, 28, 28, 240)  9600        ['block3a_project_bn[0][0]']     \n",
      "                                                                                                  \n",
      " block3b_expand_bn (BatchNormal  (None, 28, 28, 240)  960        ['block3b_expand_conv[0][0]']    \n",
      " ization)                                                                                         \n",
      "                                                                                                  \n",
      " block3b_expand_activation (Act  (None, 28, 28, 240)  0          ['block3b_expand_bn[0][0]']      \n",
      " ivation)                                                                                         \n",
      "                                                                                                  \n",
      " block3b_dwconv (DepthwiseConv2  (None, 28, 28, 240)  6000       ['block3b_expand_activation[0][0]\n",
      " D)                                                              ']                               \n",
      "                                                                                                  \n",
      " block3b_bn (BatchNormalization  (None, 28, 28, 240)  960        ['block3b_dwconv[0][0]']         \n",
      " )                                                                                                \n",
      "                                                                                                  \n",
      " block3b_activation (Activation  (None, 28, 28, 240)  0          ['block3b_bn[0][0]']             \n",
      " )                                                                                                \n",
      "                                                                                                  \n",
      " block3b_se_squeeze (GlobalAver  (None, 240)         0           ['block3b_activation[0][0]']     \n",
      " agePooling2D)                                                                                    \n",
      "                                                                                                  \n",
      " block3b_se_reshape (Reshape)   (None, 1, 1, 240)    0           ['block3b_se_squeeze[0][0]']     \n",
      "                                                                                                  \n",
      " block3b_se_reduce (Conv2D)     (None, 1, 1, 10)     2410        ['block3b_se_reshape[0][0]']     \n",
      "                                                                                                  \n",
      " block3b_se_expand (Conv2D)     (None, 1, 1, 240)    2640        ['block3b_se_reduce[0][0]']      \n",
      "                                                                                                  \n",
      " block3b_se_excite (Multiply)   (None, 28, 28, 240)  0           ['block3b_activation[0][0]',     \n",
      "                                                                  'block3b_se_expand[0][0]']      \n",
      "                                                                                                  \n",
      " block3b_project_conv (Conv2D)  (None, 28, 28, 40)   9600        ['block3b_se_excite[0][0]']      \n",
      "                                                                                                  \n",
      " block3b_project_bn (BatchNorma  (None, 28, 28, 40)  160         ['block3b_project_conv[0][0]']   \n",
      " lization)                                                                                        \n",
      "                                                                                                  \n",
      " block3b_drop (Dropout)         (None, 28, 28, 40)   0           ['block3b_project_bn[0][0]']     \n",
      "                                                                                                  \n",
      " block3b_add (Add)              (None, 28, 28, 40)   0           ['block3b_drop[0][0]',           \n",
      "                                                                  'block3a_project_bn[0][0]']     \n",
      "                                                                                                  \n",
      " block4a_expand_conv (Conv2D)   (None, 28, 28, 240)  9600        ['block3b_add[0][0]']            \n",
      "                                                                                                  \n",
      " block4a_expand_bn (BatchNormal  (None, 28, 28, 240)  960        ['block4a_expand_conv[0][0]']    \n",
      " ization)                                                                                         \n",
      "                                                                                                  \n",
      " block4a_expand_activation (Act  (None, 28, 28, 240)  0          ['block4a_expand_bn[0][0]']      \n",
      " ivation)                                                                                         \n",
      "                                                                                                  \n",
      " block4a_dwconv_pad (ZeroPaddin  (None, 29, 29, 240)  0          ['block4a_expand_activation[0][0]\n",
      " g2D)                                                            ']                               \n",
      "                                                                                                  \n",
      " block4a_dwconv (DepthwiseConv2  (None, 14, 14, 240)  2160       ['block4a_dwconv_pad[0][0]']     \n",
      " D)                                                                                               \n",
      "                                                                                                  \n",
      " block4a_bn (BatchNormalization  (None, 14, 14, 240)  960        ['block4a_dwconv[0][0]']         \n",
      " )                                                                                                \n",
      "                                                                                                  \n",
      " block4a_activation (Activation  (None, 14, 14, 240)  0          ['block4a_bn[0][0]']             \n",
      " )                                                                                                \n",
      "                                                                                                  \n",
      " block4a_se_squeeze (GlobalAver  (None, 240)         0           ['block4a_activation[0][0]']     \n",
      " agePooling2D)                                                                                    \n",
      "                                                                                                  \n",
      " block4a_se_reshape (Reshape)   (None, 1, 1, 240)    0           ['block4a_se_squeeze[0][0]']     \n",
      "                                                                                                  \n",
      " block4a_se_reduce (Conv2D)     (None, 1, 1, 10)     2410        ['block4a_se_reshape[0][0]']     \n",
      "                                                                                                  \n",
      " block4a_se_expand (Conv2D)     (None, 1, 1, 240)    2640        ['block4a_se_reduce[0][0]']      \n",
      "                                                                                                  \n",
      " block4a_se_excite (Multiply)   (None, 14, 14, 240)  0           ['block4a_activation[0][0]',     \n",
      "                                                                  'block4a_se_expand[0][0]']      \n",
      "                                                                                                  \n",
      " block4a_project_conv (Conv2D)  (None, 14, 14, 80)   19200       ['block4a_se_excite[0][0]']      \n",
      "                                                                                                  \n",
      " block4a_project_bn (BatchNorma  (None, 14, 14, 80)  320         ['block4a_project_conv[0][0]']   \n",
      " lization)                                                                                        \n",
      "                                                                                                  \n",
      " block4b_expand_conv (Conv2D)   (None, 14, 14, 480)  38400       ['block4a_project_bn[0][0]']     \n",
      "                                                                                                  \n",
      " block4b_expand_bn (BatchNormal  (None, 14, 14, 480)  1920       ['block4b_expand_conv[0][0]']    \n",
      " ization)                                                                                         \n",
      "                                                                                                  \n",
      " block4b_expand_activation (Act  (None, 14, 14, 480)  0          ['block4b_expand_bn[0][0]']      \n",
      " ivation)                                                                                         \n",
      "                                                                                                  \n",
      " block4b_dwconv (DepthwiseConv2  (None, 14, 14, 480)  4320       ['block4b_expand_activation[0][0]\n",
      " D)                                                              ']                               \n",
      "                                                                                                  \n",
      " block4b_bn (BatchNormalization  (None, 14, 14, 480)  1920       ['block4b_dwconv[0][0]']         \n",
      " )                                                                                                \n",
      "                                                                                                  \n",
      " block4b_activation (Activation  (None, 14, 14, 480)  0          ['block4b_bn[0][0]']             \n",
      " )                                                                                                \n",
      "                                                                                                  \n",
      " block4b_se_squeeze (GlobalAver  (None, 480)         0           ['block4b_activation[0][0]']     \n",
      " agePooling2D)                                                                                    \n",
      "                                                                                                  \n",
      " block4b_se_reshape (Reshape)   (None, 1, 1, 480)    0           ['block4b_se_squeeze[0][0]']     \n",
      "                                                                                                  \n",
      " block4b_se_reduce (Conv2D)     (None, 1, 1, 20)     9620        ['block4b_se_reshape[0][0]']     \n",
      "                                                                                                  \n",
      " block4b_se_expand (Conv2D)     (None, 1, 1, 480)    10080       ['block4b_se_reduce[0][0]']      \n",
      "                                                                                                  \n",
      " block4b_se_excite (Multiply)   (None, 14, 14, 480)  0           ['block4b_activation[0][0]',     \n",
      "                                                                  'block4b_se_expand[0][0]']      \n",
      "                                                                                                  \n",
      " block4b_project_conv (Conv2D)  (None, 14, 14, 80)   38400       ['block4b_se_excite[0][0]']      \n",
      "                                                                                                  \n",
      " block4b_project_bn (BatchNorma  (None, 14, 14, 80)  320         ['block4b_project_conv[0][0]']   \n",
      " lization)                                                                                        \n",
      "                                                                                                  \n",
      " block4b_drop (Dropout)         (None, 14, 14, 80)   0           ['block4b_project_bn[0][0]']     \n",
      "                                                                                                  \n",
      " block4b_add (Add)              (None, 14, 14, 80)   0           ['block4b_drop[0][0]',           \n",
      "                                                                  'block4a_project_bn[0][0]']     \n",
      "                                                                                                  \n",
      " block4c_expand_conv (Conv2D)   (None, 14, 14, 480)  38400       ['block4b_add[0][0]']            \n",
      "                                                                                                  \n",
      " block4c_expand_bn (BatchNormal  (None, 14, 14, 480)  1920       ['block4c_expand_conv[0][0]']    \n",
      " ization)                                                                                         \n",
      "                                                                                                  \n",
      " block4c_expand_activation (Act  (None, 14, 14, 480)  0          ['block4c_expand_bn[0][0]']      \n",
      " ivation)                                                                                         \n",
      "                                                                                                  \n",
      " block4c_dwconv (DepthwiseConv2  (None, 14, 14, 480)  4320       ['block4c_expand_activation[0][0]\n",
      " D)                                                              ']                               \n",
      "                                                                                                  \n",
      " block4c_bn (BatchNormalization  (None, 14, 14, 480)  1920       ['block4c_dwconv[0][0]']         \n",
      " )                                                                                                \n",
      "                                                                                                  \n",
      " block4c_activation (Activation  (None, 14, 14, 480)  0          ['block4c_bn[0][0]']             \n",
      " )                                                                                                \n",
      "                                                                                                  \n",
      " block4c_se_squeeze (GlobalAver  (None, 480)         0           ['block4c_activation[0][0]']     \n",
      " agePooling2D)                                                                                    \n",
      "                                                                                                  \n",
      " block4c_se_reshape (Reshape)   (None, 1, 1, 480)    0           ['block4c_se_squeeze[0][0]']     \n",
      "                                                                                                  \n",
      " block4c_se_reduce (Conv2D)     (None, 1, 1, 20)     9620        ['block4c_se_reshape[0][0]']     \n",
      "                                                                                                  \n",
      " block4c_se_expand (Conv2D)     (None, 1, 1, 480)    10080       ['block4c_se_reduce[0][0]']      \n",
      "                                                                                                  \n",
      " block4c_se_excite (Multiply)   (None, 14, 14, 480)  0           ['block4c_activation[0][0]',     \n",
      "                                                                  'block4c_se_expand[0][0]']      \n",
      "                                                                                                  \n",
      " block4c_project_conv (Conv2D)  (None, 14, 14, 80)   38400       ['block4c_se_excite[0][0]']      \n",
      "                                                                                                  \n",
      " block4c_project_bn (BatchNorma  (None, 14, 14, 80)  320         ['block4c_project_conv[0][0]']   \n",
      " lization)                                                                                        \n",
      "                                                                                                  \n",
      " block4c_drop (Dropout)         (None, 14, 14, 80)   0           ['block4c_project_bn[0][0]']     \n",
      "                                                                                                  \n",
      " block4c_add (Add)              (None, 14, 14, 80)   0           ['block4c_drop[0][0]',           \n",
      "                                                                  'block4b_add[0][0]']            \n",
      "                                                                                                  \n",
      " block5a_expand_conv (Conv2D)   (None, 14, 14, 480)  38400       ['block4c_add[0][0]']            \n",
      "                                                                                                  \n",
      " block5a_expand_bn (BatchNormal  (None, 14, 14, 480)  1920       ['block5a_expand_conv[0][0]']    \n",
      " ization)                                                                                         \n",
      "                                                                                                  \n",
      " block5a_expand_activation (Act  (None, 14, 14, 480)  0          ['block5a_expand_bn[0][0]']      \n",
      " ivation)                                                                                         \n",
      "                                                                                                  \n",
      " block5a_dwconv (DepthwiseConv2  (None, 14, 14, 480)  12000      ['block5a_expand_activation[0][0]\n",
      " D)                                                              ']                               \n",
      "                                                                                                  \n",
      " block5a_bn (BatchNormalization  (None, 14, 14, 480)  1920       ['block5a_dwconv[0][0]']         \n",
      " )                                                                                                \n",
      "                                                                                                  \n",
      " block5a_activation (Activation  (None, 14, 14, 480)  0          ['block5a_bn[0][0]']             \n",
      " )                                                                                                \n",
      "                                                                                                  \n",
      " block5a_se_squeeze (GlobalAver  (None, 480)         0           ['block5a_activation[0][0]']     \n",
      " agePooling2D)                                                                                    \n",
      "                                                                                                  \n",
      " block5a_se_reshape (Reshape)   (None, 1, 1, 480)    0           ['block5a_se_squeeze[0][0]']     \n",
      "                                                                                                  \n",
      " block5a_se_reduce (Conv2D)     (None, 1, 1, 20)     9620        ['block5a_se_reshape[0][0]']     \n",
      "                                                                                                  \n",
      " block5a_se_expand (Conv2D)     (None, 1, 1, 480)    10080       ['block5a_se_reduce[0][0]']      \n",
      "                                                                                                  \n",
      " block5a_se_excite (Multiply)   (None, 14, 14, 480)  0           ['block5a_activation[0][0]',     \n",
      "                                                                  'block5a_se_expand[0][0]']      \n",
      "                                                                                                  \n",
      " block5a_project_conv (Conv2D)  (None, 14, 14, 112)  53760       ['block5a_se_excite[0][0]']      \n",
      "                                                                                                  \n",
      " block5a_project_bn (BatchNorma  (None, 14, 14, 112)  448        ['block5a_project_conv[0][0]']   \n",
      " lization)                                                                                        \n",
      "                                                                                                  \n",
      " block5b_expand_conv (Conv2D)   (None, 14, 14, 672)  75264       ['block5a_project_bn[0][0]']     \n",
      "                                                                                                  \n",
      " block5b_expand_bn (BatchNormal  (None, 14, 14, 672)  2688       ['block5b_expand_conv[0][0]']    \n",
      " ization)                                                                                         \n",
      "                                                                                                  \n",
      " block5b_expand_activation (Act  (None, 14, 14, 672)  0          ['block5b_expand_bn[0][0]']      \n",
      " ivation)                                                                                         \n",
      "                                                                                                  \n",
      " block5b_dwconv (DepthwiseConv2  (None, 14, 14, 672)  16800      ['block5b_expand_activation[0][0]\n",
      " D)                                                              ']                               \n",
      "                                                                                                  \n",
      " block5b_bn (BatchNormalization  (None, 14, 14, 672)  2688       ['block5b_dwconv[0][0]']         \n",
      " )                                                                                                \n",
      "                                                                                                  \n",
      " block5b_activation (Activation  (None, 14, 14, 672)  0          ['block5b_bn[0][0]']             \n",
      " )                                                                                                \n",
      "                                                                                                  \n",
      " block5b_se_squeeze (GlobalAver  (None, 672)         0           ['block5b_activation[0][0]']     \n",
      " agePooling2D)                                                                                    \n",
      "                                                                                                  \n",
      " block5b_se_reshape (Reshape)   (None, 1, 1, 672)    0           ['block5b_se_squeeze[0][0]']     \n",
      "                                                                                                  \n",
      " block5b_se_reduce (Conv2D)     (None, 1, 1, 28)     18844       ['block5b_se_reshape[0][0]']     \n",
      "                                                                                                  \n",
      " block5b_se_expand (Conv2D)     (None, 1, 1, 672)    19488       ['block5b_se_reduce[0][0]']      \n",
      "                                                                                                  \n",
      " block5b_se_excite (Multiply)   (None, 14, 14, 672)  0           ['block5b_activation[0][0]',     \n",
      "                                                                  'block5b_se_expand[0][0]']      \n",
      "                                                                                                  \n",
      " block5b_project_conv (Conv2D)  (None, 14, 14, 112)  75264       ['block5b_se_excite[0][0]']      \n",
      "                                                                                                  \n",
      " block5b_project_bn (BatchNorma  (None, 14, 14, 112)  448        ['block5b_project_conv[0][0]']   \n",
      " lization)                                                                                        \n",
      "                                                                                                  \n",
      " block5b_drop (Dropout)         (None, 14, 14, 112)  0           ['block5b_project_bn[0][0]']     \n",
      "                                                                                                  \n",
      " block5b_add (Add)              (None, 14, 14, 112)  0           ['block5b_drop[0][0]',           \n",
      "                                                                  'block5a_project_bn[0][0]']     \n",
      "                                                                                                  \n",
      " block5c_expand_conv (Conv2D)   (None, 14, 14, 672)  75264       ['block5b_add[0][0]']            \n",
      "                                                                                                  \n",
      " block5c_expand_bn (BatchNormal  (None, 14, 14, 672)  2688       ['block5c_expand_conv[0][0]']    \n",
      " ization)                                                                                         \n",
      "                                                                                                  \n",
      " block5c_expand_activation (Act  (None, 14, 14, 672)  0          ['block5c_expand_bn[0][0]']      \n",
      " ivation)                                                                                         \n",
      "                                                                                                  \n",
      " block5c_dwconv (DepthwiseConv2  (None, 14, 14, 672)  16800      ['block5c_expand_activation[0][0]\n",
      " D)                                                              ']                               \n",
      "                                                                                                  \n",
      " block5c_bn (BatchNormalization  (None, 14, 14, 672)  2688       ['block5c_dwconv[0][0]']         \n",
      " )                                                                                                \n",
      "                                                                                                  \n",
      " block5c_activation (Activation  (None, 14, 14, 672)  0          ['block5c_bn[0][0]']             \n",
      " )                                                                                                \n",
      "                                                                                                  \n",
      " block5c_se_squeeze (GlobalAver  (None, 672)         0           ['block5c_activation[0][0]']     \n",
      " agePooling2D)                                                                                    \n",
      "                                                                                                  \n",
      " block5c_se_reshape (Reshape)   (None, 1, 1, 672)    0           ['block5c_se_squeeze[0][0]']     \n",
      "                                                                                                  \n",
      " block5c_se_reduce (Conv2D)     (None, 1, 1, 28)     18844       ['block5c_se_reshape[0][0]']     \n",
      "                                                                                                  \n",
      " block5c_se_expand (Conv2D)     (None, 1, 1, 672)    19488       ['block5c_se_reduce[0][0]']      \n",
      "                                                                                                  \n",
      " block5c_se_excite (Multiply)   (None, 14, 14, 672)  0           ['block5c_activation[0][0]',     \n",
      "                                                                  'block5c_se_expand[0][0]']      \n",
      "                                                                                                  \n",
      " block5c_project_conv (Conv2D)  (None, 14, 14, 112)  75264       ['block5c_se_excite[0][0]']      \n",
      "                                                                                                  \n",
      " block5c_project_bn (BatchNorma  (None, 14, 14, 112)  448        ['block5c_project_conv[0][0]']   \n",
      " lization)                                                                                        \n",
      "                                                                                                  \n",
      " block5c_drop (Dropout)         (None, 14, 14, 112)  0           ['block5c_project_bn[0][0]']     \n",
      "                                                                                                  \n",
      " block5c_add (Add)              (None, 14, 14, 112)  0           ['block5c_drop[0][0]',           \n",
      "                                                                  'block5b_add[0][0]']            \n",
      "                                                                                                  \n",
      " block6a_expand_conv (Conv2D)   (None, 14, 14, 672)  75264       ['block5c_add[0][0]']            \n",
      "                                                                                                  \n",
      " block6a_expand_bn (BatchNormal  (None, 14, 14, 672)  2688       ['block6a_expand_conv[0][0]']    \n",
      " ization)                                                                                         \n",
      "                                                                                                  \n",
      " block6a_expand_activation (Act  (None, 14, 14, 672)  0          ['block6a_expand_bn[0][0]']      \n",
      " ivation)                                                                                         \n",
      "                                                                                                  \n",
      " block6a_dwconv_pad (ZeroPaddin  (None, 17, 17, 672)  0          ['block6a_expand_activation[0][0]\n",
      " g2D)                                                            ']                               \n",
      "                                                                                                  \n",
      " block6a_dwconv (DepthwiseConv2  (None, 7, 7, 672)   16800       ['block6a_dwconv_pad[0][0]']     \n",
      " D)                                                                                               \n",
      "                                                                                                  \n",
      " block6a_bn (BatchNormalization  (None, 7, 7, 672)   2688        ['block6a_dwconv[0][0]']         \n",
      " )                                                                                                \n",
      "                                                                                                  \n",
      " block6a_activation (Activation  (None, 7, 7, 672)   0           ['block6a_bn[0][0]']             \n",
      " )                                                                                                \n",
      "                                                                                                  \n",
      " block6a_se_squeeze (GlobalAver  (None, 672)         0           ['block6a_activation[0][0]']     \n",
      " agePooling2D)                                                                                    \n",
      "                                                                                                  \n",
      " block6a_se_reshape (Reshape)   (None, 1, 1, 672)    0           ['block6a_se_squeeze[0][0]']     \n",
      "                                                                                                  \n",
      " block6a_se_reduce (Conv2D)     (None, 1, 1, 28)     18844       ['block6a_se_reshape[0][0]']     \n",
      "                                                                                                  \n",
      " block6a_se_expand (Conv2D)     (None, 1, 1, 672)    19488       ['block6a_se_reduce[0][0]']      \n",
      "                                                                                                  \n",
      " block6a_se_excite (Multiply)   (None, 7, 7, 672)    0           ['block6a_activation[0][0]',     \n",
      "                                                                  'block6a_se_expand[0][0]']      \n",
      "                                                                                                  \n",
      " block6a_project_conv (Conv2D)  (None, 7, 7, 192)    129024      ['block6a_se_excite[0][0]']      \n",
      "                                                                                                  \n",
      " block6a_project_bn (BatchNorma  (None, 7, 7, 192)   768         ['block6a_project_conv[0][0]']   \n",
      " lization)                                                                                        \n",
      "                                                                                                  \n",
      " block6b_expand_conv (Conv2D)   (None, 7, 7, 1152)   221184      ['block6a_project_bn[0][0]']     \n",
      "                                                                                                  \n",
      " block6b_expand_bn (BatchNormal  (None, 7, 7, 1152)  4608        ['block6b_expand_conv[0][0]']    \n",
      " ization)                                                                                         \n",
      "                                                                                                  \n",
      " block6b_expand_activation (Act  (None, 7, 7, 1152)  0           ['block6b_expand_bn[0][0]']      \n",
      " ivation)                                                                                         \n",
      "                                                                                                  \n",
      " block6b_dwconv (DepthwiseConv2  (None, 7, 7, 1152)  28800       ['block6b_expand_activation[0][0]\n",
      " D)                                                              ']                               \n",
      "                                                                                                  \n",
      " block6b_bn (BatchNormalization  (None, 7, 7, 1152)  4608        ['block6b_dwconv[0][0]']         \n",
      " )                                                                                                \n",
      "                                                                                                  \n",
      " block6b_activation (Activation  (None, 7, 7, 1152)  0           ['block6b_bn[0][0]']             \n",
      " )                                                                                                \n",
      "                                                                                                  \n",
      " block6b_se_squeeze (GlobalAver  (None, 1152)        0           ['block6b_activation[0][0]']     \n",
      " agePooling2D)                                                                                    \n",
      "                                                                                                  \n",
      " block6b_se_reshape (Reshape)   (None, 1, 1, 1152)   0           ['block6b_se_squeeze[0][0]']     \n",
      "                                                                                                  \n",
      " block6b_se_reduce (Conv2D)     (None, 1, 1, 48)     55344       ['block6b_se_reshape[0][0]']     \n",
      "                                                                                                  \n",
      " block6b_se_expand (Conv2D)     (None, 1, 1, 1152)   56448       ['block6b_se_reduce[0][0]']      \n",
      "                                                                                                  \n",
      " block6b_se_excite (Multiply)   (None, 7, 7, 1152)   0           ['block6b_activation[0][0]',     \n",
      "                                                                  'block6b_se_expand[0][0]']      \n",
      "                                                                                                  \n",
      " block6b_project_conv (Conv2D)  (None, 7, 7, 192)    221184      ['block6b_se_excite[0][0]']      \n",
      "                                                                                                  \n",
      " block6b_project_bn (BatchNorma  (None, 7, 7, 192)   768         ['block6b_project_conv[0][0]']   \n",
      " lization)                                                                                        \n",
      "                                                                                                  \n",
      " block6b_drop (Dropout)         (None, 7, 7, 192)    0           ['block6b_project_bn[0][0]']     \n",
      "                                                                                                  \n",
      " block6b_add (Add)              (None, 7, 7, 192)    0           ['block6b_drop[0][0]',           \n",
      "                                                                  'block6a_project_bn[0][0]']     \n",
      "                                                                                                  \n",
      " block6c_expand_conv (Conv2D)   (None, 7, 7, 1152)   221184      ['block6b_add[0][0]']            \n",
      "                                                                                                  \n",
      " block6c_expand_bn (BatchNormal  (None, 7, 7, 1152)  4608        ['block6c_expand_conv[0][0]']    \n",
      " ization)                                                                                         \n",
      "                                                                                                  \n",
      " block6c_expand_activation (Act  (None, 7, 7, 1152)  0           ['block6c_expand_bn[0][0]']      \n",
      " ivation)                                                                                         \n",
      "                                                                                                  \n",
      " block6c_dwconv (DepthwiseConv2  (None, 7, 7, 1152)  28800       ['block6c_expand_activation[0][0]\n",
      " D)                                                              ']                               \n",
      "                                                                                                  \n",
      " block6c_bn (BatchNormalization  (None, 7, 7, 1152)  4608        ['block6c_dwconv[0][0]']         \n",
      " )                                                                                                \n",
      "                                                                                                  \n",
      " block6c_activation (Activation  (None, 7, 7, 1152)  0           ['block6c_bn[0][0]']             \n",
      " )                                                                                                \n",
      "                                                                                                  \n",
      " block6c_se_squeeze (GlobalAver  (None, 1152)        0           ['block6c_activation[0][0]']     \n",
      " agePooling2D)                                                                                    \n",
      "                                                                                                  \n",
      " block6c_se_reshape (Reshape)   (None, 1, 1, 1152)   0           ['block6c_se_squeeze[0][0]']     \n",
      "                                                                                                  \n",
      " block6c_se_reduce (Conv2D)     (None, 1, 1, 48)     55344       ['block6c_se_reshape[0][0]']     \n",
      "                                                                                                  \n",
      " block6c_se_expand (Conv2D)     (None, 1, 1, 1152)   56448       ['block6c_se_reduce[0][0]']      \n",
      "                                                                                                  \n",
      " block6c_se_excite (Multiply)   (None, 7, 7, 1152)   0           ['block6c_activation[0][0]',     \n",
      "                                                                  'block6c_se_expand[0][0]']      \n",
      "                                                                                                  \n",
      " block6c_project_conv (Conv2D)  (None, 7, 7, 192)    221184      ['block6c_se_excite[0][0]']      \n",
      "                                                                                                  \n",
      " block6c_project_bn (BatchNorma  (None, 7, 7, 192)   768         ['block6c_project_conv[0][0]']   \n",
      " lization)                                                                                        \n",
      "                                                                                                  \n",
      " block6c_drop (Dropout)         (None, 7, 7, 192)    0           ['block6c_project_bn[0][0]']     \n",
      "                                                                                                  \n",
      " block6c_add (Add)              (None, 7, 7, 192)    0           ['block6c_drop[0][0]',           \n",
      "                                                                  'block6b_add[0][0]']            \n",
      "                                                                                                  \n",
      " block6d_expand_conv (Conv2D)   (None, 7, 7, 1152)   221184      ['block6c_add[0][0]']            \n",
      "                                                                                                  \n",
      " block6d_expand_bn (BatchNormal  (None, 7, 7, 1152)  4608        ['block6d_expand_conv[0][0]']    \n",
      " ization)                                                                                         \n",
      "                                                                                                  \n",
      " block6d_expand_activation (Act  (None, 7, 7, 1152)  0           ['block6d_expand_bn[0][0]']      \n",
      " ivation)                                                                                         \n",
      "                                                                                                  \n",
      " block6d_dwconv (DepthwiseConv2  (None, 7, 7, 1152)  28800       ['block6d_expand_activation[0][0]\n",
      " D)                                                              ']                               \n",
      "                                                                                                  \n",
      " block6d_bn (BatchNormalization  (None, 7, 7, 1152)  4608        ['block6d_dwconv[0][0]']         \n",
      " )                                                                                                \n",
      "                                                                                                  \n",
      " block6d_activation (Activation  (None, 7, 7, 1152)  0           ['block6d_bn[0][0]']             \n",
      " )                                                                                                \n",
      "                                                                                                  \n",
      " block6d_se_squeeze (GlobalAver  (None, 1152)        0           ['block6d_activation[0][0]']     \n",
      " agePooling2D)                                                                                    \n",
      "                                                                                                  \n",
      " block6d_se_reshape (Reshape)   (None, 1, 1, 1152)   0           ['block6d_se_squeeze[0][0]']     \n",
      "                                                                                                  \n",
      " block6d_se_reduce (Conv2D)     (None, 1, 1, 48)     55344       ['block6d_se_reshape[0][0]']     \n",
      "                                                                                                  \n",
      " block6d_se_expand (Conv2D)     (None, 1, 1, 1152)   56448       ['block6d_se_reduce[0][0]']      \n",
      "                                                                                                  \n",
      " block6d_se_excite (Multiply)   (None, 7, 7, 1152)   0           ['block6d_activation[0][0]',     \n",
      "                                                                  'block6d_se_expand[0][0]']      \n",
      "                                                                                                  \n",
      " block6d_project_conv (Conv2D)  (None, 7, 7, 192)    221184      ['block6d_se_excite[0][0]']      \n",
      "                                                                                                  \n",
      " block6d_project_bn (BatchNorma  (None, 7, 7, 192)   768         ['block6d_project_conv[0][0]']   \n",
      " lization)                                                                                        \n",
      "                                                                                                  \n",
      " block6d_drop (Dropout)         (None, 7, 7, 192)    0           ['block6d_project_bn[0][0]']     \n",
      "                                                                                                  \n",
      " block6d_add (Add)              (None, 7, 7, 192)    0           ['block6d_drop[0][0]',           \n",
      "                                                                  'block6c_add[0][0]']            \n",
      "                                                                                                  \n",
      " block7a_expand_conv (Conv2D)   (None, 7, 7, 1152)   221184      ['block6d_add[0][0]']            \n",
      "                                                                                                  \n",
      " block7a_expand_bn (BatchNormal  (None, 7, 7, 1152)  4608        ['block7a_expand_conv[0][0]']    \n",
      " ization)                                                                                         \n",
      "                                                                                                  \n",
      " block7a_expand_activation (Act  (None, 7, 7, 1152)  0           ['block7a_expand_bn[0][0]']      \n",
      " ivation)                                                                                         \n",
      "                                                                                                  \n",
      " block7a_dwconv (DepthwiseConv2  (None, 7, 7, 1152)  10368       ['block7a_expand_activation[0][0]\n",
      " D)                                                              ']                               \n",
      "                                                                                                  \n",
      " block7a_bn (BatchNormalization  (None, 7, 7, 1152)  4608        ['block7a_dwconv[0][0]']         \n",
      " )                                                                                                \n",
      "                                                                                                  \n",
      " block7a_activation (Activation  (None, 7, 7, 1152)  0           ['block7a_bn[0][0]']             \n",
      " )                                                                                                \n",
      "                                                                                                  \n",
      " block7a_se_squeeze (GlobalAver  (None, 1152)        0           ['block7a_activation[0][0]']     \n",
      " agePooling2D)                                                                                    \n",
      "                                                                                                  \n",
      " block7a_se_reshape (Reshape)   (None, 1, 1, 1152)   0           ['block7a_se_squeeze[0][0]']     \n",
      "                                                                                                  \n",
      " block7a_se_reduce (Conv2D)     (None, 1, 1, 48)     55344       ['block7a_se_reshape[0][0]']     \n",
      "                                                                                                  \n",
      " block7a_se_expand (Conv2D)     (None, 1, 1, 1152)   56448       ['block7a_se_reduce[0][0]']      \n",
      "                                                                                                  \n",
      " block7a_se_excite (Multiply)   (None, 7, 7, 1152)   0           ['block7a_activation[0][0]',     \n",
      "                                                                  'block7a_se_expand[0][0]']      \n",
      "                                                                                                  \n",
      " block7a_project_conv (Conv2D)  (None, 7, 7, 320)    368640      ['block7a_se_excite[0][0]']      \n",
      "                                                                                                  \n",
      " block7a_project_bn (BatchNorma  (None, 7, 7, 320)   1280        ['block7a_project_conv[0][0]']   \n",
      " lization)                                                                                        \n",
      "                                                                                                  \n",
      " top_conv (Conv2D)              (None, 7, 7, 1280)   409600      ['block7a_project_bn[0][0]']     \n",
      "                                                                                                  \n",
      " top_bn (BatchNormalization)    (None, 7, 7, 1280)   5120        ['top_conv[0][0]']               \n",
      "                                                                                                  \n",
      " top_activation (Activation)    (None, 7, 7, 1280)   0           ['top_bn[0][0]']                 \n",
      "                                                                                                  \n",
      " global_average_pooling2d_4 (Gl  (None, 1280)        0           ['top_activation[0][0]']         \n",
      " obalAveragePooling2D)                                                                            \n",
      "                                                                                                  \n",
      " batch_normalization_3 (BatchNo  (None, 1280)        5120        ['global_average_pooling2d_4[0][0\n",
      " rmalization)                                                    ]']                              \n",
      "                                                                                                  \n",
      " dropout_4 (Dropout)            (None, 1280)         0           ['batch_normalization_3[0][0]']  \n",
      "                                                                                                  \n",
      " dense_4 (Dense)                (None, 10)           12810       ['dropout_4[0][0]']              \n",
      "                                                                                                  \n",
      "==================================================================================================\n",
      "Total params: 4,067,501\n",
      "Trainable params: 15,370\n",
      "Non-trainable params: 4,052,131\n",
      "__________________________________________________________________________________________________\n"
     ]
    }
   ]
  },
  {
   "cell_type": "code",
   "source": [
    "def unfreeze_model(model):\n",
    "    # We unfreeze the top 20 layers while leaving BatchNorm layers frozen (top + last block)\n",
    "    for layer in model.layers[-20:]:\n",
    "        if isinstance(layer, BatchNormalization):\n",
    "            layer.trainable = False\n",
    "        else:\n",
    "            layer.trainable = True\n",
    "\n",
    "    model.compile(optimizer=opt, loss=\"categorical_crossentropy\", metrics=[\"accuracy\"])\n",
    "    return model"
   ],
   "metadata": {
    "id": "aJy_FHZRJjC1",
    "executionInfo": {
     "status": "ok",
     "timestamp": 1657280792396,
     "user_tz": -120,
     "elapsed": 308,
     "user": {
      "displayName": "Catherine Seytre",
      "userId": "18110368277065052224"
     }
    }
   },
   "execution_count": 17,
   "outputs": []
  },
  {
   "cell_type": "code",
   "source": [
    "efn = unfreeze_model(model)"
   ],
   "metadata": {
    "id": "-dvqhrdUjsF_",
    "executionInfo": {
     "status": "ok",
     "timestamp": 1657280794440,
     "user_tz": -120,
     "elapsed": 319,
     "user": {
      "displayName": "Catherine Seytre",
      "userId": "18110368277065052224"
     }
    }
   },
   "execution_count": 18,
   "outputs": []
  },
  {
   "cell_type": "code",
   "source": [
    "# sans early stopping\n",
    "history = efn.fit(\n",
    "    train_generator,\n",
    "    validation_data=valid_generator,\n",
    "    epochs=100,\n",
    "    verbose=1,\n",
    "    #                   callbacks = [es]\n",
    ")"
   ],
   "metadata": {
    "colab": {
     "base_uri": "https://localhost:8080/"
    },
    "id": "1hvVsE-5olSe",
    "executionInfo": {
     "status": "ok",
     "timestamp": 1657292939679,
     "user_tz": -120,
     "elapsed": 12106440,
     "user": {
      "displayName": "Catherine Seytre",
      "userId": "18110368277065052224"
     }
    },
    "outputId": "81a553bb-2272-48ce-94df-1b4991e99a97"
   },
   "execution_count": 19,
   "outputs": [
    {
     "output_type": "stream",
     "name": "stdout",
     "text": [
      "Epoch 1/100\n",
      "161/161 [==============================] - 2493s 15s/step - loss: 1.0048 - accuracy: 0.6642 - val_loss: 0.8943 - val_accuracy: 0.7070\n",
      "Epoch 2/100\n",
      "161/161 [==============================] - 95s 589ms/step - loss: 0.9614 - accuracy: 0.6743 - val_loss: 0.8979 - val_accuracy: 0.7055\n",
      "Epoch 3/100\n",
      "161/161 [==============================] - 95s 591ms/step - loss: 0.9618 - accuracy: 0.6741 - val_loss: 0.8195 - val_accuracy: 0.7219\n",
      "Epoch 4/100\n",
      "161/161 [==============================] - 96s 595ms/step - loss: 0.9169 - accuracy: 0.6962 - val_loss: 0.8571 - val_accuracy: 0.7211\n",
      "Epoch 5/100\n",
      "161/161 [==============================] - 96s 594ms/step - loss: 0.8324 - accuracy: 0.7168 - val_loss: 0.8496 - val_accuracy: 0.7188\n",
      "Epoch 6/100\n",
      "161/161 [==============================] - 95s 592ms/step - loss: 0.8064 - accuracy: 0.7353 - val_loss: 0.7424 - val_accuracy: 0.7516\n",
      "Epoch 7/100\n",
      "161/161 [==============================] - 94s 587ms/step - loss: 0.7335 - accuracy: 0.7611 - val_loss: 0.6048 - val_accuracy: 0.8055\n",
      "Epoch 8/100\n",
      "161/161 [==============================] - 94s 587ms/step - loss: 0.6420 - accuracy: 0.7872 - val_loss: 0.6401 - val_accuracy: 0.7922\n",
      "Epoch 9/100\n",
      "161/161 [==============================] - 94s 583ms/step - loss: 0.5618 - accuracy: 0.8174 - val_loss: 0.5882 - val_accuracy: 0.8125\n",
      "Epoch 10/100\n",
      "161/161 [==============================] - 96s 595ms/step - loss: 0.5120 - accuracy: 0.8312 - val_loss: 0.5070 - val_accuracy: 0.8422\n",
      "Epoch 11/100\n",
      "161/161 [==============================] - 99s 613ms/step - loss: 0.4748 - accuracy: 0.8425 - val_loss: 0.5752 - val_accuracy: 0.8281\n",
      "Epoch 12/100\n",
      "161/161 [==============================] - 99s 615ms/step - loss: 0.4731 - accuracy: 0.8458 - val_loss: 0.4969 - val_accuracy: 0.8516\n",
      "Epoch 13/100\n",
      "161/161 [==============================] - 99s 615ms/step - loss: 0.4010 - accuracy: 0.8665 - val_loss: 0.5062 - val_accuracy: 0.8492\n",
      "Epoch 14/100\n",
      "161/161 [==============================] - 99s 614ms/step - loss: 0.4082 - accuracy: 0.8642 - val_loss: 0.4721 - val_accuracy: 0.8562\n",
      "Epoch 15/100\n",
      "161/161 [==============================] - 98s 611ms/step - loss: 0.3778 - accuracy: 0.8747 - val_loss: 0.4513 - val_accuracy: 0.8711\n",
      "Epoch 16/100\n",
      "161/161 [==============================] - 99s 613ms/step - loss: 0.3123 - accuracy: 0.8975 - val_loss: 0.4240 - val_accuracy: 0.8766\n",
      "Epoch 17/100\n",
      "161/161 [==============================] - 98s 610ms/step - loss: 0.3723 - accuracy: 0.8833 - val_loss: 0.3970 - val_accuracy: 0.8742\n",
      "Epoch 18/100\n",
      "161/161 [==============================] - 97s 605ms/step - loss: 0.2910 - accuracy: 0.9047 - val_loss: 0.3982 - val_accuracy: 0.8914\n",
      "Epoch 19/100\n",
      "161/161 [==============================] - 97s 606ms/step - loss: 0.2887 - accuracy: 0.9070 - val_loss: 0.4515 - val_accuracy: 0.8750\n",
      "Epoch 20/100\n",
      "161/161 [==============================] - 98s 607ms/step - loss: 0.2917 - accuracy: 0.9033 - val_loss: 0.4333 - val_accuracy: 0.8672\n",
      "Epoch 21/100\n",
      "161/161 [==============================] - 98s 611ms/step - loss: 0.2652 - accuracy: 0.9094 - val_loss: 0.4488 - val_accuracy: 0.8891\n",
      "Epoch 22/100\n",
      "161/161 [==============================] - 98s 608ms/step - loss: 0.2687 - accuracy: 0.9144 - val_loss: 0.4340 - val_accuracy: 0.8875\n",
      "Epoch 23/100\n",
      "161/161 [==============================] - 98s 610ms/step - loss: 0.2323 - accuracy: 0.9203 - val_loss: 0.4266 - val_accuracy: 0.8883\n",
      "Epoch 24/100\n",
      "161/161 [==============================] - 98s 610ms/step - loss: 0.2220 - accuracy: 0.9259 - val_loss: 0.4207 - val_accuracy: 0.8938\n",
      "Epoch 25/100\n",
      "161/161 [==============================] - 98s 611ms/step - loss: 0.2346 - accuracy: 0.9224 - val_loss: 0.4043 - val_accuracy: 0.8922\n",
      "Epoch 26/100\n",
      "161/161 [==============================] - 98s 612ms/step - loss: 0.2258 - accuracy: 0.9232 - val_loss: 0.3678 - val_accuracy: 0.9047\n",
      "Epoch 27/100\n",
      "161/161 [==============================] - 98s 609ms/step - loss: 0.2002 - accuracy: 0.9341 - val_loss: 0.3683 - val_accuracy: 0.8992\n",
      "Epoch 28/100\n",
      "161/161 [==============================] - 97s 602ms/step - loss: 0.2241 - accuracy: 0.9273 - val_loss: 0.3333 - val_accuracy: 0.9125\n",
      "Epoch 29/100\n",
      "161/161 [==============================] - 98s 606ms/step - loss: 0.1891 - accuracy: 0.9392 - val_loss: 0.3326 - val_accuracy: 0.9078\n",
      "Epoch 30/100\n",
      "161/161 [==============================] - 98s 608ms/step - loss: 0.1774 - accuracy: 0.9437 - val_loss: 0.3730 - val_accuracy: 0.9055\n",
      "Epoch 31/100\n",
      "161/161 [==============================] - 99s 613ms/step - loss: 0.1649 - accuracy: 0.9472 - val_loss: 0.2963 - val_accuracy: 0.9242\n",
      "Epoch 32/100\n",
      "161/161 [==============================] - 97s 604ms/step - loss: 0.1374 - accuracy: 0.9573 - val_loss: 0.3527 - val_accuracy: 0.9094\n",
      "Epoch 33/100\n",
      "161/161 [==============================] - 97s 605ms/step - loss: 0.1582 - accuracy: 0.9452 - val_loss: 0.3888 - val_accuracy: 0.9000\n",
      "Epoch 34/100\n",
      "161/161 [==============================] - 98s 608ms/step - loss: 0.1507 - accuracy: 0.9505 - val_loss: 0.4047 - val_accuracy: 0.8930\n",
      "Epoch 35/100\n",
      "161/161 [==============================] - 98s 609ms/step - loss: 0.1358 - accuracy: 0.9556 - val_loss: 0.3389 - val_accuracy: 0.9109\n",
      "Epoch 36/100\n",
      "161/161 [==============================] - 98s 612ms/step - loss: 0.1481 - accuracy: 0.9491 - val_loss: 0.3974 - val_accuracy: 0.9156\n",
      "Epoch 37/100\n",
      "161/161 [==============================] - 99s 614ms/step - loss: 0.1378 - accuracy: 0.9550 - val_loss: 0.3508 - val_accuracy: 0.9234\n",
      "Epoch 38/100\n",
      "161/161 [==============================] - 98s 612ms/step - loss: 0.1161 - accuracy: 0.9606 - val_loss: 0.3754 - val_accuracy: 0.9234\n",
      "Epoch 39/100\n",
      "161/161 [==============================] - 98s 612ms/step - loss: 0.1205 - accuracy: 0.9626 - val_loss: 0.3307 - val_accuracy: 0.9273\n",
      "Epoch 40/100\n",
      "161/161 [==============================] - 99s 616ms/step - loss: 0.1120 - accuracy: 0.9649 - val_loss: 0.3492 - val_accuracy: 0.9234\n",
      "Epoch 41/100\n",
      "161/161 [==============================] - 98s 609ms/step - loss: 0.0919 - accuracy: 0.9731 - val_loss: 0.3504 - val_accuracy: 0.9234\n",
      "Epoch 42/100\n",
      "161/161 [==============================] - 98s 607ms/step - loss: 0.0988 - accuracy: 0.9688 - val_loss: 0.3670 - val_accuracy: 0.9172\n",
      "Epoch 43/100\n",
      "161/161 [==============================] - 97s 605ms/step - loss: 0.0911 - accuracy: 0.9682 - val_loss: 0.3155 - val_accuracy: 0.9258\n",
      "Epoch 44/100\n",
      "161/161 [==============================] - 98s 613ms/step - loss: 0.0905 - accuracy: 0.9684 - val_loss: 0.3658 - val_accuracy: 0.9164\n",
      "Epoch 45/100\n",
      "161/161 [==============================] - 99s 613ms/step - loss: 0.0820 - accuracy: 0.9710 - val_loss: 0.3652 - val_accuracy: 0.9172\n",
      "Epoch 46/100\n",
      "161/161 [==============================] - 99s 616ms/step - loss: 0.0846 - accuracy: 0.9751 - val_loss: 0.3264 - val_accuracy: 0.9289\n",
      "Epoch 47/100\n",
      "161/161 [==============================] - 99s 617ms/step - loss: 0.0727 - accuracy: 0.9745 - val_loss: 0.3138 - val_accuracy: 0.9234\n",
      "Epoch 48/100\n",
      "161/161 [==============================] - 99s 613ms/step - loss: 0.0684 - accuracy: 0.9764 - val_loss: 0.3200 - val_accuracy: 0.9297\n",
      "Epoch 49/100\n",
      "161/161 [==============================] - 98s 612ms/step - loss: 0.0690 - accuracy: 0.9772 - val_loss: 0.3110 - val_accuracy: 0.9305\n",
      "Epoch 50/100\n",
      "161/161 [==============================] - 98s 608ms/step - loss: 0.0708 - accuracy: 0.9766 - val_loss: 0.3087 - val_accuracy: 0.9359\n",
      "Epoch 51/100\n",
      "161/161 [==============================] - 98s 608ms/step - loss: 0.0591 - accuracy: 0.9797 - val_loss: 0.2992 - val_accuracy: 0.9375\n",
      "Epoch 52/100\n",
      "161/161 [==============================] - 98s 610ms/step - loss: 0.0537 - accuracy: 0.9825 - val_loss: 0.3237 - val_accuracy: 0.9375\n",
      "Epoch 53/100\n",
      "161/161 [==============================] - 97s 602ms/step - loss: 0.0560 - accuracy: 0.9811 - val_loss: 0.3415 - val_accuracy: 0.9391\n",
      "Epoch 54/100\n",
      "161/161 [==============================] - 96s 598ms/step - loss: 0.0522 - accuracy: 0.9823 - val_loss: 0.2834 - val_accuracy: 0.9438\n",
      "Epoch 55/100\n",
      "161/161 [==============================] - 95s 592ms/step - loss: 0.0562 - accuracy: 0.9807 - val_loss: 0.2747 - val_accuracy: 0.9469\n",
      "Epoch 56/100\n",
      "161/161 [==============================] - 97s 603ms/step - loss: 0.0471 - accuracy: 0.9856 - val_loss: 0.2994 - val_accuracy: 0.9422\n",
      "Epoch 57/100\n",
      "161/161 [==============================] - 98s 608ms/step - loss: 0.0449 - accuracy: 0.9844 - val_loss: 0.3394 - val_accuracy: 0.9414\n",
      "Epoch 58/100\n",
      "161/161 [==============================] - 98s 609ms/step - loss: 0.0395 - accuracy: 0.9873 - val_loss: 0.2968 - val_accuracy: 0.9484\n",
      "Epoch 59/100\n",
      "161/161 [==============================] - 98s 609ms/step - loss: 0.0358 - accuracy: 0.9885 - val_loss: 0.2877 - val_accuracy: 0.9430\n",
      "Epoch 60/100\n",
      "161/161 [==============================] - 97s 604ms/step - loss: 0.0352 - accuracy: 0.9885 - val_loss: 0.2974 - val_accuracy: 0.9461\n",
      "Epoch 61/100\n",
      "161/161 [==============================] - 97s 600ms/step - loss: 0.0372 - accuracy: 0.9869 - val_loss: 0.2827 - val_accuracy: 0.9492\n",
      "Epoch 62/100\n",
      "161/161 [==============================] - 97s 603ms/step - loss: 0.0364 - accuracy: 0.9895 - val_loss: 0.3206 - val_accuracy: 0.9438\n",
      "Epoch 63/100\n",
      "161/161 [==============================] - 97s 606ms/step - loss: 0.0339 - accuracy: 0.9879 - val_loss: 0.3104 - val_accuracy: 0.9422\n",
      "Epoch 64/100\n",
      "161/161 [==============================] - 98s 609ms/step - loss: 0.0317 - accuracy: 0.9887 - val_loss: 0.2897 - val_accuracy: 0.9484\n",
      "Epoch 65/100\n",
      "161/161 [==============================] - 98s 612ms/step - loss: 0.0368 - accuracy: 0.9869 - val_loss: 0.2876 - val_accuracy: 0.9445\n",
      "Epoch 66/100\n",
      "161/161 [==============================] - 97s 604ms/step - loss: 0.0289 - accuracy: 0.9893 - val_loss: 0.2806 - val_accuracy: 0.9445\n",
      "Epoch 67/100\n",
      "161/161 [==============================] - 96s 600ms/step - loss: 0.0354 - accuracy: 0.9879 - val_loss: 0.2853 - val_accuracy: 0.9500\n",
      "Epoch 68/100\n",
      "161/161 [==============================] - 97s 604ms/step - loss: 0.0315 - accuracy: 0.9889 - val_loss: 0.3190 - val_accuracy: 0.9414\n",
      "Epoch 69/100\n",
      "161/161 [==============================] - 98s 607ms/step - loss: 0.0298 - accuracy: 0.9893 - val_loss: 0.3115 - val_accuracy: 0.9469\n",
      "Epoch 70/100\n",
      "161/161 [==============================] - 96s 595ms/step - loss: 0.0364 - accuracy: 0.9869 - val_loss: 0.2838 - val_accuracy: 0.9508\n",
      "Epoch 71/100\n",
      "161/161 [==============================] - 96s 598ms/step - loss: 0.0364 - accuracy: 0.9883 - val_loss: 0.2997 - val_accuracy: 0.9523\n",
      "Epoch 72/100\n",
      "161/161 [==============================] - 96s 599ms/step - loss: 0.0347 - accuracy: 0.9875 - val_loss: 0.3101 - val_accuracy: 0.9367\n",
      "Epoch 73/100\n",
      "161/161 [==============================] - 96s 596ms/step - loss: 0.0308 - accuracy: 0.9897 - val_loss: 0.2823 - val_accuracy: 0.9422\n",
      "Epoch 74/100\n",
      "161/161 [==============================] - 96s 596ms/step - loss: 0.0310 - accuracy: 0.9905 - val_loss: 0.2918 - val_accuracy: 0.9352\n",
      "Epoch 75/100\n",
      "161/161 [==============================] - 96s 595ms/step - loss: 0.0239 - accuracy: 0.9910 - val_loss: 0.3418 - val_accuracy: 0.9406\n",
      "Epoch 76/100\n",
      "161/161 [==============================] - 96s 596ms/step - loss: 0.0288 - accuracy: 0.9893 - val_loss: 0.2800 - val_accuracy: 0.9398\n",
      "Epoch 77/100\n",
      "161/161 [==============================] - 97s 602ms/step - loss: 0.0325 - accuracy: 0.9897 - val_loss: 0.3295 - val_accuracy: 0.9414\n",
      "Epoch 78/100\n",
      "161/161 [==============================] - 97s 602ms/step - loss: 0.0286 - accuracy: 0.9916 - val_loss: 0.2857 - val_accuracy: 0.9508\n",
      "Epoch 79/100\n",
      "161/161 [==============================] - 97s 604ms/step - loss: 0.0314 - accuracy: 0.9906 - val_loss: 0.2710 - val_accuracy: 0.9516\n",
      "Epoch 80/100\n",
      "161/161 [==============================] - 97s 601ms/step - loss: 0.0340 - accuracy: 0.9887 - val_loss: 0.3293 - val_accuracy: 0.9484\n",
      "Epoch 81/100\n",
      "161/161 [==============================] - 96s 597ms/step - loss: 0.0307 - accuracy: 0.9897 - val_loss: 0.2861 - val_accuracy: 0.9484\n",
      "Epoch 82/100\n",
      "161/161 [==============================] - 96s 596ms/step - loss: 0.0285 - accuracy: 0.9910 - val_loss: 0.2779 - val_accuracy: 0.9469\n",
      "Epoch 83/100\n",
      "161/161 [==============================] - 97s 602ms/step - loss: 0.0365 - accuracy: 0.9877 - val_loss: 0.2508 - val_accuracy: 0.9469\n",
      "Epoch 84/100\n",
      "161/161 [==============================] - 98s 609ms/step - loss: 0.0271 - accuracy: 0.9897 - val_loss: 0.3111 - val_accuracy: 0.9414\n",
      "Epoch 85/100\n",
      "161/161 [==============================] - 97s 605ms/step - loss: 0.0273 - accuracy: 0.9905 - val_loss: 0.2884 - val_accuracy: 0.9438\n",
      "Epoch 86/100\n",
      "161/161 [==============================] - 95s 591ms/step - loss: 0.0303 - accuracy: 0.9905 - val_loss: 0.3212 - val_accuracy: 0.9422\n",
      "Epoch 87/100\n",
      "161/161 [==============================] - 95s 593ms/step - loss: 0.0269 - accuracy: 0.9918 - val_loss: 0.2948 - val_accuracy: 0.9430\n",
      "Epoch 88/100\n",
      "161/161 [==============================] - 94s 582ms/step - loss: 0.0305 - accuracy: 0.9903 - val_loss: 0.3171 - val_accuracy: 0.9367\n",
      "Epoch 89/100\n",
      "161/161 [==============================] - 95s 590ms/step - loss: 0.0257 - accuracy: 0.9905 - val_loss: 0.3054 - val_accuracy: 0.9398\n",
      "Epoch 90/100\n",
      "161/161 [==============================] - 94s 585ms/step - loss: 0.0349 - accuracy: 0.9881 - val_loss: 0.3368 - val_accuracy: 0.9430\n",
      "Epoch 91/100\n",
      "161/161 [==============================] - 95s 591ms/step - loss: 0.0268 - accuracy: 0.9912 - val_loss: 0.3125 - val_accuracy: 0.9406\n",
      "Epoch 92/100\n",
      "161/161 [==============================] - 95s 593ms/step - loss: 0.0288 - accuracy: 0.9908 - val_loss: 0.2695 - val_accuracy: 0.9477\n",
      "Epoch 93/100\n",
      "161/161 [==============================] - 95s 588ms/step - loss: 0.0326 - accuracy: 0.9879 - val_loss: 0.2923 - val_accuracy: 0.9453\n",
      "Epoch 94/100\n",
      "161/161 [==============================] - 95s 593ms/step - loss: 0.0320 - accuracy: 0.9895 - val_loss: 0.2753 - val_accuracy: 0.9508\n",
      "Epoch 95/100\n",
      "161/161 [==============================] - 95s 590ms/step - loss: 0.0237 - accuracy: 0.9918 - val_loss: 0.2971 - val_accuracy: 0.9492\n",
      "Epoch 96/100\n",
      "161/161 [==============================] - 95s 591ms/step - loss: 0.0250 - accuracy: 0.9912 - val_loss: 0.2908 - val_accuracy: 0.9453\n",
      "Epoch 97/100\n",
      "161/161 [==============================] - 95s 593ms/step - loss: 0.0290 - accuracy: 0.9912 - val_loss: 0.2906 - val_accuracy: 0.9484\n",
      "Epoch 98/100\n",
      "161/161 [==============================] - 96s 594ms/step - loss: 0.0279 - accuracy: 0.9916 - val_loss: 0.3237 - val_accuracy: 0.9445\n",
      "Epoch 99/100\n",
      "161/161 [==============================] - 95s 593ms/step - loss: 0.0275 - accuracy: 0.9901 - val_loss: 0.2766 - val_accuracy: 0.9438\n",
      "Epoch 100/100\n",
      "161/161 [==============================] - 95s 591ms/step - loss: 0.0268 - accuracy: 0.9905 - val_loss: 0.2796 - val_accuracy: 0.9516\n"
     ]
    }
   ]
  },
  {
   "cell_type": "code",
   "source": [
    "plot_history(dict_history=history, first_score=\"loss\", second_score=\"accuracy\")"
   ],
   "metadata": {
    "colab": {
     "base_uri": "https://localhost:8080/",
     "height": 378
    },
    "id": "xKOxqkrHIIAr",
    "executionInfo": {
     "status": "ok",
     "timestamp": 1657292941441,
     "user_tz": -120,
     "elapsed": 31,
     "user": {
      "displayName": "Catherine Seytre",
      "userId": "18110368277065052224"
     }
    },
    "outputId": "adb815cf-1ad0-49b9-d2da-90bbad7ea2ba"
   },
   "execution_count": 20,
   "outputs": [
    {
     "output_type": "display_data",
     "data": {
      "text/plain": [
       "<Figure size 1800x720 with 2 Axes>"
      ],
      "image/png": "[encoded data removed]"
     },
     "metadata": {}
    }
   ]
  },
  {
   "cell_type": "code",
   "source": [
    "efn.save(\n",
    "    \"/content/drive/MyDrive/Colab Notebooks/paddy/paddy_efficientnetb0_20_layers_3\"\n",
    ")\n",
    "print(\"the model is saved\")"
   ],
   "metadata": {
    "colab": {
     "base_uri": "https://localhost:8080/"
    },
    "executionInfo": {
     "status": "ok",
     "timestamp": 1657292968019,
     "user_tz": -120,
     "elapsed": 26595,
     "user": {
      "displayName": "Catherine Seytre",
      "userId": "18110368277065052224"
     }
    },
    "outputId": "6f21a122-3a2e-45e1-fcb2-7ec243609ea4",
    "id": "OP7e_klZIO2a"
   },
   "execution_count": 21,
   "outputs": [
    {
     "output_type": "stream",
     "name": "stdout",
     "text": [
      "INFO:tensorflow:Assets written to: /content/drive/MyDrive/Colab Notebooks/paddy/paddy_efficientnetb0_20_layers_3/assets\n",
      "the model is saved\n"
     ]
    }
   ]
  },
  {
   "cell_type": "code",
   "source": [
    "# predict sur test set avec resnet_26 layers\n",
    "disease_pred = efn.predict(test_generator, batch_size=32,)"
   ],
   "metadata": {
    "id": "BGDsbN5xIO2c",
    "executionInfo": {
     "status": "ok",
     "timestamp": 1657294599476,
     "user_tz": -120,
     "elapsed": 1631462,
     "user": {
      "displayName": "Catherine Seytre",
      "userId": "18110368277065052224"
     }
    }
   },
   "execution_count": 22,
   "outputs": []
  },
  {
   "cell_type": "code",
   "source": [
    "# formatting Kaggle submission\n",
    "predicted_class_indices = np.argmax(disease_pred, axis=1)\n",
    "print(set(predicted_class_indices))\n",
    "\n",
    "inv_map = {v: k for k, v in train_generator.class_indices.items()}\n",
    "\n",
    "predictions = [inv_map[k] for k in predicted_class_indices]"
   ],
   "metadata": {
    "colab": {
     "base_uri": "https://localhost:8080/"
    },
    "executionInfo": {
     "status": "ok",
     "timestamp": 1657294599476,
     "user_tz": -120,
     "elapsed": 15,
     "user": {
      "displayName": "Catherine Seytre",
      "userId": "18110368277065052224"
     }
    },
    "outputId": "8e620cbd-d29b-4251-cc53-807e6483304a",
    "id": "XkQKooW9IO2d"
   },
   "execution_count": 23,
   "outputs": [
    {
     "output_type": "stream",
     "name": "stdout",
     "text": [
      "{0, 1, 2, 3, 4, 5, 6, 7, 8, 9}\n"
     ]
    }
   ]
  },
  {
   "cell_type": "code",
   "source": [
    "filenames = test_generator.filenames\n",
    "\n",
    "results = pd.DataFrame({\"image_id\": filenames, \"label\": predictions})\n",
    "results.image_id = results.image_id.str.replace(\"./\", \"\")\n",
    "results.to_csv(\"/content/drive/MyDrive/Colab Notebooks/submission8.csv\", index=False)\n",
    "results.head()"
   ],
   "metadata": {
    "colab": {
     "base_uri": "https://localhost:8080/",
     "height": 261
    },
    "executionInfo": {
     "status": "ok",
     "timestamp": 1657294599477,
     "user_tz": -120,
     "elapsed": 13,
     "user": {
      "displayName": "Catherine Seytre",
      "userId": "18110368277065052224"
     }
    },
    "outputId": "5316a699-b3e7-46e6-b1dc-5db06922b209",
    "id": "KvQENmOHIO2d"
   },
   "execution_count": 24,
   "outputs": [
    {
     "output_type": "stream",
     "name": "stderr",
     "text": [
      "/usr/local/lib/python3.7/dist-packages/ipykernel_launcher.py:4: FutureWarning: The default value of regex will change from True to False in a future version.\n",
      "  after removing the cwd from sys.path.\n"
     ]
    },
    {
     "output_type": "execute_result",
     "data": {
      "text/plain": [
       "     image_id   label\n",
       "0  200001.jpg   hispa\n",
       "1  200002.jpg  normal\n",
       "2  200003.jpg   blast\n",
       "3  200004.jpg   blast\n",
       "4  200005.jpg   blast"
      ],
      "text/html": [
       "\n",
       "  <div id=\"df-2a14ead3-e3f2-4921-aec0-47dc30c7eed0\">\n",
       "    <div class=\"colab-df-container\">\n",
       "      <div>\n",
       "<style scoped>\n",
       "    .dataframe tbody tr th:only-of-type {\n",
       "        vertical-align: middle;\n",
       "    }\n",
       "\n",
       "    .dataframe tbody tr th {\n",
       "        vertical-align: top;\n",
       "    }\n",
       "\n",
       "    .dataframe thead th {\n",
       "        text-align: right;\n",
       "    }\n",
       "</style>\n",
       "<table border=\"1\" class=\"dataframe\">\n",
       "  <thead>\n",
       "    <tr style=\"text-align: right;\">\n",
       "      <th></th>\n",
       "      <th>image_id</th>\n",
       "      <th>label</th>\n",
       "    </tr>\n",
       "  </thead>\n",
       "  <tbody>\n",
       "    <tr>\n",
       "      <th>0</th>\n",
       "      <td>200001.jpg</td>\n",
       "      <td>hispa</td>\n",
       "    </tr>\n",
       "    <tr>\n",
       "      <th>1</th>\n",
       "      <td>200002.jpg</td>\n",
       "      <td>normal</td>\n",
       "    </tr>\n",
       "    <tr>\n",
       "      <th>2</th>\n",
       "      <td>200003.jpg</td>\n",
       "      <td>blast</td>\n",
       "    </tr>\n",
       "    <tr>\n",
       "      <th>3</th>\n",
       "      <td>200004.jpg</td>\n",
       "      <td>blast</td>\n",
       "    </tr>\n",
       "    <tr>\n",
       "      <th>4</th>\n",
       "      <td>200005.jpg</td>\n",
       "      <td>blast</td>\n",
       "    </tr>\n",
       "  </tbody>\n",
       "</table>\n",
       "</div>\n",
       "      <button class=\"colab-df-convert\" onclick=\"convertToInteractive('df-2a14ead3-e3f2-4921-aec0-47dc30c7eed0')\"\n",
       "              title=\"Convert this dataframe to an interactive table.\"\n",
       "              style=\"display:none;\">\n",
       "        \n",
       "  <svg xmlns=\"http://www.w3.org/2000/svg\" height=\"24px\"viewBox=\"0 0 24 24\"\n",
       "       width=\"24px\">\n",
       "    <path d=\"M0 0h24v24H0V0z\" fill=\"none\"/>\n",
       "    <path d=\"M18.56 5.44l.94 2.06.94-2.06 2.06-.94-2.06-.94-.94-2.06-.94 2.06-2.06.94zm-11 1L8.5 8.5l.94-2.06 2.06-.94-2.06-.94L8.5 2.5l-.94 2.06-2.06.94zm10 10l.94 2.06.94-2.06 2.06-.94-2.06-.94-.94-2.06-.94 2.06-2.06.94z\"/><path d=\"M17.41 7.96l-1.37-1.37c-.4-.4-.92-.59-1.43-.59-.52 0-1.04.2-1.43.59L10.3 9.45l-7.72 7.72c-.78.78-.78 2.05 0 2.83L4 21.41c.39.39.9.59 1.41.59.51 0 1.02-.2 1.41-.59l7.78-7.78 2.81-2.81c.8-.78.8-2.07 0-2.86zM5.41 20L4 18.59l7.72-7.72 1.47 1.35L5.41 20z\"/>\n",
       "  </svg>\n",
       "      </button>\n",
       "      \n",
       "  <style>\n",
       "    .colab-df-container {\n",
       "      display:flex;\n",
       "      flex-wrap:wrap;\n",
       "      gap: 12px;\n",
       "    }\n",
       "\n",
       "    .colab-df-convert {\n",
       "      background-color: #E8F0FE;\n",
       "      border: none;\n",
       "      border-radius: 50%;\n",
       "      cursor: pointer;\n",
       "      display: none;\n",
       "      fill: #1967D2;\n",
       "      height: 32px;\n",
       "      padding: 0 0 0 0;\n",
       "      width: 32px;\n",
       "    }\n",
       "\n",
       "    .colab-df-convert:hover {\n",
       "      background-color: #E2EBFA;\n",
       "      box-shadow: 0px 1px 2px rgba(60, 64, 67, 0.3), 0px 1px 3px 1px rgba(60, 64, 67, 0.15);\n",
       "      fill: #174EA6;\n",
       "    }\n",
       "\n",
       "    [theme=dark] .colab-df-convert {\n",
       "      background-color: #3B4455;\n",
       "      fill: #D2E3FC;\n",
       "    }\n",
       "\n",
       "    [theme=dark] .colab-df-convert:hover {\n",
       "      background-color: #434B5C;\n",
       "      box-shadow: 0px 1px 3px 1px rgba(0, 0, 0, 0.15);\n",
       "      filter: drop-shadow(0px 1px 2px rgba(0, 0, 0, 0.3));\n",
       "      fill: #FFFFFF;\n",
       "    }\n",
       "  </style>\n",
       "\n",
       "      <script>\n",
       "        const buttonEl =\n",
       "          document.querySelector('#df-2a14ead3-e3f2-4921-aec0-47dc30c7eed0 button.colab-df-convert');\n",
       "        buttonEl.style.display =\n",
       "          google.colab.kernel.accessAllowed ? 'block' : 'none';\n",
       "\n",
       "        async function convertToInteractive(key) {\n",
       "          const element = document.querySelector('#df-2a14ead3-e3f2-4921-aec0-47dc30c7eed0');\n",
       "          const dataTable =\n",
       "            await google.colab.kernel.invokeFunction('convertToInteractive',\n",
       "                                                     [key], {});\n",
       "          if (!dataTable) return;\n",
       "\n",
       "          const docLinkHtml = 'Like what you see? Visit the ' +\n",
       "            '<a target=\"_blank\" href=https://colab.research.google.com/notebooks/data_table.ipynb>data table notebook</a>'\n",
       "            + ' to learn more about interactive tables.';\n",
       "          element.innerHTML = '';\n",
       "          dataTable['output_type'] = 'display_data';\n",
       "          await google.colab.output.renderOutput(dataTable, element);\n",
       "          const docLink = document.createElement('div');\n",
       "          docLink.innerHTML = docLinkHtml;\n",
       "          element.appendChild(docLink);\n",
       "        }\n",
       "      </script>\n",
       "    </div>\n",
       "  </div>\n",
       "  "
      ]
     },
     "metadata": {},
     "execution_count": 24
    }
   ]
  },
  {
   "cell_type": "code",
   "source": [
    "# avec early stopping\n",
    "history = efn.fit(\n",
    "    train_generator,\n",
    "    validation_data=valid_generator,\n",
    "    epochs=100,\n",
    "    verbose=1,\n",
    "    callbacks=[es],\n",
    ")"
   ],
   "metadata": {
    "id": "gFgo7RRlKxTu",
    "colab": {
     "base_uri": "https://localhost:8080/"
    },
    "executionInfo": {
     "status": "ok",
     "timestamp": 1656933997341,
     "user_tz": -120,
     "elapsed": 6409082,
     "user": {
      "displayName": "Catherine Seytre",
      "userId": "18110368277065052224"
     }
    },
    "outputId": "839dfd75-4ba1-4506-f8f5-314f885feabe"
   },
   "execution_count": null,
   "outputs": [
    {
     "output_type": "stream",
     "name": "stdout",
     "text": [
      "Epoch 1/100\n",
      "161/161 [==============================] - 1513s 9s/step - loss: 1.0062 - accuracy: 0.6609 - val_loss: 0.9216 - val_accuracy: 0.6938\n",
      "Epoch 2/100\n",
      "161/161 [==============================] - 95s 590ms/step - loss: 0.9909 - accuracy: 0.6679 - val_loss: 0.8744 - val_accuracy: 0.7016\n",
      "Epoch 3/100\n",
      "161/161 [==============================] - 94s 587ms/step - loss: 0.9657 - accuracy: 0.6706 - val_loss: 0.9045 - val_accuracy: 0.6969\n",
      "Epoch 4/100\n",
      "161/161 [==============================] - 94s 585ms/step - loss: 0.8903 - accuracy: 0.7026 - val_loss: 0.7902 - val_accuracy: 0.7437\n",
      "Epoch 5/100\n",
      "161/161 [==============================] - 94s 586ms/step - loss: 0.8501 - accuracy: 0.7114 - val_loss: 0.8415 - val_accuracy: 0.7164\n",
      "Epoch 6/100\n",
      "161/161 [==============================] - 94s 586ms/step - loss: 0.7978 - accuracy: 0.7324 - val_loss: 0.6055 - val_accuracy: 0.7984\n",
      "Epoch 7/100\n",
      "161/161 [==============================] - 94s 583ms/step - loss: 0.6981 - accuracy: 0.7655 - val_loss: 0.7433 - val_accuracy: 0.7703\n",
      "Epoch 8/100\n",
      "161/161 [==============================] - 94s 586ms/step - loss: 0.6621 - accuracy: 0.7778 - val_loss: 0.6450 - val_accuracy: 0.7859\n",
      "Epoch 9/100\n",
      "161/161 [==============================] - 94s 585ms/step - loss: 0.5719 - accuracy: 0.8174 - val_loss: 0.5540 - val_accuracy: 0.8250\n",
      "Epoch 10/100\n",
      "161/161 [==============================] - 94s 584ms/step - loss: 0.5046 - accuracy: 0.8365 - val_loss: 0.5031 - val_accuracy: 0.8477\n",
      "Epoch 11/100\n",
      "161/161 [==============================] - 94s 582ms/step - loss: 0.4983 - accuracy: 0.8417 - val_loss: 0.6036 - val_accuracy: 0.8172\n",
      "Epoch 12/100\n",
      "161/161 [==============================] - 94s 586ms/step - loss: 0.4343 - accuracy: 0.8575 - val_loss: 0.4997 - val_accuracy: 0.8453\n",
      "Epoch 13/100\n",
      "161/161 [==============================] - 94s 585ms/step - loss: 0.4141 - accuracy: 0.8626 - val_loss: 0.4899 - val_accuracy: 0.8641\n",
      "Epoch 14/100\n",
      "161/161 [==============================] - 94s 584ms/step - loss: 0.3929 - accuracy: 0.8663 - val_loss: 0.4258 - val_accuracy: 0.8656\n",
      "Epoch 15/100\n",
      "161/161 [==============================] - 94s 586ms/step - loss: 0.3603 - accuracy: 0.8760 - val_loss: 0.4254 - val_accuracy: 0.8664\n",
      "Epoch 16/100\n",
      "161/161 [==============================] - 94s 583ms/step - loss: 0.3539 - accuracy: 0.8803 - val_loss: 0.5059 - val_accuracy: 0.8617\n",
      "Epoch 17/100\n",
      "161/161 [==============================] - 94s 583ms/step - loss: 0.3637 - accuracy: 0.8807 - val_loss: 0.4361 - val_accuracy: 0.8813\n",
      "Epoch 18/100\n",
      "161/161 [==============================] - 94s 584ms/step - loss: 0.3099 - accuracy: 0.8971 - val_loss: 0.4058 - val_accuracy: 0.8781\n",
      "Epoch 19/100\n",
      "161/161 [==============================] - 94s 584ms/step - loss: 0.2975 - accuracy: 0.9053 - val_loss: 0.4167 - val_accuracy: 0.8734\n",
      "Epoch 20/100\n",
      "161/161 [==============================] - 94s 584ms/step - loss: 0.2684 - accuracy: 0.9139 - val_loss: 0.5103 - val_accuracy: 0.8680\n",
      "Epoch 21/100\n",
      "161/161 [==============================] - 94s 581ms/step - loss: 0.2712 - accuracy: 0.9100 - val_loss: 0.4114 - val_accuracy: 0.8953\n",
      "Epoch 22/100\n",
      "161/161 [==============================] - 94s 583ms/step - loss: 0.2760 - accuracy: 0.9080 - val_loss: 0.4114 - val_accuracy: 0.8930\n",
      "Epoch 23/100\n",
      "161/161 [==============================] - 94s 584ms/step - loss: 0.2503 - accuracy: 0.9201 - val_loss: 0.4241 - val_accuracy: 0.8867\n",
      "Epoch 24/100\n",
      "161/161 [==============================] - 94s 584ms/step - loss: 0.2590 - accuracy: 0.9179 - val_loss: 0.3448 - val_accuracy: 0.9055\n",
      "Epoch 25/100\n",
      "161/161 [==============================] - 94s 584ms/step - loss: 0.2125 - accuracy: 0.9273 - val_loss: 0.3312 - val_accuracy: 0.9102\n",
      "Epoch 26/100\n",
      "161/161 [==============================] - 94s 582ms/step - loss: 0.2014 - accuracy: 0.9337 - val_loss: 0.3796 - val_accuracy: 0.8977\n",
      "Epoch 27/100\n",
      "161/161 [==============================] - 94s 583ms/step - loss: 0.1990 - accuracy: 0.9378 - val_loss: 0.3228 - val_accuracy: 0.9133\n",
      "Epoch 28/100\n",
      "161/161 [==============================] - 94s 583ms/step - loss: 0.1792 - accuracy: 0.9419 - val_loss: 0.4207 - val_accuracy: 0.8797\n",
      "Epoch 29/100\n",
      "161/161 [==============================] - 94s 583ms/step - loss: 0.1608 - accuracy: 0.9489 - val_loss: 0.3591 - val_accuracy: 0.9117\n",
      "Epoch 30/100\n",
      "161/161 [==============================] - 94s 582ms/step - loss: 0.1854 - accuracy: 0.9367 - val_loss: 0.3787 - val_accuracy: 0.9117\n",
      "Epoch 31/100\n",
      "161/161 [==============================] - 94s 584ms/step - loss: 0.1919 - accuracy: 0.9359 - val_loss: 0.3147 - val_accuracy: 0.9172\n",
      "Epoch 32/100\n",
      "161/161 [==============================] - 94s 585ms/step - loss: 0.1626 - accuracy: 0.9429 - val_loss: 0.3630 - val_accuracy: 0.9102\n",
      "Epoch 33/100\n",
      "161/161 [==============================] - 94s 583ms/step - loss: 0.1552 - accuracy: 0.9501 - val_loss: 0.3216 - val_accuracy: 0.9242\n",
      "Epoch 34/100\n",
      "161/161 [==============================] - 94s 582ms/step - loss: 0.1448 - accuracy: 0.9536 - val_loss: 0.3507 - val_accuracy: 0.9141\n",
      "Epoch 35/100\n",
      "161/161 [==============================] - 94s 585ms/step - loss: 0.1557 - accuracy: 0.9501 - val_loss: 0.3561 - val_accuracy: 0.9148\n",
      "Epoch 36/100\n",
      "161/161 [==============================] - 94s 583ms/step - loss: 0.1379 - accuracy: 0.9536 - val_loss: 0.3679 - val_accuracy: 0.9172\n",
      "Epoch 37/100\n",
      "161/161 [==============================] - 94s 582ms/step - loss: 0.1272 - accuracy: 0.9583 - val_loss: 0.3462 - val_accuracy: 0.9148\n",
      "Epoch 38/100\n",
      "161/161 [==============================] - 94s 584ms/step - loss: 0.1273 - accuracy: 0.9579 - val_loss: 0.3399 - val_accuracy: 0.9211\n",
      "Epoch 39/100\n",
      "161/161 [==============================] - 94s 583ms/step - loss: 0.1213 - accuracy: 0.9624 - val_loss: 0.3102 - val_accuracy: 0.9242\n",
      "Epoch 40/100\n",
      "161/161 [==============================] - 94s 585ms/step - loss: 0.1205 - accuracy: 0.9599 - val_loss: 0.2768 - val_accuracy: 0.9234\n",
      "Epoch 41/100\n",
      "161/161 [==============================] - 94s 583ms/step - loss: 0.1162 - accuracy: 0.9639 - val_loss: 0.2894 - val_accuracy: 0.9289\n",
      "Epoch 42/100\n",
      "161/161 [==============================] - 94s 582ms/step - loss: 0.0851 - accuracy: 0.9717 - val_loss: 0.3429 - val_accuracy: 0.9211\n",
      "Epoch 43/100\n",
      "161/161 [==============================] - 94s 584ms/step - loss: 0.0984 - accuracy: 0.9665 - val_loss: 0.2633 - val_accuracy: 0.9359\n",
      "Epoch 44/100\n",
      "161/161 [==============================] - 94s 583ms/step - loss: 0.0985 - accuracy: 0.9665 - val_loss: 0.3482 - val_accuracy: 0.9266\n",
      "Epoch 45/100\n",
      "161/161 [==============================] - 94s 583ms/step - loss: 0.0837 - accuracy: 0.9690 - val_loss: 0.3481 - val_accuracy: 0.9273\n",
      "Epoch 46/100\n",
      "161/161 [==============================] - 94s 582ms/step - loss: 0.0859 - accuracy: 0.9731 - val_loss: 0.3140 - val_accuracy: 0.9312\n",
      "Epoch 47/100\n",
      "161/161 [==============================] - 94s 582ms/step - loss: 0.0725 - accuracy: 0.9725 - val_loss: 0.3273 - val_accuracy: 0.9305\n",
      "Epoch 48/100\n",
      "161/161 [==============================] - 94s 583ms/step - loss: 0.0726 - accuracy: 0.9760 - val_loss: 0.3586 - val_accuracy: 0.9273\n",
      "Epoch 49/100\n",
      "161/161 [==============================] - 94s 582ms/step - loss: 0.0827 - accuracy: 0.9706 - val_loss: 0.3271 - val_accuracy: 0.9367\n",
      "Epoch 50/100\n",
      "161/161 [==============================] - 94s 582ms/step - loss: 0.0633 - accuracy: 0.9778 - val_loss: 0.2781 - val_accuracy: 0.9383\n",
      "Epoch 51/100\n",
      "161/161 [==============================] - 94s 584ms/step - loss: 0.0688 - accuracy: 0.9791 - val_loss: 0.2840 - val_accuracy: 0.9344\n",
      "Epoch 52/100\n",
      "161/161 [==============================] - 93s 581ms/step - loss: 0.0625 - accuracy: 0.9784 - val_loss: 0.2933 - val_accuracy: 0.9391\n",
      "Epoch 53/100\n",
      "161/161 [==============================] - ETA: 0s - loss: 0.0559 - accuracy: 0.9809Restoring model weights from the end of the best epoch: 43.\n",
      "161/161 [==============================] - 94s 583ms/step - loss: 0.0559 - accuracy: 0.9809 - val_loss: 0.2729 - val_accuracy: 0.9430\n",
      "Epoch 53: early stopping\n"
     ]
    }
   ]
  },
  {
   "cell_type": "code",
   "source": [
    ""
   ],
   "metadata": {
    "id": "y4C7FwHM9hyN"
   },
   "execution_count": null,
   "outputs": []
  },
  {
   "cell_type": "code",
   "source": [
    "plot_history(dict_history=history, first_score=\"loss\", second_score=\"accuracy\")"
   ],
   "metadata": {
    "id": "6AkdhohjJi42",
    "colab": {
     "base_uri": "https://localhost:8080/",
     "height": 554
    },
    "executionInfo": {
     "status": "ok",
     "timestamp": 1656933998036,
     "user_tz": -120,
     "elapsed": 699,
     "user": {
      "displayName": "Catherine Seytre",
      "userId": "18110368277065052224"
     }
    },
    "outputId": "a6ce2f2c-8769-4c04-c23f-c115dfc7e097"
   },
   "execution_count": null,
   "outputs": [
    {
     "output_type": "display_data",
     "data": {
      "text/plain": [
       "<Figure size 1800x720 with 2 Axes>"
      ],
      "image/png": "[encoded data removed]"
     },
     "metadata": {}
    }
   ]
  },
  {
   "cell_type": "code",
   "source": [
    "efn.save(\n",
    "    \"/content/drive/MyDrive/Colab Notebooks/paddy/paddy_efficientnetb0_20_layers_2\"\n",
    ")\n",
    "print(\"the model is saved\")"
   ],
   "metadata": {
    "colab": {
     "base_uri": "https://localhost:8080/"
    },
    "id": "UPYNl1RXDEeX",
    "executionInfo": {
     "status": "ok",
     "timestamp": 1656934136729,
     "user_tz": -120,
     "elapsed": 26944,
     "user": {
      "displayName": "Catherine Seytre",
      "userId": "18110368277065052224"
     }
    },
    "outputId": "f38e3617-8549-4f1c-bf74-531593d90537"
   },
   "execution_count": null,
   "outputs": [
    {
     "output_type": "stream",
     "name": "stdout",
     "text": [
      "INFO:tensorflow:Assets written to: /content/drive/MyDrive/Colab Notebooks/paddy/paddy_efficientnetb0_20_layers_2/assets\n",
      "the model is saved\n"
     ]
    }
   ]
  },
  {
   "cell_type": "code",
   "source": [
    "# predict sur test set avec resnet_26 layers\n",
    "disease_pred = efn.predict(test_generator, batch_size=32,)"
   ],
   "metadata": {
    "id": "NHwgyGcIFjkR"
   },
   "execution_count": null,
   "outputs": []
  },
  {
   "cell_type": "code",
   "source": [
    "# formatting Kaggle submission\n",
    "predicted_class_indices = np.argmax(disease_pred, axis=1)\n",
    "print(set(predicted_class_indices))\n",
    "\n",
    "inv_map = {v: k for k, v in train_generator.class_indices.items()}\n",
    "\n",
    "predictions = [inv_map[k] for k in predicted_class_indices]"
   ],
   "metadata": {
    "colab": {
     "base_uri": "https://localhost:8080/"
    },
    "id": "V-_MVJ_9_9iJ",
    "executionInfo": {
     "status": "ok",
     "timestamp": 1656935507709,
     "user_tz": -120,
     "elapsed": 21,
     "user": {
      "displayName": "Catherine Seytre",
      "userId": "18110368277065052224"
     }
    },
    "outputId": "71f34d9a-8019-4d8a-86cf-30eb8ca41e96"
   },
   "execution_count": null,
   "outputs": [
    {
     "output_type": "stream",
     "name": "stdout",
     "text": [
      "{0, 1, 2, 3, 4, 5, 6, 7, 8, 9}\n"
     ]
    }
   ]
  },
  {
   "cell_type": "code",
   "source": [
    "filenames = test_generator.filenames\n",
    "\n",
    "results = pd.DataFrame({\"image_id\": filenames, \"label\": predictions})\n",
    "results.image_id = results.image_id.str.replace(\"./\", \"\")\n",
    "results.to_csv(\"/content/drive/MyDrive/Colab Notebooks/submission6.csv\", index=False)\n",
    "results.head()"
   ],
   "metadata": {
    "colab": {
     "base_uri": "https://localhost:8080/",
     "height": 261
    },
    "id": "M_VgFKRP__9P",
    "executionInfo": {
     "status": "ok",
     "timestamp": 1656935507710,
     "user_tz": -120,
     "elapsed": 18,
     "user": {
      "displayName": "Catherine Seytre",
      "userId": "18110368277065052224"
     }
    },
    "outputId": "87260e8f-92dc-4d65-b921-64ca7f3e90b7"
   },
   "execution_count": null,
   "outputs": [
    {
     "output_type": "stream",
     "name": "stderr",
     "text": [
      "/usr/local/lib/python3.7/dist-packages/ipykernel_launcher.py:4: FutureWarning: The default value of regex will change from True to False in a future version.\n",
      "  after removing the cwd from sys.path.\n"
     ]
    },
    {
     "output_type": "execute_result",
     "data": {
      "text/plain": [
       "     image_id         label\n",
       "0  200001.jpg         hispa\n",
       "1  200002.jpg        normal\n",
       "2  200003.jpg  downy_mildew\n",
       "3  200004.jpg         blast\n",
       "4  200005.jpg         blast"
      ],
      "text/html": [
       "\n",
       "  <div id=\"df-322c5a3a-11bf-4031-9eea-c7472b8f0978\">\n",
       "    <div class=\"colab-df-container\">\n",
       "      <div>\n",
       "<style scoped>\n",
       "    .dataframe tbody tr th:only-of-type {\n",
       "        vertical-align: middle;\n",
       "    }\n",
       "\n",
       "    .dataframe tbody tr th {\n",
       "        vertical-align: top;\n",
       "    }\n",
       "\n",
       "    .dataframe thead th {\n",
       "        text-align: right;\n",
       "    }\n",
       "</style>\n",
       "<table border=\"1\" class=\"dataframe\">\n",
       "  <thead>\n",
       "    <tr style=\"text-align: right;\">\n",
       "      <th></th>\n",
       "      <th>image_id</th>\n",
       "      <th>label</th>\n",
       "    </tr>\n",
       "  </thead>\n",
       "  <tbody>\n",
       "    <tr>\n",
       "      <th>0</th>\n",
       "      <td>200001.jpg</td>\n",
       "      <td>hispa</td>\n",
       "    </tr>\n",
       "    <tr>\n",
       "      <th>1</th>\n",
       "      <td>200002.jpg</td>\n",
       "      <td>normal</td>\n",
       "    </tr>\n",
       "    <tr>\n",
       "      <th>2</th>\n",
       "      <td>200003.jpg</td>\n",
       "      <td>downy_mildew</td>\n",
       "    </tr>\n",
       "    <tr>\n",
       "      <th>3</th>\n",
       "      <td>200004.jpg</td>\n",
       "      <td>blast</td>\n",
       "    </tr>\n",
       "    <tr>\n",
       "      <th>4</th>\n",
       "      <td>200005.jpg</td>\n",
       "      <td>blast</td>\n",
       "    </tr>\n",
       "  </tbody>\n",
       "</table>\n",
       "</div>\n",
       "      <button class=\"colab-df-convert\" onclick=\"convertToInteractive('df-322c5a3a-11bf-4031-9eea-c7472b8f0978')\"\n",
       "              title=\"Convert this dataframe to an interactive table.\"\n",
       "              style=\"display:none;\">\n",
       "        \n",
       "  <svg xmlns=\"http://www.w3.org/2000/svg\" height=\"24px\"viewBox=\"0 0 24 24\"\n",
       "       width=\"24px\">\n",
       "    <path d=\"M0 0h24v24H0V0z\" fill=\"none\"/>\n",
       "    <path d=\"M18.56 5.44l.94 2.06.94-2.06 2.06-.94-2.06-.94-.94-2.06-.94 2.06-2.06.94zm-11 1L8.5 8.5l.94-2.06 2.06-.94-2.06-.94L8.5 2.5l-.94 2.06-2.06.94zm10 10l.94 2.06.94-2.06 2.06-.94-2.06-.94-.94-2.06-.94 2.06-2.06.94z\"/><path d=\"M17.41 7.96l-1.37-1.37c-.4-.4-.92-.59-1.43-.59-.52 0-1.04.2-1.43.59L10.3 9.45l-7.72 7.72c-.78.78-.78 2.05 0 2.83L4 21.41c.39.39.9.59 1.41.59.51 0 1.02-.2 1.41-.59l7.78-7.78 2.81-2.81c.8-.78.8-2.07 0-2.86zM5.41 20L4 18.59l7.72-7.72 1.47 1.35L5.41 20z\"/>\n",
       "  </svg>\n",
       "      </button>\n",
       "      \n",
       "  <style>\n",
       "    .colab-df-container {\n",
       "      display:flex;\n",
       "      flex-wrap:wrap;\n",
       "      gap: 12px;\n",
       "    }\n",
       "\n",
       "    .colab-df-convert {\n",
       "      background-color: #E8F0FE;\n",
       "      border: none;\n",
       "      border-radius: 50%;\n",
       "      cursor: pointer;\n",
       "      display: none;\n",
       "      fill: #1967D2;\n",
       "      height: 32px;\n",
       "      padding: 0 0 0 0;\n",
       "      width: 32px;\n",
       "    }\n",
       "\n",
       "    .colab-df-convert:hover {\n",
       "      background-color: #E2EBFA;\n",
       "      box-shadow: 0px 1px 2px rgba(60, 64, 67, 0.3), 0px 1px 3px 1px rgba(60, 64, 67, 0.15);\n",
       "      fill: #174EA6;\n",
       "    }\n",
       "\n",
       "    [theme=dark] .colab-df-convert {\n",
       "      background-color: #3B4455;\n",
       "      fill: #D2E3FC;\n",
       "    }\n",
       "\n",
       "    [theme=dark] .colab-df-convert:hover {\n",
       "      background-color: #434B5C;\n",
       "      box-shadow: 0px 1px 3px 1px rgba(0, 0, 0, 0.15);\n",
       "      filter: drop-shadow(0px 1px 2px rgba(0, 0, 0, 0.3));\n",
       "      fill: #FFFFFF;\n",
       "    }\n",
       "  </style>\n",
       "\n",
       "      <script>\n",
       "        const buttonEl =\n",
       "          document.querySelector('#df-322c5a3a-11bf-4031-9eea-c7472b8f0978 button.colab-df-convert');\n",
       "        buttonEl.style.display =\n",
       "          google.colab.kernel.accessAllowed ? 'block' : 'none';\n",
       "\n",
       "        async function convertToInteractive(key) {\n",
       "          const element = document.querySelector('#df-322c5a3a-11bf-4031-9eea-c7472b8f0978');\n",
       "          const dataTable =\n",
       "            await google.colab.kernel.invokeFunction('convertToInteractive',\n",
       "                                                     [key], {});\n",
       "          if (!dataTable) return;\n",
       "\n",
       "          const docLinkHtml = 'Like what you see? Visit the ' +\n",
       "            '<a target=\"_blank\" href=https://colab.research.google.com/notebooks/data_table.ipynb>data table notebook</a>'\n",
       "            + ' to learn more about interactive tables.';\n",
       "          element.innerHTML = '';\n",
       "          dataTable['output_type'] = 'display_data';\n",
       "          await google.colab.output.renderOutput(dataTable, element);\n",
       "          const docLink = document.createElement('div');\n",
       "          docLink.innerHTML = docLinkHtml;\n",
       "          element.appendChild(docLink);\n",
       "        }\n",
       "      </script>\n",
       "    </div>\n",
       "  </div>\n",
       "  "
      ]
     },
     "metadata": {},
     "execution_count": 23
    }
   ]
  },
  {
   "cell_type": "code",
   "source": [
    ""
   ],
   "metadata": {
    "id": "3RN_ySf_AF67"
   },
   "execution_count": null,
   "outputs": []
  }
 ],
 "metadata": {
  "colab": {
   "collapsed_sections": [],
   "machine_shape": "hm",
   "name": "P8_v4.ipynb",
   "provenance": [
    {
     "file_id": "1jBUjBwVCf_2D9VBlRLTJPPJPZo5oHGif",
     "timestamp": 1656674794805
    },
    {
     "file_id": "1sBpKlyeTVGRWBmiuDRhDMY68dEscLqtJ",
     "timestamp": 1656656483962
    },
    {
     "file_id": "1_ypliGvKqsJMp6l3IqPBEGW5jgt_VYEi",
     "timestamp": 1656503232628
    },
    {
     "file_id": "1YgqsOtgW6iJMD8l1X7k97XGXDKr31AGO",
     "timestamp": 1655809476734
    }
   ],
   "background_execution": "on",
   "mount_file_id": "1sBpKlyeTVGRWBmiuDRhDMY68dEscLqtJ",
   "authorship_tag": "ABX9TyN+41uouoK8+TZaFhoKioYq"
  },
  "gpuClass": "standard",
  "kernelspec": {
   "display_name": "Python 3",
   "name": "python3"
  },
  "language_info": {
   "name": "python"
  },
  "accelerator": "GPU"
 },
 "nbformat": 4,
 "nbformat_minor": 0
}